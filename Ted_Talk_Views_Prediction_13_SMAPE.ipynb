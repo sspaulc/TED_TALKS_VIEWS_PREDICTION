{
  "nbformat": 4,
  "nbformat_minor": 0,
  "metadata": {
    "colab": {
      "name": "Ted Talk Views Prediction 13% SMAPE.ipynb",
      "provenance": [],
      "collapsed_sections": [],
      "authorship_tag": "ABX9TyP1NqPFyzsJzD+u5hLu1RPd",
      "include_colab_link": true
    },
    "kernelspec": {
      "name": "python3",
      "display_name": "Python 3"
    },
    "language_info": {
      "name": "python"
    }
  },
  "cells": [
    {
      "cell_type": "markdown",
      "metadata": {
        "id": "view-in-github",
        "colab_type": "text"
      },
      "source": [
        "<a href=\"https://colab.research.google.com/github/sspaulc/TED_TALKS_VIEWS_PREDICTION/blob/main/Ted_Talk_Views_Prediction_13_SMAPE.ipynb\" target=\"_parent\"><img src=\"https://colab.research.google.com/assets/colab-badge.svg\" alt=\"Open In Colab\"/></a>"
      ]
    },
    {
      "cell_type": "markdown",
      "metadata": {
        "id": "NRkKqdD1j4cc"
      },
      "source": [
        "Problem statement-- TED is devoted to spreading powerful ideas on just about any topic. These datasets contain over 4,000 TED talks including transcripts in many languages. Founded in 1984 by Richard Salman as a nonprofit organization that aimed at bringing experts from the fields of Technology, Entertainment, and Design together, TED Conferences have gone on to become the Mecca of ideas from virtually all walks of life. As of 2015, TED and its sister TEDx chapters have published more than 2000 talks for free consumption by the masses and its speaker list boasts of the likes of Al Gore, Jimmy Wales, Shahrukh Khan, and Bill Gates. The main objective is to build a predictive model, which could help in predicting the views of the videos uploaded on the TEDx website"
      ]
    },
    {
      "cell_type": "markdown",
      "metadata": {
        "id": "K0LOUcxnk7mT"
      },
      "source": [
        "# Importing Libraires:\n"
      ]
    },
    {
      "cell_type": "code",
      "metadata": {
        "id": "Zdv_sTHCk-FS"
      },
      "source": [
        "import pandas as pd\n",
        "import numpy as np\n",
        "from datetime import datetime\n",
        "import seaborn as sns\n",
        "import matplotlib.pyplot as plt\n",
        "%matplotlib inline\n",
        "from sklearn.ensemble import RandomForestRegressor,ExtraTreesRegressor\n",
        "import xgboost as xgb\n",
        "from math import sqrt\n",
        "from sklearn.metrics import mean_squared_error, r2_score\n",
        "from sklearn.preprocessing import StandardScaler, MinMaxScaler\n",
        "from sklearn.model_selection import train_test_split, KFold\n",
        "from sklearn.preprocessing import OneHotEncoder\n",
        "from sklearn.model_selection import RandomizedSearchCV\n",
        "from sklearn import ensemble\n",
        "\n",
        "import warnings\n",
        "warnings.filterwarnings('ignore')"
      ],
      "execution_count": 1,
      "outputs": []
    },
    {
      "cell_type": "code",
      "metadata": {
        "id": "KC5RPVG99Xxh"
      },
      "source": [
        "from wordcloud import WordCloud,ImageColorGenerator"
      ],
      "execution_count": 37,
      "outputs": []
    },
    {
      "cell_type": "markdown",
      "metadata": {
        "id": "eZESDL_Gj6Wx"
      },
      "source": [
        "# Collecting data:"
      ]
    },
    {
      "cell_type": "code",
      "metadata": {
        "colab": {
          "base_uri": "https://localhost:8080/"
        },
        "id": "5K2KzCqHjyH2",
        "outputId": "b989753b-cdc4-4e1b-d4f8-e55f06427a89"
      },
      "source": [
        "from google.colab import drive\n",
        "drive.mount('/content/gdrive')\n"
      ],
      "execution_count": 2,
      "outputs": [
        {
          "output_type": "stream",
          "text": [
            "Mounted at /content/gdrive\n"
          ],
          "name": "stdout"
        }
      ]
    },
    {
      "cell_type": "code",
      "metadata": {
        "id": "erCNVqhCkKHm"
      },
      "source": [
        "#Read the data\n",
        "\n",
        "data= pd.read_csv(\"/content/gdrive/MyDrive/AlmaBetter/Almabetter/Capstone Projects/Ted Talk Views Prediction/data_ted_talks.csv\")\n"
      ],
      "execution_count": 3,
      "outputs": []
    },
    {
      "cell_type": "code",
      "metadata": {
        "colab": {
          "base_uri": "https://localhost:8080/"
        },
        "id": "nFAZbJ_9mAvS",
        "outputId": "13705cb1-a02a-4c76-f3ab-9ee555f4da8d"
      },
      "source": [
        "data.columns"
      ],
      "execution_count": 4,
      "outputs": [
        {
          "output_type": "execute_result",
          "data": {
            "text/plain": [
              "Index(['talk_id', 'title', 'speaker_1', 'all_speakers', 'occupations',\n",
              "       'about_speakers', 'views', 'recorded_date', 'published_date', 'event',\n",
              "       'native_lang', 'available_lang', 'comments', 'duration', 'topics',\n",
              "       'related_talks', 'url', 'description', 'transcript'],\n",
              "      dtype='object')"
            ]
          },
          "metadata": {
            "tags": []
          },
          "execution_count": 4
        }
      ]
    },
    {
      "cell_type": "markdown",
      "metadata": {
        "id": "Hu_o0AEOrIeD"
      },
      "source": [
        "# **Exploratory Data Analysis:**"
      ]
    },
    {
      "cell_type": "markdown",
      "metadata": {
        "id": "4Cnxh6rnlYjh"
      },
      "source": [
        "#Hypotheses:\n",
        "\n",
        "1. Events with more counts will have more views\n",
        "\n",
        "2. Medium Duration of videos have most views\n",
        "\n",
        "3. Most popular speakers like Alex Gendler will have more views\n",
        "\n",
        "4. Number of languages it is available in will have more views.\n",
        "\n",
        "5. Occupations like 'Activist' will have most views.\n",
        "\n",
        "6. Topics like 'Technology' will have most views.\n",
        "\n",
        "7. Older videos will have more views.\n",
        "\n",
        "8. More comments will have more views.\n",
        "\n",
        "9. More number of tags will have more views.\n",
        "\n",
        "10. Videos published on Fridays will have more views.\n",
        "\n",
        "11. Topics from Related talks will have direct influence from views.\n"
      ]
    },
    {
      "cell_type": "markdown",
      "metadata": {
        "id": "oTj7bpSnnE-A"
      },
      "source": [
        "##**1. Events:**"
      ]
    },
    {
      "cell_type": "code",
      "metadata": {
        "colab": {
          "base_uri": "https://localhost:8080/"
        },
        "id": "Sm4Bc0g9lWdG",
        "outputId": "85708d83-c90f-4a12-a939-825eb9f1a8b0"
      },
      "source": [
        "len(data['event'].unique())"
      ],
      "execution_count": 5,
      "outputs": [
        {
          "output_type": "execute_result",
          "data": {
            "text/plain": [
              "459"
            ]
          },
          "metadata": {
            "tags": []
          },
          "execution_count": 5
        }
      ]
    },
    {
      "cell_type": "markdown",
      "metadata": {
        "id": "jRHRgbRunoIY"
      },
      "source": [
        "There are 459 unique values for events. Let us rectify that first. Every event that has occurred in the same year will be considered in the same bin."
      ]
    },
    {
      "cell_type": "code",
      "metadata": {
        "id": "3rCPLPrTnZ87"
      },
      "source": [
        "# initialise all values as 'Other' to assign this category\n",
        "# to all entries that don't fit into the chosen categories\n",
        "data['event_category'] = 'Other'\n",
        "\n",
        "for i in range(len(data)):\n",
        "    if data['event'][i][0:5]=='TED20':\n",
        "        data['event_category'][i] = 'TED2000s'\n",
        "    elif data['event'][i][0:5]=='TED19':\n",
        "        data['event_category'][i] = 'TED1900s'\n",
        "    elif data['event'][i][0:4]=='TEDx':\n",
        "        data['event_category'][i] = \"TEDx\"\n",
        "    elif data['event'][i][0:7]=='TED@BCG':\n",
        "        data['event_category'][i] = 'TED@BCG'\n",
        "    elif data['event'][i][0:4]=='TED@':\n",
        "        data['event_category'][i] = \"TED@\"\n",
        "    elif data['event'][i][0:8]=='TEDSalon':\n",
        "        data['event_category'][i] = \"TEDSalon\"\n",
        "    elif data['event'][i][0:9]=='TEDGlobal':\n",
        "        data['event_category'][i] = 'TEDGlobal'\n",
        "    elif data['event'][i][0:8]=='TEDWomen':\n",
        "        data['event_category'][i] = 'TEDWomen'\n",
        "    elif data['event'][i][0:6]=='TEDMED':\n",
        "        data['event_category'][i] = 'TEDMED'\n",
        "    elif data['event'][i][0:3]=='TED':\n",
        "        data['event_category'][i] = 'TEDOther'"
      ],
      "execution_count": 6,
      "outputs": []
    },
    {
      "cell_type": "markdown",
      "metadata": {
        "id": "T59SHb4koTVc"
      },
      "source": [
        "Let us see the Event with most counts:"
      ]
    },
    {
      "cell_type": "code",
      "metadata": {
        "colab": {
          "base_uri": "https://localhost:8080/",
          "height": 421
        },
        "id": "KtWjd0l-oExF",
        "outputId": "549b71cc-8a57-45ec-ffd4-b070bcf89e69"
      },
      "source": [
        "#let's find the most frequent event categories\n",
        "freq_event_df=data[['event','views']].groupby('event').agg({'views' : 'count'}).nlargest(10,['views'])\n",
        "freq_event_df.reset_index(inplace=True)\n",
        "freq_event_df\n",
        "\n",
        "#plotting Most frequent event category\n",
        "plt.figure(figsize=(10,6))\n",
        "plt.title('Most frequent event category')\n",
        "sns.barplot(x='event',y='views',data=freq_event_df)"
      ],
      "execution_count": 7,
      "outputs": [
        {
          "output_type": "execute_result",
          "data": {
            "text/plain": [
              "<matplotlib.axes._subplots.AxesSubplot at 0x7f744dae5a90>"
            ]
          },
          "metadata": {
            "tags": []
          },
          "execution_count": 7
        },
        {
          "output_type": "display_data",
          "data": {
            "image/png": "[encoded data removed]",
            "text/plain": [
              "<Figure size 720x432 with 1 Axes>"
            ]
          },
          "metadata": {
            "tags": [],
            "needs_background": "light"
          }
        }
      ]
    },
    {
      "cell_type": "markdown",
      "metadata": {
        "id": "enG0WtBoowP_"
      },
      "source": [
        "According to this data, TED-Ed should have most views as they were most in count."
      ]
    },
    {
      "cell_type": "code",
      "metadata": {
        "colab": {
          "base_uri": "https://localhost:8080/",
          "height": 421
        },
        "id": "RegE77BNopSg",
        "outputId": "c9fc154e-1cd8-4a8c-eec5-b5c5c2ac8549"
      },
      "source": [
        "#let's find the most popular event categories\n",
        "pop_event_df=data[['event','views']].groupby('event').agg({'views' : 'sum'}).nlargest(10,['views'])\n",
        "pop_event_df.reset_index(inplace=True)\n",
        "\n",
        "#plotting the Top event category according to total views\n",
        "plt.figure(figsize=(15,6))\n",
        "plt.title('Top event category according to total views')\n",
        "sns.barplot(x='event',y='views',data=pop_event_df)\n",
        "\n",
        "plt.ylabel('Views in 10 millions')"
      ],
      "execution_count": 8,
      "outputs": [
        {
          "output_type": "execute_result",
          "data": {
            "text/plain": [
              "Text(0, 0.5, 'Views in 10 millions')"
            ]
          },
          "metadata": {
            "tags": []
          },
          "execution_count": 8
        },
        {
          "output_type": "display_data",
          "data": {
            "image/png": "[encoded data removed]",
            "text/plain": [
              "<Figure size 1080x432 with 1 Axes>"
            ]
          },
          "metadata": {
            "tags": [],
            "needs_background": "light"
          }
        }
      ]
    },
    {
      "cell_type": "markdown",
      "metadata": {
        "id": "P1ZChfCGqr3W"
      },
      "source": [
        "First hypothesis is true."
      ]
    },
    {
      "cell_type": "markdown",
      "metadata": {
        "id": "5PTG5tzSq9fb"
      },
      "source": [
        "## **2. Duration:**"
      ]
    },
    {
      "cell_type": "code",
      "metadata": {
        "colab": {
          "base_uri": "https://localhost:8080/",
          "height": 313
        },
        "id": "jgaVNdL1ptF8",
        "outputId": "afd888af-b103-4a05-fb9a-81d255905648"
      },
      "source": [
        "plt.scatter(x= data['duration']/1000,y=data['views'],color='darkred',alpha=0.6)\n",
        "\n",
        "plt.title('Duration vs Views')\n",
        "\n",
        "plt.xlabel('Duration in thousands')\n",
        "\n",
        "plt.ylabel('Views in millions')\n",
        "\n"
      ],
      "execution_count": 9,
      "outputs": [
        {
          "output_type": "execute_result",
          "data": {
            "text/plain": [
              "Text(0, 0.5, 'Views in millions')"
            ]
          },
          "metadata": {
            "tags": []
          },
          "execution_count": 9
        },
        {
          "output_type": "display_data",
          "data": {
            "image/png": "[encoded data removed]",
            "text/plain": [
              "<Figure size 432x288 with 1 Axes>"
            ]
          },
          "metadata": {
            "tags": [],
            "needs_background": "light"
          }
        }
      ]
    },
    {
      "cell_type": "markdown",
      "metadata": {
        "id": "cM1taLDfwvAZ"
      },
      "source": [
        "Most vidoes with lesser duration are more closely related to views."
      ]
    },
    {
      "cell_type": "markdown",
      "metadata": {
        "id": "NdN_rUDbw5MH"
      },
      "source": [
        "## **3. Speakers:**"
      ]
    },
    {
      "cell_type": "code",
      "metadata": {
        "colab": {
          "base_uri": "https://localhost:8080/",
          "height": 35
        },
        "id": "TkrgQXyk0hAT",
        "outputId": "9f009a09-2fd3-4aeb-eb8f-a612b8dead5a"
      },
      "source": [
        "data['speaker_1'][0]"
      ],
      "execution_count": 10,
      "outputs": [
        {
          "output_type": "execute_result",
          "data": {
            "application/vnd.google.colaboratory.intrinsic+json": {
              "type": "string"
            },
            "text/plain": [
              "'Al Gore'"
            ]
          },
          "metadata": {
            "tags": []
          },
          "execution_count": 10
        }
      ]
    },
    {
      "cell_type": "code",
      "metadata": {
        "id": "X1-H6e4B0mlH",
        "colab": {
          "base_uri": "https://localhost:8080/",
          "height": 202
        },
        "outputId": "37988663-1fbc-4db0-eb4a-6e86d79b486c"
      },
      "source": [
        "#Extarcting the records of top 5 most viewed videos\n",
        "pop_df=data.nlargest(5, ['views'])\n",
        "pop_df[['speaker_1','views','title']]"
      ],
      "execution_count": 11,
      "outputs": [
        {
          "output_type": "execute_result",
          "data": {
            "text/html": [
              "<div>\n",
              "<style scoped>\n",
              "    .dataframe tbody tr th:only-of-type {\n",
              "        vertical-align: middle;\n",
              "    }\n",
              "\n",
              "    .dataframe tbody tr th {\n",
              "        vertical-align: top;\n",
              "    }\n",
              "\n",
              "    .dataframe thead th {\n",
              "        text-align: right;\n",
              "    }\n",
              "</style>\n",
              "<table border=\"1\" class=\"dataframe\">\n",
              "  <thead>\n",
              "    <tr style=\"text-align: right;\">\n",
              "      <th></th>\n",
              "      <th>speaker_1</th>\n",
              "      <th>views</th>\n",
              "      <th>title</th>\n",
              "    </tr>\n",
              "  </thead>\n",
              "  <tbody>\n",
              "    <tr>\n",
              "      <th>4</th>\n",
              "      <td>Sir Ken Robinson</td>\n",
              "      <td>65051954</td>\n",
              "      <td>Do schools kill creativity?</td>\n",
              "    </tr>\n",
              "    <tr>\n",
              "      <th>1296</th>\n",
              "      <td>Amy Cuddy</td>\n",
              "      <td>57074270</td>\n",
              "      <td>Your body language may shape who you are</td>\n",
              "    </tr>\n",
              "    <tr>\n",
              "      <th>2062</th>\n",
              "      <td>James Veitch</td>\n",
              "      <td>56932551</td>\n",
              "      <td>This is what happens when you reply to spam email</td>\n",
              "    </tr>\n",
              "    <tr>\n",
              "      <th>646</th>\n",
              "      <td>Simon Sinek</td>\n",
              "      <td>49730580</td>\n",
              "      <td>How great leaders inspire action</td>\n",
              "    </tr>\n",
              "    <tr>\n",
              "      <th>796</th>\n",
              "      <td>Brené Brown</td>\n",
              "      <td>47544833</td>\n",
              "      <td>The power of vulnerability</td>\n",
              "    </tr>\n",
              "  </tbody>\n",
              "</table>\n",
              "</div>"
            ],
            "text/plain": [
              "             speaker_1  ...                                              title\n",
              "4     Sir Ken Robinson  ...                        Do schools kill creativity?\n",
              "1296         Amy Cuddy  ...           Your body language may shape who you are\n",
              "2062      James Veitch  ...  This is what happens when you reply to spam email\n",
              "646        Simon Sinek  ...                   How great leaders inspire action\n",
              "796        Brené Brown  ...                         The power of vulnerability\n",
              "\n",
              "[5 rows x 3 columns]"
            ]
          },
          "metadata": {
            "tags": []
          },
          "execution_count": 11
        }
      ]
    },
    {
      "cell_type": "code",
      "metadata": {
        "id": "0UYZnJb61Isl",
        "colab": {
          "base_uri": "https://localhost:8080/",
          "height": 423
        },
        "outputId": "6f8395a0-ffea-4be1-d84a-5d490f133283"
      },
      "source": [
        "#finding Speaker's of most popular video\n",
        "plt.figure(figsize=(10,6))\n",
        "plt.title(\"Speaker's of most popular video\")\n",
        "sns.barplot(x='speaker_1',y='views',data=pop_df)"
      ],
      "execution_count": 12,
      "outputs": [
        {
          "output_type": "execute_result",
          "data": {
            "text/plain": [
              "<matplotlib.axes._subplots.AxesSubplot at 0x7f744dae55d0>"
            ]
          },
          "metadata": {
            "tags": []
          },
          "execution_count": 12
        },
        {
          "output_type": "display_data",
          "data": {
            "image/png": "[encoded data removed]",
            "text/plain": [
              "<Figure size 720x432 with 1 Axes>"
            ]
          },
          "metadata": {
            "tags": [],
            "needs_background": "light"
          }
        }
      ]
    },
    {
      "cell_type": "markdown",
      "metadata": {
        "id": "Y3B9BbYGwLoc"
      },
      "source": [
        "Sir Ken Robinson's talk on \"Do Schools Kill Creativity?\" is the most popular TED Talk of all time with more than 65 million views.\n",
        "It is closely followed by Amy Cuddy talk on \"Your body language may shape who you are\" with more than 57 million views.\n",
        "There is only one talk that has crossed 60 million mark while 3 talks have crossed 50 million mark."
      ]
    },
    {
      "cell_type": "code",
      "metadata": {
        "colab": {
          "base_uri": "https://localhost:8080/",
          "height": 419
        },
        "id": "5NQP4XQPxjNJ",
        "outputId": "16644d3f-7a1a-4a8e-f07b-cecb3688d69f"
      },
      "source": [
        "#finding most popular speaker from the dataset\n",
        "pop_speaker_df=data.groupby('speaker_1').agg({'views' : 'sum'}).nlargest(15,['views'])\n",
        "pop_speaker_df.reset_index(inplace=True)\n",
        "\n",
        "#printing most popular Speaker according to total views on their talks\n",
        "plt.figure(figsize=(20,6))\n",
        "plt.title('Most popular Speaker according to total views on their talks')\n",
        "sns.barplot(x='speaker_1',y='views',data=pop_speaker_df)\n",
        "plt.ylabel('Views in 10 millions')"
      ],
      "execution_count": 13,
      "outputs": [
        {
          "output_type": "execute_result",
          "data": {
            "text/plain": [
              "Text(0, 0.5, 'Views in 10 millions')"
            ]
          },
          "metadata": {
            "tags": []
          },
          "execution_count": 13
        },
        {
          "output_type": "display_data",
          "data": {
            "image/png": "[encoded data removed]",
            "text/plain": [
              "<Figure size 1440x432 with 1 Axes>"
            ]
          },
          "metadata": {
            "tags": [],
            "needs_background": "light"
          }
        }
      ]
    },
    {
      "cell_type": "markdown",
      "metadata": {
        "id": "xAFXaf1P3o_m"
      },
      "source": [
        "Alex Gendler is one of the most popular guests on Ted Talks and thus he has the highest number of views. \n",
        "\n",
        "And thus my hypothesis was correct.\n",
        "\n",
        "One of his best videos being Building the Brooklyn bridge. \n",
        "\n",
        "\n"
      ]
    },
    {
      "cell_type": "markdown",
      "metadata": {
        "id": "SljYR6Ak5Wtr"
      },
      "source": [
        "# **3. Number of Languages:**"
      ]
    },
    {
      "cell_type": "code",
      "metadata": {
        "colab": {
          "base_uri": "https://localhost:8080/",
          "height": 53
        },
        "id": "XLURNnJn5uN0",
        "outputId": "d1bec153-9a90-4f35-a49b-4a731f7aa2cf"
      },
      "source": [
        "#First row\n",
        "data['available_lang'][0]"
      ],
      "execution_count": 14,
      "outputs": [
        {
          "output_type": "execute_result",
          "data": {
            "application/vnd.google.colaboratory.intrinsic+json": {
              "type": "string"
            },
            "text/plain": [
              "\"['ar', 'bg', 'cs', 'de', 'el', 'en', 'es', 'fa', 'fr', 'fr-ca', 'gl', 'gu', 'he', 'hi', 'hr', 'hu', 'id', 'it', 'ja', 'ko', 'lt', 'lv', 'mk', 'nl', 'pl', 'pt', 'pt-br', 'ro', 'ru', 'sk', 'sl', 'sq', 'sr', 'sv', 'sw', 'th', 'tl', 'tr', 'uk', 'ur', 'vi', 'zh-cn', 'zh-tw']\""
            ]
          },
          "metadata": {
            "tags": []
          },
          "execution_count": 14
        }
      ]
    },
    {
      "cell_type": "markdown",
      "metadata": {
        "id": "xs5fbdgN50BB"
      },
      "source": [
        "I need to convert the data type and then get the count of languages available."
      ]
    },
    {
      "cell_type": "code",
      "metadata": {
        "id": "hFbTCySR4rm-"
      },
      "source": [
        "#Function to use eval function to convert string to list.\n",
        "def convert_string_to_original_dtype(x):\n",
        "  try:\n",
        "    return eval(x)\n",
        "  except TypeError:\n",
        "    pass"
      ],
      "execution_count": 15,
      "outputs": []
    },
    {
      "cell_type": "code",
      "metadata": {
        "colab": {
          "base_uri": "https://localhost:8080/"
        },
        "id": "hiUXTc8t9pSO",
        "outputId": "06f69a1b-4889-4525-b829-36e6254237ca"
      },
      "source": [
        "data.info()"
      ],
      "execution_count": 16,
      "outputs": [
        {
          "output_type": "stream",
          "text": [
            "<class 'pandas.core.frame.DataFrame'>\n",
            "RangeIndex: 4005 entries, 0 to 4004\n",
            "Data columns (total 20 columns):\n",
            " #   Column          Non-Null Count  Dtype  \n",
            "---  ------          --------------  -----  \n",
            " 0   talk_id         4005 non-null   int64  \n",
            " 1   title           4005 non-null   object \n",
            " 2   speaker_1       4005 non-null   object \n",
            " 3   all_speakers    4001 non-null   object \n",
            " 4   occupations     3483 non-null   object \n",
            " 5   about_speakers  3502 non-null   object \n",
            " 6   views           4005 non-null   int64  \n",
            " 7   recorded_date   4004 non-null   object \n",
            " 8   published_date  4005 non-null   object \n",
            " 9   event           4005 non-null   object \n",
            " 10  native_lang     4005 non-null   object \n",
            " 11  available_lang  4005 non-null   object \n",
            " 12  comments        3350 non-null   float64\n",
            " 13  duration        4005 non-null   int64  \n",
            " 14  topics          4005 non-null   object \n",
            " 15  related_talks   4005 non-null   object \n",
            " 16  url             4005 non-null   object \n",
            " 17  description     4005 non-null   object \n",
            " 18  transcript      4005 non-null   object \n",
            " 19  event_category  4005 non-null   object \n",
            "dtypes: float64(1), int64(3), object(16)\n",
            "memory usage: 625.9+ KB\n"
          ],
          "name": "stdout"
        }
      ]
    },
    {
      "cell_type": "code",
      "metadata": {
        "id": "vb3Y2GR-5yRv"
      },
      "source": [
        "data['available_lang']= data['available_lang'].apply(convert_string_to_original_dtype)"
      ],
      "execution_count": 17,
      "outputs": []
    },
    {
      "cell_type": "code",
      "metadata": {
        "id": "DvUE6a_c57xA"
      },
      "source": [
        "#Function to calculate the count of languages\n",
        "\n",
        "def length(x):\n",
        "  return len(x)"
      ],
      "execution_count": 18,
      "outputs": []
    },
    {
      "cell_type": "code",
      "metadata": {
        "id": "L-D4ecm56AX5"
      },
      "source": [
        "data['count_lang']= data['available_lang'].apply(length)"
      ],
      "execution_count": 19,
      "outputs": []
    },
    {
      "cell_type": "code",
      "metadata": {
        "id": "6-qNIrVAxCsY"
      },
      "source": [
        "#Number of languages of the most popular videos\n",
        "count_df=data.groupby('count_lang').agg({'views' : 'sum'}).nlargest(15,['views'])"
      ],
      "execution_count": 20,
      "outputs": []
    },
    {
      "cell_type": "code",
      "metadata": {
        "colab": {
          "base_uri": "https://localhost:8080/",
          "height": 539
        },
        "id": "lZnoY1uhx2t4",
        "outputId": "8219db19-ae12-4c55-b4de-7f9e85ea0a0a"
      },
      "source": [
        "count_df"
      ],
      "execution_count": 21,
      "outputs": [
        {
          "output_type": "execute_result",
          "data": {
            "text/html": [
              "<div>\n",
              "<style scoped>\n",
              "    .dataframe tbody tr th:only-of-type {\n",
              "        vertical-align: middle;\n",
              "    }\n",
              "\n",
              "    .dataframe tbody tr th {\n",
              "        vertical-align: top;\n",
              "    }\n",
              "\n",
              "    .dataframe thead th {\n",
              "        text-align: right;\n",
              "    }\n",
              "</style>\n",
              "<table border=\"1\" class=\"dataframe\">\n",
              "  <thead>\n",
              "    <tr style=\"text-align: right;\">\n",
              "      <th></th>\n",
              "      <th>views</th>\n",
              "    </tr>\n",
              "    <tr>\n",
              "      <th>count_lang</th>\n",
              "      <th></th>\n",
              "    </tr>\n",
              "  </thead>\n",
              "  <tbody>\n",
              "    <tr>\n",
              "      <th>26</th>\n",
              "      <td>399588147</td>\n",
              "    </tr>\n",
              "    <tr>\n",
              "      <th>31</th>\n",
              "      <td>371001647</td>\n",
              "    </tr>\n",
              "    <tr>\n",
              "      <th>27</th>\n",
              "      <td>360321107</td>\n",
              "    </tr>\n",
              "    <tr>\n",
              "      <th>28</th>\n",
              "      <td>348698187</td>\n",
              "    </tr>\n",
              "    <tr>\n",
              "      <th>23</th>\n",
              "      <td>346063562</td>\n",
              "    </tr>\n",
              "    <tr>\n",
              "      <th>25</th>\n",
              "      <td>340633791</td>\n",
              "    </tr>\n",
              "    <tr>\n",
              "      <th>29</th>\n",
              "      <td>333023681</td>\n",
              "    </tr>\n",
              "    <tr>\n",
              "      <th>34</th>\n",
              "      <td>330787782</td>\n",
              "    </tr>\n",
              "    <tr>\n",
              "      <th>32</th>\n",
              "      <td>327429954</td>\n",
              "    </tr>\n",
              "    <tr>\n",
              "      <th>22</th>\n",
              "      <td>324226411</td>\n",
              "    </tr>\n",
              "    <tr>\n",
              "      <th>24</th>\n",
              "      <td>301297850</td>\n",
              "    </tr>\n",
              "    <tr>\n",
              "      <th>30</th>\n",
              "      <td>277301140</td>\n",
              "    </tr>\n",
              "    <tr>\n",
              "      <th>36</th>\n",
              "      <td>269380411</td>\n",
              "    </tr>\n",
              "    <tr>\n",
              "      <th>33</th>\n",
              "      <td>269187277</td>\n",
              "    </tr>\n",
              "    <tr>\n",
              "      <th>38</th>\n",
              "      <td>260896867</td>\n",
              "    </tr>\n",
              "  </tbody>\n",
              "</table>\n",
              "</div>"
            ],
            "text/plain": [
              "                views\n",
              "count_lang           \n",
              "26          399588147\n",
              "31          371001647\n",
              "27          360321107\n",
              "28          348698187\n",
              "23          346063562\n",
              "25          340633791\n",
              "29          333023681\n",
              "34          330787782\n",
              "32          327429954\n",
              "22          324226411\n",
              "24          301297850\n",
              "30          277301140\n",
              "36          269380411\n",
              "33          269187277\n",
              "38          260896867"
            ]
          },
          "metadata": {
            "tags": []
          },
          "execution_count": 21
        }
      ]
    },
    {
      "cell_type": "code",
      "metadata": {
        "colab": {
          "base_uri": "https://localhost:8080/",
          "height": 423
        },
        "id": "ivxGSmrD6KRR",
        "outputId": "164a5768-fce6-4522-cc2f-b961a6875b9e"
      },
      "source": [
        "#printing count of words according to total views on their talks\n",
        "plt.figure(figsize=(10,6))\n",
        "plt.title('Count of words according to total views on their talks')\n",
        "sns.scatterplot(x=data['count_lang'],y=data['views'],color='r',alpha=0.5)\n",
        "\n",
        "plt.ylabel('Views in 10 millions')"
      ],
      "execution_count": 22,
      "outputs": [
        {
          "output_type": "execute_result",
          "data": {
            "text/plain": [
              "Text(0, 0.5, 'Views in 10 millions')"
            ]
          },
          "metadata": {
            "tags": []
          },
          "execution_count": 22
        },
        {
          "output_type": "display_data",
          "data": {
            "image/png": "[encoded data removed]",
            "text/plain": [
              "<Figure size 720x432 with 1 Axes>"
            ]
          },
          "metadata": {
            "tags": [],
            "needs_background": "light"
          }
        }
      ]
    },
    {
      "cell_type": "markdown",
      "metadata": {
        "id": "cDRd-BWr7v4T"
      },
      "source": [
        "My hypothesis is wrong. Number of languages doesn't effect the views."
      ]
    },
    {
      "cell_type": "markdown",
      "metadata": {
        "id": "xvQorIpZKnR4"
      },
      "source": [
        "Detrmining the geography from the languages:"
      ]
    },
    {
      "cell_type": "code",
      "metadata": {
        "colab": {
          "base_uri": "https://localhost:8080/",
          "height": 186
        },
        "id": "gGtg-MafMcsB",
        "outputId": "791efec2-7fb1-4f9a-bb8b-fa56f01fc567"
      },
      "source": [
        "data[data['count_lang']== data['count_lang'].max()]"
      ],
      "execution_count": 23,
      "outputs": [
        {
          "output_type": "execute_result",
          "data": {
            "text/html": [
              "<div>\n",
              "<style scoped>\n",
              "    .dataframe tbody tr th:only-of-type {\n",
              "        vertical-align: middle;\n",
              "    }\n",
              "\n",
              "    .dataframe tbody tr th {\n",
              "        vertical-align: top;\n",
              "    }\n",
              "\n",
              "    .dataframe thead th {\n",
              "        text-align: right;\n",
              "    }\n",
              "</style>\n",
              "<table border=\"1\" class=\"dataframe\">\n",
              "  <thead>\n",
              "    <tr style=\"text-align: right;\">\n",
              "      <th></th>\n",
              "      <th>talk_id</th>\n",
              "      <th>title</th>\n",
              "      <th>speaker_1</th>\n",
              "      <th>all_speakers</th>\n",
              "      <th>occupations</th>\n",
              "      <th>about_speakers</th>\n",
              "      <th>views</th>\n",
              "      <th>recorded_date</th>\n",
              "      <th>published_date</th>\n",
              "      <th>event</th>\n",
              "      <th>native_lang</th>\n",
              "      <th>available_lang</th>\n",
              "      <th>comments</th>\n",
              "      <th>duration</th>\n",
              "      <th>topics</th>\n",
              "      <th>related_talks</th>\n",
              "      <th>url</th>\n",
              "      <th>description</th>\n",
              "      <th>transcript</th>\n",
              "      <th>event_category</th>\n",
              "      <th>count_lang</th>\n",
              "    </tr>\n",
              "  </thead>\n",
              "  <tbody>\n",
              "    <tr>\n",
              "      <th>929</th>\n",
              "      <td>1183</td>\n",
              "      <td>Try something new for 30 days</td>\n",
              "      <td>Matt Cutts</td>\n",
              "      <td>{0: 'Matt Cutts'}</td>\n",
              "      <td>{0: ['technologist']}</td>\n",
              "      <td>{0: 'An early employee at Google, Matt Cutts w...</td>\n",
              "      <td>12481445</td>\n",
              "      <td>2011-03-03</td>\n",
              "      <td>2011-07-01</td>\n",
              "      <td>TED2011</td>\n",
              "      <td>en</td>\n",
              "      <td>[ar, arq, az, be, bg, bn, bs, ca, cs, da, de, ...</td>\n",
              "      <td>916.0</td>\n",
              "      <td>207</td>\n",
              "      <td>['culture', 'success']</td>\n",
              "      <td>{947: 'Keep your goals to yourself', 282: 'Wha...</td>\n",
              "      <td>https://www.ted.com/talks/matt_cutts_try_somet...</td>\n",
              "      <td>Is there something you've always meant to do, ...</td>\n",
              "      <td>A few years ago, I felt like I was stuck in a ...</td>\n",
              "      <td>TED2000s</td>\n",
              "      <td>73</td>\n",
              "    </tr>\n",
              "  </tbody>\n",
              "</table>\n",
              "</div>"
            ],
            "text/plain": [
              "     talk_id                          title  ... event_category count_lang\n",
              "929     1183  Try something new for 30 days  ...       TED2000s         73\n",
              "\n",
              "[1 rows x 21 columns]"
            ]
          },
          "metadata": {
            "tags": []
          },
          "execution_count": 23
        }
      ]
    },
    {
      "cell_type": "code",
      "metadata": {
        "id": "jtw3NUcbKwEM"
      },
      "source": [
        "maximum=data[data['count_lang']== data['count_lang'].max()]"
      ],
      "execution_count": 24,
      "outputs": []
    },
    {
      "cell_type": "code",
      "metadata": {
        "id": "WMrfsfJgLDb_"
      },
      "source": [
        "lab_list= [item for item in maximum['available_lang']]"
      ],
      "execution_count": 25,
      "outputs": []
    },
    {
      "cell_type": "code",
      "metadata": {
        "colab": {
          "base_uri": "https://localhost:8080/"
        },
        "id": "l2FVAWhYLj68",
        "outputId": "c907a676-93cd-4e43-d673-924d8a009cf5"
      },
      "source": [
        "lab_list"
      ],
      "execution_count": 26,
      "outputs": [
        {
          "output_type": "execute_result",
          "data": {
            "text/plain": [
              "[['ar',\n",
              "  'arq',\n",
              "  'az',\n",
              "  'be',\n",
              "  'bg',\n",
              "  'bn',\n",
              "  'bs',\n",
              "  'ca',\n",
              "  'cs',\n",
              "  'da',\n",
              "  'de',\n",
              "  'el',\n",
              "  'en',\n",
              "  'eo',\n",
              "  'es',\n",
              "  'et',\n",
              "  'eu',\n",
              "  'fa',\n",
              "  'fi',\n",
              "  'fil',\n",
              "  'fr',\n",
              "  'fr-ca',\n",
              "  'gl',\n",
              "  'he',\n",
              "  'hi',\n",
              "  'hr',\n",
              "  'hu',\n",
              "  'hy',\n",
              "  'id',\n",
              "  'it',\n",
              "  'ja',\n",
              "  'ka',\n",
              "  'kk',\n",
              "  'ko',\n",
              "  'ku',\n",
              "  'ky',\n",
              "  'lt',\n",
              "  'ltg',\n",
              "  'lv',\n",
              "  'mk',\n",
              "  'mn',\n",
              "  'mr',\n",
              "  'ms',\n",
              "  'my',\n",
              "  'nb',\n",
              "  'ne',\n",
              "  'nl',\n",
              "  'pl',\n",
              "  'pt',\n",
              "  'pt-br',\n",
              "  'ro',\n",
              "  'ru',\n",
              "  'si',\n",
              "  'sk',\n",
              "  'sl',\n",
              "  'sq',\n",
              "  'sr',\n",
              "  'sv',\n",
              "  'szl',\n",
              "  'ta',\n",
              "  'te',\n",
              "  'tg',\n",
              "  'th',\n",
              "  'tl',\n",
              "  'tr',\n",
              "  'tt',\n",
              "  'ug',\n",
              "  'uk',\n",
              "  'uz',\n",
              "  'vi',\n",
              "  'zh',\n",
              "  'zh-cn',\n",
              "  'zh-tw']]"
            ]
          },
          "metadata": {
            "tags": []
          },
          "execution_count": 26
        }
      ]
    },
    {
      "cell_type": "markdown",
      "metadata": {
        "id": "nBqzopamMoFV"
      },
      "source": [
        "Geography isn't clear from the available languages."
      ]
    },
    {
      "cell_type": "markdown",
      "metadata": {
        "id": "PwvVdVc177VG"
      },
      "source": [
        "# **5. Occupation:**"
      ]
    },
    {
      "cell_type": "code",
      "metadata": {
        "colab": {
          "base_uri": "https://localhost:8080/",
          "height": 35
        },
        "id": "7RL1M2hj61pQ",
        "outputId": "bd4eb948-8d78-4d14-dc2a-bf119a549caf"
      },
      "source": [
        "data['occupations'][0]"
      ],
      "execution_count": 27,
      "outputs": [
        {
          "output_type": "execute_result",
          "data": {
            "application/vnd.google.colaboratory.intrinsic+json": {
              "type": "string"
            },
            "text/plain": [
              "\"{0: ['climate advocate']}\""
            ]
          },
          "metadata": {
            "tags": []
          },
          "execution_count": 27
        }
      ]
    },
    {
      "cell_type": "markdown",
      "metadata": {
        "id": "1G7qg55h8Gjl"
      },
      "source": [
        "Convert String to dictionary and obtain the value from the list:"
      ]
    },
    {
      "cell_type": "code",
      "metadata": {
        "id": "qxQU3CAB8EAw"
      },
      "source": [
        "data['occupations']=data['occupations'].apply(convert_string_to_original_dtype)"
      ],
      "execution_count": 28,
      "outputs": []
    },
    {
      "cell_type": "code",
      "metadata": {
        "id": "opWl6kOb8WCT"
      },
      "source": [
        "#Function to convert list to string\n",
        "def list_to_string(x):\n",
        "  for item in x:\n",
        "    return item"
      ],
      "execution_count": 29,
      "outputs": []
    },
    {
      "cell_type": "code",
      "metadata": {
        "colab": {
          "base_uri": "https://localhost:8080/"
        },
        "id": "6BDyB-qB-S5H",
        "outputId": "f105e511-e74c-4378-cbb1-3f66c73ebb7c"
      },
      "source": [
        "data['occupations'].isnull().sum()"
      ],
      "execution_count": 30,
      "outputs": [
        {
          "output_type": "execute_result",
          "data": {
            "text/plain": [
              "522"
            ]
          },
          "metadata": {
            "tags": []
          },
          "execution_count": 30
        }
      ]
    },
    {
      "cell_type": "code",
      "metadata": {
        "id": "9tzVV4KO81SJ"
      },
      "source": [
        "#Function to obtain occupation \n",
        "\n",
        "def get_occupation(x):\n",
        "  try:\n",
        "    for key,value in x.items():\n",
        "      return value\n",
        "  except AttributeError:\n",
        "    return ['Unknown']"
      ],
      "execution_count": 31,
      "outputs": []
    },
    {
      "cell_type": "code",
      "metadata": {
        "id": "ihRgrXwe856k"
      },
      "source": [
        "data['occupations']= data['occupations'].apply(get_occupation)"
      ],
      "execution_count": 32,
      "outputs": []
    },
    {
      "cell_type": "code",
      "metadata": {
        "id": "rzHBOPxs-7GQ"
      },
      "source": [
        "data['occupations']=data['occupations'].apply(list_to_string)"
      ],
      "execution_count": 33,
      "outputs": []
    },
    {
      "cell_type": "code",
      "metadata": {
        "colab": {
          "base_uri": "https://localhost:8080/",
          "height": 35
        },
        "id": "S_MFhZIj_yNS",
        "outputId": "c00c6252-b141-4fa8-d069-b92d3a6984b5"
      },
      "source": [
        "data['occupations'][0]"
      ],
      "execution_count": 34,
      "outputs": [
        {
          "output_type": "execute_result",
          "data": {
            "application/vnd.google.colaboratory.intrinsic+json": {
              "type": "string"
            },
            "text/plain": [
              "'climate advocate'"
            ]
          },
          "metadata": {
            "tags": []
          },
          "execution_count": 34
        }
      ]
    },
    {
      "cell_type": "code",
      "metadata": {
        "colab": {
          "base_uri": "https://localhost:8080/",
          "height": 353
        },
        "id": "HkhgKho51eHu",
        "outputId": "e0625bf3-ee0c-46a7-da37-9ed4c7424bbe"
      },
      "source": [
        "#Printing the top 15 most frequent speaker's occupations\n",
        "occ_df=data[data['occupations']!='Unknown']\n",
        "fig,ax=plt.subplots(figsize=(17,5))\n",
        "a=sns.barplot(x=occ_df['occupations'].value_counts(ascending=False).head(15).index, \n",
        "              y=occ_df['occupations'].value_counts(ascending=False).head(15).values, ax=ax)\n",
        "a.set(title=\"top 15 most frequent speaker's occupations\")"
      ],
      "execution_count": 35,
      "outputs": [
        {
          "output_type": "execute_result",
          "data": {
            "text/plain": [
              "[Text(0.5, 1.0, \"top 15 most frequent speaker's occupations\")]"
            ]
          },
          "metadata": {
            "tags": []
          },
          "execution_count": 35
        },
        {
          "output_type": "display_data",
          "data": {
            "image/png": "[encoded data removed]",
            "text/plain": [
              "<Figure size 1224x360 with 1 Axes>"
            ]
          },
          "metadata": {
            "tags": [],
            "needs_background": "light"
          }
        }
      ]
    },
    {
      "cell_type": "code",
      "metadata": {
        "colab": {
          "base_uri": "https://localhost:8080/",
          "height": 265
        },
        "id": "KWMYE-Dl89BZ",
        "outputId": "9e3a6f7a-e031-4fc6-9ffb-3aeddfad32cd"
      },
      "source": [
        "#Let us see some of the most commonly occuring occupations by word cloud\n",
        "\n",
        "#making of word cloud from title column\n",
        "text = \" \".join(topic for topic in occ_df.occupations.astype(str))\n",
        "print (\"There are {} words in the combination of all Occupations.\".format(len(text)))\n",
        "\n",
        "# Create and generate a word cloud image:\n",
        "wordcloud = WordCloud(background_color=\"white\", width=800, height=400).generate(text)\n",
        "\n",
        "plt.axis(\"off\")\n",
        "plt.rcParams[\"figure.figsize\"] = (15,6)\n",
        "plt.tight_layout(pad=0)\n",
        "plt.imshow(wordcloud, interpolation='bilinear')\n",
        "plt.show()"
      ],
      "execution_count": 38,
      "outputs": [
        {
          "output_type": "stream",
          "text": [
            "There are 55651 words in the combination of all Occupations.\n"
          ],
          "name": "stdout"
        },
        {
          "output_type": "display_data",
          "data": {
            "image/png": "[encoded data removed]",
            "text/plain": [
              "<Figure size 432x288 with 1 Axes>"
            ]
          },
          "metadata": {
            "tags": [],
            "needs_background": "light"
          }
        }
      ]
    },
    {
      "cell_type": "markdown",
      "metadata": {
        "id": "R5De6mbM9m7Q"
      },
      "source": [
        "Entrepreneur, Activist, designer have some of the most counts. Let us see what it has to do with the views."
      ]
    },
    {
      "cell_type": "code",
      "metadata": {
        "colab": {
          "base_uri": "https://localhost:8080/",
          "height": 421
        },
        "id": "yJNbvGkn9Qu8",
        "outputId": "b2caab0d-af36-4cd2-e4dc-a532295cd2a4"
      },
      "source": [
        "#let's find the most popular occupations according to views\n",
        "pop_occ_df=occ_df[['occupations','views']].groupby('occupations').agg({'views' : 'sum'}).nlargest(10,['views'])\n",
        "pop_occ_df.reset_index(inplace=True)\n",
        "\n",
        "#plotting the Top event category according to total views\n",
        "plt.figure(figsize=(15,6))\n",
        "plt.title('Top event category according to total views')\n",
        "sns.barplot(x='occupations',y='views',data=pop_occ_df)\n",
        "\n",
        "plt.ylabel('Views in 10 millions')"
      ],
      "execution_count": 39,
      "outputs": [
        {
          "output_type": "execute_result",
          "data": {
            "text/plain": [
              "Text(0, 0.5, 'Views in 10 millions')"
            ]
          },
          "metadata": {
            "tags": []
          },
          "execution_count": 39
        },
        {
          "output_type": "display_data",
          "data": {
            "image/png": "[encoded data removed]",
            "text/plain": [
              "<Figure size 1080x432 with 1 Axes>"
            ]
          },
          "metadata": {
            "tags": [],
            "needs_background": "light"
          }
        }
      ]
    },
    {
      "cell_type": "markdown",
      "metadata": {
        "id": "LSott8kwAK4k"
      },
      "source": [
        "Writer,author like most frequently occuring occupations also have some of highest views."
      ]
    },
    {
      "cell_type": "markdown",
      "metadata": {
        "id": "5U8_nbHXAWEo"
      },
      "source": [
        "## **6.Topics:**"
      ]
    },
    {
      "cell_type": "markdown",
      "metadata": {
        "id": "Ellre4POAdZV"
      },
      "source": [
        "To determine the hidden abstract and actual topics that may or may not have been tagged I will be using the Transcript column."
      ]
    },
    {
      "cell_type": "markdown",
      "metadata": {
        "id": "KJ6j23KSAv8u"
      },
      "source": [
        "### Word Preprocessing:"
      ]
    },
    {
      "cell_type": "code",
      "metadata": {
        "id": "vb6LvKHN-Ich"
      },
      "source": [
        "import re, string, unicodedata\n",
        "import nltk\n",
        "import inflect\n",
        "from bs4 import BeautifulSoup\n",
        "from nltk import word_tokenize, sent_tokenize\n",
        "from nltk.corpus import stopwords\n",
        "from nltk.stem import LancasterStemmer, WordNetLemmatizer"
      ],
      "execution_count": 40,
      "outputs": []
    },
    {
      "cell_type": "code",
      "metadata": {
        "id": "GuUrrW7kA2qc"
      },
      "source": [
        "from keras.preprocessing.text import Tokenizer"
      ],
      "execution_count": 41,
      "outputs": []
    },
    {
      "cell_type": "code",
      "metadata": {
        "id": "rcAGZhBgA5yK"
      },
      "source": [
        "#maximum number of words to keep\n",
        "tokenizer = Tokenizer(nb_words=\"MAX_NB_WORDS\")\n",
        "tokenizer.fit_on_texts(data['transcript'])"
      ],
      "execution_count": 42,
      "outputs": []
    },
    {
      "cell_type": "markdown",
      "metadata": {
        "id": "-v26t6jgBTik"
      },
      "source": [
        "Word Normalizing:"
      ]
    },
    {
      "cell_type": "code",
      "metadata": {
        "colab": {
          "base_uri": "https://localhost:8080/"
        },
        "id": "vrqs3hJDBM13",
        "outputId": "c2f94490-0130-4c18-aa9f-c424c746aa83"
      },
      "source": [
        "def remove_non_ascii(words):\n",
        "    \"\"\"Remove non-ASCII characters from list of tokenized words\"\"\"\n",
        "    new_words = []\n",
        "    for word in words:\n",
        "        new_word = unicodedata.normalize('NFKD', word).encode('ascii', 'ignore').decode('utf-8', 'ignore')\n",
        "        new_words.append(new_word)\n",
        "    return new_words\n",
        "\n",
        "def to_lowercase(words):\n",
        "    \"\"\"Convert all characters to lowercase from list of tokenized words\"\"\"\n",
        "    new_words = []\n",
        "    for word in words:\n",
        "        new_word = word.lower()\n",
        "        new_words.append(new_word)\n",
        "    return new_words\n",
        "\n",
        "def remove_punctuation(words):\n",
        "    \"\"\"Remove punctuation from list of tokenized words\"\"\"\n",
        "    new_words = []\n",
        "    for word in words:\n",
        "        new_word = re.sub(r'[^\\w\\s]', '', word)\n",
        "        if new_word != '':\n",
        "            new_words.append(new_word)\n",
        "    return new_words\n",
        "\n",
        "def replace_numbers(words):\n",
        "    \"\"\"Replace all interger occurrences in list of tokenized words with textual representation\"\"\"\n",
        "    p = inflect.engine()\n",
        "    new_words = []\n",
        "    for word in words:\n",
        "        if word.isdigit():\n",
        "            new_word = p.number_to_words(word)\n",
        "            new_words.append(new_word)\n",
        "        else:\n",
        "            new_words.append(word)\n",
        "    return new_words\n",
        "\n",
        "def stem_words(words):\n",
        "    \"\"\"Stem words in list of tokenized words\"\"\"\n",
        "    stemmer = LancasterStemmer()\n",
        "    stems = []\n",
        "    for word in words:\n",
        "        stem = stemmer.stem(word)\n",
        "        stems.append(stem)\n",
        "    return stems\n",
        "\n",
        "def lemmatize_verbs(words):\n",
        "    \"\"\"Lemmatize verbs in list of tokenized words\"\"\"\n",
        "    lemmatizer = WordNetLemmatizer()\n",
        "    lemmas = []\n",
        "    for word in words:\n",
        "        lemma = lemmatizer.lemmatize(word, pos='v')\n",
        "        lemmas.append(lemma)\n",
        "    return lemmas\n",
        "\n",
        "def normalize(words):\n",
        "    words = remove_non_ascii(words)\n",
        "    words = to_lowercase(words)\n",
        "    words = remove_punctuation(words)\n",
        "    words = replace_numbers(words)\n",
        "    return words\n",
        "\n",
        "data['transcript'] = normalize(data['transcript'])\n",
        "print(data['transcript'][0])"
      ],
      "execution_count": 43,
      "outputs": [
        {
          "output_type": "stream",
          "text": [
            "thank you so much chris and its truly a great honor to have the opportunity to come to this stage twice im extremely grateful i have been blown away by this conference and i want to thank all of you for the many nice comments about what i had to say the other night and i say that sincerely partly because mock sob i need that laughter put yourselves in my position laughter i flew on air force two for eight years laughter now i have to take off my shoes or boots to get on an airplane laughter applause ill tell you one quick story to illustrate what thats been like for me laughter its a true story  every bit of this is true soon after tipper and i left the  mock sob white house  laughter we were driving from our home in nashville to a little farm we have 50 miles east of nashville driving ourselves laughter i know it sounds like a little thing to you but  laughter i looked in the rearview mirror and all of a sudden it just hit me there was no motorcade back there laughter youve heard of phantom limb pain laughter this was a rented ford taurus laughter it was dinnertime and we started looking for a place to eat we were on i40 we got to exit 238 lebanon tennessee we got off the exit we found a shoneys restaurant lowcost family restaurant chain for those of you who dont know it we went in and sat down at the booth and the waitress came over made a big commotion over tipper laughter she took our order and then went to the couple in the booth next to us and she lowered her voice so much i had to really strain to hear what she was saying and she said yes thats former vice president al gore and his wife tipper and the man said hes come down a long way hasnt he laughter applause theres been kind of a series of epiphanies laughter the very next day continuing the totally true story i got on a gv to fly to africa to make a speech in nigeria in the city of lagos on the topic of energy and i began the speech by telling them the story of what had just happened the day before in nashville and i told it pretty much the same way ive just shared it with you tipper and i were driving ourselves shoneys lowcost family restaurant chain what the man said  they laughed i gave my speech then went back out to the airport to fly back home i fell asleep on the plane until during the middle of the night we landed on the azores islands for refueling i woke up they opened the door i went out to get some fresh air and i looked and there was a man running across the runway and he was waving a piece of paper and he was yelling call washington call washington and i thought to myself in the middle of the night in the middle of the atlantic what in the world could be wrong in washington then i remembered it could be a bunch of things laughter but what it turned out to be was that my staff was extremely upset because one of the wire services in nigeria had already written a story about my speech and it had already been printed in cities all across the united states of america it was printed in monterey i checked laughter and the story began former vice president al gore announced in nigeria yesterday quote my wife tipper and i have opened a lowcost family restaurant  laughter named shoneys and we are running it ourselves laughter before i could get back to us soil david letterman and jay leno had already started in on  one of them had me in a big white chefs hat tipper was saying one more burger with fries laughter three days later i got a nice long handwritten letter from my friend and partner and colleague bill clinton saying congratulations on the new restaurant al laughter we like to celebrate each others successes in life laughter i was going to talk about information ecology but i was thinking that since i plan to make a lifelong habit of coming back to ted that maybe i could talk about that another time applause chris anderson its a deal applause al gore i want to focus on what many of you have said you would like me to elaborate on what can you do about the climate crisis i want to start with a couple of  im going to show some new images and im going to recapitulate just four or five now the slide show i update the slide show every time i give it i add new images because i learn more about it every time i give it its like beachcombing you know every time the tide comes in and out you find some more shells just in the last two days we got the new temperature records in january this is just for the united states of america historical average for januarys is 31 degrees last month was 395 degrees now i know that you wanted some more bad news about the environment  im kidding but these are the recapitulation slides and then im going to go into new material about what you can do but i wanted to elaborate on a couple of these first of all this is where were projected to go with the us contribution to global warming under business as usual efficiency in enduse electricity and enduse of all energy is the lowhanging fruit efficiency and conservation  its not a cost its a profit the sign is wrong its not negative its positive these are investments that pay for themselves but they are also very effective in deflecting our path cars and trucks  i talked about that in the slideshow but i want you to put it in perspective its an easy visible target of concern  and it should be  but there is more global warming pollution that comes from buildings than from cars and trucks cars and trucks are very significant and we have the lowest standards in the world and so we should address that but its part of the puzzle other transportation efficiency is as important as cars and trucks renewables at the current levels of technological efficiency can make this much difference and with what vinod and john doerr and others many of you here  there are a lot of people directly involved in this  this wedge is going to grow much more rapidly than the current projection shows it carbon capture and sequestration  thats what ccs stands for  is likely to become the killer app that will enable us to continue to use fossil fuels in a way that is safe not quite there yet ok now what can you do reduce emissions in your home most of these expenditures are also profitable insulation better design buy green electricity where you can i mentioned automobiles  buy a hybrid use light rail figure out some of the other options that are much better its important be a green consumer you have choices with everything you buy between things that have a harsh effect or a much less harsh effect on the global climate crisis consider this make a decision to live a carbonneutral life those of you who are good at branding id love to get your advice and help on how to say this in a way that connects with the most people it is easier than you think it really is a lot of us in here have made that decision and it is really pretty easy it means reduce your carbon dioxide emissions with the full range of choices that you make and then purchase or acquire offsets for the remainder that you have not completely reduced and what it means is elaborated at climatecrisisnet there is a carbon calculator participant productions convened  with my active involvement  the leading software writers in the world on this arcane science of carbon calculation to construct a consumerfriendly carbon calculator you can very precisely calculate what your co2 emissions are and then you will be given options to reduce and by the time the movie comes out in may this will be updated to 20 and we will have clickthrough purchases of offsets next consider making your business carbonneutral again some of us have done that and its not as hard as you think integrate climate solutions into all of your innovations whether you are from the technology or entertainment or design and architecture community invest sustainably majora mentioned this listen if you have invested money with managers who you compensate on the basis of their annual performance dont ever again complain about quarterly report ceo management over time people do what you pay them to do and if they judge how much theyre going to get paid on your capital that theyve invested based on the shortterm returns youre going to get shortterm decisions a lot more to be said about that become a catalyst of change teach others learn about it talk about it the movie is a movie version of the slideshow i gave two nights ago except its a lot more entertaining and it comes out in may many of you here have the opportunity to ensure that a lot of people see it consider sending somebody to nashville pick well and i am personally going to train people to give this slideshow  repurposed with some of the personal stories obviously replaced with a generic approach and its not just the slides its what they mean and its how they link together and so im going to be conducting a course this summer for a group of people that are nominated by different folks to come and then give it en masse in communities all across the country and were going to update the slideshow for all of them every single week to keep it right on the cutting edge working with larry lessig it will be somewhere in that process posted with tools and limiteduse copyrights so that young people can remix it and do it in their own way applause where did anybody get the idea that you ought to stay arms length from politics it doesnt mean that if youre a republican that im trying to convince you to be a democrat we need republicans as well this used to be a bipartisan issue and i know that in this group it really is become politically active make our democracy work the way its supposed to work support the idea of capping carbon dioxide emissions  global warming pollution  and trading it heres why as long as the united states is out of the world system its not a closed system once it becomes a closed system with us participation then everybody whos on a board of directors  how many people here serve on the board of directors of a corporation once its a closed system you will have legal liability if you do not urge your ceo to get the maximum income from reducing and trading the carbon emissions that can be avoided the market will work to solve this problem  if we can accomplish this help with the mass persuasion campaign that will start this spring we have to change the minds of the american people because presently the politicians do not have permission to do what needs to be done and in our modern country the role of logic and reason no longer includes mediating between wealth and power the way it once did its now repetition of short hotbutton 30second 28second television ads we have to buy a lot of those ads lets rebrand global warming as many of you have suggested i like climate crisis instead of climate collapse but again those of you who are good at branding i need your help on this somebody said the test were facing now a scientist told me is whether the combination of an opposable thumb and a neocortex is a viable combination laughter thats really true i said the other night and ill repeat now this is not a political issue again the republicans here  this shouldnt be partisan you have more influence than some of us who are democrats do this is an opportunity not just this but connected to the ideas that are here to bring more coherence to them we are one thank you very much i appreciate it applause\n"
          ],
          "name": "stdout"
        }
      ]
    },
    {
      "cell_type": "markdown",
      "metadata": {
        "id": "NEoVHVXqBhgI"
      },
      "source": [
        "Topic Modelling by Geneism and Tfidf Vectorizer:"
      ]
    },
    {
      "cell_type": "code",
      "metadata": {
        "id": "fN5rkbnYBtuV"
      },
      "source": [
        "from sklearn.feature_extraction.text import TfidfVectorizer"
      ],
      "execution_count": 44,
      "outputs": []
    },
    {
      "cell_type": "code",
      "metadata": {
        "id": "w-2qGd5OBcEz"
      },
      "source": [
        "tfidf_vectorizer = TfidfVectorizer(stop_words='english',max_df=0.25,min_df=5)\n",
        "doc_term_matrix = tfidf_vectorizer.fit_transform(data['transcript'].values.astype('U'))"
      ],
      "execution_count": 45,
      "outputs": []
    },
    {
      "cell_type": "code",
      "metadata": {
        "colab": {
          "base_uri": "https://localhost:8080/"
        },
        "id": "4hAd3MxmBsMv",
        "outputId": "b5179b89-842d-4a09-f7a4-379a5fc41366"
      },
      "source": [
        "#Probability matrix of the probabilities of words\n",
        "\n",
        "from sklearn.decomposition import NMF\n",
        "\n",
        "nmf = NMF(n_components=7, random_state=42)\n",
        "nmf.fit(doc_term_matrix )"
      ],
      "execution_count": 47,
      "outputs": [
        {
          "output_type": "execute_result",
          "data": {
            "text/plain": [
              "NMF(alpha=0.0, beta_loss='frobenius', init=None, l1_ratio=0.0, max_iter=200,\n",
              "    n_components=7, random_state=42, shuffle=False, solver='cd', tol=0.0001,\n",
              "    verbose=0)"
            ]
          },
          "metadata": {
            "tags": []
          },
          "execution_count": 47
        }
      ]
    },
    {
      "cell_type": "code",
      "metadata": {
        "colab": {
          "base_uri": "https://localhost:8080/"
        },
        "id": "WKHE8my5B45o",
        "outputId": "b4c584c7-dd60-4b25-8079-5430320c53c3"
      },
      "source": [
        "for i,topic in enumerate(nmf.components_):\n",
        "    print(f'Top 10 words for topic #{i}:')\n",
        "    print([tfidf_vectorizer.get_feature_names()[i] for i in topic.argsort()[-10:]])\n",
        "    print('\\n')"
      ],
      "execution_count": 48,
      "outputs": [
        {
          "output_type": "stream",
          "text": [
            "Top 10 words for topic #0:\n",
            "['data', 'language', 'book', 'hes', 'computer', 'art', 'video', 'students', 'design', 'kids']\n",
            "\n",
            "\n",
            "Top 10 words for topic #1:\n",
            "['solar', 'stars', 'species', 'planets', 'energy', 'ocean', 'planet', 'light', 'universe', 'earth']\n",
            "\n",
            "\n",
            "Top 10 words for topic #2:\n",
            "['musicians', 'singing', 'piano', 'guitar', 'ends', 'song', 'play', 'musical', 'sound', 'music']\n",
            "\n",
            "\n",
            "Top 10 words for topic #3:\n",
            "['drugs', 'drug', 'health', 'dna', 'blood', 'disease', 'cell', 'patients', 'cancer', 'cells']\n",
            "\n",
            "\n",
            "Top 10 words for topic #4:\n",
            "['food', 'health', 'china', 'dollars', 'global', 'government', 'city', 'cities', 'africa', 'countries']\n",
            "\n",
            "\n",
            "Top 10 words for topic #5:\n",
            "['violence', 'black', 'girl', 'gender', 'womens', 'sex', 'woman', 'girls', 'men', 'women']\n",
            "\n",
            "\n",
            "Top 10 words for topic #6:\n",
            "['signals', 'cortex', 'stress', 'mental', 'activity', 'sleep', 'memory', 'brains', 'neurons', 'brain']\n",
            "\n",
            "\n"
          ],
          "name": "stdout"
        }
      ]
    },
    {
      "cell_type": "code",
      "metadata": {
        "id": "Tf5JjvScB-6P"
      },
      "source": [
        "topic_values = nmf.transform(doc_term_matrix)\n",
        "data['Topic_Cluster'] = topic_values.argmax(axis=1)"
      ],
      "execution_count": 49,
      "outputs": []
    },
    {
      "cell_type": "code",
      "metadata": {
        "colab": {
          "base_uri": "https://localhost:8080/"
        },
        "id": "_-RA-gMRCLH5",
        "outputId": "f5e178ca-e2c3-48f5-b0ec-446aa479bbcd"
      },
      "source": [
        "data['Topic_Cluster'].unique()"
      ],
      "execution_count": 50,
      "outputs": [
        {
          "output_type": "execute_result",
          "data": {
            "text/plain": [
              "array([4, 0, 2, 6, 5, 1, 3])"
            ]
          },
          "metadata": {
            "tags": []
          },
          "execution_count": 50
        }
      ]
    },
    {
      "cell_type": "code",
      "metadata": {
        "id": "LDy9pkgQCKQG"
      },
      "source": [
        "# Replace the the values\n",
        "\n",
        "replace_values={0:'Technology',1:'Science',2:'Music',3:'Health',4:'International Affairs',5:'Social Issues',6:'Mental Health'}\n",
        "\n",
        "data['Topic_Cluster']= data['Topic_Cluster'].map(replace_values)"
      ],
      "execution_count": 51,
      "outputs": []
    },
    {
      "cell_type": "code",
      "metadata": {
        "id": "_GCQDbXCEx5R"
      },
      "source": [
        "top_topics= data[['Topic_Cluster','views']].groupby('Topic_Cluster').agg({'views':'sum'}).nlargest(10,['views'])"
      ],
      "execution_count": 52,
      "outputs": []
    },
    {
      "cell_type": "code",
      "metadata": {
        "colab": {
          "base_uri": "https://localhost:8080/"
        },
        "id": "YJYiF694Xiap",
        "outputId": "f3a576df-1417-4018-ff11-6eb959aeea00"
      },
      "source": [
        "data.columns"
      ],
      "execution_count": 53,
      "outputs": [
        {
          "output_type": "execute_result",
          "data": {
            "text/plain": [
              "Index(['talk_id', 'title', 'speaker_1', 'all_speakers', 'occupations',\n",
              "       'about_speakers', 'views', 'recorded_date', 'published_date', 'event',\n",
              "       'native_lang', 'available_lang', 'comments', 'duration', 'topics',\n",
              "       'related_talks', 'url', 'description', 'transcript', 'event_category',\n",
              "       'count_lang', 'Topic_Cluster'],\n",
              "      dtype='object')"
            ]
          },
          "metadata": {
            "tags": []
          },
          "execution_count": 53
        }
      ]
    },
    {
      "cell_type": "code",
      "metadata": {
        "id": "1JbXjIfYF-T3"
      },
      "source": [
        "top_topics.reset_index(inplace=True)"
      ],
      "execution_count": 54,
      "outputs": []
    },
    {
      "cell_type": "code",
      "metadata": {
        "colab": {
          "base_uri": "https://localhost:8080/",
          "height": 263
        },
        "id": "oqZiunkzCWSU",
        "outputId": "8de07e00-6bf0-441d-de10-8372bc5e327c"
      },
      "source": [
        "top_topics"
      ],
      "execution_count": 55,
      "outputs": [
        {
          "output_type": "execute_result",
          "data": {
            "text/html": [
              "<div>\n",
              "<style scoped>\n",
              "    .dataframe tbody tr th:only-of-type {\n",
              "        vertical-align: middle;\n",
              "    }\n",
              "\n",
              "    .dataframe tbody tr th {\n",
              "        vertical-align: top;\n",
              "    }\n",
              "\n",
              "    .dataframe thead th {\n",
              "        text-align: right;\n",
              "    }\n",
              "</style>\n",
              "<table border=\"1\" class=\"dataframe\">\n",
              "  <thead>\n",
              "    <tr style=\"text-align: right;\">\n",
              "      <th></th>\n",
              "      <th>Topic_Cluster</th>\n",
              "      <th>views</th>\n",
              "    </tr>\n",
              "  </thead>\n",
              "  <tbody>\n",
              "    <tr>\n",
              "      <th>0</th>\n",
              "      <td>Technology</td>\n",
              "      <td>3767194061</td>\n",
              "    </tr>\n",
              "    <tr>\n",
              "      <th>1</th>\n",
              "      <td>International Affairs</td>\n",
              "      <td>1280570507</td>\n",
              "    </tr>\n",
              "    <tr>\n",
              "      <th>2</th>\n",
              "      <td>Science</td>\n",
              "      <td>1030527730</td>\n",
              "    </tr>\n",
              "    <tr>\n",
              "      <th>3</th>\n",
              "      <td>Mental Health</td>\n",
              "      <td>912270010</td>\n",
              "    </tr>\n",
              "    <tr>\n",
              "      <th>4</th>\n",
              "      <td>Social Issues</td>\n",
              "      <td>723353830</td>\n",
              "    </tr>\n",
              "    <tr>\n",
              "      <th>5</th>\n",
              "      <td>Health</td>\n",
              "      <td>541900802</td>\n",
              "    </tr>\n",
              "    <tr>\n",
              "      <th>6</th>\n",
              "      <td>Music</td>\n",
              "      <td>346945383</td>\n",
              "    </tr>\n",
              "  </tbody>\n",
              "</table>\n",
              "</div>"
            ],
            "text/plain": [
              "           Topic_Cluster       views\n",
              "0             Technology  3767194061\n",
              "1  International Affairs  1280570507\n",
              "2                Science  1030527730\n",
              "3          Mental Health   912270010\n",
              "4          Social Issues   723353830\n",
              "5                 Health   541900802\n",
              "6                  Music   346945383"
            ]
          },
          "metadata": {
            "tags": []
          },
          "execution_count": 55
        }
      ]
    },
    {
      "cell_type": "code",
      "metadata": {
        "colab": {
          "base_uri": "https://localhost:8080/",
          "height": 423
        },
        "id": "rkk1A78MFRwq",
        "outputId": "3f358ce6-0ef9-4bd9-fd81-64963db816f4"
      },
      "source": [
        "#plotting the Top Topic category according to total views\n",
        "plt.figure(figsize=(15,6))\n",
        "plt.title('Top event category according to total views')\n",
        "sns.barplot(x='Topic_Cluster',y='views',data=top_topics)\n",
        "\n",
        "plt.ylabel('Views in 10 millions')"
      ],
      "execution_count": 56,
      "outputs": [
        {
          "output_type": "execute_result",
          "data": {
            "text/plain": [
              "Text(0, 0.5, 'Views in 10 millions')"
            ]
          },
          "metadata": {
            "tags": []
          },
          "execution_count": 56
        },
        {
          "output_type": "display_data",
          "data": {
            "image/png": "[encoded data removed]",
            "text/plain": [
              "<Figure size 1080x432 with 1 Axes>"
            ]
          },
          "metadata": {
            "tags": [],
            "needs_background": "light"
          }
        }
      ]
    },
    {
      "cell_type": "markdown",
      "metadata": {
        "id": "C7EBt66rDldK"
      },
      "source": [
        "My hypothesis is correct."
      ]
    },
    {
      "cell_type": "markdown",
      "metadata": {
        "id": "2zfrJ9d1DwXj"
      },
      "source": [
        "## **7. Age of The Video:**"
      ]
    },
    {
      "cell_type": "code",
      "metadata": {
        "id": "K3uRm0y8D_7c"
      },
      "source": [
        "import datetime"
      ],
      "execution_count": 57,
      "outputs": []
    },
    {
      "cell_type": "code",
      "metadata": {
        "id": "Llo3josfCp2v"
      },
      "source": [
        "data['published_date'] = data['published_date'].apply(lambda x: datetime.datetime.strptime(x,\"%Y-%m-%d\"))"
      ],
      "execution_count": 58,
      "outputs": []
    },
    {
      "cell_type": "code",
      "metadata": {
        "id": "BVCVPoXREQxJ"
      },
      "source": [
        "current_date=datetime.datetime(2021,5,22)"
      ],
      "execution_count": 59,
      "outputs": []
    },
    {
      "cell_type": "code",
      "metadata": {
        "id": "fnYqEX9XEhGx"
      },
      "source": [
        "data['published_year'] = data['published_date'].apply(lambda x: x.year)"
      ],
      "execution_count": 60,
      "outputs": []
    },
    {
      "cell_type": "code",
      "metadata": {
        "id": "tI3wz3OQD-p7"
      },
      "source": [
        "data['age_of_video']= current_date.year- data['published_year']"
      ],
      "execution_count": 61,
      "outputs": []
    },
    {
      "cell_type": "code",
      "metadata": {
        "id": "8svJt_syGhFJ"
      },
      "source": [
        "age_views= data[['age_of_video','views']].groupby('age_of_video').agg({'views':'sum'})"
      ],
      "execution_count": 62,
      "outputs": []
    },
    {
      "cell_type": "code",
      "metadata": {
        "colab": {
          "base_uri": "https://localhost:8080/",
          "height": 509
        },
        "id": "q6xILTomHGkD",
        "outputId": "d794b15a-dae5-4d0d-ed7b-630daf1a0a7c"
      },
      "source": [
        "age_views.reset_index()"
      ],
      "execution_count": 63,
      "outputs": [
        {
          "output_type": "execute_result",
          "data": {
            "text/html": [
              "<div>\n",
              "<style scoped>\n",
              "    .dataframe tbody tr th:only-of-type {\n",
              "        vertical-align: middle;\n",
              "    }\n",
              "\n",
              "    .dataframe tbody tr th {\n",
              "        vertical-align: top;\n",
              "    }\n",
              "\n",
              "    .dataframe thead th {\n",
              "        text-align: right;\n",
              "    }\n",
              "</style>\n",
              "<table border=\"1\" class=\"dataframe\">\n",
              "  <thead>\n",
              "    <tr style=\"text-align: right;\">\n",
              "      <th></th>\n",
              "      <th>age_of_video</th>\n",
              "      <th>views</th>\n",
              "    </tr>\n",
              "  </thead>\n",
              "  <tbody>\n",
              "    <tr>\n",
              "      <th>0</th>\n",
              "      <td>1</td>\n",
              "      <td>195543239</td>\n",
              "    </tr>\n",
              "    <tr>\n",
              "      <th>1</th>\n",
              "      <td>2</td>\n",
              "      <td>1361604924</td>\n",
              "    </tr>\n",
              "    <tr>\n",
              "      <th>2</th>\n",
              "      <td>3</td>\n",
              "      <td>871101863</td>\n",
              "    </tr>\n",
              "    <tr>\n",
              "      <th>3</th>\n",
              "      <td>4</td>\n",
              "      <td>680519097</td>\n",
              "    </tr>\n",
              "    <tr>\n",
              "      <th>4</th>\n",
              "      <td>5</td>\n",
              "      <td>661803437</td>\n",
              "    </tr>\n",
              "    <tr>\n",
              "      <th>5</th>\n",
              "      <td>6</td>\n",
              "      <td>617490537</td>\n",
              "    </tr>\n",
              "    <tr>\n",
              "      <th>6</th>\n",
              "      <td>7</td>\n",
              "      <td>581655293</td>\n",
              "    </tr>\n",
              "    <tr>\n",
              "      <th>7</th>\n",
              "      <td>8</td>\n",
              "      <td>729009369</td>\n",
              "    </tr>\n",
              "    <tr>\n",
              "      <th>8</th>\n",
              "      <td>9</td>\n",
              "      <td>665473046</td>\n",
              "    </tr>\n",
              "    <tr>\n",
              "      <th>9</th>\n",
              "      <td>10</td>\n",
              "      <td>492776405</td>\n",
              "    </tr>\n",
              "    <tr>\n",
              "      <th>10</th>\n",
              "      <td>11</td>\n",
              "      <td>503416439</td>\n",
              "    </tr>\n",
              "    <tr>\n",
              "      <th>11</th>\n",
              "      <td>12</td>\n",
              "      <td>445396065</td>\n",
              "    </tr>\n",
              "    <tr>\n",
              "      <th>12</th>\n",
              "      <td>13</td>\n",
              "      <td>335031161</td>\n",
              "    </tr>\n",
              "    <tr>\n",
              "      <th>13</th>\n",
              "      <td>14</td>\n",
              "      <td>220028280</td>\n",
              "    </tr>\n",
              "    <tr>\n",
              "      <th>14</th>\n",
              "      <td>15</td>\n",
              "      <td>241913168</td>\n",
              "    </tr>\n",
              "  </tbody>\n",
              "</table>\n",
              "</div>"
            ],
            "text/plain": [
              "    age_of_video       views\n",
              "0              1   195543239\n",
              "1              2  1361604924\n",
              "2              3   871101863\n",
              "3              4   680519097\n",
              "4              5   661803437\n",
              "5              6   617490537\n",
              "6              7   581655293\n",
              "7              8   729009369\n",
              "8              9   665473046\n",
              "9             10   492776405\n",
              "10            11   503416439\n",
              "11            12   445396065\n",
              "12            13   335031161\n",
              "13            14   220028280\n",
              "14            15   241913168"
            ]
          },
          "metadata": {
            "tags": []
          },
          "execution_count": 63
        }
      ]
    },
    {
      "cell_type": "code",
      "metadata": {
        "colab": {
          "base_uri": "https://localhost:8080/",
          "height": 423
        },
        "id": "cxyOpOmNGr0a",
        "outputId": "29156498-8d85-417c-e497-613768b0148d"
      },
      "source": [
        "sns.scatterplot(\"age_of_video\", \"views\", data=age_views)\n",
        "\n",
        "plt.ylabel('Views in 10 millions')\n",
        "\n",
        "plt.title('Age of Video vs Views')"
      ],
      "execution_count": 64,
      "outputs": [
        {
          "output_type": "execute_result",
          "data": {
            "text/plain": [
              "Text(0.5, 1.0, 'Age of Video vs Views')"
            ]
          },
          "metadata": {
            "tags": []
          },
          "execution_count": 64
        },
        {
          "output_type": "display_data",
          "data": {
            "image/png": "[encoded data removed]",
            "text/plain": [
              "<Figure size 1080x432 with 1 Axes>"
            ]
          },
          "metadata": {
            "tags": [],
            "needs_background": "light"
          }
        }
      ]
    },
    {
      "cell_type": "markdown",
      "metadata": {
        "id": "zQs0UhtEE8zf"
      },
      "source": [
        "Hypothesis can be rejected."
      ]
    },
    {
      "cell_type": "markdown",
      "metadata": {
        "id": "aq7cUgHXFAmf"
      },
      "source": [
        "## **8. Comments:**"
      ]
    },
    {
      "cell_type": "code",
      "metadata": {
        "colab": {
          "base_uri": "https://localhost:8080/",
          "height": 407
        },
        "id": "7ntYNRHdFMtE",
        "outputId": "042e6139-eb09-47b7-a54a-b0ac80a6b41d"
      },
      "source": [
        "plt.scatter(x= data['comments'],y=data['views'],color='darkred',alpha=0.6)\n",
        "\n",
        "plt.title('Comments vs Views')\n",
        "\n",
        "plt.ylabel('Views in 10 million')"
      ],
      "execution_count": 65,
      "outputs": [
        {
          "output_type": "execute_result",
          "data": {
            "text/plain": [
              "Text(0, 0.5, 'Views in 10 million')"
            ]
          },
          "metadata": {
            "tags": []
          },
          "execution_count": 65
        },
        {
          "output_type": "display_data",
          "data": {
            "image/png": "[encoded data removed]",
            "text/plain": [
              "<Figure size 1080x432 with 1 Axes>"
            ]
          },
          "metadata": {
            "tags": [],
            "needs_background": "light"
          }
        }
      ]
    },
    {
      "cell_type": "markdown",
      "metadata": {
        "id": "M11fDG9MFU4F"
      },
      "source": [
        "Hypothesis is true except for a few outliers."
      ]
    },
    {
      "cell_type": "markdown",
      "metadata": {
        "id": "OQ2nfRG7IN8B"
      },
      "source": [
        "##**9. Number of Tags:**"
      ]
    },
    {
      "cell_type": "code",
      "metadata": {
        "id": "aynsQoh1IWiE"
      },
      "source": [
        "#Find the number of tags\n",
        "\n",
        "def no_of_tags(x):\n",
        "  return len(x)"
      ],
      "execution_count": 66,
      "outputs": []
    },
    {
      "cell_type": "code",
      "metadata": {
        "id": "80L6AvL9Ibhp"
      },
      "source": [
        "data['Num_tags']= data['topics'].apply(no_of_tags)"
      ],
      "execution_count": 67,
      "outputs": []
    },
    {
      "cell_type": "code",
      "metadata": {
        "colab": {
          "base_uri": "https://localhost:8080/",
          "height": 407
        },
        "id": "BJyfCoi_IfDi",
        "outputId": "5205a924-cd64-4aeb-e321-ab0d111ce9a6"
      },
      "source": [
        "plt.scatter(x= data['Num_tags'],y=data['views'],color='darkred',alpha=0.6)\n",
        "\n",
        "plt.title('Number of tags vs Views')\n",
        "\n",
        "plt.ylabel('Views in 10 millions')"
      ],
      "execution_count": 68,
      "outputs": [
        {
          "output_type": "execute_result",
          "data": {
            "text/plain": [
              "Text(0, 0.5, 'Views in 10 millions')"
            ]
          },
          "metadata": {
            "tags": []
          },
          "execution_count": 68
        },
        {
          "output_type": "display_data",
          "data": {
            "image/png": "[encoded data removed]",
            "text/plain": [
              "<Figure size 1080x432 with 1 Axes>"
            ]
          },
          "metadata": {
            "tags": [],
            "needs_background": "light"
          }
        }
      ]
    },
    {
      "cell_type": "markdown",
      "metadata": {
        "id": "a8uEU8wsIn0V"
      },
      "source": [
        "Hypothesis can be rejected."
      ]
    },
    {
      "cell_type": "markdown",
      "metadata": {
        "id": "VzmrX3v0Vi9u"
      },
      "source": [
        "# **10. Published Day:**"
      ]
    },
    {
      "cell_type": "code",
      "metadata": {
        "id": "0QyNVPdWVnne"
      },
      "source": [
        "data['published_day'] = data['published_date'].apply(lambda x: x.weekday())"
      ],
      "execution_count": 69,
      "outputs": []
    },
    {
      "cell_type": "code",
      "metadata": {
        "id": "T1i3ZLJQirQs"
      },
      "source": [
        "#encoding of release_day column with corresponding week day name\n",
        "week_day={0:'Monday',1:'Tuesday',2:'Wednesday',3:'Thursday',4:'Friday',5:'Saturday',6:'Sunday'}\n",
        "data['published_day']=data['published_day'].map(week_day)"
      ],
      "execution_count": 70,
      "outputs": []
    },
    {
      "cell_type": "code",
      "metadata": {
        "colab": {
          "base_uri": "https://localhost:8080/",
          "height": 423
        },
        "id": "QFqxy06Zi4sr",
        "outputId": "bc2c506c-5c3e-4daf-9570-8a0db0ce8035"
      },
      "source": [
        "#checking the day of the week having maximum views \n",
        "freq_rel_day=data[['published_day','views']].groupby('published_day').agg({'views' : 'sum'})\n",
        "freq_rel_day=freq_rel_day.sort_values('views',ascending=False)\n",
        "freq_rel_day.reset_index(inplace=True)\n",
        "\n",
        "# checking the day of the week having maximum views \n",
        "plt.figure(figsize=(10,6))\n",
        "sns.barplot(x='published_day',y='views',data=freq_rel_day)\n",
        "plt.title('Most frequent release days')"
      ],
      "execution_count": 71,
      "outputs": [
        {
          "output_type": "execute_result",
          "data": {
            "text/plain": [
              "Text(0.5, 1.0, 'Most frequent release days')"
            ]
          },
          "metadata": {
            "tags": []
          },
          "execution_count": 71
        },
        {
          "output_type": "display_data",
          "data": {
            "image/png": "[encoded data removed]",
            "text/plain": [
              "<Figure size 720x432 with 1 Axes>"
            ]
          },
          "metadata": {
            "tags": [],
            "needs_background": "light"
          }
        }
      ]
    },
    {
      "cell_type": "markdown",
      "metadata": {
        "id": "KSamcDNkjMtm"
      },
      "source": [
        "Hypothesis was correct."
      ]
    },
    {
      "cell_type": "markdown",
      "metadata": {
        "id": "jKxv5NcFFZbo"
      },
      "source": [
        "# **New Feature:**\n"
      ]
    },
    {
      "cell_type": "markdown",
      "metadata": {
        "id": "2D3Pt0zAFeDh"
      },
      "source": [
        "##**Related Views:**"
      ]
    },
    {
      "cell_type": "code",
      "metadata": {
        "colab": {
          "base_uri": "https://localhost:8080/",
          "height": 70
        },
        "id": "17B5zp9fGAtW",
        "outputId": "8b61269c-49fd-4ffe-d842-7451e5b29a38"
      },
      "source": [
        "data['related_talks'][0]"
      ],
      "execution_count": 72,
      "outputs": [
        {
          "output_type": "execute_result",
          "data": {
            "application/vnd.google.colaboratory.intrinsic+json": {
              "type": "string"
            },
            "text/plain": [
              "'{243: \\'New thinking on the climate crisis\\', 547: \\'The business logic of sustainability\\', 2093: \\'The state of the climate — and what we might do about it\\', 54715: \\'How we can turn the tide on climate\\', 29968: \\'The most important thing you can do to fight climate change: talk about it\\', 2339: \"Climate change is happening. Here\\'s how we adapt\"}'"
            ]
          },
          "metadata": {
            "tags": []
          },
          "execution_count": 72
        }
      ]
    },
    {
      "cell_type": "markdown",
      "metadata": {
        "id": "xpzTS_jwFiCn"
      },
      "source": [
        "This feature is made by taking the keys from the related_talks column and assigning a level to it according to mean of the views."
      ]
    },
    {
      "cell_type": "code",
      "metadata": {
        "id": "9mtEiebHFR05"
      },
      "source": [
        "#applying eval function on available_lang column\n",
        "data['related_talks'] = data.apply(lambda row: eval(row['related_talks']), axis=1)"
      ],
      "execution_count": 73,
      "outputs": []
    },
    {
      "cell_type": "code",
      "metadata": {
        "id": "qphQchZFF6wX"
      },
      "source": [
        "#defining a new feature called related_views\n",
        "data['related_views'] = 0\n",
        "#iterating through the each row and extracting the value of related_talks\n",
        "for index, row in data.iterrows():\n",
        "    id_list=list(row['related_talks'].keys())\n",
        "    temp=0\n",
        "    for i in range(len(data)):\n",
        "      if (data.loc[i,'talk_id']) in id_list:\n",
        "        temp+=data.loc[i,'views']\n",
        "\n",
        "    data.loc[index,'related_views']=temp//6"
      ],
      "execution_count": 74,
      "outputs": []
    },
    {
      "cell_type": "code",
      "metadata": {
        "colab": {
          "base_uri": "https://localhost:8080/",
          "height": 417
        },
        "id": "WRHVb_LlGHx9",
        "outputId": "3d67f272-dc63-4391-d695-d03a828ce40c"
      },
      "source": [
        "#Plotting the distribution\n",
        "\n",
        "sns.kdeplot(x=data['related_views'])"
      ],
      "execution_count": 75,
      "outputs": [
        {
          "output_type": "execute_result",
          "data": {
            "text/plain": [
              "<matplotlib.axes._subplots.AxesSubplot at 0x7f74005ca9d0>"
            ]
          },
          "metadata": {
            "tags": []
          },
          "execution_count": 75
        },
        {
          "output_type": "display_data",
          "data": {
            "image/png": "[encoded data removed]",
            "text/plain": [
              "<Figure size 1080x432 with 1 Axes>"
            ]
          },
          "metadata": {
            "tags": [],
            "needs_background": "light"
          }
        }
      ]
    },
    {
      "cell_type": "markdown",
      "metadata": {
        "id": "kXBEH-LfHOFg"
      },
      "source": [
        "It is a normally distributed curve with right skew."
      ]
    },
    {
      "cell_type": "code",
      "metadata": {
        "colab": {
          "base_uri": "https://localhost:8080/"
        },
        "id": "hqiS9WupR056",
        "outputId": "332efdca-6ee4-4a89-ff57-9f12305b798a"
      },
      "source": [
        "data['related_talks'][0]"
      ],
      "execution_count": 76,
      "outputs": [
        {
          "output_type": "execute_result",
          "data": {
            "text/plain": [
              "{243: 'New thinking on the climate crisis',\n",
              " 547: 'The business logic of sustainability',\n",
              " 2093: 'The state of the climate — and what we might do about it',\n",
              " 2339: \"Climate change is happening. Here's how we adapt\",\n",
              " 29968: 'The most important thing you can do to fight climate change: talk about it',\n",
              " 54715: 'How we can turn the tide on climate'}"
            ]
          },
          "metadata": {
            "tags": []
          },
          "execution_count": 76
        }
      ]
    },
    {
      "cell_type": "code",
      "metadata": {
        "colab": {
          "base_uri": "https://localhost:8080/"
        },
        "id": "05W68eFDVH8X",
        "outputId": "e52f84d1-6c86-4d6b-c236-826f45447304"
      },
      "source": [
        "max(data['related_talks'][0].keys())"
      ],
      "execution_count": 77,
      "outputs": [
        {
          "output_type": "execute_result",
          "data": {
            "text/plain": [
              "54715"
            ]
          },
          "metadata": {
            "tags": []
          },
          "execution_count": 77
        }
      ]
    },
    {
      "cell_type": "code",
      "metadata": {
        "colab": {
          "base_uri": "https://localhost:8080/",
          "height": 35
        },
        "id": "Ubaybdy5Ty81",
        "outputId": "9184fe23-396f-451b-ed5a-f17ea8840a05"
      },
      "source": [
        "data['related_talks'][0].get(max(data['related_talks'][0].keys()))"
      ],
      "execution_count": 78,
      "outputs": [
        {
          "output_type": "execute_result",
          "data": {
            "application/vnd.google.colaboratory.intrinsic+json": {
              "type": "string"
            },
            "text/plain": [
              "'How we can turn the tide on climate'"
            ]
          },
          "metadata": {
            "tags": []
          },
          "execution_count": 78
        }
      ]
    },
    {
      "cell_type": "markdown",
      "metadata": {
        "id": "QQ8bp8PAVkva"
      },
      "source": [
        "Extracting the most important topics from the related talks:"
      ]
    },
    {
      "cell_type": "code",
      "metadata": {
        "id": "3rhQFj3ERmBZ"
      },
      "source": [
        "data['imp_talks']='Other'\n",
        "for i in range(len(data)):\n",
        "  data['imp_talks'][i]=data['related_talks'][i].get(max(data['related_talks'][i].keys()))\n",
        "\n",
        "    "
      ],
      "execution_count": 79,
      "outputs": []
    },
    {
      "cell_type": "code",
      "metadata": {
        "colab": {
          "base_uri": "https://localhost:8080/",
          "height": 35
        },
        "id": "CvfpJWSAUxIX",
        "outputId": "34db2d0f-b23b-40cc-b2af-aaa08071e9f7"
      },
      "source": [
        "data['imp_talks'][0]"
      ],
      "execution_count": 80,
      "outputs": [
        {
          "output_type": "execute_result",
          "data": {
            "application/vnd.google.colaboratory.intrinsic+json": {
              "type": "string"
            },
            "text/plain": [
              "'How we can turn the tide on climate'"
            ]
          },
          "metadata": {
            "tags": []
          },
          "execution_count": 80
        }
      ]
    },
    {
      "cell_type": "code",
      "metadata": {
        "id": "FCCI8nblWD3f"
      },
      "source": [
        "doc_term_matrix = tfidf_vectorizer.fit_transform(data['imp_talks'].values.astype('U'))"
      ],
      "execution_count": 81,
      "outputs": []
    },
    {
      "cell_type": "code",
      "metadata": {
        "colab": {
          "base_uri": "https://localhost:8080/"
        },
        "id": "l-hpdf0sWRZg",
        "outputId": "4a26cd8e-e4eb-4c34-d740-1f7816b4a322"
      },
      "source": [
        "nmf = NMF(n_components=7, random_state=42)\n",
        "nmf.fit(doc_term_matrix )"
      ],
      "execution_count": 82,
      "outputs": [
        {
          "output_type": "execute_result",
          "data": {
            "text/plain": [
              "NMF(alpha=0.0, beta_loss='frobenius', init=None, l1_ratio=0.0, max_iter=200,\n",
              "    n_components=7, random_state=42, shuffle=False, solver='cd', tol=0.0001,\n",
              "    verbose=0)"
            ]
          },
          "metadata": {
            "tags": []
          },
          "execution_count": 82
        }
      ]
    },
    {
      "cell_type": "code",
      "metadata": {
        "colab": {
          "base_uri": "https://localhost:8080/"
        },
        "id": "fv5iUpL6Wyob",
        "outputId": "51a81a83-8477-4cc3-e96c-4f153cdaefdf"
      },
      "source": [
        "for i,topic in enumerate(nmf.components_):\n",
        "    print(f'Top 10 words for topic #{i}:')\n",
        "    print([tfidf_vectorizer.get_feature_names()[i] for i in topic.argsort()[-10:]])\n",
        "    print('\\n')"
      ],
      "execution_count": 83,
      "outputs": [
        {
          "output_type": "stream",
          "text": [
            "Top 10 words for topic #0:\n",
            "['deadliest', 'changed', 'fast', 'ocean', 'trolls', 'propagandists', 'bizarre', 'inside', 'internet', 'world']\n",
            "\n",
            "\n",
            "Top 10 words for topic #1:\n",
            "['time', 'chemotherapy', 'blood', 'make', 'emotions', 'embrace', 'art', 'does', 'love', 'work']\n",
            "\n",
            "\n",
            "Top 10 words for topic #2:\n",
            "['business', 'know', 'make', 'leaders', 'makes', 'good', 'don', 'overwhelmed', 'ok', 'feel']\n",
            "\n",
            "\n",
            "Top 10 words for topic #3:\n",
            "['turn', 'team', 'building', 'human', 'home', 'history', 'planet', 'climate', 'change', 'future']\n",
            "\n",
            "\n",
            "Top 10 words for topic #4:\n",
            "['blob', 'unstoppable', 'robo', 'killer', 'time', 'sea', 'sauce', 'secret', 'riddle', 'solve']\n",
            "\n",
            "\n",
            "Top 10 words for topic #5:\n",
            "['taught', 'earth', 'doesn', 'day', 'typefaces', 'rasputin', 'mysterious', 'art', 'death', 'life']\n",
            "\n",
            "\n",
            "Top 10 words for topic #6:\n",
            "['bad', 'beautiful', 'transformative', 'happens', 'people', 'data', 'games', 'video', 'brain', 'power']\n",
            "\n",
            "\n"
          ],
          "name": "stdout"
        }
      ]
    },
    {
      "cell_type": "markdown",
      "metadata": {
        "id": "nWucrEd1SiLh"
      },
      "source": [
        "Not much can be derived from these topics."
      ]
    },
    {
      "cell_type": "markdown",
      "metadata": {
        "id": "PftqxzM2Hcua"
      },
      "source": [
        "# **Data Cleaning:**"
      ]
    },
    {
      "cell_type": "code",
      "metadata": {
        "colab": {
          "base_uri": "https://localhost:8080/"
        },
        "id": "-XO538wtHkux",
        "outputId": "80029dfc-a2a3-40c8-aa55-b45d7195891f"
      },
      "source": [
        "data.columns"
      ],
      "execution_count": 84,
      "outputs": [
        {
          "output_type": "execute_result",
          "data": {
            "text/plain": [
              "Index(['talk_id', 'title', 'speaker_1', 'all_speakers', 'occupations',\n",
              "       'about_speakers', 'views', 'recorded_date', 'published_date', 'event',\n",
              "       'native_lang', 'available_lang', 'comments', 'duration', 'topics',\n",
              "       'related_talks', 'url', 'description', 'transcript', 'event_category',\n",
              "       'count_lang', 'Topic_Cluster', 'published_year', 'age_of_video',\n",
              "       'Num_tags', 'published_day', 'related_views', 'imp_talks'],\n",
              "      dtype='object')"
            ]
          },
          "metadata": {
            "tags": []
          },
          "execution_count": 84
        }
      ]
    },
    {
      "cell_type": "markdown",
      "metadata": {
        "id": "owO1B0G3Hi3A"
      },
      "source": [
        "Columns to drop:\n",
        "\n",
        "talk_id,title,all_speakers,about_speakers,recorded_date,published_date,native_lang,available_lang,topics, url,description,transcript,published_year,age_of_video,Num_tags,event,related_talks\n",
        "\n"
      ]
    },
    {
      "cell_type": "code",
      "metadata": {
        "id": "LDPXmGt5HLKn"
      },
      "source": [
        "data.drop(columns=['talk_id','all_speakers','about_speakers','recorded_date','published_date','native_lang','available_lang',\n",
        "                   'topics','url','description','transcript','published_year','age_of_video','Num_tags','title','related_talks','event','imp_talks'],inplace= True)"
      ],
      "execution_count": 85,
      "outputs": []
    },
    {
      "cell_type": "code",
      "metadata": {
        "colab": {
          "base_uri": "https://localhost:8080/"
        },
        "id": "vvGVzZIaJd3K",
        "outputId": "7185f3ad-b443-4263-9291-9e4a53d825ee"
      },
      "source": [
        "data.info()"
      ],
      "execution_count": 86,
      "outputs": [
        {
          "output_type": "stream",
          "text": [
            "<class 'pandas.core.frame.DataFrame'>\n",
            "RangeIndex: 4005 entries, 0 to 4004\n",
            "Data columns (total 10 columns):\n",
            " #   Column          Non-Null Count  Dtype  \n",
            "---  ------          --------------  -----  \n",
            " 0   speaker_1       4005 non-null   object \n",
            " 1   occupations     4005 non-null   object \n",
            " 2   views           4005 non-null   int64  \n",
            " 3   comments        3350 non-null   float64\n",
            " 4   duration        4005 non-null   int64  \n",
            " 5   event_category  4005 non-null   object \n",
            " 6   count_lang      4005 non-null   int64  \n",
            " 7   Topic_Cluster   4005 non-null   object \n",
            " 8   published_day   4005 non-null   object \n",
            " 9   related_views   4005 non-null   int64  \n",
            "dtypes: float64(1), int64(4), object(5)\n",
            "memory usage: 313.0+ KB\n"
          ],
          "name": "stdout"
        }
      ]
    },
    {
      "cell_type": "markdown",
      "metadata": {
        "id": "HBbe6a17JwgJ"
      },
      "source": [
        "## Outlier Treatment:"
      ]
    },
    {
      "cell_type": "markdown",
      "metadata": {
        "id": "-XL--exOSyqo"
      },
      "source": [
        "Let us see how outlier treatment effects the model performance:"
      ]
    },
    {
      "cell_type": "code",
      "metadata": {
        "id": "X6K0eG5JfkRH"
      },
      "source": [
        "data_with_outliers= data.copy()"
      ],
      "execution_count": 87,
      "outputs": []
    },
    {
      "cell_type": "code",
      "metadata": {
        "colab": {
          "base_uri": "https://localhost:8080/"
        },
        "id": "8cEhfki3WiQX",
        "outputId": "871e3e29-eba7-40a1-da80-99b1b1b64a2f"
      },
      "source": [
        "#checking the outliers\n",
        "Q1 = data.quantile(0.25)\n",
        "Q3 = data.quantile(0.75)\n",
        "IQR = Q3 - Q1\n",
        "\n",
        "((data < (Q1 - 1.5 * IQR)) | (data > (Q3 + 1.5 * IQR))).sum()"
      ],
      "execution_count": 88,
      "outputs": [
        {
          "output_type": "execute_result",
          "data": {
            "text/plain": [
              "Topic_Cluster       0\n",
              "comments          261\n",
              "count_lang        121\n",
              "duration           21\n",
              "event_category      0\n",
              "occupations         0\n",
              "published_day       0\n",
              "related_views     300\n",
              "speaker_1           0\n",
              "views             393\n",
              "dtype: int64"
            ]
          },
          "metadata": {
            "tags": []
          },
          "execution_count": 88
        }
      ]
    },
    {
      "cell_type": "code",
      "metadata": {
        "id": "rb17M5_pYhsF"
      },
      "source": [
        "# Replacing outliers with extreme values\n",
        "for i in ['comments','duration','count_lang','related_views','views']:\n",
        "  Q1 = data[i].quantile(0.25)\n",
        "  Q3 = data[i].quantile(0.75)\n",
        "  IQR = Q3 - Q1\n",
        "\n",
        "  data[i]=np.where(data[i]<(Q1 - 1.5 * IQR),(Q1 - 1.5 * IQR),np.where(data[i]>(Q3 + 1.5 * IQR),(Q3 + 1.5 * IQR),data[i]))"
      ],
      "execution_count": 89,
      "outputs": []
    },
    {
      "cell_type": "markdown",
      "metadata": {
        "id": "y-AQzuMWLKw8"
      },
      "source": [
        "## Nan value imputation-- KNN Nan value imputer"
      ]
    },
    {
      "cell_type": "markdown",
      "metadata": {
        "id": "U4WiZ1UiLW-p"
      },
      "source": [
        "Before imputing nan values numeircal features need to be scaled."
      ]
    },
    {
      "cell_type": "code",
      "metadata": {
        "id": "5InWwGPSKrG5"
      },
      "source": [
        "from sklearn.preprocessing import StandardScaler"
      ],
      "execution_count": 90,
      "outputs": []
    },
    {
      "cell_type": "code",
      "metadata": {
        "id": "bHrkgPhcLpdZ"
      },
      "source": [
        "numeric=['comments','duration']"
      ],
      "execution_count": 91,
      "outputs": []
    },
    {
      "cell_type": "code",
      "metadata": {
        "id": "xCrFJyl4LWUj"
      },
      "source": [
        "scaler = StandardScaler()\n",
        "scaler.fit(data[numeric])\n",
        "data[numeric] = scaler.transform(data[numeric])"
      ],
      "execution_count": 92,
      "outputs": []
    },
    {
      "cell_type": "code",
      "metadata": {
        "id": "Ct4pLdbYLiIX"
      },
      "source": [
        "#Import libraries\n",
        "from sklearn.impute import KNNImputer\n",
        "\n",
        "# define imputer\n",
        "imputer = KNNImputer()\n",
        "\n",
        "#fitting the model\n",
        "imputer.fit(data[numeric])\n",
        "\n",
        "# transform the dataset\n",
        "data[numeric] = imputer.transform(data[numeric])"
      ],
      "execution_count": 93,
      "outputs": []
    },
    {
      "cell_type": "code",
      "metadata": {
        "colab": {
          "base_uri": "https://localhost:8080/",
          "height": 79
        },
        "id": "X5UP7mTfNW8p",
        "outputId": "d07d7574-1dd0-483f-c68b-027747a828c5"
      },
      "source": [
        "data.head(1)"
      ],
      "execution_count": 94,
      "outputs": [
        {
          "output_type": "execute_result",
          "data": {
            "text/html": [
              "<div>\n",
              "<style scoped>\n",
              "    .dataframe tbody tr th:only-of-type {\n",
              "        vertical-align: middle;\n",
              "    }\n",
              "\n",
              "    .dataframe tbody tr th {\n",
              "        vertical-align: top;\n",
              "    }\n",
              "\n",
              "    .dataframe thead th {\n",
              "        text-align: right;\n",
              "    }\n",
              "</style>\n",
              "<table border=\"1\" class=\"dataframe\">\n",
              "  <thead>\n",
              "    <tr style=\"text-align: right;\">\n",
              "      <th></th>\n",
              "      <th>speaker_1</th>\n",
              "      <th>occupations</th>\n",
              "      <th>views</th>\n",
              "      <th>comments</th>\n",
              "      <th>duration</th>\n",
              "      <th>event_category</th>\n",
              "      <th>count_lang</th>\n",
              "      <th>Topic_Cluster</th>\n",
              "      <th>published_day</th>\n",
              "      <th>related_views</th>\n",
              "    </tr>\n",
              "  </thead>\n",
              "  <tbody>\n",
              "    <tr>\n",
              "      <th>0</th>\n",
              "      <td>Al Gore</td>\n",
              "      <td>climate advocate</td>\n",
              "      <td>3523392.0</td>\n",
              "      <td>1.148518</td>\n",
              "      <td>0.75847</td>\n",
              "      <td>TED2000s</td>\n",
              "      <td>43.0</td>\n",
              "      <td>International Affairs</td>\n",
              "      <td>Tuesday</td>\n",
              "      <td>1659584.0</td>\n",
              "    </tr>\n",
              "  </tbody>\n",
              "</table>\n",
              "</div>"
            ],
            "text/plain": [
              "  speaker_1       occupations  ...  published_day  related_views\n",
              "0   Al Gore  climate advocate  ...        Tuesday      1659584.0\n",
              "\n",
              "[1 rows x 10 columns]"
            ]
          },
          "metadata": {
            "tags": []
          },
          "execution_count": 94
        }
      ]
    },
    {
      "cell_type": "code",
      "metadata": {
        "id": "isPxHnBXNbEF"
      },
      "source": [
        "# for inverse transformation\n",
        "data[numeric] = scaler.inverse_transform(data[numeric])\n"
      ],
      "execution_count": 95,
      "outputs": []
    },
    {
      "cell_type": "code",
      "metadata": {
        "colab": {
          "base_uri": "https://localhost:8080/",
          "height": 79
        },
        "id": "6CSMHRNKNiku",
        "outputId": "3222958c-2a19-4248-c395-1164ca6c6b85"
      },
      "source": [
        "data.head(1)"
      ],
      "execution_count": 96,
      "outputs": [
        {
          "output_type": "execute_result",
          "data": {
            "text/html": [
              "<div>\n",
              "<style scoped>\n",
              "    .dataframe tbody tr th:only-of-type {\n",
              "        vertical-align: middle;\n",
              "    }\n",
              "\n",
              "    .dataframe tbody tr th {\n",
              "        vertical-align: top;\n",
              "    }\n",
              "\n",
              "    .dataframe thead th {\n",
              "        text-align: right;\n",
              "    }\n",
              "</style>\n",
              "<table border=\"1\" class=\"dataframe\">\n",
              "  <thead>\n",
              "    <tr style=\"text-align: right;\">\n",
              "      <th></th>\n",
              "      <th>speaker_1</th>\n",
              "      <th>occupations</th>\n",
              "      <th>views</th>\n",
              "      <th>comments</th>\n",
              "      <th>duration</th>\n",
              "      <th>event_category</th>\n",
              "      <th>count_lang</th>\n",
              "      <th>Topic_Cluster</th>\n",
              "      <th>published_day</th>\n",
              "      <th>related_views</th>\n",
              "    </tr>\n",
              "  </thead>\n",
              "  <tbody>\n",
              "    <tr>\n",
              "      <th>0</th>\n",
              "      <td>Al Gore</td>\n",
              "      <td>climate advocate</td>\n",
              "      <td>3523392.0</td>\n",
              "      <td>272.0</td>\n",
              "      <td>977.0</td>\n",
              "      <td>TED2000s</td>\n",
              "      <td>43.0</td>\n",
              "      <td>International Affairs</td>\n",
              "      <td>Tuesday</td>\n",
              "      <td>1659584.0</td>\n",
              "    </tr>\n",
              "  </tbody>\n",
              "</table>\n",
              "</div>"
            ],
            "text/plain": [
              "  speaker_1       occupations  ...  published_day  related_views\n",
              "0   Al Gore  climate advocate  ...        Tuesday      1659584.0\n",
              "\n",
              "[1 rows x 10 columns]"
            ]
          },
          "metadata": {
            "tags": []
          },
          "execution_count": 96
        }
      ]
    },
    {
      "cell_type": "code",
      "metadata": {
        "colab": {
          "base_uri": "https://localhost:8080/"
        },
        "id": "mWP5fNcSNlSD",
        "outputId": "e7bf385a-80b6-4f3b-8706-9895721f44b6"
      },
      "source": [
        "data[numeric].isnull().sum()"
      ],
      "execution_count": 97,
      "outputs": [
        {
          "output_type": "execute_result",
          "data": {
            "text/plain": [
              "comments    0\n",
              "duration    0\n",
              "dtype: int64"
            ]
          },
          "metadata": {
            "tags": []
          },
          "execution_count": 97
        }
      ]
    },
    {
      "cell_type": "markdown",
      "metadata": {
        "id": "E22yDjkcN0ZS"
      },
      "source": [
        "Nan values have been removed."
      ]
    },
    {
      "cell_type": "markdown",
      "metadata": {
        "id": "Hk4soleKN3jW"
      },
      "source": [
        "#**Feature Engineering:**"
      ]
    },
    {
      "cell_type": "markdown",
      "metadata": {
        "id": "DdPqYjSYOSnw"
      },
      "source": [
        "## Target Encoding categorical features:"
      ]
    },
    {
      "cell_type": "code",
      "metadata": {
        "id": "HVPoTDwGOcha"
      },
      "source": [
        "data_t= data.copy()"
      ],
      "execution_count": 98,
      "outputs": []
    },
    {
      "cell_type": "code",
      "metadata": {
        "colab": {
          "base_uri": "https://localhost:8080/"
        },
        "id": "Jj4eOgQ0OXzp",
        "outputId": "a10f8cf3-349e-4106-c774-766e2df1c070"
      },
      "source": [
        "data.columns"
      ],
      "execution_count": 99,
      "outputs": [
        {
          "output_type": "execute_result",
          "data": {
            "text/plain": [
              "Index(['speaker_1', 'occupations', 'views', 'comments', 'duration',\n",
              "       'event_category', 'count_lang', 'Topic_Cluster', 'published_day',\n",
              "       'related_views'],\n",
              "      dtype='object')"
            ]
          },
          "metadata": {
            "tags": []
          },
          "execution_count": 99
        }
      ]
    },
    {
      "cell_type": "code",
      "metadata": {
        "id": "DIwy-s7vOLpu"
      },
      "source": [
        "categorical_features= ['speaker_1','occupations','event_category','published_day']"
      ],
      "execution_count": 100,
      "outputs": []
    },
    {
      "cell_type": "code",
      "metadata": {
        "id": "dybOvqnlQzdj"
      },
      "source": [
        "for column in categorical_features:\n",
        "  data[column] = data[column].map(data.groupby(column)['views'].mean())"
      ],
      "execution_count": 101,
      "outputs": []
    },
    {
      "cell_type": "code",
      "metadata": {
        "id": "TYBaCBoxm-cf"
      },
      "source": [
        "data_copy=data.copy()"
      ],
      "execution_count": 102,
      "outputs": []
    },
    {
      "cell_type": "markdown",
      "metadata": {
        "id": "MXbfgbScmtnx"
      },
      "source": [
        "# Doing one hot encoding on Topic Cluster as they are highly correlated to separately make them as a feature."
      ]
    },
    {
      "cell_type": "code",
      "metadata": {
        "id": "xpYd1r7Vm7ud"
      },
      "source": [
        "dummies=pd.get_dummies(data,columns=['Topic_Cluster'],prefix= ['Topic'],drop_first=True)\n",
        "\n",
        "data=pd.concat([data,dummies],axis=1)"
      ],
      "execution_count": 105,
      "outputs": []
    },
    {
      "cell_type": "code",
      "metadata": {
        "colab": {
          "base_uri": "https://localhost:8080/"
        },
        "id": "lcv6hjrtQvHR",
        "outputId": "b9d4e15b-f8fd-4378-f422-95908dc3a389"
      },
      "source": [
        "data.info()"
      ],
      "execution_count": 106,
      "outputs": [
        {
          "output_type": "stream",
          "text": [
            "<class 'pandas.core.frame.DataFrame'>\n",
            "RangeIndex: 4005 entries, 0 to 4004\n",
            "Data columns (total 25 columns):\n",
            " #   Column                       Non-Null Count  Dtype  \n",
            "---  ------                       --------------  -----  \n",
            " 0   speaker_1                    4005 non-null   float64\n",
            " 1   occupations                  4005 non-null   float64\n",
            " 2   views                        4005 non-null   float64\n",
            " 3   comments                     4005 non-null   float64\n",
            " 4   duration                     4005 non-null   float64\n",
            " 5   event_category               4005 non-null   float64\n",
            " 6   count_lang                   4005 non-null   float64\n",
            " 7   Topic_Cluster                4005 non-null   object \n",
            " 8   published_day                4005 non-null   float64\n",
            " 9   related_views                4005 non-null   float64\n",
            " 10  speaker_1                    4005 non-null   float64\n",
            " 11  occupations                  4005 non-null   float64\n",
            " 12  views                        4005 non-null   float64\n",
            " 13  comments                     4005 non-null   float64\n",
            " 14  duration                     4005 non-null   float64\n",
            " 15  event_category               4005 non-null   float64\n",
            " 16  count_lang                   4005 non-null   float64\n",
            " 17  published_day                4005 non-null   float64\n",
            " 18  related_views                4005 non-null   float64\n",
            " 19  Topic_International Affairs  4005 non-null   uint8  \n",
            " 20  Topic_Mental Health          4005 non-null   uint8  \n",
            " 21  Topic_Music                  4005 non-null   uint8  \n",
            " 22  Topic_Science                4005 non-null   uint8  \n",
            " 23  Topic_Social Issues          4005 non-null   uint8  \n",
            " 24  Topic_Technology             4005 non-null   uint8  \n",
            "dtypes: float64(18), object(1), uint8(6)\n",
            "memory usage: 618.1+ KB\n"
          ],
          "name": "stdout"
        }
      ]
    },
    {
      "cell_type": "code",
      "metadata": {
        "id": "N6AaDPkLzavZ"
      },
      "source": [
        "data.drop(columns=['Topic_Cluster'],inplace= True)"
      ],
      "execution_count": 107,
      "outputs": []
    },
    {
      "cell_type": "code",
      "metadata": {
        "id": "ElZ9gaV10NSE"
      },
      "source": [
        "data.drop(columns=['views'],inplace= True)"
      ],
      "execution_count": 116,
      "outputs": []
    },
    {
      "cell_type": "markdown",
      "metadata": {
        "id": "RPSlOoclRu1Q"
      },
      "source": [
        "#**Feature Selection:**"
      ]
    },
    {
      "cell_type": "markdown",
      "metadata": {
        "id": "I03VJ3jaR0AW"
      },
      "source": [
        "Selecting the best features by f_regression:"
      ]
    },
    {
      "cell_type": "code",
      "metadata": {
        "id": "B8VkenbuSMMg"
      },
      "source": [
        "X= data\n",
        "\n",
        "Y= data_copy['views']"
      ],
      "execution_count": 118,
      "outputs": []
    },
    {
      "cell_type": "code",
      "metadata": {
        "id": "iiOmCfiURokv"
      },
      "source": [
        "from sklearn.feature_selection import f_regression"
      ],
      "execution_count": 109,
      "outputs": []
    },
    {
      "cell_type": "code",
      "metadata": {
        "colab": {
          "base_uri": "https://localhost:8080/"
        },
        "id": "0UlZJWk9z3UK",
        "outputId": "2bf6c667-6be7-48a7-cb53-9968d74560ba"
      },
      "source": [
        "Y.shape"
      ],
      "execution_count": 119,
      "outputs": [
        {
          "output_type": "execute_result",
          "data": {
            "text/plain": [
              "(4005,)"
            ]
          },
          "metadata": {
            "tags": []
          },
          "execution_count": 119
        }
      ]
    },
    {
      "cell_type": "code",
      "metadata": {
        "colab": {
          "base_uri": "https://localhost:8080/"
        },
        "id": "jg9xDaTfSIfy",
        "outputId": "a00b6d40-ee8f-4968-8626-b6f078b57329"
      },
      "source": [
        "f_scores = f_regression(X,Y)\n",
        "f_scores"
      ],
      "execution_count": 120,
      "outputs": [
        {
          "output_type": "execute_result",
          "data": {
            "text/plain": [
              "(array([2.22506424e+04, 2.68825675e+03, 8.78253835e+02, 3.63920086e+01,\n",
              "        1.19774484e+02, 9.43117088e+02, 7.66739069e+01, 6.34241154e+02,\n",
              "        2.22506424e+04, 2.68825675e+03, 8.78253835e+02, 3.63920086e+01,\n",
              "        1.19774484e+02, 9.43117088e+02, 7.66739069e+01, 6.34241154e+02,\n",
              "        3.84826517e+01, 5.17530945e+01, 4.03659103e+00, 2.70700488e+01,\n",
              "        9.51429618e-01, 5.17900728e+01]),\n",
              " array([0.00000000e+000, 0.00000000e+000, 1.12683294e-174, 1.75975910e-009,\n",
              "        1.73139653e-027, 3.67017071e-186, 2.92509550e-018, 4.87581533e-130,\n",
              "        0.00000000e+000, 0.00000000e+000, 1.12683294e-174, 1.75975910e-009,\n",
              "        1.73139653e-027, 3.67017071e-186, 2.92509550e-018, 4.87581533e-130,\n",
              "        6.08471612e-010, 7.47655609e-013, 4.45906869e-002, 2.06044127e-007,\n",
              "        3.29414607e-001, 7.33882833e-013]))"
            ]
          },
          "metadata": {
            "tags": []
          },
          "execution_count": 120
        }
      ]
    },
    {
      "cell_type": "code",
      "metadata": {
        "id": "18bq-J16SUCP"
      },
      "source": [
        "#The second array consists of p-values that we need\n",
        "\n",
        "p_series= pd.Series(f_scores[1],index= X.columns)"
      ],
      "execution_count": 121,
      "outputs": []
    },
    {
      "cell_type": "code",
      "metadata": {
        "colab": {
          "base_uri": "https://localhost:8080/",
          "height": 527
        },
        "id": "2mxX43sqSbly",
        "outputId": "2e8f614b-a2c8-4467-d372-77064de0d80d"
      },
      "source": [
        "p_series.plot(kind='bar',color='darkred')\n",
        "\n",
        "plt.title('P-values for numerical features')"
      ],
      "execution_count": 122,
      "outputs": [
        {
          "output_type": "execute_result",
          "data": {
            "text/plain": [
              "Text(0.5, 1.0, 'P-values for numerical features')"
            ]
          },
          "metadata": {
            "tags": []
          },
          "execution_count": 122
        },
        {
          "output_type": "display_data",
          "data": {
            "image/png": "[encoded data removed]",
            "text/plain": [
              "<Figure size 1080x432 with 1 Axes>"
            ]
          },
          "metadata": {
            "tags": [],
            "needs_background": "light"
          }
        }
      ]
    },
    {
      "cell_type": "markdown",
      "metadata": {
        "id": "VQjwojDrSjls"
      },
      "source": [
        "We can drop Social Issues and Music columns"
      ]
    },
    {
      "cell_type": "code",
      "metadata": {
        "id": "WStOLT6SSmja"
      },
      "source": [
        "X.drop(columns=['Topic_Music','Topic_Social Issues'],inplace= True)\n"
      ],
      "execution_count": 123,
      "outputs": []
    },
    {
      "cell_type": "markdown",
      "metadata": {
        "id": "ORE6huNlSudS"
      },
      "source": [
        "#**Model Selection:**\n",
        "\n",
        "## Decision Tree: Non-paramteric model with good interpretibility."
      ]
    },
    {
      "cell_type": "markdown",
      "metadata": {
        "id": "E2t2N0hxSzvj"
      },
      "source": [
        "Directly moving to Tree based non-parametric algorithm as:\n",
        "\n",
        "1. Linear relationship not required\n",
        "\n",
        "2. Faster and easily interpretable."
      ]
    },
    {
      "cell_type": "code",
      "metadata": {
        "id": "fvQOBeayTZTR"
      },
      "source": [
        "# split into train and test sets\n",
        "X_train, X_test, y_train, y_test = train_test_split(X, Y, test_size=0.25, random_state=42)"
      ],
      "execution_count": 124,
      "outputs": []
    },
    {
      "cell_type": "code",
      "metadata": {
        "id": "yhbFPIZ0VIg_"
      },
      "source": [
        "X_train = scaler.fit_transform(X_train)\n",
        "X_test = scaler.transform (X_test)"
      ],
      "execution_count": 125,
      "outputs": []
    },
    {
      "cell_type": "code",
      "metadata": {
        "id": "Q8ijCzzyUdSg"
      },
      "source": [
        "from sklearn.tree import DecisionTreeRegressor"
      ],
      "execution_count": 126,
      "outputs": []
    },
    {
      "cell_type": "code",
      "metadata": {
        "colab": {
          "base_uri": "https://localhost:8080/"
        },
        "id": "i2C6n-uWVFKm",
        "outputId": "d50fe7db-a680-4cac-afad-e28c032339e9"
      },
      "source": [
        "regressor = DecisionTreeRegressor(max_leaf_nodes=10, random_state=0)\n",
        "regressor.fit(X_train, y_train)"
      ],
      "execution_count": 127,
      "outputs": [
        {
          "output_type": "execute_result",
          "data": {
            "text/plain": [
              "DecisionTreeRegressor(ccp_alpha=0.0, criterion='mse', max_depth=None,\n",
              "                      max_features=None, max_leaf_nodes=10,\n",
              "                      min_impurity_decrease=0.0, min_impurity_split=None,\n",
              "                      min_samples_leaf=1, min_samples_split=2,\n",
              "                      min_weight_fraction_leaf=0.0, presort='deprecated',\n",
              "                      random_state=0, splitter='best')"
            ]
          },
          "metadata": {
            "tags": []
          },
          "execution_count": 127
        }
      ]
    },
    {
      "cell_type": "code",
      "metadata": {
        "id": "vCLZWFc2Vinr"
      },
      "source": [
        "y_predicted =regressor.predict(X_test)"
      ],
      "execution_count": 128,
      "outputs": []
    },
    {
      "cell_type": "code",
      "metadata": {
        "id": "_4FWkMMXsMFW"
      },
      "source": [
        "def smape(actual, pred):\n",
        "    return 1/len(actual) * np.sum(2 * np.abs(pred-actual) / (np.abs(actual) + np.abs(pred))*100)"
      ],
      "execution_count": 129,
      "outputs": []
    },
    {
      "cell_type": "code",
      "metadata": {
        "colab": {
          "base_uri": "https://localhost:8080/"
        },
        "id": "XETeK4xIVo8O",
        "outputId": "5a9fb351-80b0-4e5e-bb32-c5a75b3adf56"
      },
      "source": [
        "#Train SMAPE\n",
        "\n",
        "smape(y_train,regressor.predict(X_train))\n"
      ],
      "execution_count": 130,
      "outputs": [
        {
          "output_type": "execute_result",
          "data": {
            "text/plain": [
              "20.562830209906593"
            ]
          },
          "metadata": {
            "tags": []
          },
          "execution_count": 130
        }
      ]
    },
    {
      "cell_type": "code",
      "metadata": {
        "colab": {
          "base_uri": "https://localhost:8080/"
        },
        "id": "eDIg-KWkWUIf",
        "outputId": "b80d9893-ffa0-47d4-896d-3430e58b8be6"
      },
      "source": [
        "#Test Smape\n",
        "\n",
        "smape(y_predicted,y_test)"
      ],
      "execution_count": 131,
      "outputs": [
        {
          "output_type": "execute_result",
          "data": {
            "text/plain": [
              "21.59885919747428"
            ]
          },
          "metadata": {
            "tags": []
          },
          "execution_count": 131
        }
      ]
    },
    {
      "cell_type": "markdown",
      "metadata": {
        "id": "vVpwhPDGWT0m"
      },
      "source": [
        "Test SMAPE is greater than Train. The model is underfitting. Applying Bagging to solve this."
      ]
    },
    {
      "cell_type": "markdown",
      "metadata": {
        "id": "jUfNhd_RfaCi"
      },
      "source": [
        "# RandomForest Regressor:"
      ]
    },
    {
      "cell_type": "code",
      "metadata": {
        "id": "IgGUNSMmSf6E"
      },
      "source": [
        "from sklearn.ensemble import RandomForestRegressor"
      ],
      "execution_count": 132,
      "outputs": []
    },
    {
      "cell_type": "code",
      "metadata": {
        "id": "jj4IF_OYTSB0"
      },
      "source": [
        "from sklearn.model_selection import RandomizedSearchCV"
      ],
      "execution_count": 133,
      "outputs": []
    },
    {
      "cell_type": "code",
      "metadata": {
        "colab": {
          "base_uri": "https://localhost:8080/"
        },
        "id": "5hk8MSbXTeL3",
        "outputId": "0ee4f4cc-f56e-4d0f-afa4-e22b7a36632e"
      },
      "source": [
        "#Random Forest Regressor param_dict\n",
        "n_estimators = [30,50,80,100,120,150]\n",
        "max_depth = [4,6,8,10,12]\n",
        "min_samples_split = [50,80,100,150,200]\n",
        "min_samples_leaf = [10,30,40,50,60,80]\n",
        "# HYperparameter Dict\n",
        "param_dict = {'n_estimators' : n_estimators,\n",
        "              'max_depth' : max_depth,\n",
        "              'min_samples_split' : min_samples_split,\n",
        "              'min_samples_leaf' : min_samples_leaf}\n",
        "# Create an instance of the random forest regressor\n",
        "rf_model = RandomForestRegressor(criterion='mae')\n",
        "\n",
        "#RandomSearch\n",
        "rf_random = RandomizedSearchCV(rf_model,param_dict,verbose=0,cv=5)\n",
        "rf_random.fit(X_train,y_train)"
      ],
      "execution_count": 134,
      "outputs": [
        {
          "output_type": "execute_result",
          "data": {
            "text/plain": [
              "RandomizedSearchCV(cv=5, error_score=nan,\n",
              "                   estimator=RandomForestRegressor(bootstrap=True,\n",
              "                                                   ccp_alpha=0.0,\n",
              "                                                   criterion='mae',\n",
              "                                                   max_depth=None,\n",
              "                                                   max_features='auto',\n",
              "                                                   max_leaf_nodes=None,\n",
              "                                                   max_samples=None,\n",
              "                                                   min_impurity_decrease=0.0,\n",
              "                                                   min_impurity_split=None,\n",
              "                                                   min_samples_leaf=1,\n",
              "                                                   min_samples_split=2,\n",
              "                                                   min_weight_fraction_leaf=0.0,\n",
              "                                                   n_estimators=100,\n",
              "                                                   n_jobs=None, oob_score=False,\n",
              "                                                   random_state=None, verbose=0,\n",
              "                                                   warm_start=False),\n",
              "                   iid='deprecated', n_iter=10, n_jobs=None,\n",
              "                   param_distributions={'max_depth': [4, 6, 8, 10, 12],\n",
              "                                        'min_samples_leaf': [10, 30, 40, 50, 60,\n",
              "                                                             80],\n",
              "                                        'min_samples_split': [50, 80, 100, 150,\n",
              "                                                              200],\n",
              "                                        'n_estimators': [30, 50, 80, 100, 120,\n",
              "                                                         150]},\n",
              "                   pre_dispatch='2*n_jobs', random_state=None, refit=True,\n",
              "                   return_train_score=False, scoring=None, verbose=0)"
            ]
          },
          "metadata": {
            "tags": []
          },
          "execution_count": 134
        }
      ]
    },
    {
      "cell_type": "code",
      "metadata": {
        "id": "yQaBdRd-Tl58"
      },
      "source": [
        "#Building optimal model on the best estimators\n",
        "rf_optimal_model = rf_random.best_estimator_"
      ],
      "execution_count": 135,
      "outputs": []
    },
    {
      "cell_type": "code",
      "metadata": {
        "id": "AVB0iUytT0QO"
      },
      "source": [
        "# make predictions for test data\n",
        "y_hat = rf_optimal_model.predict(X_test)"
      ],
      "execution_count": 136,
      "outputs": []
    },
    {
      "cell_type": "code",
      "metadata": {
        "colab": {
          "base_uri": "https://localhost:8080/"
        },
        "id": "0QFW1FvhT2aa",
        "outputId": "09d011fa-db7f-43ab-d643-9cd69c4f2a9c"
      },
      "source": [
        "print(f'r_sqr value for train: {rf_optimal_model.score(X_train, y_train)}')"
      ],
      "execution_count": 137,
      "outputs": [
        {
          "output_type": "stream",
          "text": [
            "r_sqr value for train: 0.86093619421766\n"
          ],
          "name": "stdout"
        }
      ]
    },
    {
      "cell_type": "code",
      "metadata": {
        "id": "XuLDwU57T42R"
      },
      "source": [
        "from sklearn.metrics import mean_squared_error,r2_score,mean_absolute_error"
      ],
      "execution_count": 138,
      "outputs": []
    },
    {
      "cell_type": "code",
      "metadata": {
        "id": "Vws3O10HT7Y2"
      },
      "source": [
        "r_squared= r2_score(y_test,y_hat)"
      ],
      "execution_count": 139,
      "outputs": []
    },
    {
      "cell_type": "code",
      "metadata": {
        "colab": {
          "base_uri": "https://localhost:8080/"
        },
        "id": "7L4JTkq0T9di",
        "outputId": "e748614a-9a49-4971-d8b2-103850ea6457"
      },
      "source": [
        "#Calculate Adjusted R-sqaured\n",
        "adjusted_r_squared = 1 - (1-r_squared)*(len(Y)-1)/(len(Y)-X.shape[1]-1)\n",
        "print(f'The R_Squared for RF is {r_squared} for train and adjusted R_Squared is {adjusted_r_squared}')\n"
      ],
      "execution_count": 148,
      "outputs": [
        {
          "output_type": "stream",
          "text": [
            "The R_Squared for RF is 0.83149682439395 for train and adjusted R_Squared is 0.8306509249180161\n"
          ],
          "name": "stdout"
        }
      ]
    },
    {
      "cell_type": "code",
      "metadata": {
        "id": "eLw7AoutUHRw"
      },
      "source": [
        "import math"
      ],
      "execution_count": 141,
      "outputs": []
    },
    {
      "cell_type": "code",
      "metadata": {
        "colab": {
          "base_uri": "https://localhost:8080/"
        },
        "id": "sK2s8yc6UAE0",
        "outputId": "b272068b-af6c-40ff-b6c9-51fb0c2cb768"
      },
      "source": [
        "print(f'The Root Mean Squared Error for Random Forest is: {math.sqrt(mean_squared_error(y_test,y_hat))}')"
      ],
      "execution_count": 142,
      "outputs": [
        {
          "output_type": "stream",
          "text": [
            "The Root Mean Squared Error for Random Forest is: 456285.18644797127\n"
          ],
          "name": "stdout"
        }
      ]
    },
    {
      "cell_type": "code",
      "metadata": {
        "colab": {
          "base_uri": "https://localhost:8080/"
        },
        "id": "Nb7YJ0jeUGIq",
        "outputId": "a7c8e9f3-7c72-498d-b20b-144564d318b6"
      },
      "source": [
        "print(f'The mean absolute error for Random Forest is: {mean_absolute_error(y_test,y_hat)}')"
      ],
      "execution_count": 143,
      "outputs": [
        {
          "output_type": "stream",
          "text": [
            "The mean absolute error for Random Forest is: 197662.59176646706\n"
          ],
          "name": "stdout"
        }
      ]
    },
    {
      "cell_type": "code",
      "metadata": {
        "colab": {
          "base_uri": "https://localhost:8080/"
        },
        "id": "EfGtDbhbUokw",
        "outputId": "c4716f06-e66f-49d2-cc84-176a0fadd596"
      },
      "source": [
        "print(f'The error percentage for Random Forest is : {round((mean_absolute_error(y_test,y_hat)/Y.mean()*100),2)}% of views')"
      ],
      "execution_count": 144,
      "outputs": [
        {
          "output_type": "stream",
          "text": [
            "The error percentage for Random Forest is : 11.9% of views\n"
          ],
          "name": "stdout"
        }
      ]
    },
    {
      "cell_type": "code",
      "metadata": {
        "id": "DEb3B8T69jBK"
      },
      "source": [
        "topic=[]\n",
        "\n",
        "smape_train=[]\n",
        "\n",
        "\n",
        "smape_test=[]"
      ],
      "execution_count": 145,
      "outputs": []
    },
    {
      "cell_type": "code",
      "metadata": {
        "id": "v4S5rh8TV0Dj"
      },
      "source": [
        "def mape(actual, pred):\n",
        "    return np.mean(np.abs((actual - pred) / actual)) * 100"
      ],
      "execution_count": 146,
      "outputs": []
    },
    {
      "cell_type": "code",
      "metadata": {
        "id": "ghmJZiK_9_ZD"
      },
      "source": [
        "smape_train.append(smape(y_train,rf_optimal_model.predict(X_train)))\n",
        "\n",
        "smape_test.append(smape(y_test,y_hat))"
      ],
      "execution_count": 149,
      "outputs": []
    },
    {
      "cell_type": "code",
      "metadata": {
        "id": "jiTUB3J8-neU"
      },
      "source": [
        "topic.append('All')"
      ],
      "execution_count": 150,
      "outputs": []
    },
    {
      "cell_type": "code",
      "metadata": {
        "colab": {
          "base_uri": "https://localhost:8080/"
        },
        "id": "oSi6IGqWsJhM",
        "outputId": "a38de2c5-eeec-4fe5-d5c4-98f7bd25dd53"
      },
      "source": [
        "mape(y_test,y_hat)"
      ],
      "execution_count": 151,
      "outputs": [
        {
          "output_type": "execute_result",
          "data": {
            "text/plain": [
              "24.04192950045299"
            ]
          },
          "metadata": {
            "tags": []
          },
          "execution_count": 151
        }
      ]
    },
    {
      "cell_type": "code",
      "metadata": {
        "colab": {
          "base_uri": "https://localhost:8080/"
        },
        "id": "0ztEGkEwtJlU",
        "outputId": "48adb985-68f3-4078-eadb-61000f01150e"
      },
      "source": [
        "smape(y_test,y_hat)"
      ],
      "execution_count": 152,
      "outputs": [
        {
          "output_type": "execute_result",
          "data": {
            "text/plain": [
              "13.661912768002566"
            ]
          },
          "metadata": {
            "tags": []
          },
          "execution_count": 152
        }
      ]
    },
    {
      "cell_type": "markdown",
      "metadata": {
        "id": "xbpetpnJtOZg"
      },
      "source": [
        "Smape is better than Mape because MAPE is asymmetric in that ‘equal errors above the actual value result in a greater APE than those below the actual value’. Similarly, Armstrong and Collopy argued that ‘the MAPE ... puts a heavier penalty on forecasts that exceed the actual than those that are less than the actual. For example, the MAPE is bounded on the low side by an error of 100%, but there is no bound on the high side’."
      ]
    },
    {
      "cell_type": "markdown",
      "metadata": {
        "id": "Vibg3eRv9ht4"
      },
      "source": [
        "# **Checking Views for each of the topic clusters:**"
      ]
    },
    {
      "cell_type": "code",
      "metadata": {
        "colab": {
          "base_uri": "https://localhost:8080/",
          "height": 79
        },
        "id": "KNBLHv_f9sGw",
        "outputId": "c4b6f149-95bd-44bb-ce98-37729b63e775"
      },
      "source": [
        "data_t.head(1)"
      ],
      "execution_count": 153,
      "outputs": [
        {
          "output_type": "execute_result",
          "data": {
            "text/html": [
              "<div>\n",
              "<style scoped>\n",
              "    .dataframe tbody tr th:only-of-type {\n",
              "        vertical-align: middle;\n",
              "    }\n",
              "\n",
              "    .dataframe tbody tr th {\n",
              "        vertical-align: top;\n",
              "    }\n",
              "\n",
              "    .dataframe thead th {\n",
              "        text-align: right;\n",
              "    }\n",
              "</style>\n",
              "<table border=\"1\" class=\"dataframe\">\n",
              "  <thead>\n",
              "    <tr style=\"text-align: right;\">\n",
              "      <th></th>\n",
              "      <th>speaker_1</th>\n",
              "      <th>occupations</th>\n",
              "      <th>views</th>\n",
              "      <th>comments</th>\n",
              "      <th>duration</th>\n",
              "      <th>event_category</th>\n",
              "      <th>count_lang</th>\n",
              "      <th>Topic_Cluster</th>\n",
              "      <th>published_day</th>\n",
              "      <th>related_views</th>\n",
              "    </tr>\n",
              "  </thead>\n",
              "  <tbody>\n",
              "    <tr>\n",
              "      <th>0</th>\n",
              "      <td>Al Gore</td>\n",
              "      <td>climate advocate</td>\n",
              "      <td>3523392.0</td>\n",
              "      <td>272.0</td>\n",
              "      <td>977.0</td>\n",
              "      <td>TED2000s</td>\n",
              "      <td>43.0</td>\n",
              "      <td>International Affairs</td>\n",
              "      <td>Tuesday</td>\n",
              "      <td>1659584.0</td>\n",
              "    </tr>\n",
              "  </tbody>\n",
              "</table>\n",
              "</div>"
            ],
            "text/plain": [
              "  speaker_1       occupations  ...  published_day  related_views\n",
              "0   Al Gore  climate advocate  ...        Tuesday      1659584.0\n",
              "\n",
              "[1 rows x 10 columns]"
            ]
          },
          "metadata": {
            "tags": []
          },
          "execution_count": 153
        }
      ]
    },
    {
      "cell_type": "markdown",
      "metadata": {
        "id": "gCEqXHgP9xlE"
      },
      "source": [
        "### **1. Technology:**"
      ]
    },
    {
      "cell_type": "code",
      "metadata": {
        "id": "fmaA9sHKtMEs"
      },
      "source": [
        "technology= data_t[data_t['Topic_Cluster']=='Technology']"
      ],
      "execution_count": 154,
      "outputs": []
    },
    {
      "cell_type": "markdown",
      "metadata": {
        "id": "X7PM6Xy4-HUi"
      },
      "source": [
        "**Feature Engineering:**"
      ]
    },
    {
      "cell_type": "code",
      "metadata": {
        "colab": {
          "base_uri": "https://localhost:8080/"
        },
        "id": "ACaGvFrD-BXX",
        "outputId": "ab18f2b2-faa6-48f1-c9a1-6452d151cb3c"
      },
      "source": [
        "technology.info()"
      ],
      "execution_count": 155,
      "outputs": [
        {
          "output_type": "stream",
          "text": [
            "<class 'pandas.core.frame.DataFrame'>\n",
            "Int64Index: 1426 entries, 2 to 4000\n",
            "Data columns (total 10 columns):\n",
            " #   Column          Non-Null Count  Dtype  \n",
            "---  ------          --------------  -----  \n",
            " 0   speaker_1       1426 non-null   object \n",
            " 1   occupations     1426 non-null   object \n",
            " 2   views           1426 non-null   float64\n",
            " 3   comments        1426 non-null   float64\n",
            " 4   duration        1426 non-null   float64\n",
            " 5   event_category  1426 non-null   object \n",
            " 6   count_lang      1426 non-null   float64\n",
            " 7   Topic_Cluster   1426 non-null   object \n",
            " 8   published_day   1426 non-null   object \n",
            " 9   related_views   1426 non-null   float64\n",
            "dtypes: float64(5), object(5)\n",
            "memory usage: 122.5+ KB\n"
          ],
          "name": "stdout"
        }
      ]
    },
    {
      "cell_type": "code",
      "metadata": {
        "id": "roxEWe7z-L-0"
      },
      "source": [
        "technology.drop(columns= 'Topic_Cluster',inplace= True)"
      ],
      "execution_count": 156,
      "outputs": []
    },
    {
      "cell_type": "markdown",
      "metadata": {
        "id": "dbGtgv6f-tIR"
      },
      "source": [
        "Target Encoding:"
      ]
    },
    {
      "cell_type": "code",
      "metadata": {
        "id": "PoNISzVG-D2-"
      },
      "source": [
        "categorical_features= ['speaker_1','occupations','event_category','published_day']"
      ],
      "execution_count": 157,
      "outputs": []
    },
    {
      "cell_type": "code",
      "metadata": {
        "id": "LBCOtxQ6-xyv"
      },
      "source": [
        "for column in categorical_features:\n",
        "  technology[column] = technology[column].map(technology.groupby(column)['views'].mean())"
      ],
      "execution_count": 158,
      "outputs": []
    },
    {
      "cell_type": "code",
      "metadata": {
        "colab": {
          "base_uri": "https://localhost:8080/"
        },
        "id": "VDXB_5xw_FeQ",
        "outputId": "649fc65c-3a25-499d-82b3-1c030be2b5a7"
      },
      "source": [
        "technology.info()"
      ],
      "execution_count": 159,
      "outputs": [
        {
          "output_type": "stream",
          "text": [
            "<class 'pandas.core.frame.DataFrame'>\n",
            "Int64Index: 1426 entries, 2 to 4000\n",
            "Data columns (total 9 columns):\n",
            " #   Column          Non-Null Count  Dtype  \n",
            "---  ------          --------------  -----  \n",
            " 0   speaker_1       1426 non-null   float64\n",
            " 1   occupations     1426 non-null   float64\n",
            " 2   views           1426 non-null   float64\n",
            " 3   comments        1426 non-null   float64\n",
            " 4   duration        1426 non-null   float64\n",
            " 5   event_category  1426 non-null   float64\n",
            " 6   count_lang      1426 non-null   float64\n",
            " 7   published_day   1426 non-null   float64\n",
            " 8   related_views   1426 non-null   float64\n",
            "dtypes: float64(9)\n",
            "memory usage: 111.4 KB\n"
          ],
          "name": "stdout"
        }
      ]
    },
    {
      "cell_type": "markdown",
      "metadata": {
        "id": "Q7tWI5zn_aHd"
      },
      "source": [
        "Feature selection:"
      ]
    },
    {
      "cell_type": "code",
      "metadata": {
        "id": "TzN1fH7t_PAB"
      },
      "source": [
        "X= technology.drop(columns='views')\n",
        "\n",
        "Y= technology['views']"
      ],
      "execution_count": 160,
      "outputs": []
    },
    {
      "cell_type": "code",
      "metadata": {
        "colab": {
          "base_uri": "https://localhost:8080/"
        },
        "id": "ezpKZn0y_iGO",
        "outputId": "385b8cb8-2103-4c02-859d-c6219b68907f"
      },
      "source": [
        "f_scores = f_regression(X,Y)\n",
        "f_scores"
      ],
      "execution_count": 161,
      "outputs": [
        {
          "output_type": "execute_result",
          "data": {
            "text/plain": [
              "(array([11529.86382181,  1274.79777352,   512.29992614,    18.88169391,\n",
              "           48.55923282,   448.25897986,    22.56128461,   295.92594331]),\n",
              " array([0.00000000e+000, 6.21529626e-200, 3.86893233e-097, 1.48942911e-005,\n",
              "        4.88420606e-012, 1.02127065e-086, 2.24090477e-006, 2.09889644e-060]))"
            ]
          },
          "metadata": {
            "tags": []
          },
          "execution_count": 161
        }
      ]
    },
    {
      "cell_type": "code",
      "metadata": {
        "id": "FNFRTQ1U_phr"
      },
      "source": [
        "#The second array consists of p-values that we need\n",
        "\n",
        "p_series= pd.Series(f_scores[1],index= X.columns)"
      ],
      "execution_count": 162,
      "outputs": []
    },
    {
      "cell_type": "code",
      "metadata": {
        "colab": {
          "base_uri": "https://localhost:8080/",
          "height": 475
        },
        "id": "JcKw2Jes_v5g",
        "outputId": "85561e6b-5a54-4b49-f9af-94efbcdadbb4"
      },
      "source": [
        "p_series.plot(kind='bar',color='darkred')\n",
        "\n",
        "plt.title('P-values for numerical features')"
      ],
      "execution_count": 163,
      "outputs": [
        {
          "output_type": "execute_result",
          "data": {
            "text/plain": [
              "Text(0.5, 1.0, 'P-values for numerical features')"
            ]
          },
          "metadata": {
            "tags": []
          },
          "execution_count": 163
        },
        {
          "output_type": "display_data",
          "data": {
            "image/png": "[encoded data removed]",
            "text/plain": [
              "<Figure size 1080x432 with 1 Axes>"
            ]
          },
          "metadata": {
            "tags": [],
            "needs_background": "light"
          }
        }
      ]
    },
    {
      "cell_type": "markdown",
      "metadata": {
        "id": "UVEe-qazACbk"
      },
      "source": [
        "We can keep all the features."
      ]
    },
    {
      "cell_type": "markdown",
      "metadata": {
        "id": "QTQXiqBLAI3h"
      },
      "source": [
        "Random Forest:"
      ]
    },
    {
      "cell_type": "code",
      "metadata": {
        "id": "6Yk--eEU_2FS"
      },
      "source": [
        "# split into train and test sets\n",
        "X_train, X_test, y_train, y_test = train_test_split(X, Y, test_size=0.25, random_state=42)"
      ],
      "execution_count": 164,
      "outputs": []
    },
    {
      "cell_type": "code",
      "metadata": {
        "id": "HSD3s6U5AQaT"
      },
      "source": [
        "X_train = scaler.fit_transform(X_train)\n",
        "X_test = scaler.transform (X_test)"
      ],
      "execution_count": 165,
      "outputs": []
    },
    {
      "cell_type": "code",
      "metadata": {
        "colab": {
          "base_uri": "https://localhost:8080/"
        },
        "id": "jXlKF9e0AUqo",
        "outputId": "74a3df24-0815-4ae2-c4c3-c8124fe23f4d"
      },
      "source": [
        "#Random Forest Regressor param_dict\n",
        "n_estimators = [50,80,100]\n",
        "max_depth = [4,6,8]\n",
        "min_samples_split = [50,80,100]\n",
        "min_samples_leaf = [30,40,50]\n",
        "# HYperparameter Dict\n",
        "param_dict = {'n_estimators' : n_estimators,\n",
        "              'max_depth' : max_depth,\n",
        "              'min_samples_split' : min_samples_split,\n",
        "              'min_samples_leaf' : min_samples_leaf}\n",
        "# Create an instance of the random forest regressor\n",
        "rf_model = RandomForestRegressor(criterion='mae')\n",
        "\n",
        "#RandomSearch\n",
        "rf_random = RandomizedSearchCV(rf_model,param_dict,verbose=0,cv=5)\n",
        "rf_random.fit(X_train,y_train)"
      ],
      "execution_count": 166,
      "outputs": [
        {
          "output_type": "execute_result",
          "data": {
            "text/plain": [
              "RandomizedSearchCV(cv=5, error_score=nan,\n",
              "                   estimator=RandomForestRegressor(bootstrap=True,\n",
              "                                                   ccp_alpha=0.0,\n",
              "                                                   criterion='mae',\n",
              "                                                   max_depth=None,\n",
              "                                                   max_features='auto',\n",
              "                                                   max_leaf_nodes=None,\n",
              "                                                   max_samples=None,\n",
              "                                                   min_impurity_decrease=0.0,\n",
              "                                                   min_impurity_split=None,\n",
              "                                                   min_samples_leaf=1,\n",
              "                                                   min_samples_split=2,\n",
              "                                                   min_weight_fraction_leaf=0.0,\n",
              "                                                   n_estimators=100,\n",
              "                                                   n_jobs=None, oob_score=False,\n",
              "                                                   random_state=None, verbose=0,\n",
              "                                                   warm_start=False),\n",
              "                   iid='deprecated', n_iter=10, n_jobs=None,\n",
              "                   param_distributions={'max_depth': [4, 6, 8],\n",
              "                                        'min_samples_leaf': [30, 40, 50],\n",
              "                                        'min_samples_split': [50, 80, 100],\n",
              "                                        'n_estimators': [50, 80, 100]},\n",
              "                   pre_dispatch='2*n_jobs', random_state=None, refit=True,\n",
              "                   return_train_score=False, scoring=None, verbose=0)"
            ]
          },
          "metadata": {
            "tags": []
          },
          "execution_count": 166
        }
      ]
    },
    {
      "cell_type": "code",
      "metadata": {
        "id": "R7WOjFC-AcCZ"
      },
      "source": [
        "#Building optimal model on the best estimators\n",
        "rf_model = rf_random.best_estimator_"
      ],
      "execution_count": 167,
      "outputs": []
    },
    {
      "cell_type": "code",
      "metadata": {
        "id": "EZwg2XVbAhFB"
      },
      "source": [
        "# make predictions for test data\n",
        "y_hat = rf_model.predict(X_test)"
      ],
      "execution_count": 168,
      "outputs": []
    },
    {
      "cell_type": "code",
      "metadata": {
        "id": "zf7iJqqIAtKr",
        "colab": {
          "base_uri": "https://localhost:8080/"
        },
        "outputId": "af6e5c4a-bcb7-4afd-b8bd-e8bb2b780810"
      },
      "source": [
        "smape(y_test,y_hat)"
      ],
      "execution_count": 169,
      "outputs": [
        {
          "output_type": "execute_result",
          "data": {
            "text/plain": [
              "14.308723282555693"
            ]
          },
          "metadata": {
            "tags": []
          },
          "execution_count": 169
        }
      ]
    },
    {
      "cell_type": "code",
      "metadata": {
        "id": "BgoDh6F3Atmg"
      },
      "source": [
        "smape_train.append(smape(y_train,rf_model.predict(X_train)))\n",
        "\n",
        "smape_test.append(smape(y_test,y_hat))\n",
        "\n",
        "topic.append('Technology')"
      ],
      "execution_count": 170,
      "outputs": []
    },
    {
      "cell_type": "markdown",
      "metadata": {
        "id": "utzuzdjM-16h"
      },
      "source": [
        "## **2.International Affairs:**"
      ]
    },
    {
      "cell_type": "code",
      "metadata": {
        "id": "WJghO6xC-zL5"
      },
      "source": [
        "international= data_t[data_t['Topic_Cluster']=='International Affairs']"
      ],
      "execution_count": 171,
      "outputs": []
    },
    {
      "cell_type": "markdown",
      "metadata": {
        "id": "vgpmQjKN_SP5"
      },
      "source": [
        "**Feature Enigneering:**"
      ]
    },
    {
      "cell_type": "code",
      "metadata": {
        "colab": {
          "base_uri": "https://localhost:8080/"
        },
        "id": "KjgLpUFU_QUc",
        "outputId": "e233a8e5-b37b-4fb0-8cc5-ab9c64122ae0"
      },
      "source": [
        "international.info()"
      ],
      "execution_count": 172,
      "outputs": [
        {
          "output_type": "stream",
          "text": [
            "<class 'pandas.core.frame.DataFrame'>\n",
            "Int64Index: 818 entries, 0 to 4002\n",
            "Data columns (total 10 columns):\n",
            " #   Column          Non-Null Count  Dtype  \n",
            "---  ------          --------------  -----  \n",
            " 0   speaker_1       818 non-null    object \n",
            " 1   occupations     818 non-null    object \n",
            " 2   views           818 non-null    float64\n",
            " 3   comments        818 non-null    float64\n",
            " 4   duration        818 non-null    float64\n",
            " 5   event_category  818 non-null    object \n",
            " 6   count_lang      818 non-null    float64\n",
            " 7   Topic_Cluster   818 non-null    object \n",
            " 8   published_day   818 non-null    object \n",
            " 9   related_views   818 non-null    float64\n",
            "dtypes: float64(5), object(5)\n",
            "memory usage: 70.3+ KB\n"
          ],
          "name": "stdout"
        }
      ]
    },
    {
      "cell_type": "code",
      "metadata": {
        "id": "YC9blx7E_ijC"
      },
      "source": [
        "international.drop(columns= 'Topic_Cluster',inplace= True)"
      ],
      "execution_count": 173,
      "outputs": []
    },
    {
      "cell_type": "markdown",
      "metadata": {
        "id": "JrICBhQi_tif"
      },
      "source": [
        "Target Encoding:"
      ]
    },
    {
      "cell_type": "code",
      "metadata": {
        "id": "wierS7kx_q_Y"
      },
      "source": [
        "categorical_features= ['speaker_1','occupations','event_category','published_day']"
      ],
      "execution_count": 174,
      "outputs": []
    },
    {
      "cell_type": "code",
      "metadata": {
        "id": "XQMlO4Wc_vr4"
      },
      "source": [
        "for column in categorical_features:\n",
        "  international[column] = international[column].map(international.groupby(column)['views'].mean())"
      ],
      "execution_count": 175,
      "outputs": []
    },
    {
      "cell_type": "code",
      "metadata": {
        "colab": {
          "base_uri": "https://localhost:8080/"
        },
        "id": "_gwlaNBv_2z4",
        "outputId": "046a4cdc-9328-4df2-baa0-6c679a618679"
      },
      "source": [
        "international.info()"
      ],
      "execution_count": 176,
      "outputs": [
        {
          "output_type": "stream",
          "text": [
            "<class 'pandas.core.frame.DataFrame'>\n",
            "Int64Index: 818 entries, 0 to 4002\n",
            "Data columns (total 9 columns):\n",
            " #   Column          Non-Null Count  Dtype  \n",
            "---  ------          --------------  -----  \n",
            " 0   speaker_1       818 non-null    float64\n",
            " 1   occupations     818 non-null    float64\n",
            " 2   views           818 non-null    float64\n",
            " 3   comments        818 non-null    float64\n",
            " 4   duration        818 non-null    float64\n",
            " 5   event_category  818 non-null    float64\n",
            " 6   count_lang      818 non-null    float64\n",
            " 7   published_day   818 non-null    float64\n",
            " 8   related_views   818 non-null    float64\n",
            "dtypes: float64(9)\n",
            "memory usage: 63.9 KB\n"
          ],
          "name": "stdout"
        }
      ]
    },
    {
      "cell_type": "markdown",
      "metadata": {
        "id": "JSwvMyvCAKdQ"
      },
      "source": [
        "Feature Selection:"
      ]
    },
    {
      "cell_type": "code",
      "metadata": {
        "id": "sQ9RWrVSAFem"
      },
      "source": [
        "X= international.drop(columns='views')\n",
        "\n",
        "Y= international['views']"
      ],
      "execution_count": 177,
      "outputs": []
    },
    {
      "cell_type": "code",
      "metadata": {
        "colab": {
          "base_uri": "https://localhost:8080/"
        },
        "id": "QUFyp83vAUNK",
        "outputId": "25991371-496a-4d29-a731-626e237fff0a"
      },
      "source": [
        "f_scores = f_regression(X,Y)\n",
        "f_scores"
      ],
      "execution_count": 178,
      "outputs": [
        {
          "output_type": "execute_result",
          "data": {
            "text/plain": [
              "(array([5533.48761212,  866.69766269,   80.47051107,    8.16102352,\n",
              "          43.80966824,   70.78120314,   30.36534421,   77.65567318]),\n",
              " array([0.00000000e+000, 2.23168125e-130, 1.99103208e-018, 4.38880459e-003,\n",
              "        6.55288599e-011, 1.77604234e-016, 4.80033440e-008, 7.29770313e-018]))"
            ]
          },
          "metadata": {
            "tags": []
          },
          "execution_count": 178
        }
      ]
    },
    {
      "cell_type": "code",
      "metadata": {
        "id": "spQh7B3SAW3I"
      },
      "source": [
        "#The second array consists of p-values that we need\n",
        "\n",
        "p_series= pd.Series(f_scores[1],index= X.columns)"
      ],
      "execution_count": 179,
      "outputs": []
    },
    {
      "cell_type": "code",
      "metadata": {
        "colab": {
          "base_uri": "https://localhost:8080/",
          "height": 475
        },
        "id": "tK4lemrzAbhS",
        "outputId": "f231b90b-4f93-4f56-9746-7c31f1ab8abd"
      },
      "source": [
        "p_series.plot(kind='bar',color='darkred')\n",
        "\n",
        "plt.title('P-values for numerical features')"
      ],
      "execution_count": 180,
      "outputs": [
        {
          "output_type": "execute_result",
          "data": {
            "text/plain": [
              "Text(0.5, 1.0, 'P-values for numerical features')"
            ]
          },
          "metadata": {
            "tags": []
          },
          "execution_count": 180
        },
        {
          "output_type": "display_data",
          "data": {
            "image/png": "[encoded data removed]",
            "text/plain": [
              "<Figure size 1080x432 with 1 Axes>"
            ]
          },
          "metadata": {
            "tags": [],
            "needs_background": "light"
          }
        }
      ]
    },
    {
      "cell_type": "markdown",
      "metadata": {
        "id": "NBJuaNbYAjTR"
      },
      "source": [
        "Cannot drop any column."
      ]
    },
    {
      "cell_type": "markdown",
      "metadata": {
        "id": "lIBHD6TfAplI"
      },
      "source": [
        "Random Forest:"
      ]
    },
    {
      "cell_type": "code",
      "metadata": {
        "id": "hSMeawOQAePy"
      },
      "source": [
        "# split into train and test sets\n",
        "X_train, X_test, y_train, y_test = train_test_split(X, Y, test_size=0.25, random_state=42)"
      ],
      "execution_count": 181,
      "outputs": []
    },
    {
      "cell_type": "code",
      "metadata": {
        "id": "A5gy1iu2AtdX"
      },
      "source": [
        "X_train = scaler.fit_transform(X_train)\n",
        "X_test = scaler.transform (X_test)"
      ],
      "execution_count": 182,
      "outputs": []
    },
    {
      "cell_type": "code",
      "metadata": {
        "colab": {
          "base_uri": "https://localhost:8080/"
        },
        "id": "2JFCXlT0AwxY",
        "outputId": "5ac92e8d-4cc6-48a0-ff67-cb3e55d6bec5"
      },
      "source": [
        "#Random Forest Regressor param_dict\n",
        "n_estimators = [50,80,100]\n",
        "max_depth = [4,6,8]\n",
        "min_samples_split = [50,80,100]\n",
        "min_samples_leaf = [30,40,50]\n",
        "# HYperparameter Dict\n",
        "param_dict = {'n_estimators' : n_estimators,\n",
        "              'max_depth' : max_depth,\n",
        "              'min_samples_split' : min_samples_split,\n",
        "              'min_samples_leaf' : min_samples_leaf}\n",
        "# Create an instance of the random forest regressor\n",
        "rf_model = RandomForestRegressor(criterion='mae')\n",
        "\n",
        "#RandomSearch\n",
        "rf_random = RandomizedSearchCV(rf_model,param_dict,verbose=0,cv=5)\n",
        "rf_random.fit(X_train,y_train)"
      ],
      "execution_count": 183,
      "outputs": [
        {
          "output_type": "execute_result",
          "data": {
            "text/plain": [
              "RandomizedSearchCV(cv=5, error_score=nan,\n",
              "                   estimator=RandomForestRegressor(bootstrap=True,\n",
              "                                                   ccp_alpha=0.0,\n",
              "                                                   criterion='mae',\n",
              "                                                   max_depth=None,\n",
              "                                                   max_features='auto',\n",
              "                                                   max_leaf_nodes=None,\n",
              "                                                   max_samples=None,\n",
              "                                                   min_impurity_decrease=0.0,\n",
              "                                                   min_impurity_split=None,\n",
              "                                                   min_samples_leaf=1,\n",
              "                                                   min_samples_split=2,\n",
              "                                                   min_weight_fraction_leaf=0.0,\n",
              "                                                   n_estimators=100,\n",
              "                                                   n_jobs=None, oob_score=False,\n",
              "                                                   random_state=None, verbose=0,\n",
              "                                                   warm_start=False),\n",
              "                   iid='deprecated', n_iter=10, n_jobs=None,\n",
              "                   param_distributions={'max_depth': [4, 6, 8],\n",
              "                                        'min_samples_leaf': [30, 40, 50],\n",
              "                                        'min_samples_split': [50, 80, 100],\n",
              "                                        'n_estimators': [50, 80, 100]},\n",
              "                   pre_dispatch='2*n_jobs', random_state=None, refit=True,\n",
              "                   return_train_score=False, scoring=None, verbose=0)"
            ]
          },
          "metadata": {
            "tags": []
          },
          "execution_count": 183
        }
      ]
    },
    {
      "cell_type": "code",
      "metadata": {
        "id": "49XSmBlYA19n"
      },
      "source": [
        "#Building optimal model on the best estimators\n",
        "rf_model = rf_random.best_estimator_"
      ],
      "execution_count": 184,
      "outputs": []
    },
    {
      "cell_type": "code",
      "metadata": {
        "id": "ntwqDc8VA-zw"
      },
      "source": [
        "# make predictions for test data\n",
        "y_hat = rf_model.predict(X_test)"
      ],
      "execution_count": 185,
      "outputs": []
    },
    {
      "cell_type": "code",
      "metadata": {
        "id": "2L7k1EdaBBS0"
      },
      "source": [
        "smape_train.append(smape(y_train,rf_model.predict(X_train)))\n",
        "\n",
        "smape_test.append(smape(y_test,y_hat))\n",
        "\n",
        "topic.append('International Affairs')"
      ],
      "execution_count": 186,
      "outputs": []
    },
    {
      "cell_type": "markdown",
      "metadata": {
        "id": "1jQCjo4-BR2L"
      },
      "source": [
        "## **3. Science:**"
      ]
    },
    {
      "cell_type": "code",
      "metadata": {
        "id": "dh4-_GyUBGky"
      },
      "source": [
        "science= data_t[data_t['Topic_Cluster']=='Science']"
      ],
      "execution_count": 187,
      "outputs": []
    },
    {
      "cell_type": "markdown",
      "metadata": {
        "id": "IpsAyv0dBmaG"
      },
      "source": [
        "### **Feature Engineering**"
      ]
    },
    {
      "cell_type": "code",
      "metadata": {
        "colab": {
          "base_uri": "https://localhost:8080/"
        },
        "id": "K4Mfc508BhvI",
        "outputId": "e6ef2f4a-7a5c-459c-f7ea-0def02957353"
      },
      "source": [
        "science.info()"
      ],
      "execution_count": 188,
      "outputs": [
        {
          "output_type": "stream",
          "text": [
            "<class 'pandas.core.frame.DataFrame'>\n",
            "Int64Index: 630 entries, 24 to 4004\n",
            "Data columns (total 10 columns):\n",
            " #   Column          Non-Null Count  Dtype  \n",
            "---  ------          --------------  -----  \n",
            " 0   speaker_1       630 non-null    object \n",
            " 1   occupations     630 non-null    object \n",
            " 2   views           630 non-null    float64\n",
            " 3   comments        630 non-null    float64\n",
            " 4   duration        630 non-null    float64\n",
            " 5   event_category  630 non-null    object \n",
            " 6   count_lang      630 non-null    float64\n",
            " 7   Topic_Cluster   630 non-null    object \n",
            " 8   published_day   630 non-null    object \n",
            " 9   related_views   630 non-null    float64\n",
            "dtypes: float64(5), object(5)\n",
            "memory usage: 54.1+ KB\n"
          ],
          "name": "stdout"
        }
      ]
    },
    {
      "cell_type": "code",
      "metadata": {
        "id": "gDH9BdNVBsQA"
      },
      "source": [
        "science.drop(columns= 'Topic_Cluster',inplace= True)"
      ],
      "execution_count": 189,
      "outputs": []
    },
    {
      "cell_type": "markdown",
      "metadata": {
        "id": "8JFm3LsvDKOQ"
      },
      "source": [
        "Target Encoding:"
      ]
    },
    {
      "cell_type": "code",
      "metadata": {
        "id": "tvcEOyiKDPKt"
      },
      "source": [
        "for column in categorical_features:\n",
        "  science[column] = science[column].map(science.groupby(column)['views'].mean())"
      ],
      "execution_count": 190,
      "outputs": []
    },
    {
      "cell_type": "code",
      "metadata": {
        "colab": {
          "base_uri": "https://localhost:8080/"
        },
        "id": "E3BBOZIpDcLI",
        "outputId": "dfbd31b7-03fb-4954-f938-bd57adfd1688"
      },
      "source": [
        "science.info()"
      ],
      "execution_count": 191,
      "outputs": [
        {
          "output_type": "stream",
          "text": [
            "<class 'pandas.core.frame.DataFrame'>\n",
            "Int64Index: 630 entries, 24 to 4004\n",
            "Data columns (total 9 columns):\n",
            " #   Column          Non-Null Count  Dtype  \n",
            "---  ------          --------------  -----  \n",
            " 0   speaker_1       630 non-null    float64\n",
            " 1   occupations     630 non-null    float64\n",
            " 2   views           630 non-null    float64\n",
            " 3   comments        630 non-null    float64\n",
            " 4   duration        630 non-null    float64\n",
            " 5   event_category  630 non-null    float64\n",
            " 6   count_lang      630 non-null    float64\n",
            " 7   published_day   630 non-null    float64\n",
            " 8   related_views   630 non-null    float64\n",
            "dtypes: float64(9)\n",
            "memory usage: 49.2 KB\n"
          ],
          "name": "stdout"
        }
      ]
    },
    {
      "cell_type": "markdown",
      "metadata": {
        "id": "pDkIjXAAEEPi"
      },
      "source": [
        "Feature Selection:"
      ]
    },
    {
      "cell_type": "code",
      "metadata": {
        "id": "iouLftfdD-dz"
      },
      "source": [
        "X= science.drop(columns='views')\n",
        "\n",
        "Y= science['views']"
      ],
      "execution_count": 192,
      "outputs": []
    },
    {
      "cell_type": "code",
      "metadata": {
        "colab": {
          "base_uri": "https://localhost:8080/"
        },
        "id": "qEM-zPyJEI5B",
        "outputId": "54f237d0-261f-4b7b-be41-131006401943"
      },
      "source": [
        "f_scores = f_regression(X,Y)\n",
        "f_scores"
      ],
      "execution_count": 193,
      "outputs": [
        {
          "output_type": "execute_result",
          "data": {
            "text/plain": [
              "(array([4.41447779e+03, 4.03226532e+02, 9.74559398e+01, 9.33981863e-01,\n",
              "        4.67005866e+01, 1.16739706e+02, 1.39741859e+01, 1.95593618e+01]),\n",
              " array([2.88858825e-286, 1.17969667e-069, 1.82732457e-021, 3.34202389e-001,\n",
              "        1.96022580e-011, 4.48187724e-025, 2.02256950e-004, 1.14931387e-005]))"
            ]
          },
          "metadata": {
            "tags": []
          },
          "execution_count": 193
        }
      ]
    },
    {
      "cell_type": "code",
      "metadata": {
        "id": "V82ZzuBeEsVC"
      },
      "source": [
        "#The second array consists of p-values that we need\n",
        "\n",
        "p_series= pd.Series(f_scores[1],index= X.columns)"
      ],
      "execution_count": 194,
      "outputs": []
    },
    {
      "cell_type": "code",
      "metadata": {
        "colab": {
          "base_uri": "https://localhost:8080/",
          "height": 475
        },
        "id": "OmC30GEFEzDi",
        "outputId": "34ab618f-4cc6-472f-f828-af1072faf29e"
      },
      "source": [
        "p_series.plot(kind='bar',color='darkred')\n",
        "\n",
        "plt.title('P-values for numerical features')"
      ],
      "execution_count": 195,
      "outputs": [
        {
          "output_type": "execute_result",
          "data": {
            "text/plain": [
              "Text(0.5, 1.0, 'P-values for numerical features')"
            ]
          },
          "metadata": {
            "tags": []
          },
          "execution_count": 195
        },
        {
          "output_type": "display_data",
          "data": {
            "image/png": "[encoded data removed]",
            "text/plain": [
              "<Figure size 1080x432 with 1 Axes>"
            ]
          },
          "metadata": {
            "tags": [],
            "needs_background": "light"
          }
        }
      ]
    },
    {
      "cell_type": "markdown",
      "metadata": {
        "id": "pdKMB9sgGmhn"
      },
      "source": [
        "We can drop duration"
      ]
    },
    {
      "cell_type": "code",
      "metadata": {
        "id": "LAEbg7vv5lX4"
      },
      "source": [
        "X.drop(columns=['duration'],inplace= True)"
      ],
      "execution_count": 197,
      "outputs": []
    },
    {
      "cell_type": "code",
      "metadata": {
        "id": "-j5WaZuoGkvB"
      },
      "source": [
        "# split into train and test sets\n",
        "X_train, X_test, y_train, y_test = train_test_split(X, Y, test_size=0.25, random_state=42)"
      ],
      "execution_count": 198,
      "outputs": []
    },
    {
      "cell_type": "code",
      "metadata": {
        "id": "u3Lp2P5sG3BN"
      },
      "source": [
        "X_train = scaler.fit_transform(X_train)\n",
        "X_test = scaler.transform (X_test)"
      ],
      "execution_count": 199,
      "outputs": []
    },
    {
      "cell_type": "code",
      "metadata": {
        "colab": {
          "base_uri": "https://localhost:8080/"
        },
        "id": "sz8UxDsjG7uN",
        "outputId": "7e02ed19-078c-4470-e7a1-70d50c66353d"
      },
      "source": [
        "#Random Forest Regressor param_dict\n",
        "n_estimators = [50,80,100]\n",
        "max_depth = [4,6,8]\n",
        "min_samples_split = [50,80,100]\n",
        "min_samples_leaf = [30,40,50]\n",
        "# HYperparameter Dict\n",
        "param_dict = {'n_estimators' : n_estimators,\n",
        "              'max_depth' : max_depth,\n",
        "              'min_samples_split' : min_samples_split,\n",
        "              'min_samples_leaf' : min_samples_leaf}\n",
        "# Create an instance of the random forest regressor\n",
        "rf_model = RandomForestRegressor(criterion='mae')\n",
        "\n",
        "#RandomSearch\n",
        "rf_random = RandomizedSearchCV(rf_model,param_dict,verbose=0,cv=5)\n",
        "rf_random.fit(X_train,y_train)"
      ],
      "execution_count": 200,
      "outputs": [
        {
          "output_type": "execute_result",
          "data": {
            "text/plain": [
              "RandomizedSearchCV(cv=5, error_score=nan,\n",
              "                   estimator=RandomForestRegressor(bootstrap=True,\n",
              "                                                   ccp_alpha=0.0,\n",
              "                                                   criterion='mae',\n",
              "                                                   max_depth=None,\n",
              "                                                   max_features='auto',\n",
              "                                                   max_leaf_nodes=None,\n",
              "                                                   max_samples=None,\n",
              "                                                   min_impurity_decrease=0.0,\n",
              "                                                   min_impurity_split=None,\n",
              "                                                   min_samples_leaf=1,\n",
              "                                                   min_samples_split=2,\n",
              "                                                   min_weight_fraction_leaf=0.0,\n",
              "                                                   n_estimators=100,\n",
              "                                                   n_jobs=None, oob_score=False,\n",
              "                                                   random_state=None, verbose=0,\n",
              "                                                   warm_start=False),\n",
              "                   iid='deprecated', n_iter=10, n_jobs=None,\n",
              "                   param_distributions={'max_depth': [4, 6, 8],\n",
              "                                        'min_samples_leaf': [30, 40, 50],\n",
              "                                        'min_samples_split': [50, 80, 100],\n",
              "                                        'n_estimators': [50, 80, 100]},\n",
              "                   pre_dispatch='2*n_jobs', random_state=None, refit=True,\n",
              "                   return_train_score=False, scoring=None, verbose=0)"
            ]
          },
          "metadata": {
            "tags": []
          },
          "execution_count": 200
        }
      ]
    },
    {
      "cell_type": "code",
      "metadata": {
        "id": "A1bSm_ZvHA2-"
      },
      "source": [
        "#Building optimal model on the best estimators\n",
        "rf_model = rf_random.best_estimator_"
      ],
      "execution_count": 201,
      "outputs": []
    },
    {
      "cell_type": "code",
      "metadata": {
        "id": "6Wag-T9FHLyk"
      },
      "source": [
        "# make predictions for test data\n",
        "y_hat = rf_model.predict(X_test)"
      ],
      "execution_count": 202,
      "outputs": []
    },
    {
      "cell_type": "code",
      "metadata": {
        "id": "g5-FKOItHdRW"
      },
      "source": [
        "smape_train.append(smape(y_train,rf_model.predict(X_train)))\n",
        "\n",
        "smape_test.append(smape(y_test,y_hat))\n",
        "\n",
        "topic.append('Science')"
      ],
      "execution_count": 203,
      "outputs": []
    },
    {
      "cell_type": "code",
      "metadata": {
        "colab": {
          "base_uri": "https://localhost:8080/"
        },
        "id": "4OQUZ1d9IGUI",
        "outputId": "ab9efe0a-9067-4717-c402-4e80b265ad7b"
      },
      "source": [
        "topic"
      ],
      "execution_count": 204,
      "outputs": [
        {
          "output_type": "execute_result",
          "data": {
            "text/plain": [
              "['All', 'Technology', 'International Affairs', 'Science']"
            ]
          },
          "metadata": {
            "tags": []
          },
          "execution_count": 204
        }
      ]
    },
    {
      "cell_type": "markdown",
      "metadata": {
        "id": "zkTGhUNPHoXN"
      },
      "source": [
        "# **Comparing scores of the most popular spoken topics:**"
      ]
    },
    {
      "cell_type": "code",
      "metadata": {
        "id": "4XgCMSSwH0SO"
      },
      "source": [
        "scores= pd.DataFrame({'SMAPE_TRAIN':smape_train, 'SMAPE_TEST':smape_test, 'TOPIC':topic})"
      ],
      "execution_count": 205,
      "outputs": []
    },
    {
      "cell_type": "code",
      "metadata": {
        "colab": {
          "base_uri": "https://localhost:8080/",
          "height": 405
        },
        "id": "iLViy6EWHkDB",
        "outputId": "c3f92b93-6069-4a7c-a65e-970672dacc55"
      },
      "source": [
        "ax=plt.figure(figsize=(20,10))\n",
        "# creating subplots\n",
        "ax = plt.subplots()\n",
        "# plotting columns\n",
        "ax = sns.pointplot(x=scores[\"SMAPE_TRAIN\"], y=scores[\"TOPIC\"], color='b',alpha=0.2,labels=('SMAPE SCORE TRAIN'))\n",
        "ax = sns.pointplot(x=scores[\"SMAPE_TEST\"], y=scores[\"TOPIC\"], color='r',alpha=0.7,labels=('SMAPE SCORE TEST'))\n",
        "# renaming the axes\n",
        "ax.set(xlabel=\"SMAPE\", ylabel=\"Topic\")\n",
        "ax.legend(handles=ax.lines[::len(scores)+1], labels=[\"SMAPE_Test\",\"SMAPE_Train\"])\n",
        "\n",
        "\n",
        "# visulaizing illustration\n",
        "plt.show()"
      ],
      "execution_count": 206,
      "outputs": [
        {
          "output_type": "display_data",
          "data": {
            "text/plain": [
              "<Figure size 1440x720 with 0 Axes>"
            ]
          },
          "metadata": {
            "tags": []
          }
        },
        {
          "output_type": "display_data",
          "data": {
            "image/png": "[encoded data removed]",
            "text/plain": [
              "<Figure size 1080x432 with 1 Axes>"
            ]
          },
          "metadata": {
            "tags": [],
            "needs_background": "light"
          }
        }
      ]
    },
    {
      "cell_type": "markdown",
      "metadata": {
        "id": "kdwS84jEKcOU"
      },
      "source": [
        "International Affairs has the lowest SMAPE train and test. Our model has made the best predictions in this category."
      ]
    },
    {
      "cell_type": "code",
      "metadata": {
        "id": "D9bSkEoaKSHP"
      },
      "source": [
        ""
      ],
      "execution_count": null,
      "outputs": []
    }
  ]
}
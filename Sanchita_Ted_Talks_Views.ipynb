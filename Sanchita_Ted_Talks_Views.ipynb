{
  "nbformat": 4,
  "nbformat_minor": 0,
  "metadata": {
    "colab": {
      "name": "Sanchita_Ted_Talks_Views.ipynb",
      "provenance": [],
      "collapsed_sections": [
        "uH9sWpRESO3J",
        "jnh-XO0fO7f_"
      ],
      "authorship_tag": "ABX9TyN0QXMbWL51fTa2GqDIuAMJ",
      "include_colab_link": true
    },
    "kernelspec": {
      "name": "python3",
      "display_name": "Python 3"
    },
    "language_info": {
      "name": "python"
    }
  },
  "cells": [
    {
      "cell_type": "markdown",
      "metadata": {
        "id": "view-in-github",
        "colab_type": "text"
      },
      "source": [
        "<a href=\"https://colab.research.google.com/github/sspaulc/TED_TALKS_VIEWS_PREDICTION/blob/main/Sanchita_Ted_Talks_Views.ipynb\" target=\"_parent\"><img src=\"https://colab.research.google.com/assets/colab-badge.svg\" alt=\"Open In Colab\"/></a>"
      ]
    },
    {
      "cell_type": "markdown",
      "metadata": {
        "id": "1R2WykDM7PEm"
      },
      "source": [
        "Problem statement-- TED is devoted to spreading powerful ideas on just about any topic. These datasets contain over\n",
        "4,000 TED talks including transcripts in many languages.\n",
        "Founded in 1984 by Richard Salman as a nonprofit organization\n",
        "that aimed at bringing experts from the fields of Technology, Entertainment, and Design\n",
        "together, TED Conferences have gone on to become the Mecca of ideas from virtually all\n",
        "walks of life. As of 2015, TED and its sister TEDx chapters have published more than 2000\n",
        "talks for free consumption by the masses and its speaker list boasts of the likes of Al Gore,\n",
        "Jimmy Wales, Shahrukh Khan, and Bill Gates.\n",
        "The main objective is to build a predictive model, which could help in predicting the views of\n",
        "the videos uploaded on the TEDx website."
      ]
    },
    {
      "cell_type": "code",
      "metadata": {
        "id": "ZdHXQKJt6NWT"
      },
      "source": [
        "from google.colab import drive\n",
        "drive.mount('/content/gdrive')\n"
      ],
      "execution_count": null,
      "outputs": []
    },
    {
      "cell_type": "code",
      "metadata": {
        "id": "w7uUoYgn7-ON"
      },
      "source": [
        "import numpy as np\n",
        "\n",
        "import pandas as pd"
      ],
      "execution_count": 2,
      "outputs": []
    },
    {
      "cell_type": "code",
      "metadata": {
        "id": "a0MrzpJsD46X"
      },
      "source": [
        "#Read the data\n",
        "\n",
        "data= pd.read_csv(\"/content/gdrive/MyDrive/AlmaBetter/Almabetter/Capstone Projects/Ted Talk Views Prediction/data_ted_talks.csv\")\n"
      ],
      "execution_count": 4,
      "outputs": []
    },
    {
      "cell_type": "markdown",
      "metadata": {
        "id": "rZ7iYKXwEKzk"
      },
      "source": [
        "Before we can do any EDA let us take a look at what is happening in the data first."
      ]
    },
    {
      "cell_type": "code",
      "metadata": {
        "colab": {
          "base_uri": "https://localhost:8080/",
          "height": 369
        },
        "id": "Y8oBOIATD3jU",
        "outputId": "9e7bb0ba-4fef-4349-907f-a4a74d2c0ae9"
      },
      "source": [
        "data.head(3)"
      ],
      "execution_count": 5,
      "outputs": [
        {
          "output_type": "execute_result",
          "data": {
            "text/html": [
              "<div>\n",
              "<style scoped>\n",
              "    .dataframe tbody tr th:only-of-type {\n",
              "        vertical-align: middle;\n",
              "    }\n",
              "\n",
              "    .dataframe tbody tr th {\n",
              "        vertical-align: top;\n",
              "    }\n",
              "\n",
              "    .dataframe thead th {\n",
              "        text-align: right;\n",
              "    }\n",
              "</style>\n",
              "<table border=\"1\" class=\"dataframe\">\n",
              "  <thead>\n",
              "    <tr style=\"text-align: right;\">\n",
              "      <th></th>\n",
              "      <th>talk_id</th>\n",
              "      <th>title</th>\n",
              "      <th>speaker_1</th>\n",
              "      <th>all_speakers</th>\n",
              "      <th>occupations</th>\n",
              "      <th>about_speakers</th>\n",
              "      <th>views</th>\n",
              "      <th>recorded_date</th>\n",
              "      <th>published_date</th>\n",
              "      <th>event</th>\n",
              "      <th>native_lang</th>\n",
              "      <th>available_lang</th>\n",
              "      <th>comments</th>\n",
              "      <th>duration</th>\n",
              "      <th>topics</th>\n",
              "      <th>related_talks</th>\n",
              "      <th>url</th>\n",
              "      <th>description</th>\n",
              "      <th>transcript</th>\n",
              "    </tr>\n",
              "  </thead>\n",
              "  <tbody>\n",
              "    <tr>\n",
              "      <th>0</th>\n",
              "      <td>1</td>\n",
              "      <td>Averting the climate crisis</td>\n",
              "      <td>Al Gore</td>\n",
              "      <td>{0: 'Al Gore'}</td>\n",
              "      <td>{0: ['climate advocate']}</td>\n",
              "      <td>{0: 'Nobel Laureate Al Gore focused the world’...</td>\n",
              "      <td>3523392</td>\n",
              "      <td>2006-02-25</td>\n",
              "      <td>2006-06-27</td>\n",
              "      <td>TED2006</td>\n",
              "      <td>en</td>\n",
              "      <td>['ar', 'bg', 'cs', 'de', 'el', 'en', 'es', 'fa...</td>\n",
              "      <td>272.0</td>\n",
              "      <td>977</td>\n",
              "      <td>['alternative energy', 'cars', 'climate change...</td>\n",
              "      <td>{243: 'New thinking on the climate crisis', 54...</td>\n",
              "      <td>https://www.ted.com/talks/al_gore_averting_the...</td>\n",
              "      <td>With the same humor and humanity he exuded in ...</td>\n",
              "      <td>Thank you so much, Chris. And it's truly a gre...</td>\n",
              "    </tr>\n",
              "    <tr>\n",
              "      <th>1</th>\n",
              "      <td>92</td>\n",
              "      <td>The best stats you've ever seen</td>\n",
              "      <td>Hans Rosling</td>\n",
              "      <td>{0: 'Hans Rosling'}</td>\n",
              "      <td>{0: ['global health expert; data visionary']}</td>\n",
              "      <td>{0: 'In Hans Rosling’s hands, data sings. Glob...</td>\n",
              "      <td>14501685</td>\n",
              "      <td>2006-02-22</td>\n",
              "      <td>2006-06-27</td>\n",
              "      <td>TED2006</td>\n",
              "      <td>en</td>\n",
              "      <td>['ar', 'az', 'bg', 'bn', 'bs', 'cs', 'da', 'de...</td>\n",
              "      <td>628.0</td>\n",
              "      <td>1190</td>\n",
              "      <td>['Africa', 'Asia', 'Google', 'demo', 'economic...</td>\n",
              "      <td>{2056: \"Own your body's data\", 2296: 'A visual...</td>\n",
              "      <td>https://www.ted.com/talks/hans_rosling_the_bes...</td>\n",
              "      <td>You've never seen data presented like this. Wi...</td>\n",
              "      <td>About 10 years ago, I took on the task to teac...</td>\n",
              "    </tr>\n",
              "    <tr>\n",
              "      <th>2</th>\n",
              "      <td>7</td>\n",
              "      <td>Simplicity sells</td>\n",
              "      <td>David Pogue</td>\n",
              "      <td>{0: 'David Pogue'}</td>\n",
              "      <td>{0: ['technology columnist']}</td>\n",
              "      <td>{0: 'David Pogue is the personal technology co...</td>\n",
              "      <td>1920832</td>\n",
              "      <td>2006-02-24</td>\n",
              "      <td>2006-06-27</td>\n",
              "      <td>TED2006</td>\n",
              "      <td>en</td>\n",
              "      <td>['ar', 'bg', 'de', 'el', 'en', 'es', 'fa', 'fr...</td>\n",
              "      <td>124.0</td>\n",
              "      <td>1286</td>\n",
              "      <td>['computers', 'entertainment', 'interface desi...</td>\n",
              "      <td>{1725: '10 top time-saving tech tips', 2274: '...</td>\n",
              "      <td>https://www.ted.com/talks/david_pogue_simplici...</td>\n",
              "      <td>New York Times columnist David Pogue takes aim...</td>\n",
              "      <td>(Music: \"The Sound of Silence,\" Simon &amp; Garfun...</td>\n",
              "    </tr>\n",
              "  </tbody>\n",
              "</table>\n",
              "</div>"
            ],
            "text/plain": [
              "   talk_id  ...                                         transcript\n",
              "0        1  ...  Thank you so much, Chris. And it's truly a gre...\n",
              "1       92  ...  About 10 years ago, I took on the task to teac...\n",
              "2        7  ...  (Music: \"The Sound of Silence,\" Simon & Garfun...\n",
              "\n",
              "[3 rows x 19 columns]"
            ]
          },
          "metadata": {
            "tags": []
          },
          "execution_count": 5
        }
      ]
    },
    {
      "cell_type": "code",
      "metadata": {
        "id": "USDf2C_wIPCj"
      },
      "source": [
        "import seaborn as sns"
      ],
      "execution_count": 6,
      "outputs": []
    },
    {
      "cell_type": "markdown",
      "metadata": {
        "id": "ylvx3nh0OD65"
      },
      "source": [
        "Looking for nan values:"
      ]
    },
    {
      "cell_type": "code",
      "metadata": {
        "id": "AL_XaolNNxTI"
      },
      "source": [
        "import missingno as msno"
      ],
      "execution_count": 7,
      "outputs": []
    },
    {
      "cell_type": "code",
      "metadata": {
        "colab": {
          "base_uri": "https://localhost:8080/",
          "height": 563
        },
        "id": "1TLxTnhmN16Y",
        "outputId": "162875bd-bb7a-4161-9aa7-e6024b535f05"
      },
      "source": [
        "msno.matrix(data)"
      ],
      "execution_count": 8,
      "outputs": [
        {
          "output_type": "execute_result",
          "data": {
            "text/plain": [
              "<matplotlib.axes._subplots.AxesSubplot at 0x7fbbc1e51210>"
            ]
          },
          "metadata": {
            "tags": []
          },
          "execution_count": 8
        },
        {
          "output_type": "display_data",
          "data": {
            "image/png": "[encoded data removed]",
            "text/plain": [
              "<Figure size 1800x720 with 2 Axes>"
            ]
          },
          "metadata": {
            "tags": [],
            "needs_background": "light"
          }
        }
      ]
    },
    {
      "cell_type": "markdown",
      "metadata": {
        "id": "Pk43H4bC_0Ys"
      },
      "source": [
        "# Let us take a look at the distribution of dependent variable:"
      ]
    },
    {
      "cell_type": "code",
      "metadata": {
        "colab": {
          "base_uri": "https://localhost:8080/",
          "height": 362
        },
        "id": "R7GcQX3z_5rw",
        "outputId": "9bebb4c4-0933-4c2e-c6e4-8eca1b359e42"
      },
      "source": [
        "sns.distplot(data['views'])"
      ],
      "execution_count": 9,
      "outputs": [
        {
          "output_type": "stream",
          "text": [
            "/usr/local/lib/python3.7/dist-packages/seaborn/distributions.py:2557: FutureWarning: `distplot` is a deprecated function and will be removed in a future version. Please adapt your code to use either `displot` (a figure-level function with similar flexibility) or `histplot` (an axes-level function for histograms).\n",
            "  warnings.warn(msg, FutureWarning)\n"
          ],
          "name": "stderr"
        },
        {
          "output_type": "execute_result",
          "data": {
            "text/plain": [
              "<matplotlib.axes._subplots.AxesSubplot at 0x7fbbb9583cd0>"
            ]
          },
          "metadata": {
            "tags": []
          },
          "execution_count": 9
        },
        {
          "output_type": "display_data",
          "data": {
            "image/png": "[encoded data removed]",
            "text/plain": [
              "<Figure size 432x288 with 1 Axes>"
            ]
          },
          "metadata": {
            "tags": [],
            "needs_background": "light"
          }
        }
      ]
    },
    {
      "cell_type": "code",
      "metadata": {
        "colab": {
          "base_uri": "https://localhost:8080/"
        },
        "id": "dHBvVg5qDSfv",
        "outputId": "0f2791b4-8789-42ab-fcba-5c054d9bed19"
      },
      "source": [
        "data['views'].max()"
      ],
      "execution_count": 10,
      "outputs": [
        {
          "output_type": "execute_result",
          "data": {
            "text/plain": [
              "65051954"
            ]
          },
          "metadata": {
            "tags": []
          },
          "execution_count": 10
        }
      ]
    },
    {
      "cell_type": "markdown",
      "metadata": {
        "id": "xljKpk8zCpNl"
      },
      "source": [
        "There are also positvie and negative infinity values on views. Converting them to maximum and nan respectively."
      ]
    },
    {
      "cell_type": "code",
      "metadata": {
        "id": "pRL1gM-7Cw5h"
      },
      "source": [
        "def float_to_int(x):\n",
        "    if x == float('-inf'):\n",
        "        return -1\n",
        "    elif x== float('inf'):\n",
        "      return x.max()\n",
        "    return int(x)"
      ],
      "execution_count": 11,
      "outputs": []
    },
    {
      "cell_type": "code",
      "metadata": {
        "id": "f5cfD8i0CyvC"
      },
      "source": [
        "data['views']=data['views'].apply(float_to_int)"
      ],
      "execution_count": 12,
      "outputs": []
    },
    {
      "cell_type": "markdown",
      "metadata": {
        "id": "2-KqNQ_6HgQr"
      },
      "source": [
        "## We can remove the id because it isn't adding any value to the regression performance."
      ]
    },
    {
      "cell_type": "code",
      "metadata": {
        "id": "lIDpcJMyHfH5"
      },
      "source": [
        "data.drop(columns='talk_id',inplace= True)"
      ],
      "execution_count": 13,
      "outputs": []
    },
    {
      "cell_type": "code",
      "metadata": {
        "colab": {
          "base_uri": "https://localhost:8080/"
        },
        "id": "y_Z3Kxm2FQtG",
        "outputId": "1213643e-63df-4136-c465-e54063507f83"
      },
      "source": [
        "data.info()"
      ],
      "execution_count": 14,
      "outputs": [
        {
          "output_type": "stream",
          "text": [
            "<class 'pandas.core.frame.DataFrame'>\n",
            "RangeIndex: 4005 entries, 0 to 4004\n",
            "Data columns (total 18 columns):\n",
            " #   Column          Non-Null Count  Dtype  \n",
            "---  ------          --------------  -----  \n",
            " 0   title           4005 non-null   object \n",
            " 1   speaker_1       4005 non-null   object \n",
            " 2   all_speakers    4001 non-null   object \n",
            " 3   occupations     3483 non-null   object \n",
            " 4   about_speakers  3502 non-null   object \n",
            " 5   views           4005 non-null   int64  \n",
            " 6   recorded_date   4004 non-null   object \n",
            " 7   published_date  4005 non-null   object \n",
            " 8   event           4005 non-null   object \n",
            " 9   native_lang     4005 non-null   object \n",
            " 10  available_lang  4005 non-null   object \n",
            " 11  comments        3350 non-null   float64\n",
            " 12  duration        4005 non-null   int64  \n",
            " 13  topics          4005 non-null   object \n",
            " 14  related_talks   4005 non-null   object \n",
            " 15  url             4005 non-null   object \n",
            " 16  description     4005 non-null   object \n",
            " 17  transcript      4005 non-null   object \n",
            "dtypes: float64(1), int64(2), object(15)\n",
            "memory usage: 563.3+ KB\n"
          ],
          "name": "stdout"
        }
      ]
    },
    {
      "cell_type": "markdown",
      "metadata": {
        "id": "b6TUJZknGQAs"
      },
      "source": [
        "# Imputing the Nan values :\n",
        "\n",
        "##Numerical-- KNN nan value imputer"
      ]
    },
    {
      "cell_type": "markdown",
      "metadata": {
        "id": "V7kEL1ZBHGyv"
      },
      "source": [
        "Datasets may have missing values, and this can cause problems for many machine learning algorithms.\n",
        "\n",
        "As such, it is good practice to identify and replace missing values for each column in your input data prior to modeling your prediction task. This is called missing data imputation, or imputing for short.\n",
        "\n",
        "A popular approach to missing data imputation is to use a model to predict the missing values. This requires a model to be created for each input variable that has missing values. Although any one among a range of different models can be used to predict the missing values, the k-nearest neighbor (KNN) algorithm has proven to be generally effective, often referred to as “nearest neighbor imputation.”"
      ]
    },
    {
      "cell_type": "code",
      "metadata": {
        "id": "3I4oq13YGx2-"
      },
      "source": [
        "numerical_features= ['duration','comments']"
      ],
      "execution_count": 15,
      "outputs": []
    },
    {
      "cell_type": "code",
      "metadata": {
        "id": "myzoH2N5KP7F"
      },
      "source": [
        "#Import libraries\n",
        "from sklearn.impute import KNNImputer\n",
        "\n",
        "# define imputer\n",
        "imputer = KNNImputer()\n",
        "\n",
        "#fitting the model\n",
        "imputer.fit(data[numerical_features])\n",
        "\n",
        "# transform the dataset\n",
        "data[numerical_features] = imputer.transform(data[numerical_features])"
      ],
      "execution_count": 16,
      "outputs": []
    },
    {
      "cell_type": "code",
      "metadata": {
        "colab": {
          "base_uri": "https://localhost:8080/"
        },
        "id": "TfIgjXaILbdf",
        "outputId": "c15dc126-1692-481e-e925-74bb1e16b225"
      },
      "source": [
        "data.info()"
      ],
      "execution_count": 17,
      "outputs": [
        {
          "output_type": "stream",
          "text": [
            "<class 'pandas.core.frame.DataFrame'>\n",
            "RangeIndex: 4005 entries, 0 to 4004\n",
            "Data columns (total 18 columns):\n",
            " #   Column          Non-Null Count  Dtype  \n",
            "---  ------          --------------  -----  \n",
            " 0   title           4005 non-null   object \n",
            " 1   speaker_1       4005 non-null   object \n",
            " 2   all_speakers    4001 non-null   object \n",
            " 3   occupations     3483 non-null   object \n",
            " 4   about_speakers  3502 non-null   object \n",
            " 5   views           4005 non-null   int64  \n",
            " 6   recorded_date   4004 non-null   object \n",
            " 7   published_date  4005 non-null   object \n",
            " 8   event           4005 non-null   object \n",
            " 9   native_lang     4005 non-null   object \n",
            " 10  available_lang  4005 non-null   object \n",
            " 11  comments        4005 non-null   float64\n",
            " 12  duration        4005 non-null   float64\n",
            " 13  topics          4005 non-null   object \n",
            " 14  related_talks   4005 non-null   object \n",
            " 15  url             4005 non-null   object \n",
            " 16  description     4005 non-null   object \n",
            " 17  transcript      4005 non-null   object \n",
            "dtypes: float64(2), int64(1), object(15)\n",
            "memory usage: 563.3+ KB\n"
          ],
          "name": "stdout"
        }
      ]
    },
    {
      "cell_type": "markdown",
      "metadata": {
        "id": "khK4Fz1yLrkF"
      },
      "source": [
        "All the nan values for numerical features is removed."
      ]
    },
    {
      "cell_type": "markdown",
      "metadata": {
        "id": "TqP8N1AhLxNG"
      },
      "source": [
        "## Categorical features-- nan values are labelled as 'Unkwown'\n",
        "\n",
        "\n",
        "\n"
      ]
    },
    {
      "cell_type": "code",
      "metadata": {
        "id": "fRZRrOfhMNVF"
      },
      "source": [
        "#categorical features \n",
        "\n",
        "categorical_features= ['title','speaker_1','all_speakers','event','native_lang','available_lang','topics','related_talks','url','description','transcript','occupations','about_speakers']"
      ],
      "execution_count": 18,
      "outputs": []
    },
    {
      "cell_type": "code",
      "metadata": {
        "id": "8m5b4-FsNled"
      },
      "source": [
        "data[categorical_features]=data[categorical_features].fillna('Unknown')"
      ],
      "execution_count": 19,
      "outputs": []
    },
    {
      "cell_type": "markdown",
      "metadata": {
        "id": "Jmr74EB5N92u"
      },
      "source": [
        "The Recorded date is having null date but in string format. I would like to replace it with first value."
      ]
    },
    {
      "cell_type": "code",
      "metadata": {
        "colab": {
          "base_uri": "https://localhost:8080/",
          "height": 35
        },
        "id": "IdFtEBvfN84c",
        "outputId": "54c41c54-165e-449d-ea0a-569857af6071"
      },
      "source": [
        "#First value\n",
        "\n",
        "data['recorded_date'][0]"
      ],
      "execution_count": 20,
      "outputs": [
        {
          "output_type": "execute_result",
          "data": {
            "application/vnd.google.colaboratory.intrinsic+json": {
              "type": "string"
            },
            "text/plain": [
              "'2006-02-25'"
            ]
          },
          "metadata": {
            "tags": []
          },
          "execution_count": 20
        }
      ]
    },
    {
      "cell_type": "code",
      "metadata": {
        "id": "9w6lExNIN3lL"
      },
      "source": [
        "data['recorded_date']=data['recorded_date'].fillna('2006-02-25')"
      ],
      "execution_count": 21,
      "outputs": []
    },
    {
      "cell_type": "code",
      "metadata": {
        "colab": {
          "base_uri": "https://localhost:8080/"
        },
        "id": "rM73jeRbOjzq",
        "outputId": "08da08e3-a6c2-431f-da14-4850adcc3009"
      },
      "source": [
        "data.info()"
      ],
      "execution_count": 22,
      "outputs": [
        {
          "output_type": "stream",
          "text": [
            "<class 'pandas.core.frame.DataFrame'>\n",
            "RangeIndex: 4005 entries, 0 to 4004\n",
            "Data columns (total 18 columns):\n",
            " #   Column          Non-Null Count  Dtype  \n",
            "---  ------          --------------  -----  \n",
            " 0   title           4005 non-null   object \n",
            " 1   speaker_1       4005 non-null   object \n",
            " 2   all_speakers    4005 non-null   object \n",
            " 3   occupations     4005 non-null   object \n",
            " 4   about_speakers  4005 non-null   object \n",
            " 5   views           4005 non-null   int64  \n",
            " 6   recorded_date   4005 non-null   object \n",
            " 7   published_date  4005 non-null   object \n",
            " 8   event           4005 non-null   object \n",
            " 9   native_lang     4005 non-null   object \n",
            " 10  available_lang  4005 non-null   object \n",
            " 11  comments        4005 non-null   float64\n",
            " 12  duration        4005 non-null   float64\n",
            " 13  topics          4005 non-null   object \n",
            " 14  related_talks   4005 non-null   object \n",
            " 15  url             4005 non-null   object \n",
            " 16  description     4005 non-null   object \n",
            " 17  transcript      4005 non-null   object \n",
            "dtypes: float64(2), int64(1), object(15)\n",
            "memory usage: 563.3+ KB\n"
          ],
          "name": "stdout"
        }
      ]
    },
    {
      "cell_type": "markdown",
      "metadata": {
        "id": "uMrvnHY4OzLQ"
      },
      "source": [
        "## I have taken care of all null values."
      ]
    },
    {
      "cell_type": "markdown",
      "metadata": {
        "id": "SgBHX5cZK9lj"
      },
      "source": [
        "#Extensive analysis on each of the features."
      ]
    },
    {
      "cell_type": "markdown",
      "metadata": {
        "id": "ILi4m0qqFPfx"
      },
      "source": [
        "## I wanna take a look at what are the year,months and days that most of these ted talks have taken place."
      ]
    },
    {
      "cell_type": "markdown",
      "metadata": {
        "id": "f2W_Zr-_HKfO"
      },
      "source": [
        "### First for the published dates: get the time stamps."
      ]
    },
    {
      "cell_type": "code",
      "metadata": {
        "id": "1cArJ5K5Ia0n"
      },
      "source": [
        "import time"
      ],
      "execution_count": 23,
      "outputs": []
    },
    {
      "cell_type": "code",
      "metadata": {
        "id": "zzVLV7aZHcX9"
      },
      "source": [
        "import datetime"
      ],
      "execution_count": 24,
      "outputs": []
    },
    {
      "cell_type": "code",
      "metadata": {
        "id": "Jdx_8HyYERvU"
      },
      "source": [
        "data['published_date'] = data['published_date'].apply(lambda x: datetime.datetime.strptime(x,\"%Y-%m-%d\"))"
      ],
      "execution_count": 25,
      "outputs": []
    },
    {
      "cell_type": "code",
      "metadata": {
        "id": "WfUSevfbJNSj"
      },
      "source": [
        "data['published_day'] = data['published_date'].apply(lambda x: x.weekday())\n",
        "data['published_month'] = data['published_date'].apply(lambda x: x.month)\n",
        "data['published_year'] = data['published_date'].apply(lambda x: x.year)"
      ],
      "execution_count": 26,
      "outputs": []
    },
    {
      "cell_type": "markdown",
      "metadata": {
        "id": "NtzxJRVcOflv"
      },
      "source": [
        "## For the recorded date now:"
      ]
    },
    {
      "cell_type": "code",
      "metadata": {
        "id": "XG6F0XIUM0FM"
      },
      "source": [
        "data['recorded_date'] = data['recorded_date'].apply(lambda x: datetime.datetime.strptime(x,\"%Y-%m-%d\"))"
      ],
      "execution_count": 27,
      "outputs": []
    },
    {
      "cell_type": "code",
      "metadata": {
        "id": "ZJkADxz0PCzP"
      },
      "source": [
        "data['recorded_day'] = data['recorded_date'].apply(lambda x: x.weekday())\n",
        "data['recorded_month'] = data['recorded_date'].apply(lambda x: x.month)\n",
        "data['recorded_year'] = data['recorded_date'].apply(lambda x: x.year)"
      ],
      "execution_count": 28,
      "outputs": []
    },
    {
      "cell_type": "markdown",
      "metadata": {
        "id": "r9TTiHUTPqEm"
      },
      "source": [
        "## I also want to keep the number of days it takes between recording and publishing."
      ]
    },
    {
      "cell_type": "code",
      "metadata": {
        "id": "bSZ96w0QRmfu"
      },
      "source": [
        "data['diff_record_publish']= data['published_date']- data['recorded_date']"
      ],
      "execution_count": 29,
      "outputs": []
    },
    {
      "cell_type": "code",
      "metadata": {
        "id": "_da8SqBvwts0"
      },
      "source": [
        "data['diff_record_publish'] = pd.to_numeric(data['diff_record_publish'].dt.days, downcast='integer')"
      ],
      "execution_count": 30,
      "outputs": []
    },
    {
      "cell_type": "markdown",
      "metadata": {
        "id": "gd6z7abkRKCS"
      },
      "source": [
        "## Age of the video:"
      ]
    },
    {
      "cell_type": "code",
      "metadata": {
        "id": "wWencDOrRl-B"
      },
      "source": [
        "current_date= datetime.datetime(2021,5,18)"
      ],
      "execution_count": 31,
      "outputs": []
    },
    {
      "cell_type": "code",
      "metadata": {
        "id": "Z-w5nh79RMpz"
      },
      "source": [
        "data['age_of_video']= current_date.year- data['published_year']"
      ],
      "execution_count": 32,
      "outputs": []
    },
    {
      "cell_type": "code",
      "metadata": {
        "colab": {
          "base_uri": "https://localhost:8080/",
          "height": 285
        },
        "id": "gIqUmI8MSEeX",
        "outputId": "a02179ef-b005-479a-d0d9-3e07368dc6ed"
      },
      "source": [
        "#Plotting the age of most videos\n",
        "\n",
        "data['age_of_video'].value_counts().sort_values(ascending=False).plot(kind='bar', color= 'orange')"
      ],
      "execution_count": 33,
      "outputs": [
        {
          "output_type": "execute_result",
          "data": {
            "text/plain": [
              "<matplotlib.axes._subplots.AxesSubplot at 0x7fbbb1cf2190>"
            ]
          },
          "metadata": {
            "tags": []
          },
          "execution_count": 33
        },
        {
          "output_type": "display_data",
          "data": {
            "image/png": "[encoded data removed]",
            "text/plain": [
              "<Figure size 432x288 with 1 Axes>"
            ]
          },
          "metadata": {
            "tags": [],
            "needs_background": "light"
          }
        }
      ]
    },
    {
      "cell_type": "markdown",
      "metadata": {
        "id": "O3mC-uCzSbCt"
      },
      "source": [
        "Determining the relationship of age of video with the views:"
      ]
    },
    {
      "cell_type": "code",
      "metadata": {
        "colab": {
          "base_uri": "https://localhost:8080/"
        },
        "id": "dFsnlIi-JBUl",
        "outputId": "5ddd72d0-7f38-4ab5-fcf1-ec4c83f72c3b"
      },
      "source": [
        "data.info()"
      ],
      "execution_count": 34,
      "outputs": [
        {
          "output_type": "stream",
          "text": [
            "<class 'pandas.core.frame.DataFrame'>\n",
            "RangeIndex: 4005 entries, 0 to 4004\n",
            "Data columns (total 26 columns):\n",
            " #   Column               Non-Null Count  Dtype         \n",
            "---  ------               --------------  -----         \n",
            " 0   title                4005 non-null   object        \n",
            " 1   speaker_1            4005 non-null   object        \n",
            " 2   all_speakers         4005 non-null   object        \n",
            " 3   occupations          4005 non-null   object        \n",
            " 4   about_speakers       4005 non-null   object        \n",
            " 5   views                4005 non-null   int64         \n",
            " 6   recorded_date        4005 non-null   datetime64[ns]\n",
            " 7   published_date       4005 non-null   datetime64[ns]\n",
            " 8   event                4005 non-null   object        \n",
            " 9   native_lang          4005 non-null   object        \n",
            " 10  available_lang       4005 non-null   object        \n",
            " 11  comments             4005 non-null   float64       \n",
            " 12  duration             4005 non-null   float64       \n",
            " 13  topics               4005 non-null   object        \n",
            " 14  related_talks        4005 non-null   object        \n",
            " 15  url                  4005 non-null   object        \n",
            " 16  description          4005 non-null   object        \n",
            " 17  transcript           4005 non-null   object        \n",
            " 18  published_day        4005 non-null   int64         \n",
            " 19  published_month      4005 non-null   int64         \n",
            " 20  published_year       4005 non-null   int64         \n",
            " 21  recorded_day         4005 non-null   int64         \n",
            " 22  recorded_month       4005 non-null   int64         \n",
            " 23  recorded_year        4005 non-null   int64         \n",
            " 24  diff_record_publish  4005 non-null   int16         \n",
            " 25  age_of_video         4005 non-null   int64         \n",
            "dtypes: datetime64[ns](2), float64(2), int16(1), int64(8), object(13)\n",
            "memory usage: 790.2+ KB\n"
          ],
          "name": "stdout"
        }
      ]
    },
    {
      "cell_type": "code",
      "metadata": {
        "id": "R5JurmCGw8Xk"
      },
      "source": [
        "import matplotlib.pyplot as plt\n"
      ],
      "execution_count": 35,
      "outputs": []
    },
    {
      "cell_type": "code",
      "metadata": {
        "colab": {
          "base_uri": "https://localhost:8080/",
          "height": 307
        },
        "id": "Fhb8SW7QQCpz",
        "outputId": "11ac47e2-600b-4fb1-f6d5-0d7d193f7bc0"
      },
      "source": [
        "#plotting these to get a better idea\n",
        "\n",
        "data['diff_record_publish'].value_counts().sort_values(ascending=False).head(10).plot(kind='bar',color='purple')\n",
        "\n",
        "plt.title('Number of days between recording and publishing')"
      ],
      "execution_count": 36,
      "outputs": [
        {
          "output_type": "execute_result",
          "data": {
            "text/plain": [
              "Text(0.5, 1.0, 'Number of days between recording and publishing')"
            ]
          },
          "metadata": {
            "tags": []
          },
          "execution_count": 36
        },
        {
          "output_type": "display_data",
          "data": {
            "image/png": "[encoded data removed]",
            "text/plain": [
              "<Figure size 432x288 with 1 Axes>"
            ]
          },
          "metadata": {
            "tags": [],
            "needs_background": "light"
          }
        }
      ]
    },
    {
      "cell_type": "markdown",
      "metadata": {
        "id": "jFOjtA4tJNYN"
      },
      "source": [
        "# Find the dependence of views on the difference in recorded and published days:"
      ]
    },
    {
      "cell_type": "code",
      "metadata": {
        "id": "nkNK8KTwviKF"
      },
      "source": [
        "import seaborn as sns"
      ],
      "execution_count": 37,
      "outputs": []
    },
    {
      "cell_type": "code",
      "metadata": {
        "id": "AbwsmSNixg4M"
      },
      "source": [
        "# I want to view it difference in days and views in a scaled manner\n",
        "\n",
        "from sklearn.preprocessing import MinMaxScaler\n"
      ],
      "execution_count": 38,
      "outputs": []
    },
    {
      "cell_type": "code",
      "metadata": {
        "id": "lgDQ-CrpyOwq"
      },
      "source": [
        "data['diff_record_publish'] = MinMaxScaler().fit_transform(np.array(data['diff_record_publish']).reshape(-1,1))"
      ],
      "execution_count": 39,
      "outputs": []
    },
    {
      "cell_type": "code",
      "metadata": {
        "id": "eLvFVCZRy3GV"
      },
      "source": [
        "data['views'] = MinMaxScaler().fit_transform(np.array(data['views']).reshape(-1,1))"
      ],
      "execution_count": 40,
      "outputs": []
    },
    {
      "cell_type": "code",
      "metadata": {
        "colab": {
          "base_uri": "https://localhost:8080/",
          "height": 297
        },
        "id": "3uyE7WEMuNWV",
        "outputId": "2bb7e07f-4d78-4d1a-97d3-d01e5511101e"
      },
      "source": [
        "sns.scatterplot(x= data['diff_record_publish'], y=data['views'])"
      ],
      "execution_count": 41,
      "outputs": [
        {
          "output_type": "execute_result",
          "data": {
            "text/plain": [
              "<matplotlib.axes._subplots.AxesSubplot at 0x7fbbb1bd6b90>"
            ]
          },
          "metadata": {
            "tags": []
          },
          "execution_count": 41
        },
        {
          "output_type": "display_data",
          "data": {
            "image/png": "[encoded data removed]",
            "text/plain": [
              "<Figure size 432x288 with 1 Axes>"
            ]
          },
          "metadata": {
            "tags": [],
            "needs_background": "light"
          }
        }
      ]
    },
    {
      "cell_type": "code",
      "metadata": {
        "colab": {
          "base_uri": "https://localhost:8080/",
          "height": 369
        },
        "id": "NxnCH_DUy-i4",
        "outputId": "bdd4228f-7f4c-49f8-dd6f-a2ab2874016e"
      },
      "source": [
        "data.head(3)"
      ],
      "execution_count": 42,
      "outputs": [
        {
          "output_type": "execute_result",
          "data": {
            "text/html": [
              "<div>\n",
              "<style scoped>\n",
              "    .dataframe tbody tr th:only-of-type {\n",
              "        vertical-align: middle;\n",
              "    }\n",
              "\n",
              "    .dataframe tbody tr th {\n",
              "        vertical-align: top;\n",
              "    }\n",
              "\n",
              "    .dataframe thead th {\n",
              "        text-align: right;\n",
              "    }\n",
              "</style>\n",
              "<table border=\"1\" class=\"dataframe\">\n",
              "  <thead>\n",
              "    <tr style=\"text-align: right;\">\n",
              "      <th></th>\n",
              "      <th>title</th>\n",
              "      <th>speaker_1</th>\n",
              "      <th>all_speakers</th>\n",
              "      <th>occupations</th>\n",
              "      <th>about_speakers</th>\n",
              "      <th>views</th>\n",
              "      <th>recorded_date</th>\n",
              "      <th>published_date</th>\n",
              "      <th>event</th>\n",
              "      <th>native_lang</th>\n",
              "      <th>available_lang</th>\n",
              "      <th>comments</th>\n",
              "      <th>duration</th>\n",
              "      <th>topics</th>\n",
              "      <th>related_talks</th>\n",
              "      <th>url</th>\n",
              "      <th>description</th>\n",
              "      <th>transcript</th>\n",
              "      <th>published_day</th>\n",
              "      <th>published_month</th>\n",
              "      <th>published_year</th>\n",
              "      <th>recorded_day</th>\n",
              "      <th>recorded_month</th>\n",
              "      <th>recorded_year</th>\n",
              "      <th>diff_record_publish</th>\n",
              "      <th>age_of_video</th>\n",
              "    </tr>\n",
              "  </thead>\n",
              "  <tbody>\n",
              "    <tr>\n",
              "      <th>0</th>\n",
              "      <td>Averting the climate crisis</td>\n",
              "      <td>Al Gore</td>\n",
              "      <td>{0: 'Al Gore'}</td>\n",
              "      <td>{0: ['climate advocate']}</td>\n",
              "      <td>{0: 'Nobel Laureate Al Gore focused the world’...</td>\n",
              "      <td>0.054163</td>\n",
              "      <td>2006-02-25</td>\n",
              "      <td>2006-06-27</td>\n",
              "      <td>TED2006</td>\n",
              "      <td>en</td>\n",
              "      <td>['ar', 'bg', 'cs', 'de', 'el', 'en', 'es', 'fa...</td>\n",
              "      <td>272.0</td>\n",
              "      <td>977.0</td>\n",
              "      <td>['alternative energy', 'cars', 'climate change...</td>\n",
              "      <td>{243: 'New thinking on the climate crisis', 54...</td>\n",
              "      <td>https://www.ted.com/talks/al_gore_averting_the...</td>\n",
              "      <td>With the same humor and humanity he exuded in ...</td>\n",
              "      <td>Thank you so much, Chris. And it's truly a gre...</td>\n",
              "      <td>1</td>\n",
              "      <td>6</td>\n",
              "      <td>2006</td>\n",
              "      <td>5</td>\n",
              "      <td>2</td>\n",
              "      <td>2006</td>\n",
              "      <td>0.074611</td>\n",
              "      <td>15</td>\n",
              "    </tr>\n",
              "    <tr>\n",
              "      <th>1</th>\n",
              "      <td>The best stats you've ever seen</td>\n",
              "      <td>Hans Rosling</td>\n",
              "      <td>{0: 'Hans Rosling'}</td>\n",
              "      <td>{0: ['global health expert; data visionary']}</td>\n",
              "      <td>{0: 'In Hans Rosling’s hands, data sings. Glob...</td>\n",
              "      <td>0.222925</td>\n",
              "      <td>2006-02-22</td>\n",
              "      <td>2006-06-27</td>\n",
              "      <td>TED2006</td>\n",
              "      <td>en</td>\n",
              "      <td>['ar', 'az', 'bg', 'bn', 'bs', 'cs', 'da', 'de...</td>\n",
              "      <td>628.0</td>\n",
              "      <td>1190.0</td>\n",
              "      <td>['Africa', 'Asia', 'Google', 'demo', 'economic...</td>\n",
              "      <td>{2056: \"Own your body's data\", 2296: 'A visual...</td>\n",
              "      <td>https://www.ted.com/talks/hans_rosling_the_bes...</td>\n",
              "      <td>You've never seen data presented like this. Wi...</td>\n",
              "      <td>About 10 years ago, I took on the task to teac...</td>\n",
              "      <td>1</td>\n",
              "      <td>6</td>\n",
              "      <td>2006</td>\n",
              "      <td>2</td>\n",
              "      <td>2</td>\n",
              "      <td>2006</td>\n",
              "      <td>0.074931</td>\n",
              "      <td>15</td>\n",
              "    </tr>\n",
              "    <tr>\n",
              "      <th>2</th>\n",
              "      <td>Simplicity sells</td>\n",
              "      <td>David Pogue</td>\n",
              "      <td>{0: 'David Pogue'}</td>\n",
              "      <td>{0: ['technology columnist']}</td>\n",
              "      <td>{0: 'David Pogue is the personal technology co...</td>\n",
              "      <td>0.029528</td>\n",
              "      <td>2006-02-24</td>\n",
              "      <td>2006-06-27</td>\n",
              "      <td>TED2006</td>\n",
              "      <td>en</td>\n",
              "      <td>['ar', 'bg', 'de', 'el', 'en', 'es', 'fa', 'fr...</td>\n",
              "      <td>124.0</td>\n",
              "      <td>1286.0</td>\n",
              "      <td>['computers', 'entertainment', 'interface desi...</td>\n",
              "      <td>{1725: '10 top time-saving tech tips', 2274: '...</td>\n",
              "      <td>https://www.ted.com/talks/david_pogue_simplici...</td>\n",
              "      <td>New York Times columnist David Pogue takes aim...</td>\n",
              "      <td>(Music: \"The Sound of Silence,\" Simon &amp; Garfun...</td>\n",
              "      <td>1</td>\n",
              "      <td>6</td>\n",
              "      <td>2006</td>\n",
              "      <td>4</td>\n",
              "      <td>2</td>\n",
              "      <td>2006</td>\n",
              "      <td>0.074718</td>\n",
              "      <td>15</td>\n",
              "    </tr>\n",
              "  </tbody>\n",
              "</table>\n",
              "</div>"
            ],
            "text/plain": [
              "                             title  ... age_of_video\n",
              "0      Averting the climate crisis  ...           15\n",
              "1  The best stats you've ever seen  ...           15\n",
              "2                 Simplicity sells  ...           15\n",
              "\n",
              "[3 rows x 26 columns]"
            ]
          },
          "metadata": {
            "tags": []
          },
          "execution_count": 42
        }
      ]
    },
    {
      "cell_type": "markdown",
      "metadata": {
        "id": "HyYHgkYuJfpx"
      },
      "source": [
        "Also Scaling the other numerical columns:"
      ]
    },
    {
      "cell_type": "code",
      "metadata": {
        "id": "rqkpsHzqJ1kR"
      },
      "source": [
        "data['comments'] = MinMaxScaler().fit_transform(np.array(data['comments']).reshape(-1,1))"
      ],
      "execution_count": 43,
      "outputs": []
    },
    {
      "cell_type": "code",
      "metadata": {
        "id": "s5E7-gNkJ6fZ"
      },
      "source": [
        "data['duration']= MinMaxScaler().fit_transform(np.array(data['duration']).reshape(-1,1))"
      ],
      "execution_count": 44,
      "outputs": []
    },
    {
      "cell_type": "code",
      "metadata": {
        "colab": {
          "base_uri": "https://localhost:8080/",
          "height": 169
        },
        "id": "lRdpv_lSKIXL",
        "outputId": "f0d7258a-3f54-4a70-b7ba-3dd26bab7ec8"
      },
      "source": [
        "data.head(1)"
      ],
      "execution_count": 45,
      "outputs": [
        {
          "output_type": "execute_result",
          "data": {
            "text/html": [
              "<div>\n",
              "<style scoped>\n",
              "    .dataframe tbody tr th:only-of-type {\n",
              "        vertical-align: middle;\n",
              "    }\n",
              "\n",
              "    .dataframe tbody tr th {\n",
              "        vertical-align: top;\n",
              "    }\n",
              "\n",
              "    .dataframe thead th {\n",
              "        text-align: right;\n",
              "    }\n",
              "</style>\n",
              "<table border=\"1\" class=\"dataframe\">\n",
              "  <thead>\n",
              "    <tr style=\"text-align: right;\">\n",
              "      <th></th>\n",
              "      <th>title</th>\n",
              "      <th>speaker_1</th>\n",
              "      <th>all_speakers</th>\n",
              "      <th>occupations</th>\n",
              "      <th>about_speakers</th>\n",
              "      <th>views</th>\n",
              "      <th>recorded_date</th>\n",
              "      <th>published_date</th>\n",
              "      <th>event</th>\n",
              "      <th>native_lang</th>\n",
              "      <th>available_lang</th>\n",
              "      <th>comments</th>\n",
              "      <th>duration</th>\n",
              "      <th>topics</th>\n",
              "      <th>related_talks</th>\n",
              "      <th>url</th>\n",
              "      <th>description</th>\n",
              "      <th>transcript</th>\n",
              "      <th>published_day</th>\n",
              "      <th>published_month</th>\n",
              "      <th>published_year</th>\n",
              "      <th>recorded_day</th>\n",
              "      <th>recorded_month</th>\n",
              "      <th>recorded_year</th>\n",
              "      <th>diff_record_publish</th>\n",
              "      <th>age_of_video</th>\n",
              "    </tr>\n",
              "  </thead>\n",
              "  <tbody>\n",
              "    <tr>\n",
              "      <th>0</th>\n",
              "      <td>Averting the climate crisis</td>\n",
              "      <td>Al Gore</td>\n",
              "      <td>{0: 'Al Gore'}</td>\n",
              "      <td>{0: ['climate advocate']}</td>\n",
              "      <td>{0: 'Nobel Laureate Al Gore focused the world’...</td>\n",
              "      <td>0.054163</td>\n",
              "      <td>2006-02-25</td>\n",
              "      <td>2006-06-27</td>\n",
              "      <td>TED2006</td>\n",
              "      <td>en</td>\n",
              "      <td>['ar', 'bg', 'cs', 'de', 'el', 'en', 'es', 'fa...</td>\n",
              "      <td>0.042177</td>\n",
              "      <td>0.237442</td>\n",
              "      <td>['alternative energy', 'cars', 'climate change...</td>\n",
              "      <td>{243: 'New thinking on the climate crisis', 54...</td>\n",
              "      <td>https://www.ted.com/talks/al_gore_averting_the...</td>\n",
              "      <td>With the same humor and humanity he exuded in ...</td>\n",
              "      <td>Thank you so much, Chris. And it's truly a gre...</td>\n",
              "      <td>1</td>\n",
              "      <td>6</td>\n",
              "      <td>2006</td>\n",
              "      <td>5</td>\n",
              "      <td>2</td>\n",
              "      <td>2006</td>\n",
              "      <td>0.074611</td>\n",
              "      <td>15</td>\n",
              "    </tr>\n",
              "  </tbody>\n",
              "</table>\n",
              "</div>"
            ],
            "text/plain": [
              "                         title speaker_1  ... diff_record_publish age_of_video\n",
              "0  Averting the climate crisis   Al Gore  ...            0.074611           15\n",
              "\n",
              "[1 rows x 26 columns]"
            ]
          },
          "metadata": {
            "tags": []
          },
          "execution_count": 45
        }
      ]
    },
    {
      "cell_type": "markdown",
      "metadata": {
        "id": "uH9sWpRESO3J"
      },
      "source": [
        "## The videos are usually published within a span of 3 months"
      ]
    },
    {
      "cell_type": "markdown",
      "metadata": {
        "id": "jnh-XO0fO7f_"
      },
      "source": [
        "## I want to determine the most popular days,months and year of publishing:"
      ]
    },
    {
      "cell_type": "markdown",
      "metadata": {
        "id": "Op30Art9JrCe"
      },
      "source": [
        "## Looking for the most popular days for the publishing views."
      ]
    },
    {
      "cell_type": "code",
      "metadata": {
        "id": "JSesW7eHKphC"
      },
      "source": [
        "import matplotlib.pyplot as plt\n"
      ],
      "execution_count": 46,
      "outputs": []
    },
    {
      "cell_type": "code",
      "metadata": {
        "id": "m5oDy0XSLGET"
      },
      "source": [
        "data['published_day']=data['published_day'].map({0:'Monday',1:'Tuesday',2:'Wednesday',3:'Thursday',4:'Friday',5:'Saturday',6:'Sunday'})"
      ],
      "execution_count": 47,
      "outputs": []
    },
    {
      "cell_type": "code",
      "metadata": {
        "colab": {
          "base_uri": "https://localhost:8080/",
          "height": 347
        },
        "id": "COeIwrTvJdoc",
        "outputId": "923c41e2-d228-4d8f-e81f-82757874f916"
      },
      "source": [
        "data['published_day'].value_counts().sort_values(ascending=False).plot(kind='bar', color='black')\n",
        "\n",
        "plt.title('Published Days')"
      ],
      "execution_count": 48,
      "outputs": [
        {
          "output_type": "execute_result",
          "data": {
            "text/plain": [
              "Text(0.5, 1.0, 'Published Days')"
            ]
          },
          "metadata": {
            "tags": []
          },
          "execution_count": 48
        },
        {
          "output_type": "display_data",
          "data": {
            "image/png": "[encoded data removed]",
            "text/plain": [
              "<Figure size 432x288 with 1 Axes>"
            ]
          },
          "metadata": {
            "tags": [],
            "needs_background": "light"
          }
        }
      ]
    },
    {
      "cell_type": "markdown",
      "metadata": {
        "id": "M02qgejJZHtV"
      },
      "source": [
        "## Frequency encoding:"
      ]
    },
    {
      "cell_type": "code",
      "metadata": {
        "id": "6yoM_REXZKpG"
      },
      "source": [
        "\n",
        "#Frequency encoiding\n",
        "\n",
        "enc_nom_1 = (data.groupby('published_day').size()) / len(data)\n",
        "\n",
        "data['published_day_encode'] = data['published_day'].apply(lambda x : enc_nom_1[x])"
      ],
      "execution_count": 49,
      "outputs": []
    },
    {
      "cell_type": "code",
      "metadata": {
        "id": "EW5D8pWMZTjD"
      },
      "source": [
        "data.drop(columns='published_day',inplace= True)"
      ],
      "execution_count": 50,
      "outputs": []
    },
    {
      "cell_type": "markdown",
      "metadata": {
        "id": "Dd5g5ZLXKjfx"
      },
      "source": [
        "\n",
        "## Most published months:"
      ]
    },
    {
      "cell_type": "code",
      "metadata": {
        "id": "N_ZL6oBbLy2z"
      },
      "source": [
        "data['published_month']=data['published_month'].map({1:'Jan',2:'Feb',3:'March',4:'April',5:'May',6:'June',7:'July',8:'Aug',9:'Sep',10:'Oct',11:'Nov',12:'Dec'})"
      ],
      "execution_count": 51,
      "outputs": []
    },
    {
      "cell_type": "code",
      "metadata": {
        "colab": {
          "base_uri": "https://localhost:8080/",
          "height": 319
        },
        "id": "pu-6BxngKGhm",
        "outputId": "26379159-6159-43d5-f3e3-0026a8835c0e"
      },
      "source": [
        "data['published_month'].value_counts().sort_values(ascending=False).plot(kind='bar', color='black')\n",
        "\n",
        "plt.title('Published Months')"
      ],
      "execution_count": 52,
      "outputs": [
        {
          "output_type": "execute_result",
          "data": {
            "text/plain": [
              "Text(0.5, 1.0, 'Published Months')"
            ]
          },
          "metadata": {
            "tags": []
          },
          "execution_count": 52
        },
        {
          "output_type": "display_data",
          "data": {
            "image/png": "[encoded data removed]",
            "text/plain": [
              "<Figure size 432x288 with 1 Axes>"
            ]
          },
          "metadata": {
            "tags": [],
            "needs_background": "light"
          }
        }
      ]
    },
    {
      "cell_type": "code",
      "metadata": {
        "id": "Ju2IkUcJZcKI"
      },
      "source": [
        "#Frequency encoiding\n",
        "\n",
        "enc_nom_1 = (data.groupby('published_month').size()) / len(data)\n",
        "\n",
        "data['published_month_encode'] = data['published_month'].apply(lambda x : enc_nom_1[x])"
      ],
      "execution_count": 53,
      "outputs": []
    },
    {
      "cell_type": "code",
      "metadata": {
        "id": "FF5FiILsZp_Z"
      },
      "source": [
        "data.drop(columns='published_month',inplace= True)"
      ],
      "execution_count": 54,
      "outputs": []
    },
    {
      "cell_type": "markdown",
      "metadata": {
        "id": "s0l83gBdM2aF"
      },
      "source": [
        "## Most published year:"
      ]
    },
    {
      "cell_type": "code",
      "metadata": {
        "colab": {
          "base_uri": "https://localhost:8080/",
          "height": 299
        },
        "id": "AL42vgODLxZ8",
        "outputId": "3a1f298e-1077-4156-e154-0f766d90d74c"
      },
      "source": [
        "data['published_year'].value_counts().sort_values(ascending=False).plot(kind='bar', color='black')"
      ],
      "execution_count": 55,
      "outputs": [
        {
          "output_type": "execute_result",
          "data": {
            "text/plain": [
              "<matplotlib.axes._subplots.AxesSubplot at 0x7fbbb1a4fe10>"
            ]
          },
          "metadata": {
            "tags": []
          },
          "execution_count": 55
        },
        {
          "output_type": "display_data",
          "data": {
            "image/png": "[encoded data removed]",
            "text/plain": [
              "<Figure size 432x288 with 1 Axes>"
            ]
          },
          "metadata": {
            "tags": [],
            "needs_background": "light"
          }
        }
      ]
    },
    {
      "cell_type": "markdown",
      "metadata": {
        "id": "yvKVvrDBsL5l"
      },
      "source": [
        "# Most popular recorded day, month and year:"
      ]
    },
    {
      "cell_type": "markdown",
      "metadata": {
        "id": "YBZ656_3sVyR"
      },
      "source": [
        "## Recorded days distribution:"
      ]
    },
    {
      "cell_type": "code",
      "metadata": {
        "id": "PHDLamrDNMmj"
      },
      "source": [
        "data['recorded_day']=data['recorded_day'].map({0:'Monday',1:'Tuesday',2:'Wednesday',3:'Thursday',4:'Friday',5:'Saturday',6:'Sunday'})"
      ],
      "execution_count": 56,
      "outputs": []
    },
    {
      "cell_type": "code",
      "metadata": {
        "colab": {
          "base_uri": "https://localhost:8080/",
          "height": 347
        },
        "id": "HmjpjxRTsoAB",
        "outputId": "f9dfe012-8656-4d0c-d0c4-a3b60033ac8c"
      },
      "source": [
        "data['recorded_day'].value_counts().sort_values(ascending=False).plot(kind='bar', color='black')\n",
        "\n",
        "plt.title('Recorded Days')"
      ],
      "execution_count": 57,
      "outputs": [
        {
          "output_type": "execute_result",
          "data": {
            "text/plain": [
              "Text(0.5, 1.0, 'Recorded Days')"
            ]
          },
          "metadata": {
            "tags": []
          },
          "execution_count": 57
        },
        {
          "output_type": "display_data",
          "data": {
            "image/png": "[encoded data removed]",
            "text/plain": [
              "<Figure size 432x288 with 1 Axes>"
            ]
          },
          "metadata": {
            "tags": [],
            "needs_background": "light"
          }
        }
      ]
    },
    {
      "cell_type": "markdown",
      "metadata": {
        "id": "TSnWWH23X06Z"
      },
      "source": [
        "## Frequency encoding :"
      ]
    },
    {
      "cell_type": "code",
      "metadata": {
        "id": "MUX3NE91X5o1"
      },
      "source": [
        "#Frequency encoiding\n",
        "\n",
        "enc_nom_1 = (data.groupby('recorded_day').size()) / len(data)\n",
        "\n",
        "data['recorded_day_encode'] = data['recorded_day'].apply(lambda x : enc_nom_1[x])"
      ],
      "execution_count": 58,
      "outputs": []
    },
    {
      "cell_type": "code",
      "metadata": {
        "id": "6ng_-NJQZ3m0"
      },
      "source": [
        "data.drop(columns= 'recorded_day',inplace= True)"
      ],
      "execution_count": 59,
      "outputs": []
    },
    {
      "cell_type": "markdown",
      "metadata": {
        "id": "Luo6Ecs_s0Qb"
      },
      "source": [
        "## Monthly Recorded distribution:"
      ]
    },
    {
      "cell_type": "code",
      "metadata": {
        "id": "5_G5Sah8tDKW"
      },
      "source": [
        "data['recorded_month']=data['recorded_month'].map({1:'Jan',2:'Feb',3:'March',4:'April',5:'May',6:'June',7:'July',8:'Aug',9:'Sep',10:'Oct',11:'Nov',12:'Dec'})"
      ],
      "execution_count": 60,
      "outputs": []
    },
    {
      "cell_type": "code",
      "metadata": {
        "colab": {
          "base_uri": "https://localhost:8080/",
          "height": 319
        },
        "id": "gQ0REikrsi73",
        "outputId": "36c84f45-fa09-4244-f261-76441e926a45"
      },
      "source": [
        "data['recorded_month'].value_counts().sort_values(ascending=False).plot(kind='bar', color='black')\n",
        "\n",
        "plt.title('Recorded Months')"
      ],
      "execution_count": 61,
      "outputs": [
        {
          "output_type": "execute_result",
          "data": {
            "text/plain": [
              "Text(0.5, 1.0, 'Recorded Months')"
            ]
          },
          "metadata": {
            "tags": []
          },
          "execution_count": 61
        },
        {
          "output_type": "display_data",
          "data": {
            "image/png": "[encoded data removed]",
            "text/plain": [
              "<Figure size 432x288 with 1 Axes>"
            ]
          },
          "metadata": {
            "tags": [],
            "needs_background": "light"
          }
        }
      ]
    },
    {
      "cell_type": "markdown",
      "metadata": {
        "id": "y5n4Ti2FYbn0"
      },
      "source": [
        "## Frequency encoding:"
      ]
    },
    {
      "cell_type": "code",
      "metadata": {
        "id": "0IbkXhBrYj_9"
      },
      "source": [
        "#Frequency encoiding\n",
        "\n",
        "enc_nom_1 = (data.groupby('recorded_month').size()) / len(data)\n",
        "\n",
        "data['recorded_month_encode'] = data['recorded_month'].apply(lambda x : enc_nom_1[x])"
      ],
      "execution_count": 62,
      "outputs": []
    },
    {
      "cell_type": "code",
      "metadata": {
        "id": "2iDaI-rpaF28"
      },
      "source": [
        "data.drop(columns= 'recorded_month',inplace= True)"
      ],
      "execution_count": 63,
      "outputs": []
    },
    {
      "cell_type": "markdown",
      "metadata": {
        "id": "ab--Okg4tTsl"
      },
      "source": [
        "## Most recorded year:"
      ]
    },
    {
      "cell_type": "code",
      "metadata": {
        "colab": {
          "base_uri": "https://localhost:8080/",
          "height": 299
        },
        "id": "WDvcRnSRtMi6",
        "outputId": "b1c0f5bb-c657-49ff-8bec-c86e025ed2aa"
      },
      "source": [
        "data['recorded_year'].value_counts().sort_values(ascending=False).plot(kind='bar', color='black')"
      ],
      "execution_count": 64,
      "outputs": [
        {
          "output_type": "execute_result",
          "data": {
            "text/plain": [
              "<matplotlib.axes._subplots.AxesSubplot at 0x7fbbb183d210>"
            ]
          },
          "metadata": {
            "tags": []
          },
          "execution_count": 64
        },
        {
          "output_type": "display_data",
          "data": {
            "image/png": "[encoded data removed]",
            "text/plain": [
              "<Figure size 432x288 with 1 Axes>"
            ]
          },
          "metadata": {
            "tags": [],
            "needs_background": "light"
          }
        }
      ]
    },
    {
      "cell_type": "markdown",
      "metadata": {
        "id": "vYDA0j908tk5"
      },
      "source": [
        "# We can drop the following columns:\n",
        "\n",
        "1.  URL- we aren't doing any SEO so doesn't seem important\n",
        "\n",
        "2. published and recorded date- we have already taken care of these non numerical columns."
      ]
    },
    {
      "cell_type": "code",
      "metadata": {
        "id": "9aup5DT7taMK"
      },
      "source": [
        "data.drop(columns=['url','recorded_date','published_date'],inplace=True)"
      ],
      "execution_count": 65,
      "outputs": []
    },
    {
      "cell_type": "code",
      "metadata": {
        "colab": {
          "base_uri": "https://localhost:8080/"
        },
        "id": "droWex5MQKDe",
        "outputId": "398bb270-7581-4f31-8749-669d68425480"
      },
      "source": [
        "data.info()"
      ],
      "execution_count": 66,
      "outputs": [
        {
          "output_type": "stream",
          "text": [
            "<class 'pandas.core.frame.DataFrame'>\n",
            "RangeIndex: 4005 entries, 0 to 4004\n",
            "Data columns (total 23 columns):\n",
            " #   Column                  Non-Null Count  Dtype  \n",
            "---  ------                  --------------  -----  \n",
            " 0   title                   4005 non-null   object \n",
            " 1   speaker_1               4005 non-null   object \n",
            " 2   all_speakers            4005 non-null   object \n",
            " 3   occupations             4005 non-null   object \n",
            " 4   about_speakers          4005 non-null   object \n",
            " 5   views                   4005 non-null   float64\n",
            " 6   event                   4005 non-null   object \n",
            " 7   native_lang             4005 non-null   object \n",
            " 8   available_lang          4005 non-null   object \n",
            " 9   comments                4005 non-null   float64\n",
            " 10  duration                4005 non-null   float64\n",
            " 11  topics                  4005 non-null   object \n",
            " 12  related_talks           4005 non-null   object \n",
            " 13  description             4005 non-null   object \n",
            " 14  transcript              4005 non-null   object \n",
            " 15  published_year          4005 non-null   int64  \n",
            " 16  recorded_year           4005 non-null   int64  \n",
            " 17  diff_record_publish     4005 non-null   float64\n",
            " 18  age_of_video            4005 non-null   int64  \n",
            " 19  published_day_encode    4005 non-null   float64\n",
            " 20  published_month_encode  4005 non-null   float64\n",
            " 21  recorded_day_encode     4005 non-null   float64\n",
            " 22  recorded_month_encode   4005 non-null   float64\n",
            "dtypes: float64(8), int64(3), object(12)\n",
            "memory usage: 719.8+ KB\n"
          ],
          "name": "stdout"
        }
      ]
    },
    {
      "cell_type": "markdown",
      "metadata": {
        "id": "kH-PjgcqKx1u"
      },
      "source": [
        "# Number of languages: "
      ]
    },
    {
      "cell_type": "markdown",
      "metadata": {
        "id": "uArL9tR7M8dk"
      },
      "source": [
        "First convert the string to list:"
      ]
    },
    {
      "cell_type": "code",
      "metadata": {
        "id": "-YUhuRfyNwSU"
      },
      "source": [
        "#Function to use eval function to convert string to list.\n",
        "def convert_string_to_original_dtype(x):\n",
        "  return eval(x)"
      ],
      "execution_count": 67,
      "outputs": []
    },
    {
      "cell_type": "code",
      "metadata": {
        "id": "BhTnHr64M7rh"
      },
      "source": [
        "data['available_lang']= data['available_lang'].apply(convert_string_to_original_dtype)"
      ],
      "execution_count": 68,
      "outputs": []
    },
    {
      "cell_type": "markdown",
      "metadata": {
        "id": "4Cvv03xbOVbK"
      },
      "source": [
        "Create another feature that has the count of these languages:"
      ]
    },
    {
      "cell_type": "code",
      "metadata": {
        "id": "WmvsRvEpOaec"
      },
      "source": [
        "#Function to calculate the count of languages\n",
        "\n",
        "def length(x):\n",
        "  return len(x)"
      ],
      "execution_count": 69,
      "outputs": []
    },
    {
      "cell_type": "code",
      "metadata": {
        "id": "eKiC2vCzON77"
      },
      "source": [
        "data['count_available_lang']= data['available_lang'].apply(length)"
      ],
      "execution_count": 71,
      "outputs": []
    },
    {
      "cell_type": "markdown",
      "metadata": {
        "id": "GfrcbrQ8OvZ7"
      },
      "source": [
        "Let us see the distribution now:"
      ]
    },
    {
      "cell_type": "code",
      "metadata": {
        "id": "g2wUIKDQOrpe"
      },
      "source": [
        "#Distribution of the top 10 counts of languages\n",
        "\n",
        "data['count_available_lang'].value_counts().sort_values(ascending= False).head(10).plot(kind= 'bar',color= 'purple')\n"
      ],
      "execution_count": null,
      "outputs": []
    },
    {
      "cell_type": "markdown",
      "metadata": {
        "id": "8nUZy_qzPQwv"
      },
      "source": [
        "Most ted talks are available in 20-30 languages."
      ]
    },
    {
      "cell_type": "markdown",
      "metadata": {
        "id": "-72msr6ZPVfk"
      },
      "source": [
        "Now that I have the count of languages in a numerical format, I can drop the available languages column."
      ]
    },
    {
      "cell_type": "code",
      "metadata": {
        "id": "yAX2Enn_PEaC"
      },
      "source": [
        "#dropping the available languages\n",
        "\n",
        "data.drop(columns='available_lang',inplace= True)"
      ],
      "execution_count": 72,
      "outputs": []
    },
    {
      "cell_type": "markdown",
      "metadata": {
        "id": "wasfHowSP1-v"
      },
      "source": [
        "## Native Languages:"
      ]
    },
    {
      "cell_type": "code",
      "metadata": {
        "colab": {
          "base_uri": "https://localhost:8080/"
        },
        "id": "vlRL_3xCPqop",
        "outputId": "7d3bddf4-2950-4bbf-b06a-b7f0871f3612"
      },
      "source": [
        "#Looking at the unique values first\n",
        "\n",
        "data['native_lang'].unique()"
      ],
      "execution_count": 74,
      "outputs": [
        {
          "output_type": "execute_result",
          "data": {
            "text/plain": [
              "array(['en', 'fr', 'de', 'pt', 'ko', 'zh-cn', 'ar', 'pt-br', 'es', 'ja',\n",
              "       'it', 'hi'], dtype=object)"
            ]
          },
          "metadata": {
            "tags": []
          },
          "execution_count": 74
        }
      ]
    },
    {
      "cell_type": "code",
      "metadata": {
        "colab": {
          "base_uri": "https://localhost:8080/",
          "height": 299
        },
        "id": "zlTQHLfeP_-i",
        "outputId": "3a10e39b-0b7a-410b-fc69-e89f3ecf0420"
      },
      "source": [
        "#The distribution:\n",
        "\n",
        "data['native_lang'].value_counts().plot(kind='bar',color='purple')"
      ],
      "execution_count": 75,
      "outputs": [
        {
          "output_type": "execute_result",
          "data": {
            "text/plain": [
              "<matplotlib.axes._subplots.AxesSubplot at 0x7fbbb176b790>"
            ]
          },
          "metadata": {
            "tags": []
          },
          "execution_count": 75
        },
        {
          "output_type": "display_data",
          "data": {
            "image/png": "[encoded data removed]",
            "text/plain": [
              "<Figure size 432x288 with 1 Axes>"
            ]
          },
          "metadata": {
            "tags": [],
            "needs_background": "light"
          }
        }
      ]
    },
    {
      "cell_type": "markdown",
      "metadata": {
        "id": "7lvJUB9EQT_D"
      },
      "source": [
        "Around 3950 are available in English and around only 50 in other languages. This will not result in any difference in the views because of the 5% difference and mostly is a homogenous column.\n",
        "\n",
        "I will therefore drop this to not further increase the complexity."
      ]
    },
    {
      "cell_type": "code",
      "metadata": {
        "id": "Bipz7S1_QRVa"
      },
      "source": [
        "data.drop(columns='native_lang',inplace= True)"
      ],
      "execution_count": 76,
      "outputs": []
    },
    {
      "cell_type": "markdown",
      "metadata": {
        "id": "hJJr4EntDm6v"
      },
      "source": [
        "## Event:"
      ]
    },
    {
      "cell_type": "code",
      "metadata": {
        "colab": {
          "base_uri": "https://localhost:8080/",
          "height": 35
        },
        "id": "uMct_QNSD0bc",
        "outputId": "dc61f058-3c13-46e3-cfc8-e95d7e7908df"
      },
      "source": [
        "data['event'][0]"
      ],
      "execution_count": 77,
      "outputs": [
        {
          "output_type": "execute_result",
          "data": {
            "application/vnd.google.colaboratory.intrinsic+json": {
              "type": "string"
            },
            "text/plain": [
              "'TED2006'"
            ]
          },
          "metadata": {
            "tags": []
          },
          "execution_count": 77
        }
      ]
    },
    {
      "cell_type": "code",
      "metadata": {
        "colab": {
          "base_uri": "https://localhost:8080/",
          "height": 353
        },
        "id": "InjwxVN4EB2d",
        "outputId": "d06fc1be-6e66-43c9-e071-737437f3f6c3"
      },
      "source": [
        "data['event'].value_counts().sort_values(ascending= False).head(20).plot(kind= 'bar')"
      ],
      "execution_count": 78,
      "outputs": [
        {
          "output_type": "execute_result",
          "data": {
            "text/plain": [
              "<matplotlib.axes._subplots.AxesSubplot at 0x7fbbb1584850>"
            ]
          },
          "metadata": {
            "tags": []
          },
          "execution_count": 78
        },
        {
          "output_type": "display_data",
          "data": {
            "image/png": "[encoded data removed]",
            "text/plain": [
              "<Figure size 432x288 with 1 Axes>"
            ]
          },
          "metadata": {
            "tags": [],
            "needs_background": "light"
          }
        }
      ]
    },
    {
      "cell_type": "markdown",
      "metadata": {
        "id": "M1WHqcCaFQXi"
      },
      "source": [
        "The Ted-Ed  being the one with the highest medium gives us a idea that knowledge sharing and academics is a very popular kind of medium."
      ]
    },
    {
      "cell_type": "markdown",
      "metadata": {
        "id": "I2p96AWcH0E4"
      },
      "source": [
        "## Frequency Encoding-"
      ]
    },
    {
      "cell_type": "code",
      "metadata": {
        "id": "GFsowM_8H2mj"
      },
      "source": [
        "enc_nom_1 = (data.groupby('event').size()) / len(data)\n",
        "\n",
        "data['event_encode'] = data['event'].apply(lambda x : enc_nom_1[x])"
      ],
      "execution_count": 79,
      "outputs": []
    },
    {
      "cell_type": "code",
      "metadata": {
        "id": "RfrvUmllH9u4"
      },
      "source": [
        "data.drop(columns= 'event',inplace =True)"
      ],
      "execution_count": 80,
      "outputs": []
    },
    {
      "cell_type": "markdown",
      "metadata": {
        "id": "Ten8gAHQQ9AT"
      },
      "source": [
        "## Number of Speakers:"
      ]
    },
    {
      "cell_type": "markdown",
      "metadata": {
        "id": "lVU0zNiIRHzC"
      },
      "source": [
        " This column will help retain the speakers :"
      ]
    },
    {
      "cell_type": "code",
      "metadata": {
        "colab": {
          "base_uri": "https://localhost:8080/",
          "height": 35
        },
        "id": "Dbmgu8m6Qy3z",
        "outputId": "c928c204-954c-4126-a193-4a7ff933d321"
      },
      "source": [
        "data['all_speakers'][0]"
      ],
      "execution_count": 81,
      "outputs": [
        {
          "output_type": "execute_result",
          "data": {
            "application/vnd.google.colaboratory.intrinsic+json": {
              "type": "string"
            },
            "text/plain": [
              "\"{0: 'Al Gore'}\""
            ]
          },
          "metadata": {
            "tags": []
          },
          "execution_count": 81
        }
      ]
    },
    {
      "cell_type": "markdown",
      "metadata": {
        "id": "btAE0BPPUX7_"
      },
      "source": [
        "Function for converting:"
      ]
    },
    {
      "cell_type": "code",
      "metadata": {
        "id": "ahwOQH-4T562"
      },
      "source": [
        "#This function converts string to dict:\n",
        "def convert_string_to_dict(x):\n",
        "  if x== 'Unknown':\n",
        "    pass\n",
        "  else:\n",
        "    return eval(x)"
      ],
      "execution_count": 82,
      "outputs": []
    },
    {
      "cell_type": "code",
      "metadata": {
        "id": "kD2pkTPkUIz3"
      },
      "source": [
        "data['all_speakers']=data['all_speakers'].apply(convert_string_to_dict)"
      ],
      "execution_count": 83,
      "outputs": []
    },
    {
      "cell_type": "code",
      "metadata": {
        "colab": {
          "base_uri": "https://localhost:8080/"
        },
        "id": "a9dXf2b3SAcT",
        "outputId": "4545230a-961d-4a65-91e0-d3ffa857f4f4"
      },
      "source": [
        "data['all_speakers'][0]"
      ],
      "execution_count": 84,
      "outputs": [
        {
          "output_type": "execute_result",
          "data": {
            "text/plain": [
              "{0: 'Al Gore'}"
            ]
          },
          "metadata": {
            "tags": []
          },
          "execution_count": 84
        }
      ]
    },
    {
      "cell_type": "markdown",
      "metadata": {
        "id": "BXikPCmCrEAt"
      },
      "source": [
        "Next I want to get speakers in a series format and not in a dictionary format. And the count of speakers in each talk."
      ]
    },
    {
      "cell_type": "code",
      "metadata": {
        "colab": {
          "base_uri": "https://localhost:8080/"
        },
        "id": "aWwzJXs9r3MZ",
        "outputId": "0625c65f-50ed-45fc-90b4-0e83eaee7464"
      },
      "source": [
        "len(data['all_speakers'][0])"
      ],
      "execution_count": 85,
      "outputs": [
        {
          "output_type": "execute_result",
          "data": {
            "text/plain": [
              "1"
            ]
          },
          "metadata": {
            "tags": []
          },
          "execution_count": 85
        }
      ]
    },
    {
      "cell_type": "code",
      "metadata": {
        "id": "Mw8av-fSUka7"
      },
      "source": [
        "#function to obtain the count of speakers\n",
        "\n",
        "def get_count_speakers(x):\n",
        "  try:\n",
        "    return len(x)\n",
        "  except TypeError:\n",
        "    return 0\n"
      ],
      "execution_count": 86,
      "outputs": []
    },
    {
      "cell_type": "code",
      "metadata": {
        "id": "DRnzo9zZsCpf"
      },
      "source": [
        "data['count_of_speakers']= data['all_speakers'].apply(get_count_speakers)"
      ],
      "execution_count": 87,
      "outputs": []
    },
    {
      "cell_type": "code",
      "metadata": {
        "colab": {
          "base_uri": "https://localhost:8080/",
          "height": 295
        },
        "id": "iA8BqHhxsKWH",
        "outputId": "afcba9af-3e48-41e7-9442-165f82919265"
      },
      "source": [
        "data['count_of_speakers'].value_counts().plot(kind='bar',color='purple')\n",
        "\n",
        "plt.title('Count of Speakers')"
      ],
      "execution_count": 88,
      "outputs": [
        {
          "output_type": "execute_result",
          "data": {
            "text/plain": [
              "Text(0.5, 1.0, 'Count of Speakers')"
            ]
          },
          "metadata": {
            "tags": []
          },
          "execution_count": 88
        },
        {
          "output_type": "display_data",
          "data": {
            "image/png": "[encoded data removed]",
            "text/plain": [
              "<Figure size 432x288 with 1 Axes>"
            ]
          },
          "metadata": {
            "tags": [],
            "needs_background": "light"
          }
        }
      ]
    },
    {
      "cell_type": "markdown",
      "metadata": {
        "id": "yPkBcI4ftGNU"
      },
      "source": [
        "Except a few, most have 1 speaker in the talks."
      ]
    },
    {
      "cell_type": "code",
      "metadata": {
        "id": "CYIz3irVsoQ7"
      },
      "source": [
        "#function to get a separate column for the speakers only\n",
        "\n",
        "def get_speakers(x):\n",
        "  speakers=[]\n",
        "  try:\n",
        "    for key,value in x.items():\n",
        "      speakers.append(value)\n",
        "  except AttributeError:\n",
        "    speakers.append('Unknown')\n",
        "  return speakers\n"
      ],
      "execution_count": 89,
      "outputs": []
    },
    {
      "cell_type": "code",
      "metadata": {
        "id": "IEIaloJquCYL"
      },
      "source": [
        "data['Speakers']= data['all_speakers'].apply(get_speakers)"
      ],
      "execution_count": 90,
      "outputs": []
    },
    {
      "cell_type": "markdown",
      "metadata": {
        "id": "T_T8W8epub-e"
      },
      "source": [
        "Let us see who are the speakers :"
      ]
    },
    {
      "cell_type": "code",
      "metadata": {
        "colab": {
          "base_uri": "https://localhost:8080/",
          "height": 387
        },
        "id": "u_YQm1us01XJ",
        "outputId": "dcae7951-6d2f-4895-bd37-c78298dbddf9"
      },
      "source": [
        "data['Speakers'].value_counts().sort_values(ascending=False).head(20).plot(kind='bar',color='purple')"
      ],
      "execution_count": 91,
      "outputs": [
        {
          "output_type": "execute_result",
          "data": {
            "text/plain": [
              "<matplotlib.axes._subplots.AxesSubplot at 0x7fbbb141a3d0>"
            ]
          },
          "metadata": {
            "tags": []
          },
          "execution_count": 91
        },
        {
          "output_type": "display_data",
          "data": {
            "image/png": "[encoded data removed]",
            "text/plain": [
              "<Figure size 432x288 with 1 Axes>"
            ]
          },
          "metadata": {
            "tags": [],
            "needs_background": "light"
          }
        }
      ]
    },
    {
      "cell_type": "markdown",
      "metadata": {
        "id": "_huGn-SFODZr"
      },
      "source": [
        "Comparing views with number of speakers:"
      ]
    },
    {
      "cell_type": "code",
      "metadata": {
        "id": "TWk5aHcPOLnL"
      },
      "source": [
        "data['count_of_speakers'] = MinMaxScaler().fit_transform(np.array(data['count_of_speakers']).reshape(-1,1))"
      ],
      "execution_count": 92,
      "outputs": []
    },
    {
      "cell_type": "code",
      "metadata": {
        "colab": {
          "base_uri": "https://localhost:8080/",
          "height": 297
        },
        "id": "vvUntEIlOfTc",
        "outputId": "5f9f3ff1-1a24-468f-b410-4db792d48f63"
      },
      "source": [
        "sns.scatterplot(x= data['count_of_speakers'], y=data['views'])"
      ],
      "execution_count": 93,
      "outputs": [
        {
          "output_type": "execute_result",
          "data": {
            "text/plain": [
              "<matplotlib.axes._subplots.AxesSubplot at 0x7fbbb1328390>"
            ]
          },
          "metadata": {
            "tags": []
          },
          "execution_count": 93
        },
        {
          "output_type": "display_data",
          "data": {
            "image/png": "[encoded data removed]",
            "text/plain": [
              "<Figure size 432x288 with 1 Axes>"
            ]
          },
          "metadata": {
            "tags": [],
            "needs_background": "light"
          }
        }
      ]
    },
    {
      "cell_type": "markdown",
      "metadata": {
        "id": "xNTjiX7_O6uu"
      },
      "source": [
        "Since the number of speakers is not at all related to views.\n",
        "\n",
        "We can infer from here that, one speaker is enough for views if he popular enough and not needed for two speakers\n",
        "\n",
        "As Speakers_1 is very similar to all_Speakers"
      ]
    },
    {
      "cell_type": "code",
      "metadata": {
        "id": "PEP66EraP9Ri"
      },
      "source": [
        "data.drop(columns=['all_speakers','count_of_speakers','Speakers'],inplace= True)"
      ],
      "execution_count": 94,
      "outputs": []
    },
    {
      "cell_type": "markdown",
      "metadata": {
        "id": "1djUAoeQIz9X"
      },
      "source": [
        "## Speaker 1:"
      ]
    },
    {
      "cell_type": "code",
      "metadata": {
        "colab": {
          "base_uri": "https://localhost:8080/",
          "height": 379
        },
        "id": "vQp8F5idI19g",
        "outputId": "436894ab-da2a-4707-ef85-3c67caf63aed"
      },
      "source": [
        "data['speaker_1'].value_counts().sort_values(ascending= False).head(30).plot(kind='bar')"
      ],
      "execution_count": 95,
      "outputs": [
        {
          "output_type": "execute_result",
          "data": {
            "text/plain": [
              "<matplotlib.axes._subplots.AxesSubplot at 0x7fbbb14f0f90>"
            ]
          },
          "metadata": {
            "tags": []
          },
          "execution_count": 95
        },
        {
          "output_type": "display_data",
          "data": {
            "image/png": "[encoded data removed]",
            "text/plain": [
              "<Figure size 432x288 with 1 Axes>"
            ]
          },
          "metadata": {
            "tags": [],
            "needs_background": "light"
          }
        }
      ]
    },
    {
      "cell_type": "markdown",
      "metadata": {
        "id": "9qzjEK-jWYDC"
      },
      "source": [
        "## Encoding by Frequency Encoding:"
      ]
    },
    {
      "cell_type": "code",
      "metadata": {
        "id": "1DJHW9omWggP"
      },
      "source": [
        "enc_nom_1 = (data.groupby('speaker_1').size()) / len(data)\n"
      ],
      "execution_count": 96,
      "outputs": []
    },
    {
      "cell_type": "code",
      "metadata": {
        "id": "sPeTOXOmXAnj"
      },
      "source": [
        "data['speaker_1_encode'] = data['speaker_1'].apply(lambda x : enc_nom_1[x])"
      ],
      "execution_count": 97,
      "outputs": []
    },
    {
      "cell_type": "markdown",
      "metadata": {
        "id": "y9U5PuzfXd1x"
      },
      "source": [
        "## Dropping the speaker 1 feature then:"
      ]
    },
    {
      "cell_type": "code",
      "metadata": {
        "id": "nMWWgMXQXjbP"
      },
      "source": [
        "data.drop(columns='speaker_1',inplace= True)"
      ],
      "execution_count": 98,
      "outputs": []
    },
    {
      "cell_type": "markdown",
      "metadata": {
        "id": "EoCwYrfMa89o"
      },
      "source": [
        "## Occupation:"
      ]
    },
    {
      "cell_type": "code",
      "metadata": {
        "colab": {
          "base_uri": "https://localhost:8080/",
          "height": 35
        },
        "id": "KHRrktDMbAhi",
        "outputId": "ad962ca5-fb98-47a5-851e-aa27dff8f9f8"
      },
      "source": [
        "data['occupations'][0]"
      ],
      "execution_count": 99,
      "outputs": [
        {
          "output_type": "execute_result",
          "data": {
            "application/vnd.google.colaboratory.intrinsic+json": {
              "type": "string"
            },
            "text/plain": [
              "\"{0: ['climate advocate']}\""
            ]
          },
          "metadata": {
            "tags": []
          },
          "execution_count": 99
        }
      ]
    },
    {
      "cell_type": "code",
      "metadata": {
        "id": "A8bRbYRUdEfu"
      },
      "source": [
        "data['occupations']=data['occupations'].apply(convert_string_to_dict)"
      ],
      "execution_count": 100,
      "outputs": []
    },
    {
      "cell_type": "code",
      "metadata": {
        "id": "WVyhhJ5rdk7O"
      },
      "source": [
        "#Function to convert list to string\n",
        "def list_to_string(x):\n",
        "  for item in x:\n",
        "    return item"
      ],
      "execution_count": 101,
      "outputs": []
    },
    {
      "cell_type": "code",
      "metadata": {
        "id": "K75Q6qwpbQA3"
      },
      "source": [
        "#Function to obtain occupation \n",
        "\n",
        "def get_occupation(x):\n",
        "  try:\n",
        "    for key,value in x.items():\n",
        "      return value\n",
        "  except AttributeError:\n",
        "    return 'Unknown'\n",
        "\n"
      ],
      "execution_count": 102,
      "outputs": []
    },
    {
      "cell_type": "code",
      "metadata": {
        "id": "eglc4MTycEFp"
      },
      "source": [
        "data['occupation']= data['occupations'].apply(get_occupation)"
      ],
      "execution_count": 103,
      "outputs": []
    },
    {
      "cell_type": "code",
      "metadata": {
        "colab": {
          "base_uri": "https://localhost:8080/"
        },
        "id": "RHYNvtexd5re",
        "outputId": "70d09cc3-101c-468e-dfd1-b375ec3f56dd"
      },
      "source": [
        "data['occupation'][0]"
      ],
      "execution_count": 104,
      "outputs": [
        {
          "output_type": "execute_result",
          "data": {
            "text/plain": [
              "['climate advocate']"
            ]
          },
          "metadata": {
            "tags": []
          },
          "execution_count": 104
        }
      ]
    },
    {
      "cell_type": "code",
      "metadata": {
        "id": "bKVKwkJteJi7"
      },
      "source": [
        "data['occupation']= data['occupation'].apply(list_to_string)"
      ],
      "execution_count": 105,
      "outputs": []
    },
    {
      "cell_type": "code",
      "metadata": {
        "colab": {
          "base_uri": "https://localhost:8080/",
          "height": 343
        },
        "id": "67HFWWGicMUY",
        "outputId": "481181a3-02f9-42ad-dbe2-e0995a7f1793"
      },
      "source": [
        "#Plot the occupations plot\n",
        "\n",
        "data['occupation'].value_counts().head(10).plot(kind='bar',color= 'purple')"
      ],
      "execution_count": 106,
      "outputs": [
        {
          "output_type": "execute_result",
          "data": {
            "text/plain": [
              "<matplotlib.axes._subplots.AxesSubplot at 0x7fbbb14f4710>"
            ]
          },
          "metadata": {
            "tags": []
          },
          "execution_count": 106
        },
        {
          "output_type": "display_data",
          "data": {
            "image/png": "[encoded data removed]",
            "text/plain": [
              "<Figure size 432x288 with 1 Axes>"
            ]
          },
          "metadata": {
            "tags": [],
            "needs_background": "light"
          }
        }
      ]
    },
    {
      "cell_type": "markdown",
      "metadata": {
        "id": "VY-SEEjsfUXR"
      },
      "source": [
        "A lot of these values are given as 'U'. Let me understand these values first."
      ]
    },
    {
      "cell_type": "code",
      "metadata": {
        "colab": {
          "base_uri": "https://localhost:8080/",
          "height": 369
        },
        "id": "ZVtBk0nZeqbI",
        "outputId": "2e84b4c8-7d87-4463-eced-45772dc33a2e"
      },
      "source": [
        "data[data['occupation']=='U'].head(3)"
      ],
      "execution_count": 107,
      "outputs": [
        {
          "output_type": "execute_result",
          "data": {
            "text/html": [
              "<div>\n",
              "<style scoped>\n",
              "    .dataframe tbody tr th:only-of-type {\n",
              "        vertical-align: middle;\n",
              "    }\n",
              "\n",
              "    .dataframe tbody tr th {\n",
              "        vertical-align: top;\n",
              "    }\n",
              "\n",
              "    .dataframe thead th {\n",
              "        text-align: right;\n",
              "    }\n",
              "</style>\n",
              "<table border=\"1\" class=\"dataframe\">\n",
              "  <thead>\n",
              "    <tr style=\"text-align: right;\">\n",
              "      <th></th>\n",
              "      <th>title</th>\n",
              "      <th>occupations</th>\n",
              "      <th>about_speakers</th>\n",
              "      <th>views</th>\n",
              "      <th>comments</th>\n",
              "      <th>duration</th>\n",
              "      <th>topics</th>\n",
              "      <th>related_talks</th>\n",
              "      <th>description</th>\n",
              "      <th>transcript</th>\n",
              "      <th>published_year</th>\n",
              "      <th>recorded_year</th>\n",
              "      <th>diff_record_publish</th>\n",
              "      <th>age_of_video</th>\n",
              "      <th>published_day_encode</th>\n",
              "      <th>published_month_encode</th>\n",
              "      <th>recorded_day_encode</th>\n",
              "      <th>recorded_month_encode</th>\n",
              "      <th>count_available_lang</th>\n",
              "      <th>event_encode</th>\n",
              "      <th>speaker_1_encode</th>\n",
              "      <th>occupation</th>\n",
              "    </tr>\n",
              "  </thead>\n",
              "  <tbody>\n",
              "    <tr>\n",
              "      <th>1142</th>\n",
              "      <td>I am a pirate</td>\n",
              "      <td>None</td>\n",
              "      <td>{0: 'Rick Falkvinge, didn’t plan on becoming a...</td>\n",
              "      <td>0.003390</td>\n",
              "      <td>0.019848</td>\n",
              "      <td>0.268514</td>\n",
              "      <td>['Internet', 'TEDx', 'global issues', 'politic...</td>\n",
              "      <td>{1329: 'Why SOPA is a bad idea', 871: 'Re-exam...</td>\n",
              "      <td>The Pirate Party fights for transparency, anon...</td>\n",
              "      <td>Thank y'all! This is going to be a motivationa...</td>\n",
              "      <td>2012</td>\n",
              "      <td>2013</td>\n",
              "      <td>0.000000</td>\n",
              "      <td>9</td>\n",
              "      <td>0.013733</td>\n",
              "      <td>0.105618</td>\n",
              "      <td>0.212484</td>\n",
              "      <td>0.081648</td>\n",
              "      <td>16</td>\n",
              "      <td>0.001498</td>\n",
              "      <td>0.00025</td>\n",
              "      <td>U</td>\n",
              "    </tr>\n",
              "    <tr>\n",
              "      <th>1170</th>\n",
              "      <td>Tracking our online trackers</td>\n",
              "      <td>None</td>\n",
              "      <td>{0: 'Gary Kovacs is a technologist and the for...</td>\n",
              "      <td>0.034221</td>\n",
              "      <td>0.040316</td>\n",
              "      <td>0.087778</td>\n",
              "      <td>['Internet', 'advertising', 'business', 'priva...</td>\n",
              "      <td>{1370: 'All your devices can be hacked', 788: ...</td>\n",
              "      <td>As you surf the Web, information is being coll...</td>\n",
              "      <td>I don't know why, but I'm continually amazed t...</td>\n",
              "      <td>2012</td>\n",
              "      <td>2012</td>\n",
              "      <td>0.068429</td>\n",
              "      <td>9</td>\n",
              "      <td>0.207740</td>\n",
              "      <td>0.077903</td>\n",
              "      <td>0.181273</td>\n",
              "      <td>0.164544</td>\n",
              "      <td>32</td>\n",
              "      <td>0.016230</td>\n",
              "      <td>0.00025</td>\n",
              "      <td>U</td>\n",
              "    </tr>\n",
              "    <tr>\n",
              "      <th>1241</th>\n",
              "      <td>Image recognition that triggers augmented reality</td>\n",
              "      <td>None</td>\n",
              "      <td>{0: 'Matt Mills comes from Aurasma, a startup ...</td>\n",
              "      <td>0.041165</td>\n",
              "      <td>0.021709</td>\n",
              "      <td>0.109788</td>\n",
              "      <td>['demo', 'design', 'interface design', 'scienc...</td>\n",
              "      <td>{481: 'Meet the SixthSense interaction', 1411:...</td>\n",
              "      <td>Matt Mills and Tamara Roukaerts demonstrate Au...</td>\n",
              "      <td>So wouldn't it be amazing if our phones could ...</td>\n",
              "      <td>2012</td>\n",
              "      <td>2012</td>\n",
              "      <td>0.064059</td>\n",
              "      <td>9</td>\n",
              "      <td>0.207740</td>\n",
              "      <td>0.069413</td>\n",
              "      <td>0.175031</td>\n",
              "      <td>0.092385</td>\n",
              "      <td>26</td>\n",
              "      <td>0.017478</td>\n",
              "      <td>0.00025</td>\n",
              "      <td>U</td>\n",
              "    </tr>\n",
              "  </tbody>\n",
              "</table>\n",
              "</div>"
            ],
            "text/plain": [
              "                                                  title  ... occupation\n",
              "1142                                      I am a pirate  ...          U\n",
              "1170                       Tracking our online trackers  ...          U\n",
              "1241  Image recognition that triggers augmented reality  ...          U\n",
              "\n",
              "[3 rows x 22 columns]"
            ]
          },
          "metadata": {
            "tags": []
          },
          "execution_count": 107
        }
      ]
    },
    {
      "cell_type": "markdown",
      "metadata": {
        "id": "yIR3NTIIfR3U"
      },
      "source": [
        "Most of the U values are given for None type occupations. I will be changing them to not available."
      ]
    },
    {
      "cell_type": "code",
      "metadata": {
        "id": "mKv6OKXBfld3"
      },
      "source": [
        "data['occupation']=data['occupation'].replace(['U'],'Not available')"
      ],
      "execution_count": 108,
      "outputs": []
    },
    {
      "cell_type": "code",
      "metadata": {
        "colab": {
          "base_uri": "https://localhost:8080/",
          "height": 343
        },
        "id": "tFEC6un-f6_o",
        "outputId": "81c72106-ed7a-4cd1-fdf0-cdfd296e6210"
      },
      "source": [
        "data['occupation'].value_counts().head(10).plot(kind='bar',color= 'purple')"
      ],
      "execution_count": 109,
      "outputs": [
        {
          "output_type": "execute_result",
          "data": {
            "text/plain": [
              "<matplotlib.axes._subplots.AxesSubplot at 0x7fbbb10afad0>"
            ]
          },
          "metadata": {
            "tags": []
          },
          "execution_count": 109
        },
        {
          "output_type": "display_data",
          "data": {
            "image/png": "[encoded data removed]",
            "text/plain": [
              "<Figure size 432x288 with 1 Axes>"
            ]
          },
          "metadata": {
            "tags": [],
            "needs_background": "light"
          }
        }
      ]
    },
    {
      "cell_type": "code",
      "metadata": {
        "id": "J5FIw_fqf-aB"
      },
      "source": [
        "data.drop(columns='occupations',inplace= True)"
      ],
      "execution_count": 110,
      "outputs": []
    },
    {
      "cell_type": "markdown",
      "metadata": {
        "id": "I6KvPyQYf9cz"
      },
      "source": [
        "## Frequency encoding"
      ]
    },
    {
      "cell_type": "code",
      "metadata": {
        "id": "fHfE2ahmel1C"
      },
      "source": [
        "enc_nom_1 = (data.groupby('occupation').size()) / len(data)\n",
        "\n",
        "data['occupation_encode'] = data['occupation'].apply(lambda x : enc_nom_1[x])"
      ],
      "execution_count": 111,
      "outputs": []
    },
    {
      "cell_type": "code",
      "metadata": {
        "id": "ETkIElnQgQvR"
      },
      "source": [
        "data.drop(columns='occupation',inplace=True)"
      ],
      "execution_count": 112,
      "outputs": []
    },
    {
      "cell_type": "markdown",
      "metadata": {
        "id": "-vMxlZiu75fi"
      },
      "source": [
        "## Correlation between variables- "
      ]
    },
    {
      "cell_type": "code",
      "metadata": {
        "colab": {
          "base_uri": "https://localhost:8080/"
        },
        "id": "F0mnh7TMvvK9",
        "outputId": "195fd2be-c358-4a17-df6e-01b326a56553"
      },
      "source": [
        "data.info()"
      ],
      "execution_count": 113,
      "outputs": [
        {
          "output_type": "stream",
          "text": [
            "<class 'pandas.core.frame.DataFrame'>\n",
            "RangeIndex: 4005 entries, 0 to 4004\n",
            "Data columns (total 21 columns):\n",
            " #   Column                  Non-Null Count  Dtype  \n",
            "---  ------                  --------------  -----  \n",
            " 0   title                   4005 non-null   object \n",
            " 1   about_speakers          4005 non-null   object \n",
            " 2   views                   4005 non-null   float64\n",
            " 3   comments                4005 non-null   float64\n",
            " 4   duration                4005 non-null   float64\n",
            " 5   topics                  4005 non-null   object \n",
            " 6   related_talks           4005 non-null   object \n",
            " 7   description             4005 non-null   object \n",
            " 8   transcript              4005 non-null   object \n",
            " 9   published_year          4005 non-null   int64  \n",
            " 10  recorded_year           4005 non-null   int64  \n",
            " 11  diff_record_publish     4005 non-null   float64\n",
            " 12  age_of_video            4005 non-null   int64  \n",
            " 13  published_day_encode    4005 non-null   float64\n",
            " 14  published_month_encode  4005 non-null   float64\n",
            " 15  recorded_day_encode     4005 non-null   float64\n",
            " 16  recorded_month_encode   4005 non-null   float64\n",
            " 17  count_available_lang    4005 non-null   int64  \n",
            " 18  event_encode            4005 non-null   float64\n",
            " 19  speaker_1_encode        4005 non-null   float64\n",
            " 20  occupation_encode       4005 non-null   float64\n",
            "dtypes: float64(11), int64(4), object(6)\n",
            "memory usage: 657.2+ KB\n"
          ],
          "name": "stdout"
        }
      ]
    },
    {
      "cell_type": "code",
      "metadata": {
        "colab": {
          "base_uri": "https://localhost:8080/",
          "height": 405
        },
        "id": "u3lQr7xWaiGm",
        "outputId": "04c00ef0-dcbd-4579-dcc5-710d79f86922"
      },
      "source": [
        "sns.heatmap(data.corr(),annot= True)"
      ],
      "execution_count": 114,
      "outputs": [
        {
          "output_type": "execute_result",
          "data": {
            "text/plain": [
              "<matplotlib.axes._subplots.AxesSubplot at 0x7fbbb1235bd0>"
            ]
          },
          "metadata": {
            "tags": []
          },
          "execution_count": 114
        },
        {
          "output_type": "display_data",
          "data": {
            "image/png": "[encoded data removed]",
            "text/plain": [
              "<Figure size 432x288 with 2 Axes>"
            ]
          },
          "metadata": {
            "tags": [],
            "needs_background": "light"
          }
        }
      ]
    },
    {
      "cell_type": "markdown",
      "metadata": {
        "id": "aWVjJJ-4IedB"
      },
      "source": [
        "## We can remove occupation and event:\n",
        "\n",
        "1. They are highly correlated to each other\n",
        "\n",
        "2. Not much relationship with the views."
      ]
    },
    {
      "cell_type": "code",
      "metadata": {
        "id": "byX7kHbHIpbB"
      },
      "source": [
        "data.drop(columns=['event_encode','occupation_encode'],inplace= True)"
      ],
      "execution_count": 115,
      "outputs": []
    },
    {
      "cell_type": "markdown",
      "metadata": {
        "id": "oEtKnMuXhnR5"
      },
      "source": [
        "## Remove published and recorded year due to following reasons:\n",
        "\n",
        "1. Very highly correlated to one another and closely to some other variables.\n",
        "\n",
        "2. Not much relationship with views."
      ]
    },
    {
      "cell_type": "code",
      "metadata": {
        "id": "FAUSMPWHaxZ5"
      },
      "source": [
        "data.drop(columns=['published_year','recorded_year'],inplace= True)"
      ],
      "execution_count": 116,
      "outputs": []
    },
    {
      "cell_type": "markdown",
      "metadata": {
        "id": "Q-s-6FpGxPcY"
      },
      "source": [
        "# Let us visualize the most spoken about topics in the Ted talks :"
      ]
    },
    {
      "cell_type": "code",
      "metadata": {
        "id": "AwobcJ6-uZV8"
      },
      "source": [
        "from wordcloud import WordCloud,ImageColorGenerator"
      ],
      "execution_count": 117,
      "outputs": []
    },
    {
      "cell_type": "code",
      "metadata": {
        "id": "fVPPGXIuvNFo"
      },
      "source": [
        "text = \" \".join(topic for topic in data.topics.astype(str))"
      ],
      "execution_count": 118,
      "outputs": []
    },
    {
      "cell_type": "code",
      "metadata": {
        "id": "WOMJxov1vfHh"
      },
      "source": [
        "wordcloud = WordCloud(background_color=\"white\", width=800, height=400).generate(text)"
      ],
      "execution_count": 119,
      "outputs": []
    },
    {
      "cell_type": "code",
      "metadata": {
        "colab": {
          "base_uri": "https://localhost:8080/",
          "height": 247
        },
        "id": "o4YMtxJmvrWu",
        "outputId": "bb29f3c1-5589-45d7-86ce-1a9b1ae0a4fa"
      },
      "source": [
        "plt.axis(\"off\")\n",
        "\n",
        "plt.rcParams[\"figure.figsize\"] = (15,10)\n",
        "\n",
        "plt.tight_layout(pad=0)\n",
        "\n",
        "plt.imshow(wordcloud, interpolation='bilinear')\n",
        "\n",
        "plt.savefig('gdrive/MyDrive/AlmaBetter/Almabetter/Capstone Projects/topics_cloud.png', dpi=300, bbox_inches='tight')\n",
        "\n",
        "plt.show()"
      ],
      "execution_count": 120,
      "outputs": [
        {
          "output_type": "display_data",
          "data": {
            "image/png": "[encoded data removed]",
            "text/plain": [
              "<Figure size 432x288 with 1 Axes>"
            ]
          },
          "metadata": {
            "tags": [],
            "needs_background": "light"
          }
        }
      ]
    },
    {
      "cell_type": "markdown",
      "metadata": {
        "id": "e86_Jjqy8N9C"
      },
      "source": [
        "## There are two ways I am going to use topics column- \n",
        "\n",
        "1. Count the number of tags and make it into one feature\n",
        "\n",
        "2. Segreagte the data according to different clusters by the most count of topics the talks were tagged in."
      ]
    },
    {
      "cell_type": "code",
      "metadata": {
        "id": "meEp6fws7KnH"
      },
      "source": [
        "#Raise the important top  topics first:\n",
        "\n",
        "def define_topics(x):\n",
        "  if 'TED Ed' in x:\n",
        "    return 'TED Ed'\n",
        "  elif 'global issues' in x:\n",
        "    return 'global issues'\n",
        "  elif 'technology' in x:\n",
        "    return 'technology'\n",
        "  elif 'science' in x:\n",
        "    return 'science'\n",
        "  elif 'social changes' in x:\n",
        "    return 'social changes'\n",
        "  elif 'communication' in x:\n",
        "    return 'communication'\n",
        "  elif 'business' in x:\n",
        "    return 'business'\n",
        "  elif 'history' in x:\n",
        "    return 'history'\n",
        "  elif 'art' in x:\n",
        "    return 'art'\n",
        "  else:\n",
        "    return 'others'"
      ],
      "execution_count": 121,
      "outputs": []
    },
    {
      "cell_type": "code",
      "metadata": {
        "id": "Cav3wUZR_T5d"
      },
      "source": [
        "data['topic_cluster']= data['topics'].apply(define_topics)"
      ],
      "execution_count": 122,
      "outputs": []
    },
    {
      "cell_type": "code",
      "metadata": {
        "colab": {
          "base_uri": "https://localhost:8080/",
          "height": 607
        },
        "id": "NebMSb1KCY1B",
        "outputId": "b5f8c5db-9135-4da1-ba1e-5b6f9f12bc67"
      },
      "source": [
        "data['topic_cluster'].value_counts().sort_values(ascending=False).plot(kind= 'barh',color= 'teal')\n",
        "\n",
        "plt.title('Topics clusters')\n",
        "\n",
        "plt.rcParams[\"figure.figsize\"] = (10,7)\n",
        "\n",
        "plt.savefig('gdrive/MyDrive/AlmaBetter/Almabetter/Capstone Projects/topicscluster.png', dpi=300, bbox_inches='tight')"
      ],
      "execution_count": 123,
      "outputs": [
        {
          "output_type": "display_data",
          "data": {
            "image/png": "[encoded data removed]",
            "text/plain": [
              "<Figure size 1080x720 with 1 Axes>"
            ]
          },
          "metadata": {
            "tags": [],
            "needs_background": "light"
          }
        }
      ]
    },
    {
      "cell_type": "code",
      "metadata": {
        "id": "VDhsQbTo_iYa"
      },
      "source": [
        "#Find the number of tags\n",
        "\n",
        "def no_of_tags(x):\n",
        "  return len(x)"
      ],
      "execution_count": 124,
      "outputs": []
    },
    {
      "cell_type": "code",
      "metadata": {
        "id": "p5qaGUx3JEJK"
      },
      "source": [
        "data['Num_tags']= data['topics'].apply(no_of_tags)"
      ],
      "execution_count": 125,
      "outputs": []
    },
    {
      "cell_type": "code",
      "metadata": {
        "colab": {
          "base_uri": "https://localhost:8080/",
          "height": 461
        },
        "id": "8xmgBg4AJOLn",
        "outputId": "68fba64e-ebe8-4ab3-ff14-fb68bfde46db"
      },
      "source": [
        "sns.scatterplot(x= data['Num_tags'],y= data['views'])"
      ],
      "execution_count": 126,
      "outputs": [
        {
          "output_type": "execute_result",
          "data": {
            "text/plain": [
              "<matplotlib.axes._subplots.AxesSubplot at 0x7fbbaed086d0>"
            ]
          },
          "metadata": {
            "tags": []
          },
          "execution_count": 126
        },
        {
          "output_type": "display_data",
          "data": {
            "image/png": "[encoded data removed]",
            "text/plain": [
              "<Figure size 720x504 with 1 Axes>"
            ]
          },
          "metadata": {
            "tags": [],
            "needs_background": "light"
          }
        }
      ]
    },
    {
      "cell_type": "markdown",
      "metadata": {
        "id": "HsRvfd5gKRq0"
      },
      "source": [
        "# Feature selection by f-regression:\n",
        "\n",
        "This function can be used in a feature selection strategy, such as selecting the top k most relevant features (largest values) via the SelectKBest class.\n",
        "\n",
        "This can only be used for numerical features and not string data."
      ]
    },
    {
      "cell_type": "code",
      "metadata": {
        "colab": {
          "base_uri": "https://localhost:8080/"
        },
        "id": "cR2s8Bj-MHLd",
        "outputId": "79183476-4ff3-47bd-f78f-3308192ec72e"
      },
      "source": [
        "data.info()"
      ],
      "execution_count": 127,
      "outputs": [
        {
          "output_type": "stream",
          "text": [
            "<class 'pandas.core.frame.DataFrame'>\n",
            "RangeIndex: 4005 entries, 0 to 4004\n",
            "Data columns (total 19 columns):\n",
            " #   Column                  Non-Null Count  Dtype  \n",
            "---  ------                  --------------  -----  \n",
            " 0   title                   4005 non-null   object \n",
            " 1   about_speakers          4005 non-null   object \n",
            " 2   views                   4005 non-null   float64\n",
            " 3   comments                4005 non-null   float64\n",
            " 4   duration                4005 non-null   float64\n",
            " 5   topics                  4005 non-null   object \n",
            " 6   related_talks           4005 non-null   object \n",
            " 7   description             4005 non-null   object \n",
            " 8   transcript              4005 non-null   object \n",
            " 9   diff_record_publish     4005 non-null   float64\n",
            " 10  age_of_video            4005 non-null   int64  \n",
            " 11  published_day_encode    4005 non-null   float64\n",
            " 12  published_month_encode  4005 non-null   float64\n",
            " 13  recorded_day_encode     4005 non-null   float64\n",
            " 14  recorded_month_encode   4005 non-null   float64\n",
            " 15  count_available_lang    4005 non-null   int64  \n",
            " 16  speaker_1_encode        4005 non-null   float64\n",
            " 17  topic_cluster           4005 non-null   object \n",
            " 18  Num_tags                4005 non-null   int64  \n",
            "dtypes: float64(9), int64(3), object(7)\n",
            "memory usage: 594.6+ KB\n"
          ],
          "name": "stdout"
        }
      ]
    },
    {
      "cell_type": "code",
      "metadata": {
        "id": "3wwDEAz5QcgL"
      },
      "source": [
        "data['duration']= data['duration'].astype('float64')"
      ],
      "execution_count": 128,
      "outputs": []
    },
    {
      "cell_type": "code",
      "metadata": {
        "colab": {
          "base_uri": "https://localhost:8080/"
        },
        "id": "yOnCC4AeRPtt",
        "outputId": "28a402b9-8cb2-45e2-9439-8ff3274f6df8"
      },
      "source": [
        "data.columns"
      ],
      "execution_count": 129,
      "outputs": [
        {
          "output_type": "execute_result",
          "data": {
            "text/plain": [
              "Index(['title', 'about_speakers', 'views', 'comments', 'duration', 'topics',\n",
              "       'related_talks', 'description', 'transcript', 'diff_record_publish',\n",
              "       'age_of_video', 'published_day_encode', 'published_month_encode',\n",
              "       'recorded_day_encode', 'recorded_month_encode', 'count_available_lang',\n",
              "       'speaker_1_encode', 'topic_cluster', 'Num_tags'],\n",
              "      dtype='object')"
            ]
          },
          "metadata": {
            "tags": []
          },
          "execution_count": 129
        }
      ]
    },
    {
      "cell_type": "code",
      "metadata": {
        "id": "46J6RPJDRFSS"
      },
      "source": [
        "num_var=['comments','duration','diff_record_publish','age_of_video','published_day_encode','published_month_encode','recorded_day_encode','recorded_month_encode',\n",
        "         'count_available_lang','speaker_1_encode','Num_tags']"
      ],
      "execution_count": 130,
      "outputs": []
    },
    {
      "cell_type": "code",
      "metadata": {
        "id": "ckSTQV6TRw1M"
      },
      "source": [
        "numerical_features= data[num_var]"
      ],
      "execution_count": 131,
      "outputs": []
    },
    {
      "cell_type": "code",
      "metadata": {
        "id": "cL3iHHOCP1DL"
      },
      "source": [
        "dependent_variable= data['views']"
      ],
      "execution_count": 132,
      "outputs": []
    },
    {
      "cell_type": "code",
      "metadata": {
        "id": "wyooJY0xLkqc"
      },
      "source": [
        "#import libraries\n",
        "\n",
        "from sklearn.model_selection import train_test_split\n",
        "from sklearn.feature_selection import SelectKBest\n",
        "from sklearn.feature_selection import f_regression"
      ],
      "execution_count": 133,
      "outputs": []
    },
    {
      "cell_type": "code",
      "metadata": {
        "colab": {
          "base_uri": "https://localhost:8080/"
        },
        "id": "QW0w16SfPzfy",
        "outputId": "9e880707-46f1-4a73-95d3-014dfd079eb2"
      },
      "source": [
        "f_scores = f_regression(numerical_features, dependent_variable)\n",
        "f_scores"
      ],
      "execution_count": 134,
      "outputs": [
        {
          "output_type": "execute_result",
          "data": {
            "text/plain": [
              "(array([1.07911409e+03, 2.18272996e+01, 3.05441040e-01, 1.14808807e+01,\n",
              "        3.06720513e+00, 4.03933630e+00, 1.79196337e+00, 1.20762744e+01,\n",
              "        5.79875934e+02, 7.50898027e+00, 2.41993758e+00]),\n",
              " array([9.19769042e-210, 3.08124671e-006, 5.80522172e-001, 7.09949633e-004,\n",
              "        7.99632884e-002, 4.45182805e-002, 1.80763148e-001, 5.16096255e-004,\n",
              "        9.03081853e-120, 6.16644214e-003, 1.19878756e-001]))"
            ]
          },
          "metadata": {
            "tags": []
          },
          "execution_count": 134
        }
      ]
    },
    {
      "cell_type": "code",
      "metadata": {
        "id": "JcR4hPjnQ2I3"
      },
      "source": [
        "#The second array consists of p-values that we need\n",
        "\n",
        "p_values= pd.Series(f_scores[1],index= numerical_features.columns)"
      ],
      "execution_count": 135,
      "outputs": []
    },
    {
      "cell_type": "code",
      "metadata": {
        "colab": {
          "base_uri": "https://localhost:8080/",
          "height": 579
        },
        "id": "9ZvlASFvSB_9",
        "outputId": "597d3c77-652f-457a-c168-845fa93b9edd"
      },
      "source": [
        "p_values.plot(kind='bar',color='red')\n",
        "\n",
        "plt.title('P-value scores for numerical features')"
      ],
      "execution_count": 136,
      "outputs": [
        {
          "output_type": "execute_result",
          "data": {
            "text/plain": [
              "Text(0.5, 1.0, 'P-value scores for numerical features')"
            ]
          },
          "metadata": {
            "tags": []
          },
          "execution_count": 136
        },
        {
          "output_type": "display_data",
          "data": {
            "image/png": "[encoded data removed]",
            "text/plain": [
              "<Figure size 720x504 with 1 Axes>"
            ]
          },
          "metadata": {
            "tags": [],
            "needs_background": "light"
          }
        }
      ]
    },
    {
      "cell_type": "markdown",
      "metadata": {
        "id": "l2VIosCQSNE0"
      },
      "source": [
        "Remove the diff_record_publish column for high p values."
      ]
    },
    {
      "cell_type": "code",
      "metadata": {
        "colab": {
          "base_uri": "https://localhost:8080/"
        },
        "id": "ExMbgVtOS7Nu",
        "outputId": "4f6681ae-ca5e-47e6-9b47-8ac64903342a"
      },
      "source": [
        "numerical_features.drop(columns='diff_record_publish',inplace= True)"
      ],
      "execution_count": 137,
      "outputs": [
        {
          "output_type": "stream",
          "text": [
            "/usr/local/lib/python3.7/dist-packages/pandas/core/frame.py:4174: SettingWithCopyWarning: \n",
            "A value is trying to be set on a copy of a slice from a DataFrame\n",
            "\n",
            "See the caveats in the documentation: https://pandas.pydata.org/pandas-docs/stable/user_guide/indexing.html#returning-a-view-versus-a-copy\n",
            "  errors=errors,\n"
          ],
          "name": "stderr"
        }
      ]
    },
    {
      "cell_type": "code",
      "metadata": {
        "id": "_GQwkKVaS3ZS"
      },
      "source": [
        "X= numerical_features\n",
        "\n",
        "Y= dependent_variable"
      ],
      "execution_count": 138,
      "outputs": []
    },
    {
      "cell_type": "code",
      "metadata": {
        "id": "gaJvllc_OL_P"
      },
      "source": [
        "# split into train and test sets\n",
        "X_train, X_test, y_train, y_test = train_test_split(X, Y, test_size=0.25, random_state=42)"
      ],
      "execution_count": 139,
      "outputs": []
    },
    {
      "cell_type": "code",
      "metadata": {
        "id": "oqitz9v_Nozp"
      },
      "source": [
        "#Scaling the data first:\n",
        "scaler = MinMaxScaler()\n",
        "X_train = scaler.fit_transform(X_train)\n",
        "X_test = scaler.transform(X_test)\n"
      ],
      "execution_count": 140,
      "outputs": []
    },
    {
      "cell_type": "markdown",
      "metadata": {
        "id": "sDURql6STOZ-"
      },
      "source": [
        "# Checking in a simple XGBoost Baseline model with hyper paramater tuning first:"
      ]
    },
    {
      "cell_type": "code",
      "metadata": {
        "id": "9YJRdCsBThPG"
      },
      "source": [
        "from xgboost import XGBRegressor"
      ],
      "execution_count": 141,
      "outputs": []
    },
    {
      "cell_type": "code",
      "metadata": {
        "id": "RYp6qOfOTnPt"
      },
      "source": [
        "from sklearn.model_selection import RandomizedSearchCV"
      ],
      "execution_count": 142,
      "outputs": []
    },
    {
      "cell_type": "code",
      "metadata": {
        "colab": {
          "base_uri": "https://localhost:8080/"
        },
        "id": "ap9g5xK1L3cB",
        "outputId": "3805be9e-af53-41ee-c823-2c19179c042f"
      },
      "source": [
        "#XGBoost Regressor\n",
        "\n",
        "# Number of trees\n",
        "n_estimators = [50,80,100]\n",
        "\n",
        "# Maximum depth of trees\n",
        "max_depth = [4,6,8]\n",
        "\n",
        "# Minimum number of samples required to split a node\n",
        "min_samples_split = [50,100,150]\n",
        "\n",
        "# Minimum number of samples required at each leaf node\n",
        "min_samples_leaf = [40,50]\n",
        "\n",
        "# HYperparameter Dict\n",
        "param_dict = {'n_estimators' : n_estimators,\n",
        "              'max_depth' : max_depth,\n",
        "              'min_samples_split' : min_samples_split,\n",
        "              'min_samples_leaf' : min_samples_leaf}\n",
        "\n",
        "# Create an instance of the XGBoost\n",
        "xgb_model = XGBRegressor(learning_rate=0.1)\n",
        "\n",
        "#RandomSearch\n",
        "xgb_random = RandomizedSearchCV(xgb_model,param_dict,verbose=2,cv=5)\n",
        "\n",
        "\n",
        "xgb_random.fit(X_train,y_train)\n"
      ],
      "execution_count": 143,
      "outputs": [
        {
          "output_type": "stream",
          "text": [
            "Fitting 5 folds for each of 10 candidates, totalling 50 fits\n",
            "[CV] n_estimators=80, min_samples_split=150, min_samples_leaf=40, max_depth=8 \n",
            "[15:08:42] WARNING: /workspace/src/objective/regression_obj.cu:152: reg:linear is now deprecated in favor of reg:squarederror.\n"
          ],
          "name": "stdout"
        },
        {
          "output_type": "stream",
          "text": [
            "[Parallel(n_jobs=1)]: Using backend SequentialBackend with 1 concurrent workers.\n"
          ],
          "name": "stderr"
        },
        {
          "output_type": "stream",
          "text": [
            "[CV]  n_estimators=80, min_samples_split=150, min_samples_leaf=40, max_depth=8, total=   0.4s\n",
            "[CV] n_estimators=80, min_samples_split=150, min_samples_leaf=40, max_depth=8 \n",
            "[15:08:43] WARNING: /workspace/src/objective/regression_obj.cu:152: reg:linear is now deprecated in favor of reg:squarederror.\n"
          ],
          "name": "stdout"
        },
        {
          "output_type": "stream",
          "text": [
            "[Parallel(n_jobs=1)]: Done   1 out of   1 | elapsed:    0.4s remaining:    0.0s\n"
          ],
          "name": "stderr"
        },
        {
          "output_type": "stream",
          "text": [
            "[CV]  n_estimators=80, min_samples_split=150, min_samples_leaf=40, max_depth=8, total=   0.3s\n",
            "[CV] n_estimators=80, min_samples_split=150, min_samples_leaf=40, max_depth=8 \n",
            "[15:08:43] WARNING: /workspace/src/objective/regression_obj.cu:152: reg:linear is now deprecated in favor of reg:squarederror.\n",
            "[CV]  n_estimators=80, min_samples_split=150, min_samples_leaf=40, max_depth=8, total=   0.3s\n",
            "[CV] n_estimators=80, min_samples_split=150, min_samples_leaf=40, max_depth=8 \n",
            "[15:08:43] WARNING: /workspace/src/objective/regression_obj.cu:152: reg:linear is now deprecated in favor of reg:squarederror.\n",
            "[CV]  n_estimators=80, min_samples_split=150, min_samples_leaf=40, max_depth=8, total=   0.3s\n",
            "[CV] n_estimators=80, min_samples_split=150, min_samples_leaf=40, max_depth=8 \n",
            "[15:08:44] WARNING: /workspace/src/objective/regression_obj.cu:152: reg:linear is now deprecated in favor of reg:squarederror.\n",
            "[CV]  n_estimators=80, min_samples_split=150, min_samples_leaf=40, max_depth=8, total=   0.3s\n",
            "[CV] n_estimators=100, min_samples_split=50, min_samples_leaf=40, max_depth=8 \n",
            "[15:08:44] WARNING: /workspace/src/objective/regression_obj.cu:152: reg:linear is now deprecated in favor of reg:squarederror.\n",
            "[CV]  n_estimators=100, min_samples_split=50, min_samples_leaf=40, max_depth=8, total=   0.4s\n",
            "[CV] n_estimators=100, min_samples_split=50, min_samples_leaf=40, max_depth=8 \n",
            "[15:08:44] WARNING: /workspace/src/objective/regression_obj.cu:152: reg:linear is now deprecated in favor of reg:squarederror.\n",
            "[CV]  n_estimators=100, min_samples_split=50, min_samples_leaf=40, max_depth=8, total=   0.4s\n",
            "[CV] n_estimators=100, min_samples_split=50, min_samples_leaf=40, max_depth=8 \n",
            "[15:08:45] WARNING: /workspace/src/objective/regression_obj.cu:152: reg:linear is now deprecated in favor of reg:squarederror.\n",
            "[CV]  n_estimators=100, min_samples_split=50, min_samples_leaf=40, max_depth=8, total=   0.4s\n",
            "[CV] n_estimators=100, min_samples_split=50, min_samples_leaf=40, max_depth=8 \n",
            "[15:08:45] WARNING: /workspace/src/objective/regression_obj.cu:152: reg:linear is now deprecated in favor of reg:squarederror.\n",
            "[CV]  n_estimators=100, min_samples_split=50, min_samples_leaf=40, max_depth=8, total=   0.4s\n",
            "[CV] n_estimators=100, min_samples_split=50, min_samples_leaf=40, max_depth=8 \n",
            "[15:08:46] WARNING: /workspace/src/objective/regression_obj.cu:152: reg:linear is now deprecated in favor of reg:squarederror.\n",
            "[CV]  n_estimators=100, min_samples_split=50, min_samples_leaf=40, max_depth=8, total=   0.4s\n",
            "[CV] n_estimators=50, min_samples_split=50, min_samples_leaf=50, max_depth=8 \n",
            "[15:08:46] WARNING: /workspace/src/objective/regression_obj.cu:152: reg:linear is now deprecated in favor of reg:squarederror.\n",
            "[CV]  n_estimators=50, min_samples_split=50, min_samples_leaf=50, max_depth=8, total=   0.2s\n",
            "[CV] n_estimators=50, min_samples_split=50, min_samples_leaf=50, max_depth=8 \n",
            "[15:08:46] WARNING: /workspace/src/objective/regression_obj.cu:152: reg:linear is now deprecated in favor of reg:squarederror.\n",
            "[CV]  n_estimators=50, min_samples_split=50, min_samples_leaf=50, max_depth=8, total=   0.2s\n",
            "[CV] n_estimators=50, min_samples_split=50, min_samples_leaf=50, max_depth=8 \n",
            "[15:08:46] WARNING: /workspace/src/objective/regression_obj.cu:152: reg:linear is now deprecated in favor of reg:squarederror.\n",
            "[CV]  n_estimators=50, min_samples_split=50, min_samples_leaf=50, max_depth=8, total=   0.2s\n",
            "[CV] n_estimators=50, min_samples_split=50, min_samples_leaf=50, max_depth=8 \n",
            "[15:08:46] WARNING: /workspace/src/objective/regression_obj.cu:152: reg:linear is now deprecated in favor of reg:squarederror.\n",
            "[CV]  n_estimators=50, min_samples_split=50, min_samples_leaf=50, max_depth=8, total=   0.2s\n",
            "[CV] n_estimators=50, min_samples_split=50, min_samples_leaf=50, max_depth=8 \n",
            "[15:08:47] WARNING: /workspace/src/objective/regression_obj.cu:152: reg:linear is now deprecated in favor of reg:squarederror.\n",
            "[CV]  n_estimators=50, min_samples_split=50, min_samples_leaf=50, max_depth=8, total=   0.2s\n",
            "[CV] n_estimators=100, min_samples_split=150, min_samples_leaf=40, max_depth=8 \n",
            "[15:08:47] WARNING: /workspace/src/objective/regression_obj.cu:152: reg:linear is now deprecated in favor of reg:squarederror.\n",
            "[CV]  n_estimators=100, min_samples_split=150, min_samples_leaf=40, max_depth=8, total=   0.4s\n",
            "[CV] n_estimators=100, min_samples_split=150, min_samples_leaf=40, max_depth=8 \n",
            "[15:08:47] WARNING: /workspace/src/objective/regression_obj.cu:152: reg:linear is now deprecated in favor of reg:squarederror.\n",
            "[CV]  n_estimators=100, min_samples_split=150, min_samples_leaf=40, max_depth=8, total=   0.4s\n",
            "[CV] n_estimators=100, min_samples_split=150, min_samples_leaf=40, max_depth=8 \n",
            "[15:08:48] WARNING: /workspace/src/objective/regression_obj.cu:152: reg:linear is now deprecated in favor of reg:squarederror.\n",
            "[CV]  n_estimators=100, min_samples_split=150, min_samples_leaf=40, max_depth=8, total=   0.4s\n",
            "[CV] n_estimators=100, min_samples_split=150, min_samples_leaf=40, max_depth=8 \n",
            "[15:08:48] WARNING: /workspace/src/objective/regression_obj.cu:152: reg:linear is now deprecated in favor of reg:squarederror.\n",
            "[CV]  n_estimators=100, min_samples_split=150, min_samples_leaf=40, max_depth=8, total=   0.4s\n",
            "[CV] n_estimators=100, min_samples_split=150, min_samples_leaf=40, max_depth=8 \n",
            "[15:08:48] WARNING: /workspace/src/objective/regression_obj.cu:152: reg:linear is now deprecated in favor of reg:squarederror.\n",
            "[CV]  n_estimators=100, min_samples_split=150, min_samples_leaf=40, max_depth=8, total=   0.4s\n",
            "[CV] n_estimators=80, min_samples_split=50, min_samples_leaf=40, max_depth=6 \n",
            "[15:08:49] WARNING: /workspace/src/objective/regression_obj.cu:152: reg:linear is now deprecated in favor of reg:squarederror.\n",
            "[CV]  n_estimators=80, min_samples_split=50, min_samples_leaf=40, max_depth=6, total=   0.2s\n",
            "[CV] n_estimators=80, min_samples_split=50, min_samples_leaf=40, max_depth=6 \n",
            "[15:08:49] WARNING: /workspace/src/objective/regression_obj.cu:152: reg:linear is now deprecated in favor of reg:squarederror.\n",
            "[CV]  n_estimators=80, min_samples_split=50, min_samples_leaf=40, max_depth=6, total=   0.2s\n",
            "[CV] n_estimators=80, min_samples_split=50, min_samples_leaf=40, max_depth=6 \n",
            "[15:08:49] WARNING: /workspace/src/objective/regression_obj.cu:152: reg:linear is now deprecated in favor of reg:squarederror.\n",
            "[CV]  n_estimators=80, min_samples_split=50, min_samples_leaf=40, max_depth=6, total=   0.2s\n",
            "[CV] n_estimators=80, min_samples_split=50, min_samples_leaf=40, max_depth=6 \n",
            "[15:08:49] WARNING: /workspace/src/objective/regression_obj.cu:152: reg:linear is now deprecated in favor of reg:squarederror.\n",
            "[CV]  n_estimators=80, min_samples_split=50, min_samples_leaf=40, max_depth=6, total=   0.2s\n",
            "[CV] n_estimators=80, min_samples_split=50, min_samples_leaf=40, max_depth=6 \n",
            "[15:08:49] WARNING: /workspace/src/objective/regression_obj.cu:152: reg:linear is now deprecated in favor of reg:squarederror.\n",
            "[CV]  n_estimators=80, min_samples_split=50, min_samples_leaf=40, max_depth=6, total=   0.2s\n",
            "[CV] n_estimators=80, min_samples_split=50, min_samples_leaf=40, max_depth=8 \n",
            "[15:08:50] WARNING: /workspace/src/objective/regression_obj.cu:152: reg:linear is now deprecated in favor of reg:squarederror.\n",
            "[CV]  n_estimators=80, min_samples_split=50, min_samples_leaf=40, max_depth=8, total=   0.3s\n",
            "[CV] n_estimators=80, min_samples_split=50, min_samples_leaf=40, max_depth=8 \n",
            "[15:08:50] WARNING: /workspace/src/objective/regression_obj.cu:152: reg:linear is now deprecated in favor of reg:squarederror.\n",
            "[CV]  n_estimators=80, min_samples_split=50, min_samples_leaf=40, max_depth=8, total=   0.3s\n",
            "[CV] n_estimators=80, min_samples_split=50, min_samples_leaf=40, max_depth=8 \n",
            "[15:08:50] WARNING: /workspace/src/objective/regression_obj.cu:152: reg:linear is now deprecated in favor of reg:squarederror.\n",
            "[CV]  n_estimators=80, min_samples_split=50, min_samples_leaf=40, max_depth=8, total=   0.3s\n",
            "[CV] n_estimators=80, min_samples_split=50, min_samples_leaf=40, max_depth=8 \n",
            "[15:08:51] WARNING: /workspace/src/objective/regression_obj.cu:152: reg:linear is now deprecated in favor of reg:squarederror.\n",
            "[CV]  n_estimators=80, min_samples_split=50, min_samples_leaf=40, max_depth=8, total=   0.3s\n",
            "[CV] n_estimators=80, min_samples_split=50, min_samples_leaf=40, max_depth=8 \n",
            "[15:08:51] WARNING: /workspace/src/objective/regression_obj.cu:152: reg:linear is now deprecated in favor of reg:squarederror.\n",
            "[CV]  n_estimators=80, min_samples_split=50, min_samples_leaf=40, max_depth=8, total=   0.3s\n",
            "[CV] n_estimators=80, min_samples_split=100, min_samples_leaf=50, max_depth=4 \n",
            "[15:08:51] WARNING: /workspace/src/objective/regression_obj.cu:152: reg:linear is now deprecated in favor of reg:squarederror.\n",
            "[CV]  n_estimators=80, min_samples_split=100, min_samples_leaf=50, max_depth=4, total=   0.1s\n",
            "[CV] n_estimators=80, min_samples_split=100, min_samples_leaf=50, max_depth=4 \n",
            "[15:08:51] WARNING: /workspace/src/objective/regression_obj.cu:152: reg:linear is now deprecated in favor of reg:squarederror.\n",
            "[CV]  n_estimators=80, min_samples_split=100, min_samples_leaf=50, max_depth=4, total=   0.1s\n",
            "[CV] n_estimators=80, min_samples_split=100, min_samples_leaf=50, max_depth=4 \n",
            "[15:08:51] WARNING: /workspace/src/objective/regression_obj.cu:152: reg:linear is now deprecated in favor of reg:squarederror.\n",
            "[CV]  n_estimators=80, min_samples_split=100, min_samples_leaf=50, max_depth=4, total=   0.1s\n",
            "[CV] n_estimators=80, min_samples_split=100, min_samples_leaf=50, max_depth=4 \n",
            "[15:08:52] WARNING: /workspace/src/objective/regression_obj.cu:152: reg:linear is now deprecated in favor of reg:squarederror.\n",
            "[CV]  n_estimators=80, min_samples_split=100, min_samples_leaf=50, max_depth=4, total=   0.1s\n",
            "[CV] n_estimators=80, min_samples_split=100, min_samples_leaf=50, max_depth=4 \n",
            "[15:08:52] WARNING: /workspace/src/objective/regression_obj.cu:152: reg:linear is now deprecated in favor of reg:squarederror.\n",
            "[CV]  n_estimators=80, min_samples_split=100, min_samples_leaf=50, max_depth=4, total=   0.1s\n",
            "[CV] n_estimators=50, min_samples_split=100, min_samples_leaf=50, max_depth=6 \n",
            "[15:08:52] WARNING: /workspace/src/objective/regression_obj.cu:152: reg:linear is now deprecated in favor of reg:squarederror.\n",
            "[CV]  n_estimators=50, min_samples_split=100, min_samples_leaf=50, max_depth=6, total=   0.1s\n",
            "[CV] n_estimators=50, min_samples_split=100, min_samples_leaf=50, max_depth=6 \n",
            "[15:08:52] WARNING: /workspace/src/objective/regression_obj.cu:152: reg:linear is now deprecated in favor of reg:squarederror.\n",
            "[CV]  n_estimators=50, min_samples_split=100, min_samples_leaf=50, max_depth=6, total=   0.1s\n",
            "[CV] n_estimators=50, min_samples_split=100, min_samples_leaf=50, max_depth=6 \n",
            "[15:08:52] WARNING: /workspace/src/objective/regression_obj.cu:152: reg:linear is now deprecated in favor of reg:squarederror.\n",
            "[CV]  n_estimators=50, min_samples_split=100, min_samples_leaf=50, max_depth=6, total=   0.1s\n",
            "[CV] n_estimators=50, min_samples_split=100, min_samples_leaf=50, max_depth=6 \n",
            "[15:08:52] WARNING: /workspace/src/objective/regression_obj.cu:152: reg:linear is now deprecated in favor of reg:squarederror.\n",
            "[CV]  n_estimators=50, min_samples_split=100, min_samples_leaf=50, max_depth=6, total=   0.1s\n",
            "[CV] n_estimators=50, min_samples_split=100, min_samples_leaf=50, max_depth=6 \n",
            "[15:08:52] WARNING: /workspace/src/objective/regression_obj.cu:152: reg:linear is now deprecated in favor of reg:squarederror.\n",
            "[CV]  n_estimators=50, min_samples_split=100, min_samples_leaf=50, max_depth=6, total=   0.1s\n",
            "[CV] n_estimators=80, min_samples_split=50, min_samples_leaf=50, max_depth=6 \n",
            "[15:08:53] WARNING: /workspace/src/objective/regression_obj.cu:152: reg:linear is now deprecated in favor of reg:squarederror.\n",
            "[CV]  n_estimators=80, min_samples_split=50, min_samples_leaf=50, max_depth=6, total=   0.2s\n",
            "[CV] n_estimators=80, min_samples_split=50, min_samples_leaf=50, max_depth=6 \n",
            "[15:08:53] WARNING: /workspace/src/objective/regression_obj.cu:152: reg:linear is now deprecated in favor of reg:squarederror.\n",
            "[CV]  n_estimators=80, min_samples_split=50, min_samples_leaf=50, max_depth=6, total=   0.2s\n",
            "[CV] n_estimators=80, min_samples_split=50, min_samples_leaf=50, max_depth=6 \n",
            "[15:08:53] WARNING: /workspace/src/objective/regression_obj.cu:152: reg:linear is now deprecated in favor of reg:squarederror.\n",
            "[CV]  n_estimators=80, min_samples_split=50, min_samples_leaf=50, max_depth=6, total=   0.2s\n",
            "[CV] n_estimators=80, min_samples_split=50, min_samples_leaf=50, max_depth=6 \n",
            "[15:08:53] WARNING: /workspace/src/objective/regression_obj.cu:152: reg:linear is now deprecated in favor of reg:squarederror.\n",
            "[CV]  n_estimators=80, min_samples_split=50, min_samples_leaf=50, max_depth=6, total=   0.2s\n",
            "[CV] n_estimators=80, min_samples_split=50, min_samples_leaf=50, max_depth=6 \n",
            "[15:08:53] WARNING: /workspace/src/objective/regression_obj.cu:152: reg:linear is now deprecated in favor of reg:squarederror.\n",
            "[CV]  n_estimators=80, min_samples_split=50, min_samples_leaf=50, max_depth=6, total=   0.2s\n",
            "[CV] n_estimators=80, min_samples_split=100, min_samples_leaf=50, max_depth=6 \n",
            "[15:08:54] WARNING: /workspace/src/objective/regression_obj.cu:152: reg:linear is now deprecated in favor of reg:squarederror.\n",
            "[CV]  n_estimators=80, min_samples_split=100, min_samples_leaf=50, max_depth=6, total=   0.2s\n",
            "[CV] n_estimators=80, min_samples_split=100, min_samples_leaf=50, max_depth=6 \n",
            "[15:08:54] WARNING: /workspace/src/objective/regression_obj.cu:152: reg:linear is now deprecated in favor of reg:squarederror.\n",
            "[CV]  n_estimators=80, min_samples_split=100, min_samples_leaf=50, max_depth=6, total=   0.2s\n",
            "[CV] n_estimators=80, min_samples_split=100, min_samples_leaf=50, max_depth=6 \n",
            "[15:08:54] WARNING: /workspace/src/objective/regression_obj.cu:152: reg:linear is now deprecated in favor of reg:squarederror.\n",
            "[CV]  n_estimators=80, min_samples_split=100, min_samples_leaf=50, max_depth=6, total=   0.2s\n",
            "[CV] n_estimators=80, min_samples_split=100, min_samples_leaf=50, max_depth=6 \n",
            "[15:08:54] WARNING: /workspace/src/objective/regression_obj.cu:152: reg:linear is now deprecated in favor of reg:squarederror.\n",
            "[CV]  n_estimators=80, min_samples_split=100, min_samples_leaf=50, max_depth=6, total=   0.2s\n",
            "[CV] n_estimators=80, min_samples_split=100, min_samples_leaf=50, max_depth=6 \n",
            "[15:08:54] WARNING: /workspace/src/objective/regression_obj.cu:152: reg:linear is now deprecated in favor of reg:squarederror.\n",
            "[CV]  n_estimators=80, min_samples_split=100, min_samples_leaf=50, max_depth=6, total=   0.2s\n",
            "[15:08:55] WARNING: /workspace/src/objective/regression_obj.cu:152: reg:linear is now deprecated in favor of reg:squarederror.\n"
          ],
          "name": "stdout"
        },
        {
          "output_type": "stream",
          "text": [
            "[Parallel(n_jobs=1)]: Done  50 out of  50 | elapsed:   12.2s finished\n"
          ],
          "name": "stderr"
        },
        {
          "output_type": "execute_result",
          "data": {
            "text/plain": [
              "RandomizedSearchCV(cv=5, error_score=nan,\n",
              "                   estimator=XGBRegressor(base_score=0.5, booster='gbtree',\n",
              "                                          colsample_bylevel=1,\n",
              "                                          colsample_bynode=1,\n",
              "                                          colsample_bytree=1, gamma=0,\n",
              "                                          importance_type='gain',\n",
              "                                          learning_rate=0.1, max_delta_step=0,\n",
              "                                          max_depth=3, min_child_weight=1,\n",
              "                                          missing=None, n_estimators=100,\n",
              "                                          n_jobs=1, nthread=None,\n",
              "                                          objective='reg:linear',\n",
              "                                          random_state=0, reg_alpha=0,\n",
              "                                          reg_lambda=1, scale_pos_weight=1,\n",
              "                                          seed=None, silent=None, subsample=1,\n",
              "                                          verbosity=1),\n",
              "                   iid='deprecated', n_iter=10, n_jobs=None,\n",
              "                   param_distributions={'max_depth': [4, 6, 8],\n",
              "                                        'min_samples_leaf': [40, 50],\n",
              "                                        'min_samples_split': [50, 100, 150],\n",
              "                                        'n_estimators': [50, 80, 100]},\n",
              "                   pre_dispatch='2*n_jobs', random_state=None, refit=True,\n",
              "                   return_train_score=False, scoring=None, verbose=2)"
            ]
          },
          "metadata": {
            "tags": []
          },
          "execution_count": 143
        }
      ]
    },
    {
      "cell_type": "code",
      "metadata": {
        "colab": {
          "base_uri": "https://localhost:8080/"
        },
        "id": "KAKHQPOgT0DJ",
        "outputId": "5968f7ac-bb6f-48cd-9a46-89ba1e1480f5"
      },
      "source": [
        "#The best esitmators\n",
        "xgb_random.best_estimator_"
      ],
      "execution_count": 144,
      "outputs": [
        {
          "output_type": "execute_result",
          "data": {
            "text/plain": [
              "XGBRegressor(base_score=0.5, booster='gbtree', colsample_bylevel=1,\n",
              "             colsample_bynode=1, colsample_bytree=1, gamma=0,\n",
              "             importance_type='gain', learning_rate=0.1, max_delta_step=0,\n",
              "             max_depth=4, min_child_weight=1, min_samples_leaf=50,\n",
              "             min_samples_split=100, missing=None, n_estimators=80, n_jobs=1,\n",
              "             nthread=None, objective='reg:linear', random_state=0, reg_alpha=0,\n",
              "             reg_lambda=1, scale_pos_weight=1, seed=None, silent=None,\n",
              "             subsample=1, verbosity=1)"
            ]
          },
          "metadata": {
            "tags": []
          },
          "execution_count": 144
        }
      ]
    },
    {
      "cell_type": "code",
      "metadata": {
        "id": "jdOKzP4qUfAO"
      },
      "source": [
        "#Building optimal model on the best estimators\n",
        "xgb_optimal_model = xgb_random.best_estimator_"
      ],
      "execution_count": 145,
      "outputs": []
    },
    {
      "cell_type": "code",
      "metadata": {
        "id": "bqH2f0oXUk_2"
      },
      "source": [
        "# make predictions for test data\n",
        "y_hat = xgb_optimal_model.predict(X_test)"
      ],
      "execution_count": 146,
      "outputs": []
    },
    {
      "cell_type": "code",
      "metadata": {
        "colab": {
          "base_uri": "https://localhost:8080/"
        },
        "id": "HZITVIfTUn5B",
        "outputId": "06bbd751-1a17-481d-9f5b-13a46c8eb529"
      },
      "source": [
        "print(f'r_sqr value for train: {xgb_optimal_model.score(X_train, y_train)}')"
      ],
      "execution_count": 147,
      "outputs": [
        {
          "output_type": "stream",
          "text": [
            "r_sqr value for train: 0.8156982786036071\n"
          ],
          "name": "stdout"
        }
      ]
    },
    {
      "cell_type": "markdown",
      "metadata": {
        "id": "cbpELZ5xMFZf"
      },
      "source": [
        "Scores:"
      ]
    },
    {
      "cell_type": "code",
      "metadata": {
        "id": "BflOR2TvlULz"
      },
      "source": [
        "from sklearn.metrics import mean_squared_error,r2_score,mean_absolute_error"
      ],
      "execution_count": 148,
      "outputs": []
    },
    {
      "cell_type": "code",
      "metadata": {
        "id": "hRQ5OjS-aNgE"
      },
      "source": [
        "r_squared= r2_score(y_test,y_hat)"
      ],
      "execution_count": 149,
      "outputs": []
    },
    {
      "cell_type": "code",
      "metadata": {
        "colab": {
          "base_uri": "https://localhost:8080/"
        },
        "id": "Ud75qDg8ZtUX",
        "outputId": "594d475d-f9ea-404f-b5be-b1591bce5431"
      },
      "source": [
        "#Calculate Adjusted R-sqaured\n",
        "adjusted_r_squared = 1 - (1-r_squared)*(len(Y)-1)/(len(Y)-X.shape[1]-1)\n",
        "print(f'The R_Squared for XGBoost is {r_squared} for train and adjusted R_Squared is {adjusted_r_squared}')\n"
      ],
      "execution_count": 150,
      "outputs": [
        {
          "output_type": "stream",
          "text": [
            "The R_Squared for XGBoost is 0.30023175524252044 for train and adjusted R_Squared is 0.29847970655759937\n"
          ],
          "name": "stdout"
        }
      ]
    },
    {
      "cell_type": "code",
      "metadata": {
        "id": "52wM9PHTlhFj"
      },
      "source": [
        "mse= mean_squared_error(y_test,y_hat)"
      ],
      "execution_count": 151,
      "outputs": []
    },
    {
      "cell_type": "code",
      "metadata": {
        "id": "16KN712lldEr"
      },
      "source": [
        "import math"
      ],
      "execution_count": 152,
      "outputs": []
    },
    {
      "cell_type": "code",
      "metadata": {
        "colab": {
          "base_uri": "https://localhost:8080/"
        },
        "id": "AvGk6z2slZjR",
        "outputId": "833e9220-2980-4638-b797-a59f444fbfdd"
      },
      "source": [
        "print(f'The Root Mean Squared Error for XGBoost is: {math.sqrt(mse)}')"
      ],
      "execution_count": 153,
      "outputs": [
        {
          "output_type": "stream",
          "text": [
            "The Root Mean Squared Error for XGBoost is: 0.040105659659666844\n"
          ],
          "name": "stdout"
        }
      ]
    },
    {
      "cell_type": "code",
      "metadata": {
        "colab": {
          "base_uri": "https://localhost:8080/"
        },
        "id": "TJybkx57olsB",
        "outputId": "04ce3ea7-b434-46ea-9449-494592cd93e9"
      },
      "source": [
        "print(f'The mean absolute error for XGBoost is: {mean_absolute_error(y_test,y_hat)}')"
      ],
      "execution_count": 154,
      "outputs": [
        {
          "output_type": "stream",
          "text": [
            "The mean absolute error for XGBoost is: 0.016782571555757523\n"
          ],
          "name": "stdout"
        }
      ]
    },
    {
      "cell_type": "markdown",
      "metadata": {
        "id": "QDo_HCvrVf0U"
      },
      "source": [
        "## By Statsmodel Regression:"
      ]
    },
    {
      "cell_type": "code",
      "metadata": {
        "colab": {
          "base_uri": "https://localhost:8080/"
        },
        "id": "d3WgsFY4VmLW",
        "outputId": "280861d5-b248-4ccf-acbd-bf8a79793d02"
      },
      "source": [
        "import statsmodels.api as sm"
      ],
      "execution_count": 161,
      "outputs": [
        {
          "output_type": "stream",
          "text": [
            "/usr/local/lib/python3.7/dist-packages/statsmodels/tools/_testing.py:19: FutureWarning: pandas.util.testing is deprecated. Use the functions in the public API at pandas.testing instead.\n",
            "  import pandas.util.testing as tm\n"
          ],
          "name": "stderr"
        }
      ]
    },
    {
      "cell_type": "code",
      "metadata": {
        "colab": {
          "base_uri": "https://localhost:8080/",
          "height": 641
        },
        "id": "zw2kRiLDVKK7",
        "outputId": "3008d64f-a5fc-4c66-bdaf-7063f711a3e4"
      },
      "source": [
        "ks2 = sm.OLS(Y, X)\n",
        "ks2_res = ks2.fit()\n",
        "ks2_res.summary()"
      ],
      "execution_count": 162,
      "outputs": [
        {
          "output_type": "execute_result",
          "data": {
            "text/html": [
              "<table class=\"simpletable\">\n",
              "<caption>OLS Regression Results</caption>\n",
              "<tr>\n",
              "  <th>Dep. Variable:</th>          <td>views</td>      <th>  R-squared (uncentered):</th>       <td>   0.501</td> \n",
              "</tr>\n",
              "<tr>\n",
              "  <th>Model:</th>                   <td>OLS</td>       <th>  Adj. R-squared (uncentered):</th>  <td>   0.500</td> \n",
              "</tr>\n",
              "<tr>\n",
              "  <th>Method:</th>             <td>Least Squares</td>  <th>  F-statistic:       </th>           <td>   401.4</td> \n",
              "</tr>\n",
              "<tr>\n",
              "  <th>Date:</th>             <td>Wed, 19 May 2021</td> <th>  Prob (F-statistic):</th>            <td>  0.00</td>  \n",
              "</tr>\n",
              "<tr>\n",
              "  <th>Time:</th>                 <td>15:19:04</td>     <th>  Log-Likelihood:    </th>           <td>  6815.1</td> \n",
              "</tr>\n",
              "<tr>\n",
              "  <th>No. Observations:</th>      <td>  4005</td>      <th>  AIC:               </th>          <td>-1.361e+04</td>\n",
              "</tr>\n",
              "<tr>\n",
              "  <th>Df Residuals:</th>          <td>  3995</td>      <th>  BIC:               </th>          <td>-1.355e+04</td>\n",
              "</tr>\n",
              "<tr>\n",
              "  <th>Df Model:</th>              <td>    10</td>      <th>                     </th>               <td> </td>    \n",
              "</tr>\n",
              "<tr>\n",
              "  <th>Covariance Type:</th>      <td>nonrobust</td>    <th>                     </th>               <td> </td>    \n",
              "</tr>\n",
              "</table>\n",
              "<table class=\"simpletable\">\n",
              "<tr>\n",
              "             <td></td>               <th>coef</th>     <th>std err</th>      <th>t</th>      <th>P>|t|</th>  <th>[0.025</th>    <th>0.975]</th>  \n",
              "</tr>\n",
              "<tr>\n",
              "  <th>comments</th>               <td>    0.5151</td> <td>    0.020</td> <td>   25.428</td> <td> 0.000</td> <td>    0.475</td> <td>    0.555</td>\n",
              "</tr>\n",
              "<tr>\n",
              "  <th>duration</th>               <td>    0.0882</td> <td>    0.009</td> <td>   10.060</td> <td> 0.000</td> <td>    0.071</td> <td>    0.105</td>\n",
              "</tr>\n",
              "<tr>\n",
              "  <th>age_of_video</th>           <td>   -0.0045</td> <td>    0.000</td> <td>  -17.860</td> <td> 0.000</td> <td>   -0.005</td> <td>   -0.004</td>\n",
              "</tr>\n",
              "<tr>\n",
              "  <th>published_day_encode</th>   <td>   -0.0565</td> <td>    0.019</td> <td>   -3.045</td> <td> 0.002</td> <td>   -0.093</td> <td>   -0.020</td>\n",
              "</tr>\n",
              "<tr>\n",
              "  <th>published_month_encode</th> <td>   -0.0564</td> <td>    0.040</td> <td>   -1.408</td> <td> 0.159</td> <td>   -0.135</td> <td>    0.022</td>\n",
              "</tr>\n",
              "<tr>\n",
              "  <th>recorded_day_encode</th>    <td>   -0.0509</td> <td>    0.016</td> <td>   -3.207</td> <td> 0.001</td> <td>   -0.082</td> <td>   -0.020</td>\n",
              "</tr>\n",
              "<tr>\n",
              "  <th>recorded_month_encode</th>  <td>    0.0357</td> <td>    0.019</td> <td>    1.865</td> <td> 0.062</td> <td>   -0.002</td> <td>    0.073</td>\n",
              "</tr>\n",
              "<tr>\n",
              "  <th>count_available_lang</th>   <td>    0.0023</td> <td>    0.000</td> <td>   22.041</td> <td> 0.000</td> <td>    0.002</td> <td>    0.002</td>\n",
              "</tr>\n",
              "<tr>\n",
              "  <th>speaker_1_encode</th>       <td>    2.4834</td> <td>    0.807</td> <td>    3.079</td> <td> 0.002</td> <td>    0.902</td> <td>    4.065</td>\n",
              "</tr>\n",
              "<tr>\n",
              "  <th>Num_tags</th>               <td>-3.498e-05</td> <td> 1.38e-05</td> <td>   -2.529</td> <td> 0.011</td> <td>-6.21e-05</td> <td>-7.87e-06</td>\n",
              "</tr>\n",
              "</table>\n",
              "<table class=\"simpletable\">\n",
              "<tr>\n",
              "  <th>Omnibus:</th>       <td>4801.798</td> <th>  Durbin-Watson:     </th>  <td>   1.854</td>  \n",
              "</tr>\n",
              "<tr>\n",
              "  <th>Prob(Omnibus):</th>  <td> 0.000</td>  <th>  Jarque-Bera (JB):  </th> <td>1017439.357</td>\n",
              "</tr>\n",
              "<tr>\n",
              "  <th>Skew:</th>           <td> 6.128</td>  <th>  Prob(JB):          </th>  <td>    0.00</td>  \n",
              "</tr>\n",
              "<tr>\n",
              "  <th>Kurtosis:</th>       <td>80.115</td>  <th>  Cond. No.          </th>  <td>1.33e+05</td>  \n",
              "</tr>\n",
              "</table><br/><br/>Warnings:<br/>[1] Standard Errors assume that the covariance matrix of the errors is correctly specified.<br/>[2] The condition number is large, 1.33e+05. This might indicate that there are<br/>strong multicollinearity or other numerical problems."
            ],
            "text/plain": [
              "<class 'statsmodels.iolib.summary.Summary'>\n",
              "\"\"\"\n",
              "                                 OLS Regression Results                                \n",
              "=======================================================================================\n",
              "Dep. Variable:                  views   R-squared (uncentered):                   0.501\n",
              "Model:                            OLS   Adj. R-squared (uncentered):              0.500\n",
              "Method:                 Least Squares   F-statistic:                              401.4\n",
              "Date:                Wed, 19 May 2021   Prob (F-statistic):                        0.00\n",
              "Time:                        15:19:04   Log-Likelihood:                          6815.1\n",
              "No. Observations:                4005   AIC:                                 -1.361e+04\n",
              "Df Residuals:                    3995   BIC:                                 -1.355e+04\n",
              "Df Model:                          10                                                  \n",
              "Covariance Type:            nonrobust                                                  \n",
              "==========================================================================================\n",
              "                             coef    std err          t      P>|t|      [0.025      0.975]\n",
              "------------------------------------------------------------------------------------------\n",
              "comments                   0.5151      0.020     25.428      0.000       0.475       0.555\n",
              "duration                   0.0882      0.009     10.060      0.000       0.071       0.105\n",
              "age_of_video              -0.0045      0.000    -17.860      0.000      -0.005      -0.004\n",
              "published_day_encode      -0.0565      0.019     -3.045      0.002      -0.093      -0.020\n",
              "published_month_encode    -0.0564      0.040     -1.408      0.159      -0.135       0.022\n",
              "recorded_day_encode       -0.0509      0.016     -3.207      0.001      -0.082      -0.020\n",
              "recorded_month_encode      0.0357      0.019      1.865      0.062      -0.002       0.073\n",
              "count_available_lang       0.0023      0.000     22.041      0.000       0.002       0.002\n",
              "speaker_1_encode           2.4834      0.807      3.079      0.002       0.902       4.065\n",
              "Num_tags               -3.498e-05   1.38e-05     -2.529      0.011   -6.21e-05   -7.87e-06\n",
              "==============================================================================\n",
              "Omnibus:                     4801.798   Durbin-Watson:                   1.854\n",
              "Prob(Omnibus):                  0.000   Jarque-Bera (JB):          1017439.357\n",
              "Skew:                           6.128   Prob(JB):                         0.00\n",
              "Kurtosis:                      80.115   Cond. No.                     1.33e+05\n",
              "==============================================================================\n",
              "\n",
              "Warnings:\n",
              "[1] Standard Errors assume that the covariance matrix of the errors is correctly specified.\n",
              "[2] The condition number is large, 1.33e+05. This might indicate that there are\n",
              "strong multicollinearity or other numerical problems.\n",
              "\"\"\""
            ]
          },
          "metadata": {
            "tags": []
          },
          "execution_count": 162
        }
      ]
    },
    {
      "cell_type": "markdown",
      "metadata": {
        "id": "X5B30utuOO36"
      },
      "source": [
        "## Check for distribution of errors:"
      ]
    },
    {
      "cell_type": "code",
      "metadata": {
        "id": "e7ow4V7MORnE"
      },
      "source": [
        "from scipy import stats"
      ],
      "execution_count": 172,
      "outputs": []
    },
    {
      "cell_type": "code",
      "metadata": {
        "colab": {
          "base_uri": "https://localhost:8080/",
          "height": 475
        },
        "id": "QKsH5CKrOOar",
        "outputId": "caa9d811-c34b-4190-8e59-bdf49f783b17"
      },
      "source": [
        "stats.probplot(ks2_res.resid, dist=\"norm\", plot= plt)\n",
        "plt.title(\"MODEL Residuals Q-Q Plot\")\n",
        "plt.legend(['Actual','Theoretical'])"
      ],
      "execution_count": 174,
      "outputs": [
        {
          "output_type": "execute_result",
          "data": {
            "text/plain": [
              "<matplotlib.legend.Legend at 0x7fbb955454d0>"
            ]
          },
          "metadata": {
            "tags": []
          },
          "execution_count": 174
        },
        {
          "output_type": "display_data",
          "data": {
            "image/png": "[encoded data removed]",
            "text/plain": [
              "<Figure size 720x504 with 1 Axes>"
            ]
          },
          "metadata": {
            "tags": [],
            "needs_background": "light"
          }
        }
      ]
    },
    {
      "cell_type": "markdown",
      "metadata": {
        "id": "geXcYlojPFDu"
      },
      "source": [
        "I think from the Q-Q plot I can infer that R-squared is very low as there is a presence of outliers. Which can clearly be seen even from the residual graph. \n",
        "\n",
        "It follows a normal distribution for around 50% of the data but in the top and bottom there are too many outliers.\n",
        "\n",
        "Unexplained variance and noise is preventing the good r_square scores."
      ]
    },
    {
      "cell_type": "markdown",
      "metadata": {
        "id": "s_bHSx2La6sl"
      },
      "source": [
        "# Random Forest:"
      ]
    },
    {
      "cell_type": "code",
      "metadata": {
        "id": "E8ykjG5-Vqw6"
      },
      "source": [
        "# import the regressor\n",
        "from sklearn.ensemble import RandomForestRegressor"
      ],
      "execution_count": 163,
      "outputs": []
    },
    {
      "cell_type": "code",
      "metadata": {
        "colab": {
          "base_uri": "https://localhost:8080/"
        },
        "id": "EXYbfQ-UbC1k",
        "outputId": "4e769fdf-257b-4c15-ddb9-af6ea12e41ca"
      },
      "source": [
        "#Random Forest Regressor\n",
        "\n",
        "# Number of trees\n",
        "n_estimators = [50,80,100]\n",
        "\n",
        "# Maximum depth of trees\n",
        "max_depth = [4,6,8]\n",
        "\n",
        "# Minimum number of samples required to split a node\n",
        "min_samples_split = [50,100,150]\n",
        "\n",
        "# Minimum number of samples required at each leaf node\n",
        "min_samples_leaf = [40,50]\n",
        "\n",
        "# HYperparameter Dict\n",
        "param_dict = {'n_estimators' : n_estimators,\n",
        "              'max_depth' : max_depth,\n",
        "              'min_samples_split' : min_samples_split,\n",
        "              'min_samples_leaf' : min_samples_leaf}\n",
        "\n",
        "# Create an instance of the RandomForest\n",
        "rf_model = RandomForestRegressor()\n",
        "\n",
        "#RandomSearch\n",
        "rf_random = RandomizedSearchCV(rf_model,param_dict,verbose=2,cv=5)\n",
        "\n",
        "\n",
        "rf_random.fit(X_train,y_train)"
      ],
      "execution_count": 164,
      "outputs": [
        {
          "output_type": "stream",
          "text": [
            "Fitting 5 folds for each of 10 candidates, totalling 50 fits\n",
            "[CV] n_estimators=50, min_samples_split=100, min_samples_leaf=50, max_depth=4 \n"
          ],
          "name": "stdout"
        },
        {
          "output_type": "stream",
          "text": [
            "[Parallel(n_jobs=1)]: Using backend SequentialBackend with 1 concurrent workers.\n"
          ],
          "name": "stderr"
        },
        {
          "output_type": "stream",
          "text": [
            "[CV]  n_estimators=50, min_samples_split=100, min_samples_leaf=50, max_depth=4, total=   0.2s\n",
            "[CV] n_estimators=50, min_samples_split=100, min_samples_leaf=50, max_depth=4 \n"
          ],
          "name": "stdout"
        },
        {
          "output_type": "stream",
          "text": [
            "[Parallel(n_jobs=1)]: Done   1 out of   1 | elapsed:    0.2s remaining:    0.0s\n"
          ],
          "name": "stderr"
        },
        {
          "output_type": "stream",
          "text": [
            "[CV]  n_estimators=50, min_samples_split=100, min_samples_leaf=50, max_depth=4, total=   0.2s\n",
            "[CV] n_estimators=50, min_samples_split=100, min_samples_leaf=50, max_depth=4 \n",
            "[CV]  n_estimators=50, min_samples_split=100, min_samples_leaf=50, max_depth=4, total=   0.2s\n",
            "[CV] n_estimators=50, min_samples_split=100, min_samples_leaf=50, max_depth=4 \n",
            "[CV]  n_estimators=50, min_samples_split=100, min_samples_leaf=50, max_depth=4, total=   0.2s\n",
            "[CV] n_estimators=50, min_samples_split=100, min_samples_leaf=50, max_depth=4 \n",
            "[CV]  n_estimators=50, min_samples_split=100, min_samples_leaf=50, max_depth=4, total=   0.2s\n",
            "[CV] n_estimators=80, min_samples_split=50, min_samples_leaf=50, max_depth=8 \n",
            "[CV]  n_estimators=80, min_samples_split=50, min_samples_leaf=50, max_depth=8, total=   0.5s\n",
            "[CV] n_estimators=80, min_samples_split=50, min_samples_leaf=50, max_depth=8 \n",
            "[CV]  n_estimators=80, min_samples_split=50, min_samples_leaf=50, max_depth=8, total=   0.5s\n",
            "[CV] n_estimators=80, min_samples_split=50, min_samples_leaf=50, max_depth=8 \n",
            "[CV]  n_estimators=80, min_samples_split=50, min_samples_leaf=50, max_depth=8, total=   0.5s\n",
            "[CV] n_estimators=80, min_samples_split=50, min_samples_leaf=50, max_depth=8 \n",
            "[CV]  n_estimators=80, min_samples_split=50, min_samples_leaf=50, max_depth=8, total=   0.5s\n",
            "[CV] n_estimators=80, min_samples_split=50, min_samples_leaf=50, max_depth=8 \n",
            "[CV]  n_estimators=80, min_samples_split=50, min_samples_leaf=50, max_depth=8, total=   0.5s\n",
            "[CV] n_estimators=80, min_samples_split=50, min_samples_leaf=50, max_depth=6 \n",
            "[CV]  n_estimators=80, min_samples_split=50, min_samples_leaf=50, max_depth=6, total=   0.4s\n",
            "[CV] n_estimators=80, min_samples_split=50, min_samples_leaf=50, max_depth=6 \n",
            "[CV]  n_estimators=80, min_samples_split=50, min_samples_leaf=50, max_depth=6, total=   0.4s\n",
            "[CV] n_estimators=80, min_samples_split=50, min_samples_leaf=50, max_depth=6 \n",
            "[CV]  n_estimators=80, min_samples_split=50, min_samples_leaf=50, max_depth=6, total=   0.4s\n",
            "[CV] n_estimators=80, min_samples_split=50, min_samples_leaf=50, max_depth=6 \n",
            "[CV]  n_estimators=80, min_samples_split=50, min_samples_leaf=50, max_depth=6, total=   0.4s\n",
            "[CV] n_estimators=80, min_samples_split=50, min_samples_leaf=50, max_depth=6 \n",
            "[CV]  n_estimators=80, min_samples_split=50, min_samples_leaf=50, max_depth=6, total=   0.4s\n",
            "[CV] n_estimators=100, min_samples_split=100, min_samples_leaf=50, max_depth=4 \n",
            "[CV]  n_estimators=100, min_samples_split=100, min_samples_leaf=50, max_depth=4, total=   0.4s\n",
            "[CV] n_estimators=100, min_samples_split=100, min_samples_leaf=50, max_depth=4 \n",
            "[CV]  n_estimators=100, min_samples_split=100, min_samples_leaf=50, max_depth=4, total=   0.4s\n",
            "[CV] n_estimators=100, min_samples_split=100, min_samples_leaf=50, max_depth=4 \n",
            "[CV]  n_estimators=100, min_samples_split=100, min_samples_leaf=50, max_depth=4, total=   0.4s\n",
            "[CV] n_estimators=100, min_samples_split=100, min_samples_leaf=50, max_depth=4 \n",
            "[CV]  n_estimators=100, min_samples_split=100, min_samples_leaf=50, max_depth=4, total=   0.4s\n",
            "[CV] n_estimators=100, min_samples_split=100, min_samples_leaf=50, max_depth=4 \n",
            "[CV]  n_estimators=100, min_samples_split=100, min_samples_leaf=50, max_depth=4, total=   0.4s\n",
            "[CV] n_estimators=100, min_samples_split=150, min_samples_leaf=50, max_depth=4 \n",
            "[CV]  n_estimators=100, min_samples_split=150, min_samples_leaf=50, max_depth=4, total=   0.4s\n",
            "[CV] n_estimators=100, min_samples_split=150, min_samples_leaf=50, max_depth=4 \n",
            "[CV]  n_estimators=100, min_samples_split=150, min_samples_leaf=50, max_depth=4, total=   0.4s\n",
            "[CV] n_estimators=100, min_samples_split=150, min_samples_leaf=50, max_depth=4 \n",
            "[CV]  n_estimators=100, min_samples_split=150, min_samples_leaf=50, max_depth=4, total=   0.4s\n",
            "[CV] n_estimators=100, min_samples_split=150, min_samples_leaf=50, max_depth=4 \n",
            "[CV]  n_estimators=100, min_samples_split=150, min_samples_leaf=50, max_depth=4, total=   0.4s\n",
            "[CV] n_estimators=100, min_samples_split=150, min_samples_leaf=50, max_depth=4 \n",
            "[CV]  n_estimators=100, min_samples_split=150, min_samples_leaf=50, max_depth=4, total=   0.4s\n",
            "[CV] n_estimators=80, min_samples_split=100, min_samples_leaf=50, max_depth=8 \n",
            "[CV]  n_estimators=80, min_samples_split=100, min_samples_leaf=50, max_depth=8, total=   0.5s\n",
            "[CV] n_estimators=80, min_samples_split=100, min_samples_leaf=50, max_depth=8 \n",
            "[CV]  n_estimators=80, min_samples_split=100, min_samples_leaf=50, max_depth=8, total=   0.5s\n",
            "[CV] n_estimators=80, min_samples_split=100, min_samples_leaf=50, max_depth=8 \n",
            "[CV]  n_estimators=80, min_samples_split=100, min_samples_leaf=50, max_depth=8, total=   0.5s\n",
            "[CV] n_estimators=80, min_samples_split=100, min_samples_leaf=50, max_depth=8 \n",
            "[CV]  n_estimators=80, min_samples_split=100, min_samples_leaf=50, max_depth=8, total=   0.5s\n",
            "[CV] n_estimators=80, min_samples_split=100, min_samples_leaf=50, max_depth=8 \n",
            "[CV]  n_estimators=80, min_samples_split=100, min_samples_leaf=50, max_depth=8, total=   0.5s\n",
            "[CV] n_estimators=50, min_samples_split=100, min_samples_leaf=40, max_depth=4 \n",
            "[CV]  n_estimators=50, min_samples_split=100, min_samples_leaf=40, max_depth=4, total=   0.2s\n",
            "[CV] n_estimators=50, min_samples_split=100, min_samples_leaf=40, max_depth=4 \n",
            "[CV]  n_estimators=50, min_samples_split=100, min_samples_leaf=40, max_depth=4, total=   0.2s\n",
            "[CV] n_estimators=50, min_samples_split=100, min_samples_leaf=40, max_depth=4 \n",
            "[CV]  n_estimators=50, min_samples_split=100, min_samples_leaf=40, max_depth=4, total=   0.2s\n",
            "[CV] n_estimators=50, min_samples_split=100, min_samples_leaf=40, max_depth=4 \n",
            "[CV]  n_estimators=50, min_samples_split=100, min_samples_leaf=40, max_depth=4, total=   0.2s\n",
            "[CV] n_estimators=50, min_samples_split=100, min_samples_leaf=40, max_depth=4 \n",
            "[CV]  n_estimators=50, min_samples_split=100, min_samples_leaf=40, max_depth=4, total=   0.2s\n",
            "[CV] n_estimators=80, min_samples_split=50, min_samples_leaf=40, max_depth=4 \n",
            "[CV]  n_estimators=80, min_samples_split=50, min_samples_leaf=40, max_depth=4, total=   0.3s\n",
            "[CV] n_estimators=80, min_samples_split=50, min_samples_leaf=40, max_depth=4 \n",
            "[CV]  n_estimators=80, min_samples_split=50, min_samples_leaf=40, max_depth=4, total=   0.3s\n",
            "[CV] n_estimators=80, min_samples_split=50, min_samples_leaf=40, max_depth=4 \n",
            "[CV]  n_estimators=80, min_samples_split=50, min_samples_leaf=40, max_depth=4, total=   0.4s\n",
            "[CV] n_estimators=80, min_samples_split=50, min_samples_leaf=40, max_depth=4 \n",
            "[CV]  n_estimators=80, min_samples_split=50, min_samples_leaf=40, max_depth=4, total=   0.3s\n",
            "[CV] n_estimators=80, min_samples_split=50, min_samples_leaf=40, max_depth=4 \n",
            "[CV]  n_estimators=80, min_samples_split=50, min_samples_leaf=40, max_depth=4, total=   0.3s\n",
            "[CV] n_estimators=80, min_samples_split=100, min_samples_leaf=40, max_depth=8 \n",
            "[CV]  n_estimators=80, min_samples_split=100, min_samples_leaf=40, max_depth=8, total=   0.5s\n",
            "[CV] n_estimators=80, min_samples_split=100, min_samples_leaf=40, max_depth=8 \n",
            "[CV]  n_estimators=80, min_samples_split=100, min_samples_leaf=40, max_depth=8, total=   0.5s\n",
            "[CV] n_estimators=80, min_samples_split=100, min_samples_leaf=40, max_depth=8 \n",
            "[CV]  n_estimators=80, min_samples_split=100, min_samples_leaf=40, max_depth=8, total=   0.5s\n",
            "[CV] n_estimators=80, min_samples_split=100, min_samples_leaf=40, max_depth=8 \n",
            "[CV]  n_estimators=80, min_samples_split=100, min_samples_leaf=40, max_depth=8, total=   0.5s\n",
            "[CV] n_estimators=80, min_samples_split=100, min_samples_leaf=40, max_depth=8 \n",
            "[CV]  n_estimators=80, min_samples_split=100, min_samples_leaf=40, max_depth=8, total=   0.5s\n",
            "[CV] n_estimators=80, min_samples_split=50, min_samples_leaf=40, max_depth=6 \n",
            "[CV]  n_estimators=80, min_samples_split=50, min_samples_leaf=40, max_depth=6, total=   0.4s\n",
            "[CV] n_estimators=80, min_samples_split=50, min_samples_leaf=40, max_depth=6 \n",
            "[CV]  n_estimators=80, min_samples_split=50, min_samples_leaf=40, max_depth=6, total=   0.4s\n",
            "[CV] n_estimators=80, min_samples_split=50, min_samples_leaf=40, max_depth=6 \n",
            "[CV]  n_estimators=80, min_samples_split=50, min_samples_leaf=40, max_depth=6, total=   0.4s\n",
            "[CV] n_estimators=80, min_samples_split=50, min_samples_leaf=40, max_depth=6 \n",
            "[CV]  n_estimators=80, min_samples_split=50, min_samples_leaf=40, max_depth=6, total=   0.4s\n",
            "[CV] n_estimators=80, min_samples_split=50, min_samples_leaf=40, max_depth=6 \n",
            "[CV]  n_estimators=80, min_samples_split=50, min_samples_leaf=40, max_depth=6, total=   0.4s\n"
          ],
          "name": "stdout"
        },
        {
          "output_type": "stream",
          "text": [
            "[Parallel(n_jobs=1)]: Done  50 out of  50 | elapsed:   19.4s finished\n"
          ],
          "name": "stderr"
        },
        {
          "output_type": "execute_result",
          "data": {
            "text/plain": [
              "RandomizedSearchCV(cv=5, error_score=nan,\n",
              "                   estimator=RandomForestRegressor(bootstrap=True,\n",
              "                                                   ccp_alpha=0.0,\n",
              "                                                   criterion='mse',\n",
              "                                                   max_depth=None,\n",
              "                                                   max_features='auto',\n",
              "                                                   max_leaf_nodes=None,\n",
              "                                                   max_samples=None,\n",
              "                                                   min_impurity_decrease=0.0,\n",
              "                                                   min_impurity_split=None,\n",
              "                                                   min_samples_leaf=1,\n",
              "                                                   min_samples_split=2,\n",
              "                                                   min_weight_fraction_leaf=0.0,\n",
              "                                                   n_estimators=100,\n",
              "                                                   n_jobs=None, oob_score=False,\n",
              "                                                   random_state=None, verbose=0,\n",
              "                                                   warm_start=False),\n",
              "                   iid='deprecated', n_iter=10, n_jobs=None,\n",
              "                   param_distributions={'max_depth': [4, 6, 8],\n",
              "                                        'min_samples_leaf': [40, 50],\n",
              "                                        'min_samples_split': [50, 100, 150],\n",
              "                                        'n_estimators': [50, 80, 100]},\n",
              "                   pre_dispatch='2*n_jobs', random_state=None, refit=True,\n",
              "                   return_train_score=False, scoring=None, verbose=2)"
            ]
          },
          "metadata": {
            "tags": []
          },
          "execution_count": 164
        }
      ]
    },
    {
      "cell_type": "code",
      "metadata": {
        "colab": {
          "base_uri": "https://localhost:8080/"
        },
        "id": "io4QYw5DbluS",
        "outputId": "0d565d8a-4e71-4d1b-ac3a-d6fa30534f3f"
      },
      "source": [
        "#The best esitmators\n",
        "rf_random.best_estimator_"
      ],
      "execution_count": 165,
      "outputs": [
        {
          "output_type": "execute_result",
          "data": {
            "text/plain": [
              "RandomForestRegressor(bootstrap=True, ccp_alpha=0.0, criterion='mse',\n",
              "                      max_depth=6, max_features='auto', max_leaf_nodes=None,\n",
              "                      max_samples=None, min_impurity_decrease=0.0,\n",
              "                      min_impurity_split=None, min_samples_leaf=40,\n",
              "                      min_samples_split=50, min_weight_fraction_leaf=0.0,\n",
              "                      n_estimators=80, n_jobs=None, oob_score=False,\n",
              "                      random_state=None, verbose=0, warm_start=False)"
            ]
          },
          "metadata": {
            "tags": []
          },
          "execution_count": 165
        }
      ]
    },
    {
      "cell_type": "code",
      "metadata": {
        "id": "4w4V-Wtqb4u-"
      },
      "source": [
        "#Building optimal model on the best estimators\n",
        "rf_optimal_model = rf_random.best_estimator_"
      ],
      "execution_count": 166,
      "outputs": []
    },
    {
      "cell_type": "code",
      "metadata": {
        "id": "aOfVLAPjcAkm"
      },
      "source": [
        "# make predictions for test data\n",
        "y_hat_r = rf_optimal_model.predict(X_test)"
      ],
      "execution_count": 167,
      "outputs": []
    },
    {
      "cell_type": "code",
      "metadata": {
        "id": "FFpFi86bcNQt"
      },
      "source": [
        "r_squared_rf=r2_score(y_test,y_hat_r)"
      ],
      "execution_count": 168,
      "outputs": []
    },
    {
      "cell_type": "code",
      "metadata": {
        "colab": {
          "base_uri": "https://localhost:8080/"
        },
        "id": "k0SdE1STcXnr",
        "outputId": "527ff41e-407a-4100-e7ed-862241346ac8"
      },
      "source": [
        "#Calculate Adjusted R-sqaured\n",
        "adjusted_r_squared_rf = 1 - (1-r_squared_rf)*(len(Y)-1)/(len(Y)-X.shape[1]-1)\n",
        "print(f'The R_Squared for Random Forest is {r_squared_rf} and adjusted R_Squared is {adjusted_r_squared_rf}')"
      ],
      "execution_count": 169,
      "outputs": [
        {
          "output_type": "stream",
          "text": [
            "The R_Squared for Random Forest is 0.29744455819290083 and adjusted R_Squared is 0.29568553104766526\n"
          ],
          "name": "stdout"
        }
      ]
    },
    {
      "cell_type": "code",
      "metadata": {
        "colab": {
          "base_uri": "https://localhost:8080/"
        },
        "id": "kfAF-sINcjQs",
        "outputId": "c959d32a-f4d8-473f-b121-121a47cf9935"
      },
      "source": [
        "print(f'The Root Mean Squared Error for Random Forest is: {math.sqrt(mean_squared_error(y_test,y_hat_r))}')"
      ],
      "execution_count": 170,
      "outputs": [
        {
          "output_type": "stream",
          "text": [
            "The Root Mean Squared Error for Random Forest is: 0.04018545128362905\n"
          ],
          "name": "stdout"
        }
      ]
    },
    {
      "cell_type": "code",
      "metadata": {
        "colab": {
          "base_uri": "https://localhost:8080/"
        },
        "id": "J70Eks-Pntft",
        "outputId": "c4993124-6007-4f23-a361-b15c3acddd97"
      },
      "source": [
        "print(f'The mean absolute error for Random Forest is: {mean_absolute_error(y_test,y_hat_r)}')"
      ],
      "execution_count": 171,
      "outputs": [
        {
          "output_type": "stream",
          "text": [
            "The mean absolute error for Random Forest is: 0.01827604068188244\n"
          ],
          "name": "stdout"
        }
      ]
    },
    {
      "cell_type": "code",
      "metadata": {
        "id": "zvX4oTITo37i"
      },
      "source": [
        ""
      ],
      "execution_count": null,
      "outputs": []
    }
  ]
}
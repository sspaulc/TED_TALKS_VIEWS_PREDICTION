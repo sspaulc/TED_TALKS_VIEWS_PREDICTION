{
  "nbformat": 4,
  "nbformat_minor": 0,
  "metadata": {
    "colab": {
      "name": "Sanchita_Ted_Talks_Views.ipynb",
      "provenance": [],
      "authorship_tag": "ABX9TyPJ2FqMYxsqAjzCaFJFXna0",
      "include_colab_link": true
    },
    "kernelspec": {
      "name": "python3",
      "display_name": "Python 3"
    },
    "language_info": {
      "name": "python"
    }
  },
  "cells": [
    {
      "cell_type": "markdown",
      "metadata": {
        "id": "view-in-github",
        "colab_type": "text"
      },
      "source": [
        "<a href=\"https://colab.research.google.com/github/sspaulc/TED_TALKS_VIEWS_PREDICTION/blob/main/Sanchita_Ted_Talks_Views.ipynb\" target=\"_parent\"><img src=\"https://colab.research.google.com/assets/colab-badge.svg\" alt=\"Open In Colab\"/></a>"
      ]
    },
    {
      "cell_type": "markdown",
      "metadata": {
        "id": "1R2WykDM7PEm"
      },
      "source": [
        "Problem statement-- TED is devoted to spreading powerful ideas on just about any topic. These datasets contain over\n",
        "4,000 TED talks including transcripts in many languages.\n",
        "Founded in 1984 by Richard Salman as a nonprofit organization\n",
        "that aimed at bringing experts from the fields of Technology, Entertainment, and Design\n",
        "together, TED Conferences have gone on to become the Mecca of ideas from virtually all\n",
        "walks of life. As of 2015, TED and its sister TEDx chapters have published more than 2000\n",
        "talks for free consumption by the masses and its speaker list boasts of the likes of Al Gore,\n",
        "Jimmy Wales, Shahrukh Khan, and Bill Gates.\n",
        "The main objective is to build a predictive model, which could help in predicting the views of\n",
        "the videos uploaded on the TEDx website."
      ]
    },
    {
      "cell_type": "code",
      "metadata": {
        "colab": {
          "base_uri": "https://localhost:8080/"
        },
        "id": "ZdHXQKJt6NWT",
        "outputId": "9dd9ca29-6689-4385-a9e9-2961a4ffe8b1"
      },
      "source": [
        "from google.colab import drive\n",
        "drive.mount('/content/gdrive')\n"
      ],
      "execution_count": 1,
      "outputs": [
        {
          "output_type": "stream",
          "text": [
            "Drive already mounted at /content/gdrive; to attempt to forcibly remount, call drive.mount(\"/content/gdrive\", force_remount=True).\n"
          ],
          "name": "stdout"
        }
      ]
    },
    {
      "cell_type": "code",
      "metadata": {
        "id": "w7uUoYgn7-ON"
      },
      "source": [
        "import numpy as np\n",
        "\n",
        "import pandas as pd"
      ],
      "execution_count": 2,
      "outputs": []
    },
    {
      "cell_type": "code",
      "metadata": {
        "id": "a0MrzpJsD46X"
      },
      "source": [
        "#Read the data\n",
        "\n",
        "data= pd.read_csv(\"/content/gdrive/MyDrive/AlmaBetter/Almabetter/Capstone Projects/Ted Talk Views Prediction/data_ted_talks.csv\")\n"
      ],
      "execution_count": 54,
      "outputs": []
    },
    {
      "cell_type": "markdown",
      "metadata": {
        "id": "rZ7iYKXwEKzk"
      },
      "source": [
        "Before we can do any EDA let us take a look at what is happening in the data first."
      ]
    },
    {
      "cell_type": "code",
      "metadata": {
        "colab": {
          "base_uri": "https://localhost:8080/",
          "height": 369
        },
        "id": "Y8oBOIATD3jU",
        "outputId": "91319091-92c4-4054-81ca-4928d857be7e"
      },
      "source": [
        "data.head(3)"
      ],
      "execution_count": 6,
      "outputs": [
        {
          "output_type": "execute_result",
          "data": {
            "text/html": [
              "<div>\n",
              "<style scoped>\n",
              "    .dataframe tbody tr th:only-of-type {\n",
              "        vertical-align: middle;\n",
              "    }\n",
              "\n",
              "    .dataframe tbody tr th {\n",
              "        vertical-align: top;\n",
              "    }\n",
              "\n",
              "    .dataframe thead th {\n",
              "        text-align: right;\n",
              "    }\n",
              "</style>\n",
              "<table border=\"1\" class=\"dataframe\">\n",
              "  <thead>\n",
              "    <tr style=\"text-align: right;\">\n",
              "      <th></th>\n",
              "      <th>talk_id</th>\n",
              "      <th>title</th>\n",
              "      <th>speaker_1</th>\n",
              "      <th>all_speakers</th>\n",
              "      <th>occupations</th>\n",
              "      <th>about_speakers</th>\n",
              "      <th>views</th>\n",
              "      <th>recorded_date</th>\n",
              "      <th>published_date</th>\n",
              "      <th>event</th>\n",
              "      <th>native_lang</th>\n",
              "      <th>available_lang</th>\n",
              "      <th>comments</th>\n",
              "      <th>duration</th>\n",
              "      <th>topics</th>\n",
              "      <th>related_talks</th>\n",
              "      <th>url</th>\n",
              "      <th>description</th>\n",
              "      <th>transcript</th>\n",
              "    </tr>\n",
              "  </thead>\n",
              "  <tbody>\n",
              "    <tr>\n",
              "      <th>0</th>\n",
              "      <td>1</td>\n",
              "      <td>Averting the climate crisis</td>\n",
              "      <td>Al Gore</td>\n",
              "      <td>{0: 'Al Gore'}</td>\n",
              "      <td>{0: ['climate advocate']}</td>\n",
              "      <td>{0: 'Nobel Laureate Al Gore focused the world’...</td>\n",
              "      <td>3523392</td>\n",
              "      <td>2006-02-25</td>\n",
              "      <td>2006-06-27</td>\n",
              "      <td>TED2006</td>\n",
              "      <td>en</td>\n",
              "      <td>['ar', 'bg', 'cs', 'de', 'el', 'en', 'es', 'fa...</td>\n",
              "      <td>272.0</td>\n",
              "      <td>977</td>\n",
              "      <td>['alternative energy', 'cars', 'climate change...</td>\n",
              "      <td>{243: 'New thinking on the climate crisis', 54...</td>\n",
              "      <td>https://www.ted.com/talks/al_gore_averting_the...</td>\n",
              "      <td>With the same humor and humanity he exuded in ...</td>\n",
              "      <td>Thank you so much, Chris. And it's truly a gre...</td>\n",
              "    </tr>\n",
              "    <tr>\n",
              "      <th>1</th>\n",
              "      <td>92</td>\n",
              "      <td>The best stats you've ever seen</td>\n",
              "      <td>Hans Rosling</td>\n",
              "      <td>{0: 'Hans Rosling'}</td>\n",
              "      <td>{0: ['global health expert; data visionary']}</td>\n",
              "      <td>{0: 'In Hans Rosling’s hands, data sings. Glob...</td>\n",
              "      <td>14501685</td>\n",
              "      <td>2006-02-22</td>\n",
              "      <td>2006-06-27</td>\n",
              "      <td>TED2006</td>\n",
              "      <td>en</td>\n",
              "      <td>['ar', 'az', 'bg', 'bn', 'bs', 'cs', 'da', 'de...</td>\n",
              "      <td>628.0</td>\n",
              "      <td>1190</td>\n",
              "      <td>['Africa', 'Asia', 'Google', 'demo', 'economic...</td>\n",
              "      <td>{2056: \"Own your body's data\", 2296: 'A visual...</td>\n",
              "      <td>https://www.ted.com/talks/hans_rosling_the_bes...</td>\n",
              "      <td>You've never seen data presented like this. Wi...</td>\n",
              "      <td>About 10 years ago, I took on the task to teac...</td>\n",
              "    </tr>\n",
              "    <tr>\n",
              "      <th>2</th>\n",
              "      <td>7</td>\n",
              "      <td>Simplicity sells</td>\n",
              "      <td>David Pogue</td>\n",
              "      <td>{0: 'David Pogue'}</td>\n",
              "      <td>{0: ['technology columnist']}</td>\n",
              "      <td>{0: 'David Pogue is the personal technology co...</td>\n",
              "      <td>1920832</td>\n",
              "      <td>2006-02-24</td>\n",
              "      <td>2006-06-27</td>\n",
              "      <td>TED2006</td>\n",
              "      <td>en</td>\n",
              "      <td>['ar', 'bg', 'de', 'el', 'en', 'es', 'fa', 'fr...</td>\n",
              "      <td>124.0</td>\n",
              "      <td>1286</td>\n",
              "      <td>['computers', 'entertainment', 'interface desi...</td>\n",
              "      <td>{1725: '10 top time-saving tech tips', 2274: '...</td>\n",
              "      <td>https://www.ted.com/talks/david_pogue_simplici...</td>\n",
              "      <td>New York Times columnist David Pogue takes aim...</td>\n",
              "      <td>(Music: \"The Sound of Silence,\" Simon &amp; Garfun...</td>\n",
              "    </tr>\n",
              "  </tbody>\n",
              "</table>\n",
              "</div>"
            ],
            "text/plain": [
              "   talk_id  ...                                         transcript\n",
              "0        1  ...  Thank you so much, Chris. And it's truly a gre...\n",
              "1       92  ...  About 10 years ago, I took on the task to teac...\n",
              "2        7  ...  (Music: \"The Sound of Silence,\" Simon & Garfun...\n",
              "\n",
              "[3 rows x 19 columns]"
            ]
          },
          "metadata": {
            "tags": []
          },
          "execution_count": 6
        }
      ]
    },
    {
      "cell_type": "markdown",
      "metadata": {
        "id": "ylvx3nh0OD65"
      },
      "source": [
        "Looking for nan values:"
      ]
    },
    {
      "cell_type": "code",
      "metadata": {
        "id": "AL_XaolNNxTI"
      },
      "source": [
        "import missingno as msno"
      ],
      "execution_count": 7,
      "outputs": []
    },
    {
      "cell_type": "code",
      "metadata": {
        "colab": {
          "base_uri": "https://localhost:8080/",
          "height": 563
        },
        "id": "1TLxTnhmN16Y",
        "outputId": "91747f7b-800c-41ee-8bd9-9c67fb6169ef"
      },
      "source": [
        "msno.matrix(data)"
      ],
      "execution_count": 8,
      "outputs": [
        {
          "output_type": "execute_result",
          "data": {
            "text/plain": [
              "<matplotlib.axes._subplots.AxesSubplot at 0x7fde32a5bdd0>"
            ]
          },
          "metadata": {
            "tags": []
          },
          "execution_count": 8
        },
        {
          "output_type": "display_data",
          "data": {
            "image/png": "[encoded data removed]",
            "text/plain": [
              "<Figure size 1800x720 with 2 Axes>"
            ]
          },
          "metadata": {
            "tags": [],
            "needs_background": "light"
          }
        }
      ]
    },
    {
      "cell_type": "markdown",
      "metadata": {
        "id": "Pk43H4bC_0Ys"
      },
      "source": [
        "# Let us take a look at the distribution of dependent variable:"
      ]
    },
    {
      "cell_type": "code",
      "metadata": {
        "colab": {
          "base_uri": "https://localhost:8080/",
          "height": 362
        },
        "id": "R7GcQX3z_5rw",
        "outputId": "eed1d6fb-b5ae-40dc-8367-0c51ab715fb8"
      },
      "source": [
        "sns.distplot(data['views'])"
      ],
      "execution_count": 62,
      "outputs": [
        {
          "output_type": "stream",
          "text": [
            "/usr/local/lib/python3.7/dist-packages/seaborn/distributions.py:2557: FutureWarning: `distplot` is a deprecated function and will be removed in a future version. Please adapt your code to use either `displot` (a figure-level function with similar flexibility) or `histplot` (an axes-level function for histograms).\n",
            "  warnings.warn(msg, FutureWarning)\n"
          ],
          "name": "stderr"
        },
        {
          "output_type": "execute_result",
          "data": {
            "text/plain": [
              "<matplotlib.axes._subplots.AxesSubplot at 0x7f4e2bc782d0>"
            ]
          },
          "metadata": {
            "tags": []
          },
          "execution_count": 62
        },
        {
          "output_type": "display_data",
          "data": {
            "image/png": "[encoded data removed]",
            "text/plain": [
              "<Figure size 432x288 with 1 Axes>"
            ]
          },
          "metadata": {
            "tags": [],
            "needs_background": "light"
          }
        }
      ]
    },
    {
      "cell_type": "code",
      "metadata": {
        "colab": {
          "base_uri": "https://localhost:8080/"
        },
        "id": "dHBvVg5qDSfv",
        "outputId": "6835213b-c864-4c2b-b293-919be32232d5"
      },
      "source": [
        "data['views'].max()"
      ],
      "execution_count": 63,
      "outputs": [
        {
          "output_type": "execute_result",
          "data": {
            "text/plain": [
              "65051954"
            ]
          },
          "metadata": {
            "tags": []
          },
          "execution_count": 63
        }
      ]
    },
    {
      "cell_type": "markdown",
      "metadata": {
        "id": "xljKpk8zCpNl"
      },
      "source": [
        "There are also positvie and negative infinity values on views. Converting them to maximum and nan respectively."
      ]
    },
    {
      "cell_type": "code",
      "metadata": {
        "id": "pRL1gM-7Cw5h"
      },
      "source": [
        "def float_to_int(x):\n",
        "    if x == float('-inf'):\n",
        "        return -1\n",
        "    elif x== float('inf'):\n",
        "      return x.max()\n",
        "    return int(x)"
      ],
      "execution_count": 64,
      "outputs": []
    },
    {
      "cell_type": "code",
      "metadata": {
        "id": "f5cfD8i0CyvC"
      },
      "source": [
        "data['views']=data['views'].apply(float_to_int)"
      ],
      "execution_count": 65,
      "outputs": []
    },
    {
      "cell_type": "markdown",
      "metadata": {
        "id": "2-KqNQ_6HgQr"
      },
      "source": [
        "## We can remove the id because it isn't adding any value to the regression performance."
      ]
    },
    {
      "cell_type": "code",
      "metadata": {
        "id": "lIDpcJMyHfH5"
      },
      "source": [
        "data.drop(columns='talk_id',inplace= True)"
      ],
      "execution_count": 73,
      "outputs": []
    },
    {
      "cell_type": "code",
      "metadata": {
        "colab": {
          "base_uri": "https://localhost:8080/"
        },
        "id": "y_Z3Kxm2FQtG",
        "outputId": "56b79164-68c5-4006-cec7-0de615e837a2"
      },
      "source": [
        "data.info()"
      ],
      "execution_count": 74,
      "outputs": [
        {
          "output_type": "stream",
          "text": [
            "<class 'pandas.core.frame.DataFrame'>\n",
            "RangeIndex: 4005 entries, 0 to 4004\n",
            "Data columns (total 18 columns):\n",
            " #   Column          Non-Null Count  Dtype  \n",
            "---  ------          --------------  -----  \n",
            " 0   title           4005 non-null   object \n",
            " 1   speaker_1       4005 non-null   object \n",
            " 2   all_speakers    4001 non-null   object \n",
            " 3   occupations     3483 non-null   object \n",
            " 4   about_speakers  3502 non-null   object \n",
            " 5   views           4005 non-null   int64  \n",
            " 6   recorded_date   4004 non-null   object \n",
            " 7   published_date  4005 non-null   object \n",
            " 8   event           4005 non-null   object \n",
            " 9   native_lang     4005 non-null   object \n",
            " 10  available_lang  4005 non-null   object \n",
            " 11  comments        3350 non-null   float64\n",
            " 12  duration        4005 non-null   int64  \n",
            " 13  topics          4005 non-null   object \n",
            " 14  related_talks   4005 non-null   object \n",
            " 15  url             4005 non-null   object \n",
            " 16  description     4005 non-null   object \n",
            " 17  transcript      4005 non-null   object \n",
            "dtypes: float64(1), int64(2), object(15)\n",
            "memory usage: 563.3+ KB\n"
          ],
          "name": "stdout"
        }
      ]
    },
    {
      "cell_type": "markdown",
      "metadata": {
        "id": "b6TUJZknGQAs"
      },
      "source": [
        "# Imputing the Nan values :\n",
        "\n",
        "##Numerical-- KNN nan value imputer"
      ]
    },
    {
      "cell_type": "markdown",
      "metadata": {
        "id": "V7kEL1ZBHGyv"
      },
      "source": [
        "Datasets may have missing values, and this can cause problems for many machine learning algorithms.\n",
        "\n",
        "As such, it is good practice to identify and replace missing values for each column in your input data prior to modeling your prediction task. This is called missing data imputation, or imputing for short.\n",
        "\n",
        "A popular approach to missing data imputation is to use a model to predict the missing values. This requires a model to be created for each input variable that has missing values. Although any one among a range of different models can be used to predict the missing values, the k-nearest neighbor (KNN) algorithm has proven to be generally effective, often referred to as “nearest neighbor imputation.”"
      ]
    },
    {
      "cell_type": "code",
      "metadata": {
        "id": "3I4oq13YGx2-"
      },
      "source": [
        "numerical_features= ['duration','comments']"
      ],
      "execution_count": 75,
      "outputs": []
    },
    {
      "cell_type": "code",
      "metadata": {
        "id": "myzoH2N5KP7F"
      },
      "source": [
        "#Import libraries\n",
        "from sklearn.impute import KNNImputer\n",
        "\n",
        "# define imputer\n",
        "imputer = KNNImputer()\n",
        "\n",
        "#fitting the model\n",
        "imputer.fit(data[numerical_features])\n",
        "\n",
        "# transform the dataset\n",
        "data[numerical_features] = imputer.transform(data[numerical_features])"
      ],
      "execution_count": 77,
      "outputs": []
    },
    {
      "cell_type": "code",
      "metadata": {
        "colab": {
          "base_uri": "https://localhost:8080/"
        },
        "id": "TfIgjXaILbdf",
        "outputId": "8358c460-2c3b-48cf-e939-a53de0a3db25"
      },
      "source": [
        "data.info()"
      ],
      "execution_count": 78,
      "outputs": [
        {
          "output_type": "stream",
          "text": [
            "<class 'pandas.core.frame.DataFrame'>\n",
            "RangeIndex: 4005 entries, 0 to 4004\n",
            "Data columns (total 18 columns):\n",
            " #   Column          Non-Null Count  Dtype  \n",
            "---  ------          --------------  -----  \n",
            " 0   title           4005 non-null   object \n",
            " 1   speaker_1       4005 non-null   object \n",
            " 2   all_speakers    4001 non-null   object \n",
            " 3   occupations     3483 non-null   object \n",
            " 4   about_speakers  3502 non-null   object \n",
            " 5   views           4005 non-null   int64  \n",
            " 6   recorded_date   4004 non-null   object \n",
            " 7   published_date  4005 non-null   object \n",
            " 8   event           4005 non-null   object \n",
            " 9   native_lang     4005 non-null   object \n",
            " 10  available_lang  4005 non-null   object \n",
            " 11  comments        4005 non-null   float64\n",
            " 12  duration        4005 non-null   float64\n",
            " 13  topics          4005 non-null   object \n",
            " 14  related_talks   4005 non-null   object \n",
            " 15  url             4005 non-null   object \n",
            " 16  description     4005 non-null   object \n",
            " 17  transcript      4005 non-null   object \n",
            "dtypes: float64(2), int64(1), object(15)\n",
            "memory usage: 563.3+ KB\n"
          ],
          "name": "stdout"
        }
      ]
    },
    {
      "cell_type": "markdown",
      "metadata": {
        "id": "khK4Fz1yLrkF"
      },
      "source": [
        "All the nan values for numerical features is removed."
      ]
    },
    {
      "cell_type": "markdown",
      "metadata": {
        "id": "TqP8N1AhLxNG"
      },
      "source": [
        "## Categorical features-- nan values are labelled as 'Unkwown'\n",
        "\n",
        "\n",
        "\n"
      ]
    },
    {
      "cell_type": "code",
      "metadata": {
        "id": "fRZRrOfhMNVF"
      },
      "source": [
        "#categorical features \n",
        "\n",
        "categorical_features= ['title','speaker_1','all_speakers','event','native_lang','available_lang','topics','related_talks','url','description','transcript','occupations','about_speakers']"
      ],
      "execution_count": 85,
      "outputs": []
    },
    {
      "cell_type": "code",
      "metadata": {
        "id": "8m5b4-FsNled"
      },
      "source": [
        "data[categorical_features]=data[categorical_features].fillna('Unknown')"
      ],
      "execution_count": 86,
      "outputs": []
    },
    {
      "cell_type": "markdown",
      "metadata": {
        "id": "Jmr74EB5N92u"
      },
      "source": [
        "The Recorded date is having date but in string format. I would like to replace it with first value."
      ]
    },
    {
      "cell_type": "code",
      "metadata": {
        "colab": {
          "base_uri": "https://localhost:8080/",
          "height": 35
        },
        "id": "IdFtEBvfN84c",
        "outputId": "cfb433d9-ec7e-4513-d1f6-f796319e240a"
      },
      "source": [
        "#First value\n",
        "\n",
        "data['recorded_date'][0]"
      ],
      "execution_count": 82,
      "outputs": [
        {
          "output_type": "execute_result",
          "data": {
            "application/vnd.google.colaboratory.intrinsic+json": {
              "type": "string"
            },
            "text/plain": [
              "'2006-02-25'"
            ]
          },
          "metadata": {
            "tags": []
          },
          "execution_count": 82
        }
      ]
    },
    {
      "cell_type": "code",
      "metadata": {
        "id": "9w6lExNIN3lL"
      },
      "source": [
        "data['recorded_date']=data['recorded_date'].fillna('2006-02-25')"
      ],
      "execution_count": 83,
      "outputs": []
    },
    {
      "cell_type": "code",
      "metadata": {
        "colab": {
          "base_uri": "https://localhost:8080/"
        },
        "id": "rM73jeRbOjzq",
        "outputId": "8f8adbe4-b97f-4bb0-b7bd-3d52aca0fd5f"
      },
      "source": [
        "data.info()"
      ],
      "execution_count": 87,
      "outputs": [
        {
          "output_type": "stream",
          "text": [
            "<class 'pandas.core.frame.DataFrame'>\n",
            "RangeIndex: 4005 entries, 0 to 4004\n",
            "Data columns (total 18 columns):\n",
            " #   Column          Non-Null Count  Dtype  \n",
            "---  ------          --------------  -----  \n",
            " 0   title           4005 non-null   object \n",
            " 1   speaker_1       4005 non-null   object \n",
            " 2   all_speakers    4005 non-null   object \n",
            " 3   occupations     4005 non-null   object \n",
            " 4   about_speakers  4005 non-null   object \n",
            " 5   views           4005 non-null   int64  \n",
            " 6   recorded_date   4005 non-null   object \n",
            " 7   published_date  4005 non-null   object \n",
            " 8   event           4005 non-null   object \n",
            " 9   native_lang     4005 non-null   object \n",
            " 10  available_lang  4005 non-null   object \n",
            " 11  comments        4005 non-null   float64\n",
            " 12  duration        4005 non-null   float64\n",
            " 13  topics          4005 non-null   object \n",
            " 14  related_talks   4005 non-null   object \n",
            " 15  url             4005 non-null   object \n",
            " 16  description     4005 non-null   object \n",
            " 17  transcript      4005 non-null   object \n",
            "dtypes: float64(2), int64(1), object(15)\n",
            "memory usage: 563.3+ KB\n"
          ],
          "name": "stdout"
        }
      ]
    },
    {
      "cell_type": "markdown",
      "metadata": {
        "id": "uMrvnHY4OzLQ"
      },
      "source": [
        "## I have taken care of all null values."
      ]
    },
    {
      "cell_type": "markdown",
      "metadata": {
        "id": "ILi4m0qqFPfx"
      },
      "source": [
        "# I wanna take a look at what are the year,months and days that most of these ted talks have taken place."
      ]
    },
    {
      "cell_type": "markdown",
      "metadata": {
        "id": "f2W_Zr-_HKfO"
      },
      "source": [
        "## First for the published dates: get the time stamps."
      ]
    },
    {
      "cell_type": "code",
      "metadata": {
        "id": "1cArJ5K5Ia0n"
      },
      "source": [
        "import time"
      ],
      "execution_count": 10,
      "outputs": []
    },
    {
      "cell_type": "code",
      "metadata": {
        "id": "zzVLV7aZHcX9"
      },
      "source": [
        "import datetime"
      ],
      "execution_count": 91,
      "outputs": []
    },
    {
      "cell_type": "code",
      "metadata": {
        "id": "Jdx_8HyYERvU"
      },
      "source": [
        "data['published_date'] = data['published_date'].apply(lambda x: datetime.datetime.strptime(x,\"%Y-%m-%d\"))"
      ],
      "execution_count": 92,
      "outputs": []
    },
    {
      "cell_type": "code",
      "metadata": {
        "colab": {
          "base_uri": "https://localhost:8080/"
        },
        "id": "KRUBVIdAHUk8",
        "outputId": "2a7c79bc-8ae9-42e2-b50e-5a8cc99cf38b"
      },
      "source": [
        "data.info()"
      ],
      "execution_count": 93,
      "outputs": [
        {
          "output_type": "stream",
          "text": [
            "<class 'pandas.core.frame.DataFrame'>\n",
            "RangeIndex: 4005 entries, 0 to 4004\n",
            "Data columns (total 18 columns):\n",
            " #   Column          Non-Null Count  Dtype         \n",
            "---  ------          --------------  -----         \n",
            " 0   title           4005 non-null   object        \n",
            " 1   speaker_1       4005 non-null   object        \n",
            " 2   all_speakers    4005 non-null   object        \n",
            " 3   occupations     4005 non-null   object        \n",
            " 4   about_speakers  4005 non-null   object        \n",
            " 5   views           4005 non-null   int64         \n",
            " 6   recorded_date   4005 non-null   object        \n",
            " 7   published_date  4005 non-null   datetime64[ns]\n",
            " 8   event           4005 non-null   object        \n",
            " 9   native_lang     4005 non-null   object        \n",
            " 10  available_lang  4005 non-null   object        \n",
            " 11  comments        4005 non-null   float64       \n",
            " 12  duration        4005 non-null   float64       \n",
            " 13  topics          4005 non-null   object        \n",
            " 14  related_talks   4005 non-null   object        \n",
            " 15  url             4005 non-null   object        \n",
            " 16  description     4005 non-null   object        \n",
            " 17  transcript      4005 non-null   object        \n",
            "dtypes: datetime64[ns](1), float64(2), int64(1), object(14)\n",
            "memory usage: 563.3+ KB\n"
          ],
          "name": "stdout"
        }
      ]
    },
    {
      "cell_type": "code",
      "metadata": {
        "id": "WfUSevfbJNSj"
      },
      "source": [
        "data['published_day'] = data['published_date'].apply(lambda x: x.weekday())\n",
        "data['published_month'] = data['published_date'].apply(lambda x: x.month)\n",
        "data['published_year'] = data['published_date'].apply(lambda x: x.year)"
      ],
      "execution_count": 94,
      "outputs": []
    },
    {
      "cell_type": "markdown",
      "metadata": {
        "id": "NtzxJRVcOflv"
      },
      "source": [
        "## For the recorded date now:"
      ]
    },
    {
      "cell_type": "code",
      "metadata": {
        "id": "XG6F0XIUM0FM"
      },
      "source": [
        "data['recorded_date'] = data['recorded_date'].apply(lambda x: datetime.datetime.strptime(x,\"%Y-%m-%d\"))"
      ],
      "execution_count": 95,
      "outputs": []
    },
    {
      "cell_type": "code",
      "metadata": {
        "id": "ZJkADxz0PCzP"
      },
      "source": [
        "data['recorded_day'] = data['recorded_date'].apply(lambda x: x.weekday())\n",
        "data['recorded_month'] = data['recorded_date'].apply(lambda x: x.month)\n",
        "data['recorded_year'] = data['recorded_date'].apply(lambda x: x.year)"
      ],
      "execution_count": 96,
      "outputs": []
    },
    {
      "cell_type": "markdown",
      "metadata": {
        "id": "r9TTiHUTPqEm"
      },
      "source": [
        "## I also want to keep the number of days it takes between recording and publishing."
      ]
    },
    {
      "cell_type": "code",
      "metadata": {
        "id": "bSZ96w0QRmfu"
      },
      "source": [
        "data['diff_record_publish']= data['published_date']- data['recorded_date']"
      ],
      "execution_count": 97,
      "outputs": []
    },
    {
      "cell_type": "code",
      "metadata": {
        "colab": {
          "base_uri": "https://localhost:8080/"
        },
        "id": "QwNb4M2Xwbhz",
        "outputId": "aaf0430d-3257-499e-d205-1bb0e0262634"
      },
      "source": [
        "data.info()"
      ],
      "execution_count": 98,
      "outputs": [
        {
          "output_type": "stream",
          "text": [
            "<class 'pandas.core.frame.DataFrame'>\n",
            "RangeIndex: 4005 entries, 0 to 4004\n",
            "Data columns (total 25 columns):\n",
            " #   Column               Non-Null Count  Dtype          \n",
            "---  ------               --------------  -----          \n",
            " 0   title                4005 non-null   object         \n",
            " 1   speaker_1            4005 non-null   object         \n",
            " 2   all_speakers         4005 non-null   object         \n",
            " 3   occupations          4005 non-null   object         \n",
            " 4   about_speakers       4005 non-null   object         \n",
            " 5   views                4005 non-null   int64          \n",
            " 6   recorded_date        4005 non-null   datetime64[ns] \n",
            " 7   published_date       4005 non-null   datetime64[ns] \n",
            " 8   event                4005 non-null   object         \n",
            " 9   native_lang          4005 non-null   object         \n",
            " 10  available_lang       4005 non-null   object         \n",
            " 11  comments             4005 non-null   float64        \n",
            " 12  duration             4005 non-null   float64        \n",
            " 13  topics               4005 non-null   object         \n",
            " 14  related_talks        4005 non-null   object         \n",
            " 15  url                  4005 non-null   object         \n",
            " 16  description          4005 non-null   object         \n",
            " 17  transcript           4005 non-null   object         \n",
            " 18  published_day        4005 non-null   int64          \n",
            " 19  published_month      4005 non-null   int64          \n",
            " 20  published_year       4005 non-null   int64          \n",
            " 21  recorded_day         4005 non-null   int64          \n",
            " 22  recorded_month       4005 non-null   int64          \n",
            " 23  recorded_year        4005 non-null   int64          \n",
            " 24  diff_record_publish  4005 non-null   timedelta64[ns]\n",
            "dtypes: datetime64[ns](2), float64(2), int64(7), object(13), timedelta64[ns](1)\n",
            "memory usage: 782.4+ KB\n"
          ],
          "name": "stdout"
        }
      ]
    },
    {
      "cell_type": "code",
      "metadata": {
        "id": "_da8SqBvwts0"
      },
      "source": [
        "data['diff_record_publish'] = pd.to_numeric(data['diff_record_publish'].dt.days, downcast='integer')"
      ],
      "execution_count": 99,
      "outputs": []
    },
    {
      "cell_type": "code",
      "metadata": {
        "id": "R5JurmCGw8Xk"
      },
      "source": [
        "import matplotlib.pyplot as plt\n"
      ],
      "execution_count": 100,
      "outputs": []
    },
    {
      "cell_type": "code",
      "metadata": {
        "colab": {
          "base_uri": "https://localhost:8080/",
          "height": 307
        },
        "id": "Fhb8SW7QQCpz",
        "outputId": "4f1baa4a-9431-4032-c860-386960e77d62"
      },
      "source": [
        "#plotting these to get a better idea\n",
        "\n",
        "data['diff_record_publish'].value_counts().sort_values(ascending=False).head(10).plot(kind='bar',color='purple')\n",
        "\n",
        "plt.title('Number of days between recording and publishing')"
      ],
      "execution_count": 101,
      "outputs": [
        {
          "output_type": "execute_result",
          "data": {
            "text/plain": [
              "Text(0.5, 1.0, 'Number of days between recording and publishing')"
            ]
          },
          "metadata": {
            "tags": []
          },
          "execution_count": 101
        },
        {
          "output_type": "display_data",
          "data": {
            "image/png": "[encoded data removed]",
            "text/plain": [
              "<Figure size 432x288 with 1 Axes>"
            ]
          },
          "metadata": {
            "tags": [],
            "needs_background": "light"
          }
        }
      ]
    },
    {
      "cell_type": "code",
      "metadata": {
        "id": "nkNK8KTwviKF"
      },
      "source": [
        "import seaborn as sns"
      ],
      "execution_count": 102,
      "outputs": []
    },
    {
      "cell_type": "code",
      "metadata": {
        "id": "AbwsmSNixg4M"
      },
      "source": [
        "# I want to view it difference in days and views in a scaled manner\n",
        "\n",
        "from sklearn.preprocessing import MinMaxScaler\n"
      ],
      "execution_count": 103,
      "outputs": []
    },
    {
      "cell_type": "code",
      "metadata": {
        "id": "lgDQ-CrpyOwq"
      },
      "source": [
        "data['diff_record_publish'] = MinMaxScaler().fit_transform(np.array(data['diff_record_publish']).reshape(-1,1))"
      ],
      "execution_count": 104,
      "outputs": []
    },
    {
      "cell_type": "code",
      "metadata": {
        "id": "eLvFVCZRy3GV"
      },
      "source": [
        "data['views'] = MinMaxScaler().fit_transform(np.array(data['views']).reshape(-1,1))"
      ],
      "execution_count": 105,
      "outputs": []
    },
    {
      "cell_type": "code",
      "metadata": {
        "colab": {
          "base_uri": "https://localhost:8080/",
          "height": 297
        },
        "id": "3uyE7WEMuNWV",
        "outputId": "d8aca7e6-6872-4c35-bd18-01ef1e22f34f"
      },
      "source": [
        "sns.scatterplot(x= data['diff_record_publish'], y=data['views'])"
      ],
      "execution_count": 106,
      "outputs": [
        {
          "output_type": "execute_result",
          "data": {
            "text/plain": [
              "<matplotlib.axes._subplots.AxesSubplot at 0x7f4e295f1a50>"
            ]
          },
          "metadata": {
            "tags": []
          },
          "execution_count": 106
        },
        {
          "output_type": "display_data",
          "data": {
            "image/png": "[encoded data removed]",
            "text/plain": [
              "<Figure size 432x288 with 1 Axes>"
            ]
          },
          "metadata": {
            "tags": [],
            "needs_background": "light"
          }
        }
      ]
    },
    {
      "cell_type": "code",
      "metadata": {
        "colab": {
          "base_uri": "https://localhost:8080/",
          "height": 369
        },
        "id": "NxnCH_DUy-i4",
        "outputId": "80d34f47-b615-4296-a644-0074b9806da8"
      },
      "source": [
        "data.head(3)"
      ],
      "execution_count": 107,
      "outputs": [
        {
          "output_type": "execute_result",
          "data": {
            "text/html": [
              "<div>\n",
              "<style scoped>\n",
              "    .dataframe tbody tr th:only-of-type {\n",
              "        vertical-align: middle;\n",
              "    }\n",
              "\n",
              "    .dataframe tbody tr th {\n",
              "        vertical-align: top;\n",
              "    }\n",
              "\n",
              "    .dataframe thead th {\n",
              "        text-align: right;\n",
              "    }\n",
              "</style>\n",
              "<table border=\"1\" class=\"dataframe\">\n",
              "  <thead>\n",
              "    <tr style=\"text-align: right;\">\n",
              "      <th></th>\n",
              "      <th>title</th>\n",
              "      <th>speaker_1</th>\n",
              "      <th>all_speakers</th>\n",
              "      <th>occupations</th>\n",
              "      <th>about_speakers</th>\n",
              "      <th>views</th>\n",
              "      <th>recorded_date</th>\n",
              "      <th>published_date</th>\n",
              "      <th>event</th>\n",
              "      <th>native_lang</th>\n",
              "      <th>available_lang</th>\n",
              "      <th>comments</th>\n",
              "      <th>duration</th>\n",
              "      <th>topics</th>\n",
              "      <th>related_talks</th>\n",
              "      <th>url</th>\n",
              "      <th>description</th>\n",
              "      <th>transcript</th>\n",
              "      <th>published_day</th>\n",
              "      <th>published_month</th>\n",
              "      <th>published_year</th>\n",
              "      <th>recorded_day</th>\n",
              "      <th>recorded_month</th>\n",
              "      <th>recorded_year</th>\n",
              "      <th>diff_record_publish</th>\n",
              "    </tr>\n",
              "  </thead>\n",
              "  <tbody>\n",
              "    <tr>\n",
              "      <th>0</th>\n",
              "      <td>Averting the climate crisis</td>\n",
              "      <td>Al Gore</td>\n",
              "      <td>{0: 'Al Gore'}</td>\n",
              "      <td>{0: ['climate advocate']}</td>\n",
              "      <td>{0: 'Nobel Laureate Al Gore focused the world’...</td>\n",
              "      <td>0.054163</td>\n",
              "      <td>2006-02-25</td>\n",
              "      <td>2006-06-27</td>\n",
              "      <td>TED2006</td>\n",
              "      <td>en</td>\n",
              "      <td>['ar', 'bg', 'cs', 'de', 'el', 'en', 'es', 'fa...</td>\n",
              "      <td>272.0</td>\n",
              "      <td>977.0</td>\n",
              "      <td>['alternative energy', 'cars', 'climate change...</td>\n",
              "      <td>{243: 'New thinking on the climate crisis', 54...</td>\n",
              "      <td>https://www.ted.com/talks/al_gore_averting_the...</td>\n",
              "      <td>With the same humor and humanity he exuded in ...</td>\n",
              "      <td>Thank you so much, Chris. And it's truly a gre...</td>\n",
              "      <td>1</td>\n",
              "      <td>6</td>\n",
              "      <td>2006</td>\n",
              "      <td>5</td>\n",
              "      <td>2</td>\n",
              "      <td>2006</td>\n",
              "      <td>0.074611</td>\n",
              "    </tr>\n",
              "    <tr>\n",
              "      <th>1</th>\n",
              "      <td>The best stats you've ever seen</td>\n",
              "      <td>Hans Rosling</td>\n",
              "      <td>{0: 'Hans Rosling'}</td>\n",
              "      <td>{0: ['global health expert; data visionary']}</td>\n",
              "      <td>{0: 'In Hans Rosling’s hands, data sings. Glob...</td>\n",
              "      <td>0.222925</td>\n",
              "      <td>2006-02-22</td>\n",
              "      <td>2006-06-27</td>\n",
              "      <td>TED2006</td>\n",
              "      <td>en</td>\n",
              "      <td>['ar', 'az', 'bg', 'bn', 'bs', 'cs', 'da', 'de...</td>\n",
              "      <td>628.0</td>\n",
              "      <td>1190.0</td>\n",
              "      <td>['Africa', 'Asia', 'Google', 'demo', 'economic...</td>\n",
              "      <td>{2056: \"Own your body's data\", 2296: 'A visual...</td>\n",
              "      <td>https://www.ted.com/talks/hans_rosling_the_bes...</td>\n",
              "      <td>You've never seen data presented like this. Wi...</td>\n",
              "      <td>About 10 years ago, I took on the task to teac...</td>\n",
              "      <td>1</td>\n",
              "      <td>6</td>\n",
              "      <td>2006</td>\n",
              "      <td>2</td>\n",
              "      <td>2</td>\n",
              "      <td>2006</td>\n",
              "      <td>0.074931</td>\n",
              "    </tr>\n",
              "    <tr>\n",
              "      <th>2</th>\n",
              "      <td>Simplicity sells</td>\n",
              "      <td>David Pogue</td>\n",
              "      <td>{0: 'David Pogue'}</td>\n",
              "      <td>{0: ['technology columnist']}</td>\n",
              "      <td>{0: 'David Pogue is the personal technology co...</td>\n",
              "      <td>0.029528</td>\n",
              "      <td>2006-02-24</td>\n",
              "      <td>2006-06-27</td>\n",
              "      <td>TED2006</td>\n",
              "      <td>en</td>\n",
              "      <td>['ar', 'bg', 'de', 'el', 'en', 'es', 'fa', 'fr...</td>\n",
              "      <td>124.0</td>\n",
              "      <td>1286.0</td>\n",
              "      <td>['computers', 'entertainment', 'interface desi...</td>\n",
              "      <td>{1725: '10 top time-saving tech tips', 2274: '...</td>\n",
              "      <td>https://www.ted.com/talks/david_pogue_simplici...</td>\n",
              "      <td>New York Times columnist David Pogue takes aim...</td>\n",
              "      <td>(Music: \"The Sound of Silence,\" Simon &amp; Garfun...</td>\n",
              "      <td>1</td>\n",
              "      <td>6</td>\n",
              "      <td>2006</td>\n",
              "      <td>4</td>\n",
              "      <td>2</td>\n",
              "      <td>2006</td>\n",
              "      <td>0.074718</td>\n",
              "    </tr>\n",
              "  </tbody>\n",
              "</table>\n",
              "</div>"
            ],
            "text/plain": [
              "                             title  ... diff_record_publish\n",
              "0      Averting the climate crisis  ...            0.074611\n",
              "1  The best stats you've ever seen  ...            0.074931\n",
              "2                 Simplicity sells  ...            0.074718\n",
              "\n",
              "[3 rows x 25 columns]"
            ]
          },
          "metadata": {
            "tags": []
          },
          "execution_count": 107
        }
      ]
    },
    {
      "cell_type": "markdown",
      "metadata": {
        "id": "uH9sWpRESO3J"
      },
      "source": [
        "## The videos are usually published within a span of 3 months"
      ]
    },
    {
      "cell_type": "markdown",
      "metadata": {
        "id": "jnh-XO0fO7f_"
      },
      "source": [
        "## I want to determine the most popular days,months and year of publishing:"
      ]
    },
    {
      "cell_type": "markdown",
      "metadata": {
        "id": "Op30Art9JrCe"
      },
      "source": [
        "## Looking for the most popular days for the publishing views."
      ]
    },
    {
      "cell_type": "code",
      "metadata": {
        "id": "WCoKcDi6JqlK"
      },
      "source": [
        "import seaborn as sns"
      ],
      "execution_count": 88,
      "outputs": []
    },
    {
      "cell_type": "code",
      "metadata": {
        "id": "JSesW7eHKphC"
      },
      "source": [
        "import matplotlib.pyplot as plt\n"
      ],
      "execution_count": 89,
      "outputs": []
    },
    {
      "cell_type": "code",
      "metadata": {
        "id": "m5oDy0XSLGET"
      },
      "source": [
        "data['published_day']=data['published_day'].map({0:'Monday',1:'Tuesday',2:'Wednesday',3:'Thursday',4:'Friday',5:'Saturday',6:'Sunday'})"
      ],
      "execution_count": 108,
      "outputs": []
    },
    {
      "cell_type": "code",
      "metadata": {
        "colab": {
          "base_uri": "https://localhost:8080/",
          "height": 347
        },
        "id": "COeIwrTvJdoc",
        "outputId": "bd63d4bf-de7f-4f04-958a-8e9cf3ee18e3"
      },
      "source": [
        "data['published_day'].value_counts().sort_values(ascending=False).plot(kind='bar', color='black')\n",
        "\n",
        "plt.title('Published Days')"
      ],
      "execution_count": 109,
      "outputs": [
        {
          "output_type": "execute_result",
          "data": {
            "text/plain": [
              "Text(0.5, 1.0, 'Published Days')"
            ]
          },
          "metadata": {
            "tags": []
          },
          "execution_count": 109
        },
        {
          "output_type": "display_data",
          "data": {
            "image/png": "[encoded data removed]",
            "text/plain": [
              "<Figure size 432x288 with 1 Axes>"
            ]
          },
          "metadata": {
            "tags": [],
            "needs_background": "light"
          }
        }
      ]
    },
    {
      "cell_type": "markdown",
      "metadata": {
        "id": "Dd5g5ZLXKjfx"
      },
      "source": [
        "## Most published months:"
      ]
    },
    {
      "cell_type": "code",
      "metadata": {
        "id": "N_ZL6oBbLy2z"
      },
      "source": [
        "data['published_month']=data['published_month'].map({1:'Jan',2:'Feb',3:'March',4:'April',5:'May',6:'June',7:'July',8:'Aug',9:'Sep',10:'Oct',11:'Nov',12:'Dec'})"
      ],
      "execution_count": 110,
      "outputs": []
    },
    {
      "cell_type": "code",
      "metadata": {
        "colab": {
          "base_uri": "https://localhost:8080/",
          "height": 319
        },
        "id": "pu-6BxngKGhm",
        "outputId": "dd8c2272-1b4d-4f9d-cdb2-da1bcef95207"
      },
      "source": [
        "data['published_month'].value_counts().sort_values(ascending=False).plot(kind='bar', color='black')\n",
        "\n",
        "plt.title('Published Months')"
      ],
      "execution_count": 111,
      "outputs": [
        {
          "output_type": "execute_result",
          "data": {
            "text/plain": [
              "Text(0.5, 1.0, 'Published Months')"
            ]
          },
          "metadata": {
            "tags": []
          },
          "execution_count": 111
        },
        {
          "output_type": "display_data",
          "data": {
            "image/png": "[encoded data removed]",
            "text/plain": [
              "<Figure size 432x288 with 1 Axes>"
            ]
          },
          "metadata": {
            "tags": [],
            "needs_background": "light"
          }
        }
      ]
    },
    {
      "cell_type": "markdown",
      "metadata": {
        "id": "s0l83gBdM2aF"
      },
      "source": [
        "## Most published year:"
      ]
    },
    {
      "cell_type": "code",
      "metadata": {
        "colab": {
          "base_uri": "https://localhost:8080/",
          "height": 299
        },
        "id": "AL42vgODLxZ8",
        "outputId": "2b4835a8-ee2d-4e6b-82dc-939b7a093a42"
      },
      "source": [
        "data['published_year'].value_counts().sort_values(ascending=False).plot(kind='bar', color='black')"
      ],
      "execution_count": 112,
      "outputs": [
        {
          "output_type": "execute_result",
          "data": {
            "text/plain": [
              "<matplotlib.axes._subplots.AxesSubplot at 0x7f4e1c7716d0>"
            ]
          },
          "metadata": {
            "tags": []
          },
          "execution_count": 112
        },
        {
          "output_type": "display_data",
          "data": {
            "image/png": "[encoded data removed]",
            "text/plain": [
              "<Figure size 432x288 with 1 Axes>"
            ]
          },
          "metadata": {
            "tags": [],
            "needs_background": "light"
          }
        }
      ]
    },
    {
      "cell_type": "markdown",
      "metadata": {
        "id": "yvKVvrDBsL5l"
      },
      "source": [
        "# Most popular recorded day, month and year:"
      ]
    },
    {
      "cell_type": "markdown",
      "metadata": {
        "id": "YBZ656_3sVyR"
      },
      "source": [
        "## Recorded days distribution:"
      ]
    },
    {
      "cell_type": "code",
      "metadata": {
        "id": "PHDLamrDNMmj"
      },
      "source": [
        "data['recorded_day']=data['recorded_day'].map({0:'Monday',1:'Tuesday',2:'Wednesday',3:'Thursday',4:'Friday',5:'Saturday',6:'Sunday'})"
      ],
      "execution_count": 113,
      "outputs": []
    },
    {
      "cell_type": "code",
      "metadata": {
        "colab": {
          "base_uri": "https://localhost:8080/",
          "height": 347
        },
        "id": "HmjpjxRTsoAB",
        "outputId": "2e0fd2d1-f25c-458b-fcbe-5b4146ebc8ee"
      },
      "source": [
        "data['recorded_day'].value_counts().sort_values(ascending=False).plot(kind='bar', color='black')\n",
        "\n",
        "plt.title('Recorded Days')"
      ],
      "execution_count": 114,
      "outputs": [
        {
          "output_type": "execute_result",
          "data": {
            "text/plain": [
              "Text(0.5, 1.0, 'Recorded Days')"
            ]
          },
          "metadata": {
            "tags": []
          },
          "execution_count": 114
        },
        {
          "output_type": "display_data",
          "data": {
            "image/png": "[encoded data removed]",
            "text/plain": [
              "<Figure size 432x288 with 1 Axes>"
            ]
          },
          "metadata": {
            "tags": [],
            "needs_background": "light"
          }
        }
      ]
    },
    {
      "cell_type": "markdown",
      "metadata": {
        "id": "Luo6Ecs_s0Qb"
      },
      "source": [
        "## Monthly Recorded distribution:"
      ]
    },
    {
      "cell_type": "code",
      "metadata": {
        "id": "5_G5Sah8tDKW"
      },
      "source": [
        "data['recorded_month']=data['recorded_month'].map({1:'Jan',2:'Feb',3:'March',4:'April',5:'May',6:'June',7:'July',8:'Aug',9:'Sep',10:'Oct',11:'Nov',12:'Dec'})"
      ],
      "execution_count": 115,
      "outputs": []
    },
    {
      "cell_type": "code",
      "metadata": {
        "colab": {
          "base_uri": "https://localhost:8080/",
          "height": 319
        },
        "id": "gQ0REikrsi73",
        "outputId": "2b5753f0-6873-471f-f60a-64d86677c88f"
      },
      "source": [
        "data['recorded_month'].value_counts().sort_values(ascending=False).plot(kind='bar', color='black')\n",
        "\n",
        "plt.title('Published Months')"
      ],
      "execution_count": 116,
      "outputs": [
        {
          "output_type": "execute_result",
          "data": {
            "text/plain": [
              "Text(0.5, 1.0, 'Published Months')"
            ]
          },
          "metadata": {
            "tags": []
          },
          "execution_count": 116
        },
        {
          "output_type": "display_data",
          "data": {
            "image/png": "[encoded data removed]",
            "text/plain": [
              "<Figure size 432x288 with 1 Axes>"
            ]
          },
          "metadata": {
            "tags": [],
            "needs_background": "light"
          }
        }
      ]
    },
    {
      "cell_type": "markdown",
      "metadata": {
        "id": "ab--Okg4tTsl"
      },
      "source": [
        "## Most recorded year:"
      ]
    },
    {
      "cell_type": "code",
      "metadata": {
        "colab": {
          "base_uri": "https://localhost:8080/",
          "height": 299
        },
        "id": "WDvcRnSRtMi6",
        "outputId": "e66dbd1a-403d-4b9d-f419-77172204c4b0"
      },
      "source": [
        "data['recorded_year'].value_counts().sort_values(ascending=False).plot(kind='bar', color='black')"
      ],
      "execution_count": 117,
      "outputs": [
        {
          "output_type": "execute_result",
          "data": {
            "text/plain": [
              "<matplotlib.axes._subplots.AxesSubplot at 0x7f4e2002e290>"
            ]
          },
          "metadata": {
            "tags": []
          },
          "execution_count": 117
        },
        {
          "output_type": "display_data",
          "data": {
            "image/png": "[encoded data removed]",
            "text/plain": [
              "<Figure size 432x288 with 1 Axes>"
            ]
          },
          "metadata": {
            "tags": [],
            "needs_background": "light"
          }
        }
      ]
    },
    {
      "cell_type": "markdown",
      "metadata": {
        "id": "vYDA0j908tk5"
      },
      "source": [
        "# We can drop the following columns:\n",
        "\n",
        "1.  URL- we aren't doing any SEO so doesn't seem important\n",
        "\n",
        "2. published and recorded date- we have already taken care of these non numerical columns."
      ]
    },
    {
      "cell_type": "code",
      "metadata": {
        "id": "9aup5DT7taMK"
      },
      "source": [
        "data.drop(columns=['url','recorded_date','published_date'],inplace=True)"
      ],
      "execution_count": 118,
      "outputs": []
    },
    {
      "cell_type": "code",
      "metadata": {
        "colab": {
          "base_uri": "https://localhost:8080/"
        },
        "id": "droWex5MQKDe",
        "outputId": "8e4bc842-5e37-4246-8b93-2ec048010156"
      },
      "source": [
        "data.info()"
      ],
      "execution_count": 119,
      "outputs": [
        {
          "output_type": "stream",
          "text": [
            "<class 'pandas.core.frame.DataFrame'>\n",
            "RangeIndex: 4005 entries, 0 to 4004\n",
            "Data columns (total 22 columns):\n",
            " #   Column               Non-Null Count  Dtype  \n",
            "---  ------               --------------  -----  \n",
            " 0   title                4005 non-null   object \n",
            " 1   speaker_1            4005 non-null   object \n",
            " 2   all_speakers         4005 non-null   object \n",
            " 3   occupations          4005 non-null   object \n",
            " 4   about_speakers       4005 non-null   object \n",
            " 5   views                4005 non-null   float64\n",
            " 6   event                4005 non-null   object \n",
            " 7   native_lang          4005 non-null   object \n",
            " 8   available_lang       4005 non-null   object \n",
            " 9   comments             4005 non-null   float64\n",
            " 10  duration             4005 non-null   float64\n",
            " 11  topics               4005 non-null   object \n",
            " 12  related_talks        4005 non-null   object \n",
            " 13  description          4005 non-null   object \n",
            " 14  transcript           4005 non-null   object \n",
            " 15  published_day        4005 non-null   object \n",
            " 16  published_month      4005 non-null   object \n",
            " 17  published_year       4005 non-null   int64  \n",
            " 18  recorded_day         4005 non-null   object \n",
            " 19  recorded_month       4005 non-null   object \n",
            " 20  recorded_year        4005 non-null   int64  \n",
            " 21  diff_record_publish  4005 non-null   float64\n",
            "dtypes: float64(4), int64(2), object(16)\n",
            "memory usage: 688.5+ KB\n"
          ],
          "name": "stdout"
        }
      ]
    },
    {
      "cell_type": "code",
      "metadata": {
        "id": "qJLrQKI6QTfN"
      },
      "source": [
        ""
      ],
      "execution_count": null,
      "outputs": []
    }
  ]
}
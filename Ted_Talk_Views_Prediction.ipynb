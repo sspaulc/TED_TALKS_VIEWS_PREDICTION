{
  "nbformat": 4,
  "nbformat_minor": 0,
  "metadata": {
    "colab": {
      "name": "Ted Talk Views Prediction.ipynb",
      "provenance": [],
      "collapsed_sections": [],
      "authorship_tag": "ABX9TyNqwiI+8IT2K/h5KGYV+xgK",
      "include_colab_link": true
    },
    "kernelspec": {
      "name": "python3",
      "display_name": "Python 3"
    },
    "language_info": {
      "name": "python"
    }
  },
  "cells": [
    {
      "cell_type": "markdown",
      "metadata": {
        "id": "view-in-github",
        "colab_type": "text"
      },
      "source": [
        "<a href=\"https://colab.research.google.com/github/sspaulc/TED_TALKS_VIEWS_PREDICTION/blob/main/Ted_Talk_Views_Prediction.ipynb\" target=\"_parent\"><img src=\"https://colab.research.google.com/assets/colab-badge.svg\" alt=\"Open In Colab\"/></a>"
      ]
    },
    {
      "cell_type": "markdown",
      "metadata": {
        "id": "NRkKqdD1j4cc"
      },
      "source": [
        "Problem statement-- TED is devoted to spreading powerful ideas on just about any topic. These datasets contain over 4,000 TED talks including transcripts in many languages. Founded in 1984 by Richard Salman as a nonprofit organization that aimed at bringing experts from the fields of Technology, Entertainment, and Design together, TED Conferences have gone on to become the Mecca of ideas from virtually all walks of life. As of 2015, TED and its sister TEDx chapters have published more than 2000 talks for free consumption by the masses and its speaker list boasts of the likes of Al Gore, Jimmy Wales, Shahrukh Khan, and Bill Gates. The main objective is to build a predictive model, which could help in predicting the views of the videos uploaded on the TEDx website"
      ]
    },
    {
      "cell_type": "markdown",
      "metadata": {
        "id": "K0LOUcxnk7mT"
      },
      "source": [
        "# Importing Libraires:\n"
      ]
    },
    {
      "cell_type": "code",
      "metadata": {
        "id": "Zdv_sTHCk-FS"
      },
      "source": [
        "import pandas as pd\n",
        "import numpy as np\n",
        "from datetime import datetime\n",
        "import seaborn as sns\n",
        "import matplotlib.pyplot as plt\n",
        "%matplotlib inline\n",
        "from sklearn.ensemble import RandomForestRegressor,ExtraTreesRegressor\n",
        "import xgboost as xgb\n",
        "from math import sqrt\n",
        "from sklearn.metrics import mean_squared_error, r2_score\n",
        "from sklearn.preprocessing import StandardScaler, MinMaxScaler\n",
        "from sklearn.model_selection import train_test_split, KFold\n",
        "from sklearn.preprocessing import OneHotEncoder\n",
        "from sklearn.model_selection import RandomizedSearchCV\n",
        "from sklearn import ensemble\n",
        "\n",
        "import warnings\n",
        "warnings.filterwarnings('ignore')"
      ],
      "execution_count": 1,
      "outputs": []
    },
    {
      "cell_type": "code",
      "metadata": {
        "id": "KC5RPVG99Xxh"
      },
      "source": [
        "from wordcloud import WordCloud,ImageColorGenerator"
      ],
      "execution_count": 2,
      "outputs": []
    },
    {
      "cell_type": "markdown",
      "metadata": {
        "id": "eZESDL_Gj6Wx"
      },
      "source": [
        "# Collecting data:"
      ]
    },
    {
      "cell_type": "code",
      "metadata": {
        "colab": {
          "base_uri": "https://localhost:8080/"
        },
        "id": "5K2KzCqHjyH2",
        "outputId": "510b1a53-d858-43bb-e4c0-839506377a2c"
      },
      "source": [
        "from google.colab import drive\n",
        "drive.mount('/content/gdrive')\n"
      ],
      "execution_count": 3,
      "outputs": [
        {
          "output_type": "stream",
          "text": [
            "Mounted at /content/gdrive\n"
          ],
          "name": "stdout"
        }
      ]
    },
    {
      "cell_type": "code",
      "metadata": {
        "id": "erCNVqhCkKHm"
      },
      "source": [
        "#Read the data\n",
        "\n",
        "data= pd.read_csv(\"/content/gdrive/MyDrive/AlmaBetter/Almabetter/Capstone Projects/Ted Talk Views Prediction/data_ted_talks.csv\")\n"
      ],
      "execution_count": 4,
      "outputs": []
    },
    {
      "cell_type": "code",
      "metadata": {
        "colab": {
          "base_uri": "https://localhost:8080/"
        },
        "id": "nFAZbJ_9mAvS",
        "outputId": "ca4edb2e-84c5-4e4a-eda1-6a17a9fa7bad"
      },
      "source": [
        "data.columns"
      ],
      "execution_count": 5,
      "outputs": [
        {
          "output_type": "execute_result",
          "data": {
            "text/plain": [
              "Index(['talk_id', 'title', 'speaker_1', 'all_speakers', 'occupations',\n",
              "       'about_speakers', 'views', 'recorded_date', 'published_date', 'event',\n",
              "       'native_lang', 'available_lang', 'comments', 'duration', 'topics',\n",
              "       'related_talks', 'url', 'description', 'transcript'],\n",
              "      dtype='object')"
            ]
          },
          "metadata": {
            "tags": []
          },
          "execution_count": 5
        }
      ]
    },
    {
      "cell_type": "markdown",
      "metadata": {
        "id": "Hu_o0AEOrIeD"
      },
      "source": [
        "# **Exploratory Data Analysis:**"
      ]
    },
    {
      "cell_type": "markdown",
      "metadata": {
        "id": "4Cnxh6rnlYjh"
      },
      "source": [
        "#Hypotheses:\n",
        "\n",
        "1. Events with more counts will have more views\n",
        "\n",
        "2. Medium Duration of videos have most views\n",
        "\n",
        "3. Most popular speakers like Alex Gendler will have more views\n",
        "\n",
        "4. Number of languages it is available in will have more views.\n",
        "\n",
        "5. Occupations like 'Activist' will have most views.\n",
        "\n",
        "6. Topics like 'Technology' will have most views.\n",
        "\n",
        "7. Older videos will have more views.\n",
        "\n",
        "8. More comments will have more views.\n",
        "\n",
        "9. More number of tags will have more views.\n",
        "\n",
        "10. Videos published on Fridays will have more views."
      ]
    },
    {
      "cell_type": "markdown",
      "metadata": {
        "id": "oTj7bpSnnE-A"
      },
      "source": [
        "##**1. Events:**"
      ]
    },
    {
      "cell_type": "code",
      "metadata": {
        "colab": {
          "base_uri": "https://localhost:8080/"
        },
        "id": "Sm4Bc0g9lWdG",
        "outputId": "8660c8ca-7c96-4ae9-ba41-b45e57d4671f"
      },
      "source": [
        "len(data['event'].unique())"
      ],
      "execution_count": 6,
      "outputs": [
        {
          "output_type": "execute_result",
          "data": {
            "text/plain": [
              "459"
            ]
          },
          "metadata": {
            "tags": []
          },
          "execution_count": 6
        }
      ]
    },
    {
      "cell_type": "markdown",
      "metadata": {
        "id": "jRHRgbRunoIY"
      },
      "source": [
        "There are 459 unique values for events. Let us rectify that first. Every event that has occurred in the same year will be considered in the same bin."
      ]
    },
    {
      "cell_type": "code",
      "metadata": {
        "id": "3rCPLPrTnZ87"
      },
      "source": [
        "# initialise all values as 'Other' to assign this category\n",
        "# to all entries that don't fit into the chosen categories\n",
        "data['event_category'] = 'Other'\n",
        "\n",
        "for i in range(len(data)):\n",
        "    if data['event'][i][0:5]=='TED20':\n",
        "        data['event_category'][i] = 'TED2000s'\n",
        "    elif data['event'][i][0:5]=='TED19':\n",
        "        data['event_category'][i] = 'TED1900s'\n",
        "    elif data['event'][i][0:4]=='TEDx':\n",
        "        data['event_category'][i] = \"TEDx\"\n",
        "    elif data['event'][i][0:7]=='TED@BCG':\n",
        "        data['event_category'][i] = 'TED@BCG'\n",
        "    elif data['event'][i][0:4]=='TED@':\n",
        "        data['event_category'][i] = \"TED@\"\n",
        "    elif data['event'][i][0:8]=='TEDSalon':\n",
        "        data['event_category'][i] = \"TEDSalon\"\n",
        "    elif data['event'][i][0:9]=='TEDGlobal':\n",
        "        data['event_category'][i] = 'TEDGlobal'\n",
        "    elif data['event'][i][0:8]=='TEDWomen':\n",
        "        data['event_category'][i] = 'TEDWomen'\n",
        "    elif data['event'][i][0:6]=='TEDMED':\n",
        "        data['event_category'][i] = 'TEDMED'\n",
        "    elif data['event'][i][0:3]=='TED':\n",
        "        data['event_category'][i] = 'TEDOther'"
      ],
      "execution_count": 7,
      "outputs": []
    },
    {
      "cell_type": "markdown",
      "metadata": {
        "id": "T59SHb4koTVc"
      },
      "source": [
        "Let us see the Event with most counts:"
      ]
    },
    {
      "cell_type": "code",
      "metadata": {
        "colab": {
          "base_uri": "https://localhost:8080/",
          "height": 347
        },
        "id": "KtWjd0l-oExF",
        "outputId": "e1b48b1a-cc5b-4b3f-a83f-2f2b405f9e19"
      },
      "source": [
        "data['event_category'].value_counts().sort_values(ascending=False).plot(kind='bar',color='darkred')\n",
        "\n",
        "plt.title('Event Count')"
      ],
      "execution_count": 8,
      "outputs": [
        {
          "output_type": "execute_result",
          "data": {
            "text/plain": [
              "Text(0.5, 1.0, 'Event Count')"
            ]
          },
          "metadata": {
            "tags": []
          },
          "execution_count": 8
        },
        {
          "output_type": "display_data",
          "data": {
            "image/png": "[encoded data removed]",
            "text/plain": [
              "<Figure size 432x288 with 1 Axes>"
            ]
          },
          "metadata": {
            "tags": [],
            "needs_background": "light"
          }
        }
      ]
    },
    {
      "cell_type": "markdown",
      "metadata": {
        "id": "enG0WtBoowP_"
      },
      "source": [
        "According to this data, TED2000s should have most views as they were most in count."
      ]
    },
    {
      "cell_type": "code",
      "metadata": {
        "colab": {
          "base_uri": "https://localhost:8080/",
          "height": 407
        },
        "id": "RegE77BNopSg",
        "outputId": "dfdc3b23-de42-4a15-f41e-8f797714ec0b"
      },
      "source": [
        "#Event with actual views\n",
        "plt.figure(figsize=(10,6))\n",
        "\n",
        "plt.plot(data[['event_category','views']].groupby('event_category').agg({'views':'sum'})['views'].sort_values(ascending=False),color='darkred')\n",
        "\n",
        "plt.title('Event Category vs Views')\n",
        "\n",
        "plt.plot(data[['event_category','views']].groupby('event_category').agg({'views':'sum'})['views'].sort_values(ascending=False),marker='o',color='darkred')"
      ],
      "execution_count": 9,
      "outputs": [
        {
          "output_type": "execute_result",
          "data": {
            "text/plain": [
              "[<matplotlib.lines.Line2D at 0x7f06d9707c90>]"
            ]
          },
          "metadata": {
            "tags": []
          },
          "execution_count": 9
        },
        {
          "output_type": "display_data",
          "data": {
            "image/png": "[encoded data removed]",
            "text/plain": [
              "<Figure size 720x432 with 1 Axes>"
            ]
          },
          "metadata": {
            "tags": [],
            "needs_background": "light"
          }
        }
      ]
    },
    {
      "cell_type": "markdown",
      "metadata": {
        "id": "P1ZChfCGqr3W"
      },
      "source": [
        "First hypothesis is true."
      ]
    },
    {
      "cell_type": "markdown",
      "metadata": {
        "id": "5PTG5tzSq9fb"
      },
      "source": [
        "## **2. Duration:**"
      ]
    },
    {
      "cell_type": "code",
      "metadata": {
        "colab": {
          "base_uri": "https://localhost:8080/",
          "height": 299
        },
        "id": "jgaVNdL1ptF8",
        "outputId": "93be587a-00ce-482d-c613-27875eda7dcb"
      },
      "source": [
        "plt.scatter(x= data['duration']/1000,y=data['views'],color='darkred',alpha=0.6)\n",
        "\n",
        "plt.title('Duration vs Views')"
      ],
      "execution_count": 10,
      "outputs": [
        {
          "output_type": "execute_result",
          "data": {
            "text/plain": [
              "Text(0.5, 1.0, 'Duration vs Views')"
            ]
          },
          "metadata": {
            "tags": []
          },
          "execution_count": 10
        },
        {
          "output_type": "display_data",
          "data": {
            "image/png": "[encoded data removed]",
            "text/plain": [
              "<Figure size 432x288 with 1 Axes>"
            ]
          },
          "metadata": {
            "tags": [],
            "needs_background": "light"
          }
        }
      ]
    },
    {
      "cell_type": "markdown",
      "metadata": {
        "id": "cM1taLDfwvAZ"
      },
      "source": [
        "Most vidoes with lesser duration are more closely related to views."
      ]
    },
    {
      "cell_type": "markdown",
      "metadata": {
        "id": "NdN_rUDbw5MH"
      },
      "source": [
        "## **3. Speakers:**"
      ]
    },
    {
      "cell_type": "code",
      "metadata": {
        "colab": {
          "base_uri": "https://localhost:8080/",
          "height": 35
        },
        "id": "TkrgQXyk0hAT",
        "outputId": "7784c9c9-820c-4753-f713-ab8a8d2220e4"
      },
      "source": [
        "data['speaker_1'][0]"
      ],
      "execution_count": 11,
      "outputs": [
        {
          "output_type": "execute_result",
          "data": {
            "application/vnd.google.colaboratory.intrinsic+json": {
              "type": "string"
            },
            "text/plain": [
              "'Al Gore'"
            ]
          },
          "metadata": {
            "tags": []
          },
          "execution_count": 11
        }
      ]
    },
    {
      "cell_type": "code",
      "metadata": {
        "id": "X1-H6e4B0mlH"
      },
      "source": [
        "speakers=data.groupby('speaker_1').agg({'views':'sum'})['views']"
      ],
      "execution_count": 12,
      "outputs": []
    },
    {
      "cell_type": "code",
      "metadata": {
        "id": "0UYZnJb61Isl"
      },
      "source": [
        "speakers= speakers.sort_values(ascending= False)"
      ],
      "execution_count": 13,
      "outputs": []
    },
    {
      "cell_type": "code",
      "metadata": {
        "id": "mp_PNbia0p1O"
      },
      "source": [
        "speakers=speakers.head(10)"
      ],
      "execution_count": 14,
      "outputs": []
    },
    {
      "cell_type": "code",
      "metadata": {
        "colab": {
          "base_uri": "https://localhost:8080/",
          "height": 407
        },
        "id": "5NQP4XQPxjNJ",
        "outputId": "41572a92-ad1f-4076-cdee-1e99ec82cee0"
      },
      "source": [
        "#Plotting the graph\n",
        "\n",
        "plt.figure(figsize=(15,6))\n",
        "\n",
        "plt.plot(speakers)\n",
        "\n",
        "plt.title('Views against Speakers')\n",
        "\n",
        "plt.plot(speakers,marker='o',color='darkred')"
      ],
      "execution_count": 15,
      "outputs": [
        {
          "output_type": "execute_result",
          "data": {
            "text/plain": [
              "[<matplotlib.lines.Line2D at 0x7f06d86c7fd0>]"
            ]
          },
          "metadata": {
            "tags": []
          },
          "execution_count": 15
        },
        {
          "output_type": "display_data",
          "data": {
            "image/png": "[encoded data removed]",
            "text/plain": [
              "<Figure size 1080x432 with 1 Axes>"
            ]
          },
          "metadata": {
            "tags": [],
            "needs_background": "light"
          }
        }
      ]
    },
    {
      "cell_type": "markdown",
      "metadata": {
        "id": "xAFXaf1P3o_m"
      },
      "source": [
        "Alex Gendler is one of the most popular guests on Ted Talks and thus he has the highest number of views. \n",
        "\n",
        "And thus my hypothesis was correct.\n",
        "\n",
        "One of his best videos being Building the Brooklyn bridge. \n",
        "\n",
        "Let us see if it is true.\n",
        "\n"
      ]
    },
    {
      "cell_type": "code",
      "metadata": {
        "colab": {
          "base_uri": "https://localhost:8080/",
          "height": 186
        },
        "id": "NQJb3ifQ4Q9y",
        "outputId": "26a5c5b6-3dfe-4c82-8cb6-04114ce03ce7"
      },
      "source": [
        "data[data['views']== data['views'].max()]"
      ],
      "execution_count": 16,
      "outputs": [
        {
          "output_type": "execute_result",
          "data": {
            "text/html": [
              "<div>\n",
              "<style scoped>\n",
              "    .dataframe tbody tr th:only-of-type {\n",
              "        vertical-align: middle;\n",
              "    }\n",
              "\n",
              "    .dataframe tbody tr th {\n",
              "        vertical-align: top;\n",
              "    }\n",
              "\n",
              "    .dataframe thead th {\n",
              "        text-align: right;\n",
              "    }\n",
              "</style>\n",
              "<table border=\"1\" class=\"dataframe\">\n",
              "  <thead>\n",
              "    <tr style=\"text-align: right;\">\n",
              "      <th></th>\n",
              "      <th>talk_id</th>\n",
              "      <th>title</th>\n",
              "      <th>speaker_1</th>\n",
              "      <th>all_speakers</th>\n",
              "      <th>occupations</th>\n",
              "      <th>about_speakers</th>\n",
              "      <th>views</th>\n",
              "      <th>recorded_date</th>\n",
              "      <th>published_date</th>\n",
              "      <th>event</th>\n",
              "      <th>native_lang</th>\n",
              "      <th>available_lang</th>\n",
              "      <th>comments</th>\n",
              "      <th>duration</th>\n",
              "      <th>topics</th>\n",
              "      <th>related_talks</th>\n",
              "      <th>url</th>\n",
              "      <th>description</th>\n",
              "      <th>transcript</th>\n",
              "      <th>event_category</th>\n",
              "    </tr>\n",
              "  </thead>\n",
              "  <tbody>\n",
              "    <tr>\n",
              "      <th>4</th>\n",
              "      <td>66</td>\n",
              "      <td>Do schools kill creativity?</td>\n",
              "      <td>Sir Ken Robinson</td>\n",
              "      <td>{0: 'Sir Ken Robinson'}</td>\n",
              "      <td>{0: ['author', 'educator']}</td>\n",
              "      <td>{0: \"Creativity expert Sir Ken Robinson challe...</td>\n",
              "      <td>65051954</td>\n",
              "      <td>2006-02-25</td>\n",
              "      <td>2006-06-27</td>\n",
              "      <td>TED2006</td>\n",
              "      <td>en</td>\n",
              "      <td>['af', 'ar', 'az', 'be', 'bg', 'bn', 'ca', 'cs...</td>\n",
              "      <td>4931.0</td>\n",
              "      <td>1164</td>\n",
              "      <td>['children', 'creativity', 'culture', 'dance',...</td>\n",
              "      <td>{865: 'Bring on the learning revolution!', 173...</td>\n",
              "      <td>https://www.ted.com/talks/sir_ken_robinson_do_...</td>\n",
              "      <td>Sir Ken Robinson makes an entertaining and pro...</td>\n",
              "      <td>Good morning. How are you? (Audience) Good. It...</td>\n",
              "      <td>TED2000s</td>\n",
              "    </tr>\n",
              "  </tbody>\n",
              "</table>\n",
              "</div>"
            ],
            "text/plain": [
              "   talk_id  ... event_category\n",
              "4       66  ...       TED2000s\n",
              "\n",
              "[1 rows x 20 columns]"
            ]
          },
          "metadata": {
            "tags": []
          },
          "execution_count": 16
        }
      ]
    },
    {
      "cell_type": "markdown",
      "metadata": {
        "id": "oFzSRZuJ5MeT"
      },
      "source": [
        "Ah yes! The maximum views are by Sir Ken Robinson's 'Do schools kill creativity?'"
      ]
    },
    {
      "cell_type": "markdown",
      "metadata": {
        "id": "SljYR6Ak5Wtr"
      },
      "source": [
        "# **3. Number of Languages:**"
      ]
    },
    {
      "cell_type": "code",
      "metadata": {
        "colab": {
          "base_uri": "https://localhost:8080/",
          "height": 53
        },
        "id": "XLURNnJn5uN0",
        "outputId": "a0e3f469-f30a-4e96-f1e0-3e264e94c50e"
      },
      "source": [
        "data['available_lang'][0]"
      ],
      "execution_count": 17,
      "outputs": [
        {
          "output_type": "execute_result",
          "data": {
            "application/vnd.google.colaboratory.intrinsic+json": {
              "type": "string"
            },
            "text/plain": [
              "\"['ar', 'bg', 'cs', 'de', 'el', 'en', 'es', 'fa', 'fr', 'fr-ca', 'gl', 'gu', 'he', 'hi', 'hr', 'hu', 'id', 'it', 'ja', 'ko', 'lt', 'lv', 'mk', 'nl', 'pl', 'pt', 'pt-br', 'ro', 'ru', 'sk', 'sl', 'sq', 'sr', 'sv', 'sw', 'th', 'tl', 'tr', 'uk', 'ur', 'vi', 'zh-cn', 'zh-tw']\""
            ]
          },
          "metadata": {
            "tags": []
          },
          "execution_count": 17
        }
      ]
    },
    {
      "cell_type": "markdown",
      "metadata": {
        "id": "xs5fbdgN50BB"
      },
      "source": [
        "I need to convert the data type and then get the count of languages available."
      ]
    },
    {
      "cell_type": "code",
      "metadata": {
        "id": "hFbTCySR4rm-"
      },
      "source": [
        "#Function to use eval function to convert string to list.\n",
        "def convert_string_to_original_dtype(x):\n",
        "  try:\n",
        "    return eval(x)\n",
        "  except TypeError:\n",
        "    pass"
      ],
      "execution_count": 18,
      "outputs": []
    },
    {
      "cell_type": "code",
      "metadata": {
        "id": "vb3Y2GR-5yRv"
      },
      "source": [
        "data['available_lang']= data['available_lang'].apply(convert_string_to_original_dtype)"
      ],
      "execution_count": 19,
      "outputs": []
    },
    {
      "cell_type": "code",
      "metadata": {
        "id": "DvUE6a_c57xA"
      },
      "source": [
        "#Function to calculate the count of languages\n",
        "\n",
        "def length(x):\n",
        "  return len(x)"
      ],
      "execution_count": 20,
      "outputs": []
    },
    {
      "cell_type": "code",
      "metadata": {
        "id": "L-D4ecm56AX5"
      },
      "source": [
        "data['available_lang']= data['available_lang'].apply(length)"
      ],
      "execution_count": 21,
      "outputs": []
    },
    {
      "cell_type": "code",
      "metadata": {
        "colab": {
          "base_uri": "https://localhost:8080/",
          "height": 407
        },
        "id": "ivxGSmrD6KRR",
        "outputId": "05b19241-188a-4456-cc67-811df3958742"
      },
      "source": [
        "plt.figure(figsize=(10,6))\n",
        "\n",
        "plt.plot(data[['available_lang','views']].groupby('available_lang').agg({'views':'sum'})['views'].sort_values(ascending=False),color='darkred')\n",
        "\n",
        "plt.title('Number of available languages vs Views')\n",
        "\n",
        "plt.plot(data[['available_lang','views']].groupby('available_lang').agg({'views':'sum'})['views'].sort_values(ascending=False),marker='o',color='darkred')"
      ],
      "execution_count": 22,
      "outputs": [
        {
          "output_type": "execute_result",
          "data": {
            "text/plain": [
              "[<matplotlib.lines.Line2D at 0x7f06d84fdf90>]"
            ]
          },
          "metadata": {
            "tags": []
          },
          "execution_count": 22
        },
        {
          "output_type": "display_data",
          "data": {
            "image/png": "[encoded data removed]",
            "text/plain": [
              "<Figure size 720x432 with 1 Axes>"
            ]
          },
          "metadata": {
            "tags": [],
            "needs_background": "light"
          }
        }
      ]
    },
    {
      "cell_type": "markdown",
      "metadata": {
        "id": "cDRd-BWr7v4T"
      },
      "source": [
        "My hypothesis is wrong. Number of languages doesn't effect the views."
      ]
    },
    {
      "cell_type": "markdown",
      "metadata": {
        "id": "PwvVdVc177VG"
      },
      "source": [
        "# **5. Occupation:**"
      ]
    },
    {
      "cell_type": "code",
      "metadata": {
        "colab": {
          "base_uri": "https://localhost:8080/",
          "height": 35
        },
        "id": "7RL1M2hj61pQ",
        "outputId": "cd6771c0-f61f-434f-9eb3-83d65270f024"
      },
      "source": [
        "data['occupations'][0]"
      ],
      "execution_count": 23,
      "outputs": [
        {
          "output_type": "execute_result",
          "data": {
            "application/vnd.google.colaboratory.intrinsic+json": {
              "type": "string"
            },
            "text/plain": [
              "\"{0: ['climate advocate']}\""
            ]
          },
          "metadata": {
            "tags": []
          },
          "execution_count": 23
        }
      ]
    },
    {
      "cell_type": "markdown",
      "metadata": {
        "id": "1G7qg55h8Gjl"
      },
      "source": [
        "Convert String to dictionary and obtain the value from the list:"
      ]
    },
    {
      "cell_type": "code",
      "metadata": {
        "id": "qxQU3CAB8EAw"
      },
      "source": [
        "data['occupations']=data['occupations'].apply(convert_string_to_original_dtype)"
      ],
      "execution_count": 24,
      "outputs": []
    },
    {
      "cell_type": "code",
      "metadata": {
        "id": "opWl6kOb8WCT"
      },
      "source": [
        "#Function to convert list to string\n",
        "def list_to_string(x):\n",
        "  for item in x:\n",
        "    return item"
      ],
      "execution_count": 25,
      "outputs": []
    },
    {
      "cell_type": "code",
      "metadata": {
        "colab": {
          "base_uri": "https://localhost:8080/"
        },
        "id": "6BDyB-qB-S5H",
        "outputId": "a28977ae-228d-4009-be06-a11b1ece03e7"
      },
      "source": [
        "data['occupations'].isnull().sum()"
      ],
      "execution_count": 26,
      "outputs": [
        {
          "output_type": "execute_result",
          "data": {
            "text/plain": [
              "522"
            ]
          },
          "metadata": {
            "tags": []
          },
          "execution_count": 26
        }
      ]
    },
    {
      "cell_type": "code",
      "metadata": {
        "id": "9tzVV4KO81SJ"
      },
      "source": [
        "#Function to obtain occupation \n",
        "\n",
        "def get_occupation(x):\n",
        "  try:\n",
        "    for key,value in x.items():\n",
        "      return value\n",
        "  except AttributeError:\n",
        "    return ['Unknown']"
      ],
      "execution_count": 27,
      "outputs": []
    },
    {
      "cell_type": "code",
      "metadata": {
        "id": "ihRgrXwe856k"
      },
      "source": [
        "data['occupations']= data['occupations'].apply(get_occupation)"
      ],
      "execution_count": 28,
      "outputs": []
    },
    {
      "cell_type": "code",
      "metadata": {
        "id": "rzHBOPxs-7GQ"
      },
      "source": [
        "data['occupations']=data['occupations'].apply(list_to_string)"
      ],
      "execution_count": 29,
      "outputs": []
    },
    {
      "cell_type": "code",
      "metadata": {
        "colab": {
          "base_uri": "https://localhost:8080/",
          "height": 35
        },
        "id": "S_MFhZIj_yNS",
        "outputId": "0e308d65-5637-4633-9be4-413aa7a4c750"
      },
      "source": [
        "data['occupations'][0]"
      ],
      "execution_count": 30,
      "outputs": [
        {
          "output_type": "execute_result",
          "data": {
            "application/vnd.google.colaboratory.intrinsic+json": {
              "type": "string"
            },
            "text/plain": [
              "'climate advocate'"
            ]
          },
          "metadata": {
            "tags": []
          },
          "execution_count": 30
        }
      ]
    },
    {
      "cell_type": "code",
      "metadata": {
        "colab": {
          "base_uri": "https://localhost:8080/",
          "height": 265
        },
        "id": "KWMYE-Dl89BZ",
        "outputId": "bb28afca-92a2-42d3-abba-e1dfca2cb66a"
      },
      "source": [
        "#Let us see some of the most commonly occuring occupations by word cloud\n",
        "\n",
        "#making of word cloud from title column\n",
        "text = \" \".join(topic for topic in data.occupations.astype(str))\n",
        "print (\"There are {} words in the combination of all Occupations.\".format(len(text)))\n",
        "\n",
        "# Create and generate a word cloud image:\n",
        "wordcloud = WordCloud(background_color=\"white\", width=800, height=400).generate(text)\n",
        "\n",
        "plt.axis(\"off\")\n",
        "plt.rcParams[\"figure.figsize\"] = (10,6)\n",
        "plt.tight_layout(pad=0)\n",
        "plt.imshow(wordcloud, interpolation='bilinear')\n",
        "plt.show()"
      ],
      "execution_count": 31,
      "outputs": [
        {
          "output_type": "stream",
          "text": [
            "There are 59827 words in the combination of all Occupations.\n"
          ],
          "name": "stdout"
        },
        {
          "output_type": "display_data",
          "data": {
            "image/png": "[encoded data removed]",
            "text/plain": [
              "<Figure size 432x288 with 1 Axes>"
            ]
          },
          "metadata": {
            "tags": [],
            "needs_background": "light"
          }
        }
      ]
    },
    {
      "cell_type": "markdown",
      "metadata": {
        "id": "R5De6mbM9m7Q"
      },
      "source": [
        "Entrepreneur, Activist, designer have some of the most counts. Let us see what it has to do with the views."
      ]
    },
    {
      "cell_type": "code",
      "metadata": {
        "colab": {
          "base_uri": "https://localhost:8080/",
          "height": 407
        },
        "id": "yJNbvGkn9Qu8",
        "outputId": "dd8a9371-01b9-4c72-c221-cbf91cbe3f71"
      },
      "source": [
        "plt.figure(figsize=(20,6))\n",
        "\n",
        "plt.plot(data[['occupations','views']].groupby('occupations').agg({'views':'sum'})['views'].sort_values(ascending=False).head(10),color='darkred')\n",
        "\n",
        "plt.title('Occupations vs Views')\n",
        "\n",
        "plt.plot(data[['occupations','views']].groupby('occupations').agg({'views':'sum'})['views'].sort_values(ascending=False).head(10),marker='o',color='darkred')"
      ],
      "execution_count": 32,
      "outputs": [
        {
          "output_type": "execute_result",
          "data": {
            "text/plain": [
              "[<matplotlib.lines.Line2D at 0x7f06d9e3d850>]"
            ]
          },
          "metadata": {
            "tags": []
          },
          "execution_count": 32
        },
        {
          "output_type": "display_data",
          "data": {
            "image/png": "[encoded data removed]",
            "text/plain": [
              "<Figure size 1440x432 with 1 Axes>"
            ]
          },
          "metadata": {
            "tags": [],
            "needs_background": "light"
          }
        }
      ]
    },
    {
      "cell_type": "markdown",
      "metadata": {
        "id": "LSott8kwAK4k"
      },
      "source": [
        "A lot of the occupations are not known but some counts like writer and author do have some good amount of views. My hypothesis cannot be rejected."
      ]
    },
    {
      "cell_type": "markdown",
      "metadata": {
        "id": "5U8_nbHXAWEo"
      },
      "source": [
        "## **6.Topics:**"
      ]
    },
    {
      "cell_type": "markdown",
      "metadata": {
        "id": "Ellre4POAdZV"
      },
      "source": [
        "To determine the hidden abstract and actual topics that may or may not have been tagged I will be using the Transcript column."
      ]
    },
    {
      "cell_type": "markdown",
      "metadata": {
        "id": "KJ6j23KSAv8u"
      },
      "source": [
        "### Word Preprocessing:"
      ]
    },
    {
      "cell_type": "code",
      "metadata": {
        "id": "vb6LvKHN-Ich"
      },
      "source": [
        "import re, string, unicodedata\n",
        "import nltk\n",
        "import inflect\n",
        "from bs4 import BeautifulSoup\n",
        "from nltk import word_tokenize, sent_tokenize\n",
        "from nltk.corpus import stopwords\n",
        "from nltk.stem import LancasterStemmer, WordNetLemmatizer"
      ],
      "execution_count": 33,
      "outputs": []
    },
    {
      "cell_type": "code",
      "metadata": {
        "id": "GuUrrW7kA2qc"
      },
      "source": [
        "from keras.preprocessing.text import Tokenizer"
      ],
      "execution_count": 34,
      "outputs": []
    },
    {
      "cell_type": "code",
      "metadata": {
        "id": "rcAGZhBgA5yK"
      },
      "source": [
        "#maximum number of words to keep\n",
        "tokenizer = Tokenizer(nb_words=\"MAX_NB_WORDS\")\n",
        "tokenizer.fit_on_texts(data['transcript'])"
      ],
      "execution_count": 35,
      "outputs": []
    },
    {
      "cell_type": "markdown",
      "metadata": {
        "id": "-v26t6jgBTik"
      },
      "source": [
        "Word Normalizing:"
      ]
    },
    {
      "cell_type": "code",
      "metadata": {
        "colab": {
          "base_uri": "https://localhost:8080/"
        },
        "id": "vrqs3hJDBM13",
        "outputId": "70d9b8cb-536a-419f-ea50-dcc8b989bd03"
      },
      "source": [
        "def remove_non_ascii(words):\n",
        "    \"\"\"Remove non-ASCII characters from list of tokenized words\"\"\"\n",
        "    new_words = []\n",
        "    for word in words:\n",
        "        new_word = unicodedata.normalize('NFKD', word).encode('ascii', 'ignore').decode('utf-8', 'ignore')\n",
        "        new_words.append(new_word)\n",
        "    return new_words\n",
        "\n",
        "def to_lowercase(words):\n",
        "    \"\"\"Convert all characters to lowercase from list of tokenized words\"\"\"\n",
        "    new_words = []\n",
        "    for word in words:\n",
        "        new_word = word.lower()\n",
        "        new_words.append(new_word)\n",
        "    return new_words\n",
        "\n",
        "def remove_punctuation(words):\n",
        "    \"\"\"Remove punctuation from list of tokenized words\"\"\"\n",
        "    new_words = []\n",
        "    for word in words:\n",
        "        new_word = re.sub(r'[^\\w\\s]', '', word)\n",
        "        if new_word != '':\n",
        "            new_words.append(new_word)\n",
        "    return new_words\n",
        "\n",
        "def replace_numbers(words):\n",
        "    \"\"\"Replace all interger occurrences in list of tokenized words with textual representation\"\"\"\n",
        "    p = inflect.engine()\n",
        "    new_words = []\n",
        "    for word in words:\n",
        "        if word.isdigit():\n",
        "            new_word = p.number_to_words(word)\n",
        "            new_words.append(new_word)\n",
        "        else:\n",
        "            new_words.append(word)\n",
        "    return new_words\n",
        "\n",
        "def stem_words(words):\n",
        "    \"\"\"Stem words in list of tokenized words\"\"\"\n",
        "    stemmer = LancasterStemmer()\n",
        "    stems = []\n",
        "    for word in words:\n",
        "        stem = stemmer.stem(word)\n",
        "        stems.append(stem)\n",
        "    return stems\n",
        "\n",
        "def lemmatize_verbs(words):\n",
        "    \"\"\"Lemmatize verbs in list of tokenized words\"\"\"\n",
        "    lemmatizer = WordNetLemmatizer()\n",
        "    lemmas = []\n",
        "    for word in words:\n",
        "        lemma = lemmatizer.lemmatize(word, pos='v')\n",
        "        lemmas.append(lemma)\n",
        "    return lemmas\n",
        "\n",
        "def normalize(words):\n",
        "    words = remove_non_ascii(words)\n",
        "    words = to_lowercase(words)\n",
        "    words = remove_punctuation(words)\n",
        "    words = replace_numbers(words)\n",
        "    return words\n",
        "\n",
        "data['transcript'] = normalize(data['transcript'])\n",
        "print(data['transcript'][0])"
      ],
      "execution_count": 36,
      "outputs": [
        {
          "output_type": "stream",
          "text": [
            "thank you so much chris and its truly a great honor to have the opportunity to come to this stage twice im extremely grateful i have been blown away by this conference and i want to thank all of you for the many nice comments about what i had to say the other night and i say that sincerely partly because mock sob i need that laughter put yourselves in my position laughter i flew on air force two for eight years laughter now i have to take off my shoes or boots to get on an airplane laughter applause ill tell you one quick story to illustrate what thats been like for me laughter its a true story  every bit of this is true soon after tipper and i left the  mock sob white house  laughter we were driving from our home in nashville to a little farm we have 50 miles east of nashville driving ourselves laughter i know it sounds like a little thing to you but  laughter i looked in the rearview mirror and all of a sudden it just hit me there was no motorcade back there laughter youve heard of phantom limb pain laughter this was a rented ford taurus laughter it was dinnertime and we started looking for a place to eat we were on i40 we got to exit 238 lebanon tennessee we got off the exit we found a shoneys restaurant lowcost family restaurant chain for those of you who dont know it we went in and sat down at the booth and the waitress came over made a big commotion over tipper laughter she took our order and then went to the couple in the booth next to us and she lowered her voice so much i had to really strain to hear what she was saying and she said yes thats former vice president al gore and his wife tipper and the man said hes come down a long way hasnt he laughter applause theres been kind of a series of epiphanies laughter the very next day continuing the totally true story i got on a gv to fly to africa to make a speech in nigeria in the city of lagos on the topic of energy and i began the speech by telling them the story of what had just happened the day before in nashville and i told it pretty much the same way ive just shared it with you tipper and i were driving ourselves shoneys lowcost family restaurant chain what the man said  they laughed i gave my speech then went back out to the airport to fly back home i fell asleep on the plane until during the middle of the night we landed on the azores islands for refueling i woke up they opened the door i went out to get some fresh air and i looked and there was a man running across the runway and he was waving a piece of paper and he was yelling call washington call washington and i thought to myself in the middle of the night in the middle of the atlantic what in the world could be wrong in washington then i remembered it could be a bunch of things laughter but what it turned out to be was that my staff was extremely upset because one of the wire services in nigeria had already written a story about my speech and it had already been printed in cities all across the united states of america it was printed in monterey i checked laughter and the story began former vice president al gore announced in nigeria yesterday quote my wife tipper and i have opened a lowcost family restaurant  laughter named shoneys and we are running it ourselves laughter before i could get back to us soil david letterman and jay leno had already started in on  one of them had me in a big white chefs hat tipper was saying one more burger with fries laughter three days later i got a nice long handwritten letter from my friend and partner and colleague bill clinton saying congratulations on the new restaurant al laughter we like to celebrate each others successes in life laughter i was going to talk about information ecology but i was thinking that since i plan to make a lifelong habit of coming back to ted that maybe i could talk about that another time applause chris anderson its a deal applause al gore i want to focus on what many of you have said you would like me to elaborate on what can you do about the climate crisis i want to start with a couple of  im going to show some new images and im going to recapitulate just four or five now the slide show i update the slide show every time i give it i add new images because i learn more about it every time i give it its like beachcombing you know every time the tide comes in and out you find some more shells just in the last two days we got the new temperature records in january this is just for the united states of america historical average for januarys is 31 degrees last month was 395 degrees now i know that you wanted some more bad news about the environment  im kidding but these are the recapitulation slides and then im going to go into new material about what you can do but i wanted to elaborate on a couple of these first of all this is where were projected to go with the us contribution to global warming under business as usual efficiency in enduse electricity and enduse of all energy is the lowhanging fruit efficiency and conservation  its not a cost its a profit the sign is wrong its not negative its positive these are investments that pay for themselves but they are also very effective in deflecting our path cars and trucks  i talked about that in the slideshow but i want you to put it in perspective its an easy visible target of concern  and it should be  but there is more global warming pollution that comes from buildings than from cars and trucks cars and trucks are very significant and we have the lowest standards in the world and so we should address that but its part of the puzzle other transportation efficiency is as important as cars and trucks renewables at the current levels of technological efficiency can make this much difference and with what vinod and john doerr and others many of you here  there are a lot of people directly involved in this  this wedge is going to grow much more rapidly than the current projection shows it carbon capture and sequestration  thats what ccs stands for  is likely to become the killer app that will enable us to continue to use fossil fuels in a way that is safe not quite there yet ok now what can you do reduce emissions in your home most of these expenditures are also profitable insulation better design buy green electricity where you can i mentioned automobiles  buy a hybrid use light rail figure out some of the other options that are much better its important be a green consumer you have choices with everything you buy between things that have a harsh effect or a much less harsh effect on the global climate crisis consider this make a decision to live a carbonneutral life those of you who are good at branding id love to get your advice and help on how to say this in a way that connects with the most people it is easier than you think it really is a lot of us in here have made that decision and it is really pretty easy it means reduce your carbon dioxide emissions with the full range of choices that you make and then purchase or acquire offsets for the remainder that you have not completely reduced and what it means is elaborated at climatecrisisnet there is a carbon calculator participant productions convened  with my active involvement  the leading software writers in the world on this arcane science of carbon calculation to construct a consumerfriendly carbon calculator you can very precisely calculate what your co2 emissions are and then you will be given options to reduce and by the time the movie comes out in may this will be updated to 20 and we will have clickthrough purchases of offsets next consider making your business carbonneutral again some of us have done that and its not as hard as you think integrate climate solutions into all of your innovations whether you are from the technology or entertainment or design and architecture community invest sustainably majora mentioned this listen if you have invested money with managers who you compensate on the basis of their annual performance dont ever again complain about quarterly report ceo management over time people do what you pay them to do and if they judge how much theyre going to get paid on your capital that theyve invested based on the shortterm returns youre going to get shortterm decisions a lot more to be said about that become a catalyst of change teach others learn about it talk about it the movie is a movie version of the slideshow i gave two nights ago except its a lot more entertaining and it comes out in may many of you here have the opportunity to ensure that a lot of people see it consider sending somebody to nashville pick well and i am personally going to train people to give this slideshow  repurposed with some of the personal stories obviously replaced with a generic approach and its not just the slides its what they mean and its how they link together and so im going to be conducting a course this summer for a group of people that are nominated by different folks to come and then give it en masse in communities all across the country and were going to update the slideshow for all of them every single week to keep it right on the cutting edge working with larry lessig it will be somewhere in that process posted with tools and limiteduse copyrights so that young people can remix it and do it in their own way applause where did anybody get the idea that you ought to stay arms length from politics it doesnt mean that if youre a republican that im trying to convince you to be a democrat we need republicans as well this used to be a bipartisan issue and i know that in this group it really is become politically active make our democracy work the way its supposed to work support the idea of capping carbon dioxide emissions  global warming pollution  and trading it heres why as long as the united states is out of the world system its not a closed system once it becomes a closed system with us participation then everybody whos on a board of directors  how many people here serve on the board of directors of a corporation once its a closed system you will have legal liability if you do not urge your ceo to get the maximum income from reducing and trading the carbon emissions that can be avoided the market will work to solve this problem  if we can accomplish this help with the mass persuasion campaign that will start this spring we have to change the minds of the american people because presently the politicians do not have permission to do what needs to be done and in our modern country the role of logic and reason no longer includes mediating between wealth and power the way it once did its now repetition of short hotbutton 30second 28second television ads we have to buy a lot of those ads lets rebrand global warming as many of you have suggested i like climate crisis instead of climate collapse but again those of you who are good at branding i need your help on this somebody said the test were facing now a scientist told me is whether the combination of an opposable thumb and a neocortex is a viable combination laughter thats really true i said the other night and ill repeat now this is not a political issue again the republicans here  this shouldnt be partisan you have more influence than some of us who are democrats do this is an opportunity not just this but connected to the ideas that are here to bring more coherence to them we are one thank you very much i appreciate it applause\n"
          ],
          "name": "stdout"
        }
      ]
    },
    {
      "cell_type": "markdown",
      "metadata": {
        "id": "NEoVHVXqBhgI"
      },
      "source": [
        "Topic Modelling by Geneism and Tfidf Vectorizer:"
      ]
    },
    {
      "cell_type": "code",
      "metadata": {
        "id": "fN5rkbnYBtuV"
      },
      "source": [
        "from sklearn.feature_extraction.text import TfidfVectorizer"
      ],
      "execution_count": 37,
      "outputs": []
    },
    {
      "cell_type": "code",
      "metadata": {
        "id": "w-2qGd5OBcEz"
      },
      "source": [
        "tfidf_vectorizer = TfidfVectorizer(stop_words='english',max_df=0.25,min_df=5)\n",
        "doc_term_matrix = tfidf_vectorizer.fit_transform(data['transcript'].values.astype('U'))"
      ],
      "execution_count": 38,
      "outputs": []
    },
    {
      "cell_type": "code",
      "metadata": {
        "colab": {
          "base_uri": "https://localhost:8080/"
        },
        "id": "4hAd3MxmBsMv",
        "outputId": "e6c57e0d-5a8d-48b2-d062-136ee6926315"
      },
      "source": [
        "#Probability matrix of the probabilities of words\n",
        "\n",
        "from sklearn.decomposition import NMF\n",
        "\n",
        "nmf = NMF(n_components=7, random_state=42)\n",
        "nmf.fit(doc_term_matrix )"
      ],
      "execution_count": 39,
      "outputs": [
        {
          "output_type": "execute_result",
          "data": {
            "text/plain": [
              "NMF(alpha=0.0, beta_loss='frobenius', init=None, l1_ratio=0.0, max_iter=200,\n",
              "    n_components=7, random_state=42, shuffle=False, solver='cd', tol=0.0001,\n",
              "    verbose=0)"
            ]
          },
          "metadata": {
            "tags": []
          },
          "execution_count": 39
        }
      ]
    },
    {
      "cell_type": "code",
      "metadata": {
        "colab": {
          "base_uri": "https://localhost:8080/"
        },
        "id": "WKHE8my5B45o",
        "outputId": "b3e253b2-fbbd-4475-90b7-eeed9948bb04"
      },
      "source": [
        "for i,topic in enumerate(nmf.components_):\n",
        "    print(f'Top 10 words for topic #{i}:')\n",
        "    print([tfidf_vectorizer.get_feature_names()[i] for i in topic.argsort()[-10:]])\n",
        "    print('\\n')"
      ],
      "execution_count": 40,
      "outputs": [
        {
          "output_type": "stream",
          "text": [
            "Top 10 words for topic #0:\n",
            "['data', 'language', 'book', 'hes', 'computer', 'art', 'video', 'students', 'design', 'kids']\n",
            "\n",
            "\n",
            "Top 10 words for topic #1:\n",
            "['solar', 'stars', 'species', 'planets', 'energy', 'ocean', 'planet', 'light', 'universe', 'earth']\n",
            "\n",
            "\n",
            "Top 10 words for topic #2:\n",
            "['musicians', 'singing', 'piano', 'guitar', 'ends', 'song', 'play', 'musical', 'sound', 'music']\n",
            "\n",
            "\n",
            "Top 10 words for topic #3:\n",
            "['drugs', 'drug', 'health', 'dna', 'blood', 'disease', 'cell', 'patients', 'cancer', 'cells']\n",
            "\n",
            "\n",
            "Top 10 words for topic #4:\n",
            "['food', 'health', 'china', 'dollars', 'global', 'government', 'city', 'cities', 'africa', 'countries']\n",
            "\n",
            "\n",
            "Top 10 words for topic #5:\n",
            "['violence', 'black', 'girl', 'gender', 'womens', 'sex', 'woman', 'girls', 'men', 'women']\n",
            "\n",
            "\n",
            "Top 10 words for topic #6:\n",
            "['signals', 'cortex', 'stress', 'mental', 'activity', 'sleep', 'memory', 'brains', 'neurons', 'brain']\n",
            "\n",
            "\n"
          ],
          "name": "stdout"
        }
      ]
    },
    {
      "cell_type": "code",
      "metadata": {
        "id": "Tf5JjvScB-6P"
      },
      "source": [
        "topic_values = nmf.transform(doc_term_matrix)\n",
        "data['Topic_Cluster'] = topic_values.argmax(axis=1)"
      ],
      "execution_count": 41,
      "outputs": []
    },
    {
      "cell_type": "code",
      "metadata": {
        "colab": {
          "base_uri": "https://localhost:8080/"
        },
        "id": "_-RA-gMRCLH5",
        "outputId": "60763eee-0095-41e5-fa91-a23910e40792"
      },
      "source": [
        "data['Topic_Cluster'].unique()"
      ],
      "execution_count": 42,
      "outputs": [
        {
          "output_type": "execute_result",
          "data": {
            "text/plain": [
              "array([4, 0, 2, 6, 5, 1, 3])"
            ]
          },
          "metadata": {
            "tags": []
          },
          "execution_count": 42
        }
      ]
    },
    {
      "cell_type": "code",
      "metadata": {
        "id": "LDy9pkgQCKQG"
      },
      "source": [
        "# Replace the the values\n",
        "\n",
        "replace_values={0:'Technology',1:'Science',2:'Music',3:'Health',4:'International Affairs',5:'Social Issues',6:'Mental Health'}\n",
        "\n",
        "data['Topic_Cluster']= data['Topic_Cluster'].map(replace_values)"
      ],
      "execution_count": 43,
      "outputs": []
    },
    {
      "cell_type": "code",
      "metadata": {
        "colab": {
          "base_uri": "https://localhost:8080/",
          "height": 407
        },
        "id": "oqZiunkzCWSU",
        "outputId": "3d41be55-e15f-4e83-f0d5-943be0c9173a"
      },
      "source": [
        "plt.figure(figsize=(15,6))\n",
        "\n",
        "plt.plot(data[['Topic_Cluster','views']].groupby('Topic_Cluster').agg({'views':'sum'})['views'].sort_values(ascending=False).head(10),color='darkred')\n",
        "\n",
        "plt.title('Topic_Cluster vs Views')\n",
        "\n",
        "plt.plot(data[['Topic_Cluster','views']].groupby('Topic_Cluster').agg({'views':'sum'})['views'].sort_values(ascending=False).head(10),marker='o',color='darkred')"
      ],
      "execution_count": 44,
      "outputs": [
        {
          "output_type": "execute_result",
          "data": {
            "text/plain": [
              "[<matplotlib.lines.Line2D at 0x7f06943cc690>]"
            ]
          },
          "metadata": {
            "tags": []
          },
          "execution_count": 44
        },
        {
          "output_type": "display_data",
          "data": {
            "image/png": "[encoded data removed]",
            "text/plain": [
              "<Figure size 1080x432 with 1 Axes>"
            ]
          },
          "metadata": {
            "tags": [],
            "needs_background": "light"
          }
        }
      ]
    },
    {
      "cell_type": "markdown",
      "metadata": {
        "id": "C7EBt66rDldK"
      },
      "source": [
        "My hypothesis is correct."
      ]
    },
    {
      "cell_type": "markdown",
      "metadata": {
        "id": "2zfrJ9d1DwXj"
      },
      "source": [
        "## **7. Age of The Video:**"
      ]
    },
    {
      "cell_type": "code",
      "metadata": {
        "id": "K3uRm0y8D_7c"
      },
      "source": [
        "import datetime"
      ],
      "execution_count": 45,
      "outputs": []
    },
    {
      "cell_type": "code",
      "metadata": {
        "id": "Llo3josfCp2v"
      },
      "source": [
        "data['published_date'] = data['published_date'].apply(lambda x: datetime.datetime.strptime(x,\"%Y-%m-%d\"))"
      ],
      "execution_count": 46,
      "outputs": []
    },
    {
      "cell_type": "code",
      "metadata": {
        "id": "BVCVPoXREQxJ"
      },
      "source": [
        "current_date=datetime.datetime(2021,5,22)"
      ],
      "execution_count": 47,
      "outputs": []
    },
    {
      "cell_type": "code",
      "metadata": {
        "id": "fnYqEX9XEhGx"
      },
      "source": [
        "data['published_year'] = data['published_date'].apply(lambda x: x.year)"
      ],
      "execution_count": 48,
      "outputs": []
    },
    {
      "cell_type": "code",
      "metadata": {
        "id": "tI3wz3OQD-p7"
      },
      "source": [
        "data['age_of_video']= current_date.year- data['published_year']"
      ],
      "execution_count": 49,
      "outputs": []
    },
    {
      "cell_type": "code",
      "metadata": {
        "colab": {
          "base_uri": "https://localhost:8080/",
          "height": 407
        },
        "id": "0sKzOZUlEZ4W",
        "outputId": "87a03367-0526-41af-f834-26a8f15cc2f7"
      },
      "source": [
        "plt.figure(figsize=(10,6))\n",
        "\n",
        "plt.plot(data[['age_of_video','views']].groupby('age_of_video').agg({'views':'sum'})['views'].sort_values(ascending=False).head(10),color='darkred')\n",
        "\n",
        "plt.title('Age of Video vs Views')\n",
        "\n",
        "plt.plot(data[['age_of_video','views']].groupby('age_of_video').agg({'views':'sum'})['views'].sort_values(ascending=False).head(10),marker='o',color='darkred')"
      ],
      "execution_count": 50,
      "outputs": [
        {
          "output_type": "execute_result",
          "data": {
            "text/plain": [
              "[<matplotlib.lines.Line2D at 0x7f0694371850>]"
            ]
          },
          "metadata": {
            "tags": []
          },
          "execution_count": 50
        },
        {
          "output_type": "display_data",
          "data": {
            "image/png": "[encoded data removed]",
            "text/plain": [
              "<Figure size 720x432 with 1 Axes>"
            ]
          },
          "metadata": {
            "tags": [],
            "needs_background": "light"
          }
        }
      ]
    },
    {
      "cell_type": "markdown",
      "metadata": {
        "id": "zQs0UhtEE8zf"
      },
      "source": [
        "Hypothesis can be rejected."
      ]
    },
    {
      "cell_type": "markdown",
      "metadata": {
        "id": "aq7cUgHXFAmf"
      },
      "source": [
        "## **8. Comments:**"
      ]
    },
    {
      "cell_type": "code",
      "metadata": {
        "colab": {
          "base_uri": "https://localhost:8080/",
          "height": 407
        },
        "id": "7ntYNRHdFMtE",
        "outputId": "941c31d8-16f1-4681-f9e9-e9e19e710f61"
      },
      "source": [
        "plt.scatter(x= data['comments']/100,y=data['views']/1000000,color='darkred',alpha=0.6)\n",
        "\n",
        "plt.title('Comments vs Views')"
      ],
      "execution_count": 51,
      "outputs": [
        {
          "output_type": "execute_result",
          "data": {
            "text/plain": [
              "Text(0.5, 1.0, 'Comments vs Views')"
            ]
          },
          "metadata": {
            "tags": []
          },
          "execution_count": 51
        },
        {
          "output_type": "display_data",
          "data": {
            "image/png": "[encoded data removed]",
            "text/plain": [
              "<Figure size 720x432 with 1 Axes>"
            ]
          },
          "metadata": {
            "tags": [],
            "needs_background": "light"
          }
        }
      ]
    },
    {
      "cell_type": "markdown",
      "metadata": {
        "id": "M11fDG9MFU4F"
      },
      "source": [
        "Hypothesis is true except for a few outliers."
      ]
    },
    {
      "cell_type": "markdown",
      "metadata": {
        "id": "OQ2nfRG7IN8B"
      },
      "source": [
        "##**9. Number of Tags:**"
      ]
    },
    {
      "cell_type": "code",
      "metadata": {
        "id": "aynsQoh1IWiE"
      },
      "source": [
        "#Find the number of tags\n",
        "\n",
        "def no_of_tags(x):\n",
        "  return len(x)"
      ],
      "execution_count": 52,
      "outputs": []
    },
    {
      "cell_type": "code",
      "metadata": {
        "id": "80L6AvL9Ibhp"
      },
      "source": [
        "data['Num_tags']= data['topics'].apply(no_of_tags)"
      ],
      "execution_count": 53,
      "outputs": []
    },
    {
      "cell_type": "code",
      "metadata": {
        "colab": {
          "base_uri": "https://localhost:8080/",
          "height": 407
        },
        "id": "BJyfCoi_IfDi",
        "outputId": "65cde3bd-ee1a-4df7-d0d8-8f361b684dac"
      },
      "source": [
        "plt.scatter(x= data['Num_tags'],y=data['views']/1000000,color='darkred',alpha=0.6)\n",
        "\n",
        "plt.title('Number of tags vs Views')"
      ],
      "execution_count": 54,
      "outputs": [
        {
          "output_type": "execute_result",
          "data": {
            "text/plain": [
              "Text(0.5, 1.0, 'Number of tags vs Views')"
            ]
          },
          "metadata": {
            "tags": []
          },
          "execution_count": 54
        },
        {
          "output_type": "display_data",
          "data": {
            "image/png": "[encoded data removed]",
            "text/plain": [
              "<Figure size 720x432 with 1 Axes>"
            ]
          },
          "metadata": {
            "tags": [],
            "needs_background": "light"
          }
        }
      ]
    },
    {
      "cell_type": "markdown",
      "metadata": {
        "id": "a8uEU8wsIn0V"
      },
      "source": [
        "Hypothesis can be rejected."
      ]
    },
    {
      "cell_type": "markdown",
      "metadata": {
        "id": "VzmrX3v0Vi9u"
      },
      "source": [
        "# **10. Published Day:**"
      ]
    },
    {
      "cell_type": "code",
      "metadata": {
        "id": "0QyNVPdWVnne"
      },
      "source": [
        "data['published_day'] = data['published_date'].apply(lambda x: x.weekday())"
      ],
      "execution_count": 60,
      "outputs": []
    },
    {
      "cell_type": "code",
      "metadata": {
        "id": "T1i3ZLJQirQs"
      },
      "source": [
        "#encoding of release_day column with corresponding week day name\n",
        "week_day={0:'Monday',1:'Tuesday',2:'Wednesday',3:'Thursday',4:'Friday',5:'Saturday',6:'Sunday'}\n",
        "data['published_day']=data['published_day'].map(week_day)"
      ],
      "execution_count": 64,
      "outputs": []
    },
    {
      "cell_type": "code",
      "metadata": {
        "colab": {
          "base_uri": "https://localhost:8080/",
          "height": 407
        },
        "id": "QFqxy06Zi4sr",
        "outputId": "4e9febbd-3c47-4970-d735-1fa337a44d99"
      },
      "source": [
        "plt.figure(figsize=(10,6))\n",
        "\n",
        "plt.plot(data[['published_day','views']].groupby('published_day').agg({'views':'sum'})['views'].sort_values(ascending=False).head(10),color='darkred')\n",
        "\n",
        "plt.title('Age of Video vs Views')\n",
        "\n",
        "plt.plot(data[['published_day','views']].groupby('published_day').agg({'views':'sum'})['views'].sort_values(ascending=False).head(10),marker='o',color='darkred')"
      ],
      "execution_count": 65,
      "outputs": [
        {
          "output_type": "execute_result",
          "data": {
            "text/plain": [
              "[<matplotlib.lines.Line2D at 0x7f0693e23910>]"
            ]
          },
          "metadata": {
            "tags": []
          },
          "execution_count": 65
        },
        {
          "output_type": "display_data",
          "data": {
            "image/png": "[encoded data removed]",
            "text/plain": [
              "<Figure size 720x432 with 1 Axes>"
            ]
          },
          "metadata": {
            "tags": [],
            "needs_background": "light"
          }
        }
      ]
    },
    {
      "cell_type": "markdown",
      "metadata": {
        "id": "KSamcDNkjMtm"
      },
      "source": [
        "Hypothesis was correct."
      ]
    },
    {
      "cell_type": "markdown",
      "metadata": {
        "id": "jKxv5NcFFZbo"
      },
      "source": [
        "# **New Feature:**\n"
      ]
    },
    {
      "cell_type": "markdown",
      "metadata": {
        "id": "2D3Pt0zAFeDh"
      },
      "source": [
        "##**Related Views:**"
      ]
    },
    {
      "cell_type": "code",
      "metadata": {
        "colab": {
          "base_uri": "https://localhost:8080/",
          "height": 70
        },
        "id": "17B5zp9fGAtW",
        "outputId": "d73c7c0f-4249-4829-969e-aa8944f1b16f"
      },
      "source": [
        "data['related_talks'][0]"
      ],
      "execution_count": 66,
      "outputs": [
        {
          "output_type": "execute_result",
          "data": {
            "application/vnd.google.colaboratory.intrinsic+json": {
              "type": "string"
            },
            "text/plain": [
              "'{243: \\'New thinking on the climate crisis\\', 547: \\'The business logic of sustainability\\', 2093: \\'The state of the climate — and what we might do about it\\', 54715: \\'How we can turn the tide on climate\\', 29968: \\'The most important thing you can do to fight climate change: talk about it\\', 2339: \"Climate change is happening. Here\\'s how we adapt\"}'"
            ]
          },
          "metadata": {
            "tags": []
          },
          "execution_count": 66
        }
      ]
    },
    {
      "cell_type": "markdown",
      "metadata": {
        "id": "xpzTS_jwFiCn"
      },
      "source": [
        "This feature is made by taking the keys from the related_talks column and assigning a level to it according to mean of the views."
      ]
    },
    {
      "cell_type": "code",
      "metadata": {
        "id": "9mtEiebHFR05"
      },
      "source": [
        "#applying eval function on available_lang column\n",
        "data['related_talks'] = data.apply(lambda row: eval(row['related_talks']), axis=1)"
      ],
      "execution_count": 67,
      "outputs": []
    },
    {
      "cell_type": "code",
      "metadata": {
        "id": "qphQchZFF6wX"
      },
      "source": [
        "#defining a new feature called related_views\n",
        "data['related_views'] = 0\n",
        "#iterating through the each row and extracting the value of related_talks\n",
        "for index, row in data.iterrows():\n",
        "    id_list=list(row['related_talks'].keys())\n",
        "    temp=0\n",
        "    for i in range(len(data)):\n",
        "      if (data.loc[i,'talk_id']) in id_list:\n",
        "        temp+=data.loc[i,'views']\n",
        "\n",
        "    data.loc[index,'related_views']=temp//6"
      ],
      "execution_count": 68,
      "outputs": []
    },
    {
      "cell_type": "code",
      "metadata": {
        "colab": {
          "base_uri": "https://localhost:8080/",
          "height": 417
        },
        "id": "WRHVb_LlGHx9",
        "outputId": "9da92149-95fb-4576-e2ec-8a534e5ebc21"
      },
      "source": [
        "#Plotting the distribution\n",
        "\n",
        "sns.kdeplot(x=data['related_views'])"
      ],
      "execution_count": 69,
      "outputs": [
        {
          "output_type": "execute_result",
          "data": {
            "text/plain": [
              "<matplotlib.axes._subplots.AxesSubplot at 0x7f0693e46590>"
            ]
          },
          "metadata": {
            "tags": []
          },
          "execution_count": 69
        },
        {
          "output_type": "display_data",
          "data": {
            "image/png": "[encoded data removed]",
            "text/plain": [
              "<Figure size 720x432 with 1 Axes>"
            ]
          },
          "metadata": {
            "tags": [],
            "needs_background": "light"
          }
        }
      ]
    },
    {
      "cell_type": "markdown",
      "metadata": {
        "id": "kXBEH-LfHOFg"
      },
      "source": [
        "It is a normally distributed curve with right skew."
      ]
    },
    {
      "cell_type": "markdown",
      "metadata": {
        "id": "PftqxzM2Hcua"
      },
      "source": [
        "# **Data Cleaning:**"
      ]
    },
    {
      "cell_type": "code",
      "metadata": {
        "colab": {
          "base_uri": "https://localhost:8080/"
        },
        "id": "-XO538wtHkux",
        "outputId": "419d0994-5b21-4d72-c0da-e5e5f107853d"
      },
      "source": [
        "data.columns"
      ],
      "execution_count": 70,
      "outputs": [
        {
          "output_type": "execute_result",
          "data": {
            "text/plain": [
              "Index(['talk_id', 'title', 'speaker_1', 'all_speakers', 'occupations',\n",
              "       'about_speakers', 'views', 'recorded_date', 'published_date', 'event',\n",
              "       'native_lang', 'available_lang', 'comments', 'duration', 'topics',\n",
              "       'related_talks', 'url', 'description', 'transcript', 'event_category',\n",
              "       'Topic_Cluster', 'published_year', 'age_of_video', 'Num_tags',\n",
              "       'published_day', 'related_views'],\n",
              "      dtype='object')"
            ]
          },
          "metadata": {
            "tags": []
          },
          "execution_count": 70
        }
      ]
    },
    {
      "cell_type": "markdown",
      "metadata": {
        "id": "owO1B0G3Hi3A"
      },
      "source": [
        "Columns to drop:\n",
        "\n",
        "talk_id,title,all_speakers,about_speakers,recorded_date,published_date,native_lang,available_lang,topics, url,description,transcript,published_year,age_of_video,Num_tags,event,related_talks\n",
        "\n"
      ]
    },
    {
      "cell_type": "code",
      "metadata": {
        "id": "LDPXmGt5HLKn"
      },
      "source": [
        "data.drop(columns=['talk_id','all_speakers','about_speakers','recorded_date','published_date','native_lang','available_lang',\n",
        "                   'topics','url','description','transcript','published_year','age_of_video','Num_tags','title','related_talks','event'],inplace= True)"
      ],
      "execution_count": 71,
      "outputs": []
    },
    {
      "cell_type": "code",
      "metadata": {
        "colab": {
          "base_uri": "https://localhost:8080/"
        },
        "id": "vvGVzZIaJd3K",
        "outputId": "94d2fd92-dafa-4354-d560-b7bd826651f2"
      },
      "source": [
        "data.info()"
      ],
      "execution_count": 72,
      "outputs": [
        {
          "output_type": "stream",
          "text": [
            "<class 'pandas.core.frame.DataFrame'>\n",
            "RangeIndex: 4005 entries, 0 to 4004\n",
            "Data columns (total 9 columns):\n",
            " #   Column          Non-Null Count  Dtype  \n",
            "---  ------          --------------  -----  \n",
            " 0   speaker_1       4005 non-null   object \n",
            " 1   occupations     4005 non-null   object \n",
            " 2   views           4005 non-null   int64  \n",
            " 3   comments        3350 non-null   float64\n",
            " 4   duration        4005 non-null   int64  \n",
            " 5   event_category  4005 non-null   object \n",
            " 6   Topic_Cluster   4005 non-null   object \n",
            " 7   published_day   4005 non-null   object \n",
            " 8   related_views   4005 non-null   int64  \n",
            "dtypes: float64(1), int64(3), object(5)\n",
            "memory usage: 281.7+ KB\n"
          ],
          "name": "stdout"
        }
      ]
    },
    {
      "cell_type": "markdown",
      "metadata": {
        "id": "HBbe6a17JwgJ"
      },
      "source": [
        "## Outlier Treatment:"
      ]
    },
    {
      "cell_type": "markdown",
      "metadata": {
        "id": "u0ee4b67Kuz1"
      },
      "source": [
        "Outlier treatment is done as this might effect the error scores later while model building."
      ]
    },
    {
      "cell_type": "code",
      "metadata": {
        "colab": {
          "base_uri": "https://localhost:8080/"
        },
        "id": "4-0FVCPBJ_dy",
        "outputId": "dc7c7462-e457-4577-95d0-9b5e3393d710"
      },
      "source": [
        "#checking the outliers\n",
        "Q1 = data.quantile(0.25)\n",
        "Q3 = data.quantile(0.75)\n",
        "IQR = Q3 - Q1\n",
        "\n",
        "((data < (Q1 - 1.5 * IQR)) | (data > (Q3 + 1.5 * IQR))).sum()"
      ],
      "execution_count": 73,
      "outputs": [
        {
          "output_type": "execute_result",
          "data": {
            "text/plain": [
              "Topic_Cluster       0\n",
              "comments          261\n",
              "duration           21\n",
              "event_category      0\n",
              "occupations         0\n",
              "published_day       0\n",
              "related_views     300\n",
              "speaker_1           0\n",
              "views             393\n",
              "dtype: int64"
            ]
          },
          "metadata": {
            "tags": []
          },
          "execution_count": 73
        }
      ]
    },
    {
      "cell_type": "code",
      "metadata": {
        "id": "3x_RNSeEJhdy"
      },
      "source": [
        "# Replacing outliers with extreme values\n",
        "for i in ['comments','duration','related_views','views']:\n",
        "  Q1 = data[i].quantile(0.25)\n",
        "  Q3 = data[i].quantile(0.75)\n",
        "  IQR = Q3 - Q1\n",
        "\n",
        "  data[i]=np.where(data[i]<(Q1 - 1.5 * IQR),(Q1 - 1.5 * IQR),np.where(data[i]>(Q3 + 1.5 * IQR),(Q3 + 1.5 * IQR),data[i]))"
      ],
      "execution_count": 74,
      "outputs": []
    },
    {
      "cell_type": "markdown",
      "metadata": {
        "id": "y-AQzuMWLKw8"
      },
      "source": [
        "## Nan value imputation-- KNN Nan value imputer"
      ]
    },
    {
      "cell_type": "markdown",
      "metadata": {
        "id": "U4WiZ1UiLW-p"
      },
      "source": [
        "Before imputing nan values numeircal features need to be scaled."
      ]
    },
    {
      "cell_type": "code",
      "metadata": {
        "id": "5InWwGPSKrG5"
      },
      "source": [
        "from sklearn.preprocessing import StandardScaler"
      ],
      "execution_count": 75,
      "outputs": []
    },
    {
      "cell_type": "code",
      "metadata": {
        "id": "bHrkgPhcLpdZ"
      },
      "source": [
        "numeric=['comments','duration']"
      ],
      "execution_count": 76,
      "outputs": []
    },
    {
      "cell_type": "code",
      "metadata": {
        "id": "xCrFJyl4LWUj"
      },
      "source": [
        "scaler = StandardScaler()\n",
        "scaler.fit(data[numeric])\n",
        "data[numeric] = scaler.transform(data[numeric])"
      ],
      "execution_count": 77,
      "outputs": []
    },
    {
      "cell_type": "code",
      "metadata": {
        "id": "Ct4pLdbYLiIX"
      },
      "source": [
        "#Import libraries\n",
        "from sklearn.impute import KNNImputer\n",
        "\n",
        "# define imputer\n",
        "imputer = KNNImputer()\n",
        "\n",
        "#fitting the model\n",
        "imputer.fit(data[numeric])\n",
        "\n",
        "# transform the dataset\n",
        "data[numeric] = imputer.transform(data[numeric])"
      ],
      "execution_count": 78,
      "outputs": []
    },
    {
      "cell_type": "code",
      "metadata": {
        "colab": {
          "base_uri": "https://localhost:8080/",
          "height": 79
        },
        "id": "X5UP7mTfNW8p",
        "outputId": "80cf7e27-6a9a-494d-c48c-1a3c31c01c73"
      },
      "source": [
        "data.head(1)"
      ],
      "execution_count": 79,
      "outputs": [
        {
          "output_type": "execute_result",
          "data": {
            "text/html": [
              "<div>\n",
              "<style scoped>\n",
              "    .dataframe tbody tr th:only-of-type {\n",
              "        vertical-align: middle;\n",
              "    }\n",
              "\n",
              "    .dataframe tbody tr th {\n",
              "        vertical-align: top;\n",
              "    }\n",
              "\n",
              "    .dataframe thead th {\n",
              "        text-align: right;\n",
              "    }\n",
              "</style>\n",
              "<table border=\"1\" class=\"dataframe\">\n",
              "  <thead>\n",
              "    <tr style=\"text-align: right;\">\n",
              "      <th></th>\n",
              "      <th>speaker_1</th>\n",
              "      <th>occupations</th>\n",
              "      <th>views</th>\n",
              "      <th>comments</th>\n",
              "      <th>duration</th>\n",
              "      <th>event_category</th>\n",
              "      <th>Topic_Cluster</th>\n",
              "      <th>published_day</th>\n",
              "      <th>related_views</th>\n",
              "    </tr>\n",
              "  </thead>\n",
              "  <tbody>\n",
              "    <tr>\n",
              "      <th>0</th>\n",
              "      <td>Al Gore</td>\n",
              "      <td>climate advocate</td>\n",
              "      <td>3523392.0</td>\n",
              "      <td>1.148518</td>\n",
              "      <td>0.75847</td>\n",
              "      <td>TED2000s</td>\n",
              "      <td>International Affairs</td>\n",
              "      <td>Tuesday</td>\n",
              "      <td>1659584.0</td>\n",
              "    </tr>\n",
              "  </tbody>\n",
              "</table>\n",
              "</div>"
            ],
            "text/plain": [
              "  speaker_1       occupations  ...  published_day  related_views\n",
              "0   Al Gore  climate advocate  ...        Tuesday      1659584.0\n",
              "\n",
              "[1 rows x 9 columns]"
            ]
          },
          "metadata": {
            "tags": []
          },
          "execution_count": 79
        }
      ]
    },
    {
      "cell_type": "code",
      "metadata": {
        "id": "isPxHnBXNbEF"
      },
      "source": [
        "# for inverse transformation\n",
        "data[numeric] = scaler.inverse_transform(data[numeric])\n"
      ],
      "execution_count": 80,
      "outputs": []
    },
    {
      "cell_type": "code",
      "metadata": {
        "colab": {
          "base_uri": "https://localhost:8080/",
          "height": 79
        },
        "id": "6CSMHRNKNiku",
        "outputId": "c3f6e978-4312-4578-c807-1fbdbf6c269c"
      },
      "source": [
        "data.head(1)"
      ],
      "execution_count": 81,
      "outputs": [
        {
          "output_type": "execute_result",
          "data": {
            "text/html": [
              "<div>\n",
              "<style scoped>\n",
              "    .dataframe tbody tr th:only-of-type {\n",
              "        vertical-align: middle;\n",
              "    }\n",
              "\n",
              "    .dataframe tbody tr th {\n",
              "        vertical-align: top;\n",
              "    }\n",
              "\n",
              "    .dataframe thead th {\n",
              "        text-align: right;\n",
              "    }\n",
              "</style>\n",
              "<table border=\"1\" class=\"dataframe\">\n",
              "  <thead>\n",
              "    <tr style=\"text-align: right;\">\n",
              "      <th></th>\n",
              "      <th>speaker_1</th>\n",
              "      <th>occupations</th>\n",
              "      <th>views</th>\n",
              "      <th>comments</th>\n",
              "      <th>duration</th>\n",
              "      <th>event_category</th>\n",
              "      <th>Topic_Cluster</th>\n",
              "      <th>published_day</th>\n",
              "      <th>related_views</th>\n",
              "    </tr>\n",
              "  </thead>\n",
              "  <tbody>\n",
              "    <tr>\n",
              "      <th>0</th>\n",
              "      <td>Al Gore</td>\n",
              "      <td>climate advocate</td>\n",
              "      <td>3523392.0</td>\n",
              "      <td>272.0</td>\n",
              "      <td>977.0</td>\n",
              "      <td>TED2000s</td>\n",
              "      <td>International Affairs</td>\n",
              "      <td>Tuesday</td>\n",
              "      <td>1659584.0</td>\n",
              "    </tr>\n",
              "  </tbody>\n",
              "</table>\n",
              "</div>"
            ],
            "text/plain": [
              "  speaker_1       occupations  ...  published_day  related_views\n",
              "0   Al Gore  climate advocate  ...        Tuesday      1659584.0\n",
              "\n",
              "[1 rows x 9 columns]"
            ]
          },
          "metadata": {
            "tags": []
          },
          "execution_count": 81
        }
      ]
    },
    {
      "cell_type": "code",
      "metadata": {
        "colab": {
          "base_uri": "https://localhost:8080/"
        },
        "id": "mWP5fNcSNlSD",
        "outputId": "3b3b3825-faa5-4bf8-b15d-cf806b9bab51"
      },
      "source": [
        "data[numeric].isnull().sum()"
      ],
      "execution_count": 82,
      "outputs": [
        {
          "output_type": "execute_result",
          "data": {
            "text/plain": [
              "comments    0\n",
              "duration    0\n",
              "dtype: int64"
            ]
          },
          "metadata": {
            "tags": []
          },
          "execution_count": 82
        }
      ]
    },
    {
      "cell_type": "markdown",
      "metadata": {
        "id": "E22yDjkcN0ZS"
      },
      "source": [
        "Nan values have been removed."
      ]
    },
    {
      "cell_type": "markdown",
      "metadata": {
        "id": "Hk4soleKN3jW"
      },
      "source": [
        "#**Feature Engineering:**"
      ]
    },
    {
      "cell_type": "markdown",
      "metadata": {
        "id": "DdPqYjSYOSnw"
      },
      "source": [
        "## Target Encoding categorical features:"
      ]
    },
    {
      "cell_type": "code",
      "metadata": {
        "id": "HVPoTDwGOcha"
      },
      "source": [
        "data_t= data.copy()"
      ],
      "execution_count": 86,
      "outputs": []
    },
    {
      "cell_type": "code",
      "metadata": {
        "colab": {
          "base_uri": "https://localhost:8080/"
        },
        "id": "Jj4eOgQ0OXzp",
        "outputId": "bf62f6ba-c7df-4356-eecb-68ff8dabdf71"
      },
      "source": [
        "data.columns"
      ],
      "execution_count": 87,
      "outputs": [
        {
          "output_type": "execute_result",
          "data": {
            "text/plain": [
              "Index(['speaker_1', 'occupations', 'views', 'comments', 'duration',\n",
              "       'event_category', 'Topic_Cluster', 'published_day', 'related_views'],\n",
              "      dtype='object')"
            ]
          },
          "metadata": {
            "tags": []
          },
          "execution_count": 87
        }
      ]
    },
    {
      "cell_type": "code",
      "metadata": {
        "id": "DIwy-s7vOLpu"
      },
      "source": [
        "categorical_features= ['speaker_1','occupations','event_category','Topic_Cluster','published_day']"
      ],
      "execution_count": 88,
      "outputs": []
    },
    {
      "cell_type": "code",
      "metadata": {
        "id": "dybOvqnlQzdj"
      },
      "source": [
        "for column in categorical_features:\n",
        "  data[column] = data[column].map(data.groupby(column)['views'].mean())"
      ],
      "execution_count": 89,
      "outputs": []
    },
    {
      "cell_type": "code",
      "metadata": {
        "colab": {
          "base_uri": "https://localhost:8080/"
        },
        "id": "lcv6hjrtQvHR",
        "outputId": "c9de9b51-1810-4ce5-cba1-fe17b1937fc0"
      },
      "source": [
        "data.info()"
      ],
      "execution_count": 90,
      "outputs": [
        {
          "output_type": "stream",
          "text": [
            "<class 'pandas.core.frame.DataFrame'>\n",
            "RangeIndex: 4005 entries, 0 to 4004\n",
            "Data columns (total 9 columns):\n",
            " #   Column          Non-Null Count  Dtype  \n",
            "---  ------          --------------  -----  \n",
            " 0   speaker_1       4005 non-null   float64\n",
            " 1   occupations     4005 non-null   float64\n",
            " 2   views           4005 non-null   float64\n",
            " 3   comments        4005 non-null   float64\n",
            " 4   duration        4005 non-null   float64\n",
            " 5   event_category  4005 non-null   float64\n",
            " 6   Topic_Cluster   4005 non-null   float64\n",
            " 7   published_day   4005 non-null   float64\n",
            " 8   related_views   4005 non-null   float64\n",
            "dtypes: float64(9)\n",
            "memory usage: 281.7 KB\n"
          ],
          "name": "stdout"
        }
      ]
    },
    {
      "cell_type": "markdown",
      "metadata": {
        "id": "RPSlOoclRu1Q"
      },
      "source": [
        "#**Feature Selection:**"
      ]
    },
    {
      "cell_type": "markdown",
      "metadata": {
        "id": "I03VJ3jaR0AW"
      },
      "source": [
        "Selecting the best features by f_regression:"
      ]
    },
    {
      "cell_type": "code",
      "metadata": {
        "id": "B8VkenbuSMMg"
      },
      "source": [
        "X= data.drop(columns='views')\n",
        "\n",
        "Y= data['views']"
      ],
      "execution_count": 98,
      "outputs": []
    },
    {
      "cell_type": "code",
      "metadata": {
        "id": "iiOmCfiURokv"
      },
      "source": [
        "from sklearn.feature_selection import f_regression"
      ],
      "execution_count": 99,
      "outputs": []
    },
    {
      "cell_type": "code",
      "metadata": {
        "colab": {
          "base_uri": "https://localhost:8080/"
        },
        "id": "jg9xDaTfSIfy",
        "outputId": "274439b5-71c4-4d00-95f1-89869b926fb8"
      },
      "source": [
        "f_scores = f_regression(X,Y)\n",
        "f_scores"
      ],
      "execution_count": 100,
      "outputs": [
        {
          "output_type": "execute_result",
          "data": {
            "text/plain": [
              "(array([22250.64244599,  2688.25675317,   878.25383542,    36.39200856,\n",
              "          119.77448366,   150.03442735,    76.6739069 ,   634.24115403]),\n",
              " array([0.00000000e+000, 0.00000000e+000, 1.12683294e-174, 1.75975910e-009,\n",
              "        1.73139653e-027, 6.84082729e-034, 2.92509550e-018, 4.87581533e-130]))"
            ]
          },
          "metadata": {
            "tags": []
          },
          "execution_count": 100
        }
      ]
    },
    {
      "cell_type": "code",
      "metadata": {
        "id": "18bq-J16SUCP"
      },
      "source": [
        "#The second array consists of p-values that we need\n",
        "\n",
        "p_series= pd.Series(f_scores[1],index= X.columns)"
      ],
      "execution_count": 101,
      "outputs": []
    },
    {
      "cell_type": "code",
      "metadata": {
        "colab": {
          "base_uri": "https://localhost:8080/",
          "height": 475
        },
        "id": "2mxX43sqSbly",
        "outputId": "f709778c-43d0-4000-9ae5-1fbaca51a3ef"
      },
      "source": [
        "p_series.plot(kind='bar',color='darkred')\n",
        "\n",
        "plt.title('P-values for numerical features')"
      ],
      "execution_count": 102,
      "outputs": [
        {
          "output_type": "execute_result",
          "data": {
            "text/plain": [
              "Text(0.5, 1.0, 'P-values for numerical features')"
            ]
          },
          "metadata": {
            "tags": []
          },
          "execution_count": 102
        },
        {
          "output_type": "display_data",
          "data": {
            "image/png": "[encoded data removed]",
            "text/plain": [
              "<Figure size 720x432 with 1 Axes>"
            ]
          },
          "metadata": {
            "tags": [],
            "needs_background": "light"
          }
        }
      ]
    },
    {
      "cell_type": "markdown",
      "metadata": {
        "id": "VQjwojDrSjls"
      },
      "source": [
        "We can drop duration column."
      ]
    },
    {
      "cell_type": "code",
      "metadata": {
        "id": "WStOLT6SSmja"
      },
      "source": [
        "X.drop(columns='duration',inplace= True)\n"
      ],
      "execution_count": 103,
      "outputs": []
    },
    {
      "cell_type": "markdown",
      "metadata": {
        "id": "ORE6huNlSudS"
      },
      "source": [
        "#**Model Selection:**"
      ]
    },
    {
      "cell_type": "markdown",
      "metadata": {
        "id": "E2t2N0hxSzvj"
      },
      "source": [
        "Directly moving to Tree based non-parametric algorithm as:\n",
        "\n",
        "1. Linear relationship not required\n",
        "\n",
        "2. Faster and easily interpretable."
      ]
    },
    {
      "cell_type": "code",
      "metadata": {
        "id": "IgGUNSMmSf6E"
      },
      "source": [
        "from xgboost import XGBRegressor"
      ],
      "execution_count": 104,
      "outputs": []
    },
    {
      "cell_type": "code",
      "metadata": {
        "id": "jj4IF_OYTSB0"
      },
      "source": [
        "from sklearn.model_selection import RandomizedSearchCV"
      ],
      "execution_count": 105,
      "outputs": []
    },
    {
      "cell_type": "code",
      "metadata": {
        "id": "fvQOBeayTZTR"
      },
      "source": [
        "# split into train and test sets\n",
        "X_train, X_test, y_train, y_test = train_test_split(X, Y, test_size=0.25, random_state=42)"
      ],
      "execution_count": 106,
      "outputs": []
    },
    {
      "cell_type": "code",
      "metadata": {
        "id": "yhbFPIZ0VIg_"
      },
      "source": [
        "X_train = scaler.fit_transform(X_train)\n",
        "X_test = scaler.transform (X_test)"
      ],
      "execution_count": 107,
      "outputs": []
    },
    {
      "cell_type": "code",
      "metadata": {
        "colab": {
          "base_uri": "https://localhost:8080/"
        },
        "id": "5hk8MSbXTeL3",
        "outputId": "52183ffc-5742-4b89-de8c-0d5ab3d3a050"
      },
      "source": [
        "#XGBoost Regressor\n",
        "\n",
        "# Number of trees\n",
        "n_estimators = [50,80,100]\n",
        "\n",
        "# Maximum depth of trees\n",
        "max_depth = [4,6,8]\n",
        "\n",
        "\n",
        "#Learning rate\n",
        "learning_rate=[0.01,0.05,0.1]\n",
        "\n",
        "#L2 Regularization\n",
        "reg_lambda=[0.1,0.5,1]\n",
        "\n",
        "#L1 Regularization\n",
        "reg_alpha= [0,0.01]\n",
        "\n",
        "# Minimum number of samples required to split a node\n",
        "min_samples_split = [50,100,150]\n",
        "\n",
        "# Minimum number of samples required at each leaf node\n",
        "min_samples_leaf = [40,50]\n",
        "\n",
        "# HYperparameter Dict\n",
        "param_dict = {'n_estimators' : n_estimators,\n",
        "              'max_depth' : max_depth,\n",
        "              'min_samples_split' : min_samples_split,\n",
        "              'min_samples_leaf' : min_samples_leaf,\n",
        "              'learning_rate':learning_rate,\n",
        "              'reg_alpha':reg_alpha,\n",
        "              'reg_lambda':reg_lambda}\n",
        "\n",
        "# Create an instance of the XGBoost\n",
        "xgb_model = XGBRegressor()\n",
        "\n",
        "#RandomSearch\n",
        "xgb_random = RandomizedSearchCV(xgb_model,param_dict,verbose=2,cv=5)\n",
        "\n",
        "\n",
        "xgb_random.fit(X_train,y_train)\n"
      ],
      "execution_count": 108,
      "outputs": [
        {
          "output_type": "stream",
          "text": [
            "Fitting 5 folds for each of 10 candidates, totalling 50 fits\n",
            "[CV] reg_lambda=0.5, reg_alpha=0.01, n_estimators=80, min_samples_split=150, min_samples_leaf=50, max_depth=6, learning_rate=0.1 \n",
            "[14:58:27] WARNING: /workspace/src/objective/regression_obj.cu:152: reg:linear is now deprecated in favor of reg:squarederror.\n"
          ],
          "name": "stdout"
        },
        {
          "output_type": "stream",
          "text": [
            "[Parallel(n_jobs=1)]: Using backend SequentialBackend with 1 concurrent workers.\n"
          ],
          "name": "stderr"
        },
        {
          "output_type": "stream",
          "text": [
            "[CV]  reg_lambda=0.5, reg_alpha=0.01, n_estimators=80, min_samples_split=150, min_samples_leaf=50, max_depth=6, learning_rate=0.1, total=   0.3s\n",
            "[CV] reg_lambda=0.5, reg_alpha=0.01, n_estimators=80, min_samples_split=150, min_samples_leaf=50, max_depth=6, learning_rate=0.1 \n",
            "[14:58:28] WARNING: /workspace/src/objective/regression_obj.cu:152: reg:linear is now deprecated in favor of reg:squarederror.\n",
            "[CV]  reg_lambda=0.5, reg_alpha=0.01, n_estimators=80, min_samples_split=150, min_samples_leaf=50, max_depth=6, learning_rate=0.1, total=   0.2s\n"
          ],
          "name": "stdout"
        },
        {
          "output_type": "stream",
          "text": [
            "[Parallel(n_jobs=1)]: Done   1 out of   1 | elapsed:    0.3s remaining:    0.0s\n"
          ],
          "name": "stderr"
        },
        {
          "output_type": "stream",
          "text": [
            "[CV] reg_lambda=0.5, reg_alpha=0.01, n_estimators=80, min_samples_split=150, min_samples_leaf=50, max_depth=6, learning_rate=0.1 \n",
            "[14:58:28] WARNING: /workspace/src/objective/regression_obj.cu:152: reg:linear is now deprecated in favor of reg:squarederror.\n",
            "[CV]  reg_lambda=0.5, reg_alpha=0.01, n_estimators=80, min_samples_split=150, min_samples_leaf=50, max_depth=6, learning_rate=0.1, total=   0.2s\n",
            "[CV] reg_lambda=0.5, reg_alpha=0.01, n_estimators=80, min_samples_split=150, min_samples_leaf=50, max_depth=6, learning_rate=0.1 \n",
            "[14:58:28] WARNING: /workspace/src/objective/regression_obj.cu:152: reg:linear is now deprecated in favor of reg:squarederror.\n",
            "[CV]  reg_lambda=0.5, reg_alpha=0.01, n_estimators=80, min_samples_split=150, min_samples_leaf=50, max_depth=6, learning_rate=0.1, total=   0.2s\n",
            "[CV] reg_lambda=0.5, reg_alpha=0.01, n_estimators=80, min_samples_split=150, min_samples_leaf=50, max_depth=6, learning_rate=0.1 \n",
            "[14:58:28] WARNING: /workspace/src/objective/regression_obj.cu:152: reg:linear is now deprecated in favor of reg:squarederror.\n",
            "[CV]  reg_lambda=0.5, reg_alpha=0.01, n_estimators=80, min_samples_split=150, min_samples_leaf=50, max_depth=6, learning_rate=0.1, total=   0.2s\n",
            "[CV] reg_lambda=0.5, reg_alpha=0.01, n_estimators=80, min_samples_split=50, min_samples_leaf=40, max_depth=6, learning_rate=0.01 \n",
            "[14:58:28] WARNING: /workspace/src/objective/regression_obj.cu:152: reg:linear is now deprecated in favor of reg:squarederror.\n",
            "[CV]  reg_lambda=0.5, reg_alpha=0.01, n_estimators=80, min_samples_split=50, min_samples_leaf=40, max_depth=6, learning_rate=0.01, total=   0.2s\n",
            "[CV] reg_lambda=0.5, reg_alpha=0.01, n_estimators=80, min_samples_split=50, min_samples_leaf=40, max_depth=6, learning_rate=0.01 \n",
            "[14:58:29] WARNING: /workspace/src/objective/regression_obj.cu:152: reg:linear is now deprecated in favor of reg:squarederror.\n",
            "[CV]  reg_lambda=0.5, reg_alpha=0.01, n_estimators=80, min_samples_split=50, min_samples_leaf=40, max_depth=6, learning_rate=0.01, total=   0.2s\n",
            "[CV] reg_lambda=0.5, reg_alpha=0.01, n_estimators=80, min_samples_split=50, min_samples_leaf=40, max_depth=6, learning_rate=0.01 \n",
            "[14:58:29] WARNING: /workspace/src/objective/regression_obj.cu:152: reg:linear is now deprecated in favor of reg:squarederror.\n",
            "[CV]  reg_lambda=0.5, reg_alpha=0.01, n_estimators=80, min_samples_split=50, min_samples_leaf=40, max_depth=6, learning_rate=0.01, total=   0.2s\n",
            "[CV] reg_lambda=0.5, reg_alpha=0.01, n_estimators=80, min_samples_split=50, min_samples_leaf=40, max_depth=6, learning_rate=0.01 \n",
            "[14:58:29] WARNING: /workspace/src/objective/regression_obj.cu:152: reg:linear is now deprecated in favor of reg:squarederror.\n",
            "[CV]  reg_lambda=0.5, reg_alpha=0.01, n_estimators=80, min_samples_split=50, min_samples_leaf=40, max_depth=6, learning_rate=0.01, total=   0.2s\n",
            "[CV] reg_lambda=0.5, reg_alpha=0.01, n_estimators=80, min_samples_split=50, min_samples_leaf=40, max_depth=6, learning_rate=0.01 \n",
            "[14:58:29] WARNING: /workspace/src/objective/regression_obj.cu:152: reg:linear is now deprecated in favor of reg:squarederror.\n",
            "[CV]  reg_lambda=0.5, reg_alpha=0.01, n_estimators=80, min_samples_split=50, min_samples_leaf=40, max_depth=6, learning_rate=0.01, total=   0.2s\n",
            "[CV] reg_lambda=1, reg_alpha=0.01, n_estimators=50, min_samples_split=50, min_samples_leaf=50, max_depth=8, learning_rate=0.01 \n",
            "[14:58:29] WARNING: /workspace/src/objective/regression_obj.cu:152: reg:linear is now deprecated in favor of reg:squarederror.\n",
            "[CV]  reg_lambda=1, reg_alpha=0.01, n_estimators=50, min_samples_split=50, min_samples_leaf=50, max_depth=8, learning_rate=0.01, total=   0.1s\n",
            "[CV] reg_lambda=1, reg_alpha=0.01, n_estimators=50, min_samples_split=50, min_samples_leaf=50, max_depth=8, learning_rate=0.01 \n",
            "[14:58:29] WARNING: /workspace/src/objective/regression_obj.cu:152: reg:linear is now deprecated in favor of reg:squarederror.\n",
            "[CV]  reg_lambda=1, reg_alpha=0.01, n_estimators=50, min_samples_split=50, min_samples_leaf=50, max_depth=8, learning_rate=0.01, total=   0.2s\n",
            "[CV] reg_lambda=1, reg_alpha=0.01, n_estimators=50, min_samples_split=50, min_samples_leaf=50, max_depth=8, learning_rate=0.01 \n",
            "[14:58:30] WARNING: /workspace/src/objective/regression_obj.cu:152: reg:linear is now deprecated in favor of reg:squarederror.\n",
            "[CV]  reg_lambda=1, reg_alpha=0.01, n_estimators=50, min_samples_split=50, min_samples_leaf=50, max_depth=8, learning_rate=0.01, total=   0.1s\n",
            "[CV] reg_lambda=1, reg_alpha=0.01, n_estimators=50, min_samples_split=50, min_samples_leaf=50, max_depth=8, learning_rate=0.01 \n",
            "[14:58:30] WARNING: /workspace/src/objective/regression_obj.cu:152: reg:linear is now deprecated in favor of reg:squarederror.\n",
            "[CV]  reg_lambda=1, reg_alpha=0.01, n_estimators=50, min_samples_split=50, min_samples_leaf=50, max_depth=8, learning_rate=0.01, total=   0.2s\n",
            "[CV] reg_lambda=1, reg_alpha=0.01, n_estimators=50, min_samples_split=50, min_samples_leaf=50, max_depth=8, learning_rate=0.01 \n",
            "[14:58:30] WARNING: /workspace/src/objective/regression_obj.cu:152: reg:linear is now deprecated in favor of reg:squarederror.\n",
            "[CV]  reg_lambda=1, reg_alpha=0.01, n_estimators=50, min_samples_split=50, min_samples_leaf=50, max_depth=8, learning_rate=0.01, total=   0.1s\n",
            "[CV] reg_lambda=0.1, reg_alpha=0.01, n_estimators=100, min_samples_split=150, min_samples_leaf=50, max_depth=4, learning_rate=0.01 \n",
            "[14:58:30] WARNING: /workspace/src/objective/regression_obj.cu:152: reg:linear is now deprecated in favor of reg:squarederror.\n",
            "[CV]  reg_lambda=0.1, reg_alpha=0.01, n_estimators=100, min_samples_split=150, min_samples_leaf=50, max_depth=4, learning_rate=0.01, total=   0.1s\n",
            "[CV] reg_lambda=0.1, reg_alpha=0.01, n_estimators=100, min_samples_split=150, min_samples_leaf=50, max_depth=4, learning_rate=0.01 \n",
            "[14:58:30] WARNING: /workspace/src/objective/regression_obj.cu:152: reg:linear is now deprecated in favor of reg:squarederror.\n",
            "[CV]  reg_lambda=0.1, reg_alpha=0.01, n_estimators=100, min_samples_split=150, min_samples_leaf=50, max_depth=4, learning_rate=0.01, total=   0.2s\n",
            "[CV] reg_lambda=0.1, reg_alpha=0.01, n_estimators=100, min_samples_split=150, min_samples_leaf=50, max_depth=4, learning_rate=0.01 \n",
            "[14:58:30] WARNING: /workspace/src/objective/regression_obj.cu:152: reg:linear is now deprecated in favor of reg:squarederror.\n",
            "[CV]  reg_lambda=0.1, reg_alpha=0.01, n_estimators=100, min_samples_split=150, min_samples_leaf=50, max_depth=4, learning_rate=0.01, total=   0.2s\n",
            "[CV] reg_lambda=0.1, reg_alpha=0.01, n_estimators=100, min_samples_split=150, min_samples_leaf=50, max_depth=4, learning_rate=0.01 \n",
            "[14:58:31] WARNING: /workspace/src/objective/regression_obj.cu:152: reg:linear is now deprecated in favor of reg:squarederror.\n",
            "[CV]  reg_lambda=0.1, reg_alpha=0.01, n_estimators=100, min_samples_split=150, min_samples_leaf=50, max_depth=4, learning_rate=0.01, total=   0.1s\n",
            "[CV] reg_lambda=0.1, reg_alpha=0.01, n_estimators=100, min_samples_split=150, min_samples_leaf=50, max_depth=4, learning_rate=0.01 \n",
            "[14:58:31] WARNING: /workspace/src/objective/regression_obj.cu:152: reg:linear is now deprecated in favor of reg:squarederror.\n",
            "[CV]  reg_lambda=0.1, reg_alpha=0.01, n_estimators=100, min_samples_split=150, min_samples_leaf=50, max_depth=4, learning_rate=0.01, total=   0.2s\n",
            "[CV] reg_lambda=0.5, reg_alpha=0, n_estimators=80, min_samples_split=50, min_samples_leaf=50, max_depth=8, learning_rate=0.05 \n",
            "[14:58:31] WARNING: /workspace/src/objective/regression_obj.cu:152: reg:linear is now deprecated in favor of reg:squarederror.\n",
            "[CV]  reg_lambda=0.5, reg_alpha=0, n_estimators=80, min_samples_split=50, min_samples_leaf=50, max_depth=8, learning_rate=0.05, total=   0.3s\n",
            "[CV] reg_lambda=0.5, reg_alpha=0, n_estimators=80, min_samples_split=50, min_samples_leaf=50, max_depth=8, learning_rate=0.05 \n",
            "[14:58:31] WARNING: /workspace/src/objective/regression_obj.cu:152: reg:linear is now deprecated in favor of reg:squarederror.\n",
            "[CV]  reg_lambda=0.5, reg_alpha=0, n_estimators=80, min_samples_split=50, min_samples_leaf=50, max_depth=8, learning_rate=0.05, total=   0.3s\n",
            "[CV] reg_lambda=0.5, reg_alpha=0, n_estimators=80, min_samples_split=50, min_samples_leaf=50, max_depth=8, learning_rate=0.05 \n",
            "[14:58:31] WARNING: /workspace/src/objective/regression_obj.cu:152: reg:linear is now deprecated in favor of reg:squarederror.\n",
            "[CV]  reg_lambda=0.5, reg_alpha=0, n_estimators=80, min_samples_split=50, min_samples_leaf=50, max_depth=8, learning_rate=0.05, total=   0.3s\n",
            "[CV] reg_lambda=0.5, reg_alpha=0, n_estimators=80, min_samples_split=50, min_samples_leaf=50, max_depth=8, learning_rate=0.05 \n",
            "[14:58:32] WARNING: /workspace/src/objective/regression_obj.cu:152: reg:linear is now deprecated in favor of reg:squarederror.\n",
            "[CV]  reg_lambda=0.5, reg_alpha=0, n_estimators=80, min_samples_split=50, min_samples_leaf=50, max_depth=8, learning_rate=0.05, total=   0.3s\n",
            "[CV] reg_lambda=0.5, reg_alpha=0, n_estimators=80, min_samples_split=50, min_samples_leaf=50, max_depth=8, learning_rate=0.05 \n",
            "[14:58:32] WARNING: /workspace/src/objective/regression_obj.cu:152: reg:linear is now deprecated in favor of reg:squarederror.\n",
            "[CV]  reg_lambda=0.5, reg_alpha=0, n_estimators=80, min_samples_split=50, min_samples_leaf=50, max_depth=8, learning_rate=0.05, total=   0.3s\n",
            "[CV] reg_lambda=0.1, reg_alpha=0.01, n_estimators=50, min_samples_split=100, min_samples_leaf=40, max_depth=8, learning_rate=0.05 \n",
            "[14:58:32] WARNING: /workspace/src/objective/regression_obj.cu:152: reg:linear is now deprecated in favor of reg:squarederror.\n",
            "[CV]  reg_lambda=0.1, reg_alpha=0.01, n_estimators=50, min_samples_split=100, min_samples_leaf=40, max_depth=8, learning_rate=0.05, total=   0.2s\n",
            "[CV] reg_lambda=0.1, reg_alpha=0.01, n_estimators=50, min_samples_split=100, min_samples_leaf=40, max_depth=8, learning_rate=0.05 \n",
            "[14:58:32] WARNING: /workspace/src/objective/regression_obj.cu:152: reg:linear is now deprecated in favor of reg:squarederror.\n",
            "[CV]  reg_lambda=0.1, reg_alpha=0.01, n_estimators=50, min_samples_split=100, min_samples_leaf=40, max_depth=8, learning_rate=0.05, total=   0.2s\n",
            "[CV] reg_lambda=0.1, reg_alpha=0.01, n_estimators=50, min_samples_split=100, min_samples_leaf=40, max_depth=8, learning_rate=0.05 \n",
            "[14:58:33] WARNING: /workspace/src/objective/regression_obj.cu:152: reg:linear is now deprecated in favor of reg:squarederror.\n",
            "[CV]  reg_lambda=0.1, reg_alpha=0.01, n_estimators=50, min_samples_split=100, min_samples_leaf=40, max_depth=8, learning_rate=0.05, total=   0.2s\n",
            "[CV] reg_lambda=0.1, reg_alpha=0.01, n_estimators=50, min_samples_split=100, min_samples_leaf=40, max_depth=8, learning_rate=0.05 \n",
            "[14:58:33] WARNING: /workspace/src/objective/regression_obj.cu:152: reg:linear is now deprecated in favor of reg:squarederror.\n",
            "[CV]  reg_lambda=0.1, reg_alpha=0.01, n_estimators=50, min_samples_split=100, min_samples_leaf=40, max_depth=8, learning_rate=0.05, total=   0.2s\n",
            "[CV] reg_lambda=0.1, reg_alpha=0.01, n_estimators=50, min_samples_split=100, min_samples_leaf=40, max_depth=8, learning_rate=0.05 \n",
            "[14:58:33] WARNING: /workspace/src/objective/regression_obj.cu:152: reg:linear is now deprecated in favor of reg:squarederror.\n",
            "[CV]  reg_lambda=0.1, reg_alpha=0.01, n_estimators=50, min_samples_split=100, min_samples_leaf=40, max_depth=8, learning_rate=0.05, total=   0.2s\n",
            "[CV] reg_lambda=1, reg_alpha=0, n_estimators=80, min_samples_split=150, min_samples_leaf=40, max_depth=6, learning_rate=0.01 \n",
            "[14:58:33] WARNING: /workspace/src/objective/regression_obj.cu:152: reg:linear is now deprecated in favor of reg:squarederror.\n",
            "[CV]  reg_lambda=1, reg_alpha=0, n_estimators=80, min_samples_split=150, min_samples_leaf=40, max_depth=6, learning_rate=0.01, total=   0.2s\n",
            "[CV] reg_lambda=1, reg_alpha=0, n_estimators=80, min_samples_split=150, min_samples_leaf=40, max_depth=6, learning_rate=0.01 \n",
            "[14:58:33] WARNING: /workspace/src/objective/regression_obj.cu:152: reg:linear is now deprecated in favor of reg:squarederror.\n",
            "[CV]  reg_lambda=1, reg_alpha=0, n_estimators=80, min_samples_split=150, min_samples_leaf=40, max_depth=6, learning_rate=0.01, total=   0.2s\n",
            "[CV] reg_lambda=1, reg_alpha=0, n_estimators=80, min_samples_split=150, min_samples_leaf=40, max_depth=6, learning_rate=0.01 \n",
            "[14:58:33] WARNING: /workspace/src/objective/regression_obj.cu:152: reg:linear is now deprecated in favor of reg:squarederror.\n",
            "[CV]  reg_lambda=1, reg_alpha=0, n_estimators=80, min_samples_split=150, min_samples_leaf=40, max_depth=6, learning_rate=0.01, total=   0.2s\n",
            "[CV] reg_lambda=1, reg_alpha=0, n_estimators=80, min_samples_split=150, min_samples_leaf=40, max_depth=6, learning_rate=0.01 \n",
            "[14:58:34] WARNING: /workspace/src/objective/regression_obj.cu:152: reg:linear is now deprecated in favor of reg:squarederror.\n",
            "[CV]  reg_lambda=1, reg_alpha=0, n_estimators=80, min_samples_split=150, min_samples_leaf=40, max_depth=6, learning_rate=0.01, total=   0.2s\n",
            "[CV] reg_lambda=1, reg_alpha=0, n_estimators=80, min_samples_split=150, min_samples_leaf=40, max_depth=6, learning_rate=0.01 \n",
            "[14:58:34] WARNING: /workspace/src/objective/regression_obj.cu:152: reg:linear is now deprecated in favor of reg:squarederror.\n",
            "[CV]  reg_lambda=1, reg_alpha=0, n_estimators=80, min_samples_split=150, min_samples_leaf=40, max_depth=6, learning_rate=0.01, total=   0.2s\n",
            "[CV] reg_lambda=0.1, reg_alpha=0.01, n_estimators=80, min_samples_split=50, min_samples_leaf=40, max_depth=4, learning_rate=0.05 \n",
            "[14:58:34] WARNING: /workspace/src/objective/regression_obj.cu:152: reg:linear is now deprecated in favor of reg:squarederror.\n",
            "[CV]  reg_lambda=0.1, reg_alpha=0.01, n_estimators=80, min_samples_split=50, min_samples_leaf=40, max_depth=4, learning_rate=0.05, total=   0.1s\n",
            "[CV] reg_lambda=0.1, reg_alpha=0.01, n_estimators=80, min_samples_split=50, min_samples_leaf=40, max_depth=4, learning_rate=0.05 \n",
            "[14:58:34] WARNING: /workspace/src/objective/regression_obj.cu:152: reg:linear is now deprecated in favor of reg:squarederror.\n",
            "[CV]  reg_lambda=0.1, reg_alpha=0.01, n_estimators=80, min_samples_split=50, min_samples_leaf=40, max_depth=4, learning_rate=0.05, total=   0.1s\n",
            "[CV] reg_lambda=0.1, reg_alpha=0.01, n_estimators=80, min_samples_split=50, min_samples_leaf=40, max_depth=4, learning_rate=0.05 \n",
            "[14:58:34] WARNING: /workspace/src/objective/regression_obj.cu:152: reg:linear is now deprecated in favor of reg:squarederror.\n",
            "[CV]  reg_lambda=0.1, reg_alpha=0.01, n_estimators=80, min_samples_split=50, min_samples_leaf=40, max_depth=4, learning_rate=0.05, total=   0.1s\n",
            "[CV] reg_lambda=0.1, reg_alpha=0.01, n_estimators=80, min_samples_split=50, min_samples_leaf=40, max_depth=4, learning_rate=0.05 \n",
            "[14:58:34] WARNING: /workspace/src/objective/regression_obj.cu:152: reg:linear is now deprecated in favor of reg:squarederror.\n",
            "[CV]  reg_lambda=0.1, reg_alpha=0.01, n_estimators=80, min_samples_split=50, min_samples_leaf=40, max_depth=4, learning_rate=0.05, total=   0.1s\n",
            "[CV] reg_lambda=0.1, reg_alpha=0.01, n_estimators=80, min_samples_split=50, min_samples_leaf=40, max_depth=4, learning_rate=0.05 \n",
            "[14:58:35] WARNING: /workspace/src/objective/regression_obj.cu:152: reg:linear is now deprecated in favor of reg:squarederror.\n",
            "[CV]  reg_lambda=0.1, reg_alpha=0.01, n_estimators=80, min_samples_split=50, min_samples_leaf=40, max_depth=4, learning_rate=0.05, total=   0.1s\n",
            "[CV] reg_lambda=1, reg_alpha=0.01, n_estimators=50, min_samples_split=50, min_samples_leaf=50, max_depth=4, learning_rate=0.05 \n",
            "[14:58:35] WARNING: /workspace/src/objective/regression_obj.cu:152: reg:linear is now deprecated in favor of reg:squarederror.\n",
            "[CV]  reg_lambda=1, reg_alpha=0.01, n_estimators=50, min_samples_split=50, min_samples_leaf=50, max_depth=4, learning_rate=0.05, total=   0.1s\n",
            "[CV] reg_lambda=1, reg_alpha=0.01, n_estimators=50, min_samples_split=50, min_samples_leaf=50, max_depth=4, learning_rate=0.05 \n",
            "[14:58:35] WARNING: /workspace/src/objective/regression_obj.cu:152: reg:linear is now deprecated in favor of reg:squarederror.\n",
            "[CV]  reg_lambda=1, reg_alpha=0.01, n_estimators=50, min_samples_split=50, min_samples_leaf=50, max_depth=4, learning_rate=0.05, total=   0.1s\n",
            "[CV] reg_lambda=1, reg_alpha=0.01, n_estimators=50, min_samples_split=50, min_samples_leaf=50, max_depth=4, learning_rate=0.05 \n",
            "[14:58:35] WARNING: /workspace/src/objective/regression_obj.cu:152: reg:linear is now deprecated in favor of reg:squarederror.\n",
            "[CV]  reg_lambda=1, reg_alpha=0.01, n_estimators=50, min_samples_split=50, min_samples_leaf=50, max_depth=4, learning_rate=0.05, total=   0.1s\n",
            "[CV] reg_lambda=1, reg_alpha=0.01, n_estimators=50, min_samples_split=50, min_samples_leaf=50, max_depth=4, learning_rate=0.05 \n",
            "[14:58:35] WARNING: /workspace/src/objective/regression_obj.cu:152: reg:linear is now deprecated in favor of reg:squarederror.\n",
            "[CV]  reg_lambda=1, reg_alpha=0.01, n_estimators=50, min_samples_split=50, min_samples_leaf=50, max_depth=4, learning_rate=0.05, total=   0.1s\n",
            "[CV] reg_lambda=1, reg_alpha=0.01, n_estimators=50, min_samples_split=50, min_samples_leaf=50, max_depth=4, learning_rate=0.05 \n",
            "[14:58:35] WARNING: /workspace/src/objective/regression_obj.cu:152: reg:linear is now deprecated in favor of reg:squarederror.\n",
            "[CV]  reg_lambda=1, reg_alpha=0.01, n_estimators=50, min_samples_split=50, min_samples_leaf=50, max_depth=4, learning_rate=0.05, total=   0.1s\n",
            "[CV] reg_lambda=0.1, reg_alpha=0.01, n_estimators=80, min_samples_split=150, min_samples_leaf=50, max_depth=6, learning_rate=0.01 \n",
            "[14:58:35] WARNING: /workspace/src/objective/regression_obj.cu:152: reg:linear is now deprecated in favor of reg:squarederror.\n",
            "[CV]  reg_lambda=0.1, reg_alpha=0.01, n_estimators=80, min_samples_split=150, min_samples_leaf=50, max_depth=6, learning_rate=0.01, total=   0.2s\n",
            "[CV] reg_lambda=0.1, reg_alpha=0.01, n_estimators=80, min_samples_split=150, min_samples_leaf=50, max_depth=6, learning_rate=0.01 \n",
            "[14:58:35] WARNING: /workspace/src/objective/regression_obj.cu:152: reg:linear is now deprecated in favor of reg:squarederror.\n",
            "[CV]  reg_lambda=0.1, reg_alpha=0.01, n_estimators=80, min_samples_split=150, min_samples_leaf=50, max_depth=6, learning_rate=0.01, total=   0.2s\n",
            "[CV] reg_lambda=0.1, reg_alpha=0.01, n_estimators=80, min_samples_split=150, min_samples_leaf=50, max_depth=6, learning_rate=0.01 \n",
            "[14:58:35] WARNING: /workspace/src/objective/regression_obj.cu:152: reg:linear is now deprecated in favor of reg:squarederror.\n",
            "[CV]  reg_lambda=0.1, reg_alpha=0.01, n_estimators=80, min_samples_split=150, min_samples_leaf=50, max_depth=6, learning_rate=0.01, total=   0.2s\n",
            "[CV] reg_lambda=0.1, reg_alpha=0.01, n_estimators=80, min_samples_split=150, min_samples_leaf=50, max_depth=6, learning_rate=0.01 \n",
            "[14:58:36] WARNING: /workspace/src/objective/regression_obj.cu:152: reg:linear is now deprecated in favor of reg:squarederror.\n",
            "[CV]  reg_lambda=0.1, reg_alpha=0.01, n_estimators=80, min_samples_split=150, min_samples_leaf=50, max_depth=6, learning_rate=0.01, total=   0.2s\n",
            "[CV] reg_lambda=0.1, reg_alpha=0.01, n_estimators=80, min_samples_split=150, min_samples_leaf=50, max_depth=6, learning_rate=0.01 \n",
            "[14:58:36] WARNING: /workspace/src/objective/regression_obj.cu:152: reg:linear is now deprecated in favor of reg:squarederror.\n",
            "[CV]  reg_lambda=0.1, reg_alpha=0.01, n_estimators=80, min_samples_split=150, min_samples_leaf=50, max_depth=6, learning_rate=0.01, total=   0.2s\n",
            "[14:58:36] WARNING: /workspace/src/objective/regression_obj.cu:152: reg:linear is now deprecated in favor of reg:squarederror.\n"
          ],
          "name": "stdout"
        },
        {
          "output_type": "stream",
          "text": [
            "[Parallel(n_jobs=1)]: Done  50 out of  50 | elapsed:    8.8s finished\n"
          ],
          "name": "stderr"
        },
        {
          "output_type": "execute_result",
          "data": {
            "text/plain": [
              "RandomizedSearchCV(cv=5, error_score=nan,\n",
              "                   estimator=XGBRegressor(base_score=0.5, booster='gbtree',\n",
              "                                          colsample_bylevel=1,\n",
              "                                          colsample_bynode=1,\n",
              "                                          colsample_bytree=1, gamma=0,\n",
              "                                          importance_type='gain',\n",
              "                                          learning_rate=0.1, max_delta_step=0,\n",
              "                                          max_depth=3, min_child_weight=1,\n",
              "                                          missing=None, n_estimators=100,\n",
              "                                          n_jobs=1, nthread=None,\n",
              "                                          objective='reg:linear',\n",
              "                                          random_state=0, reg_alpha=...\n",
              "                                          verbosity=1),\n",
              "                   iid='deprecated', n_iter=10, n_jobs=None,\n",
              "                   param_distributions={'learning_rate': [0.01, 0.05, 0.1],\n",
              "                                        'max_depth': [4, 6, 8],\n",
              "                                        'min_samples_leaf': [40, 50],\n",
              "                                        'min_samples_split': [50, 100, 150],\n",
              "                                        'n_estimators': [50, 80, 100],\n",
              "                                        'reg_alpha': [0, 0.01],\n",
              "                                        'reg_lambda': [0.1, 0.5, 1]},\n",
              "                   pre_dispatch='2*n_jobs', random_state=None, refit=True,\n",
              "                   return_train_score=False, scoring=None, verbose=2)"
            ]
          },
          "metadata": {
            "tags": []
          },
          "execution_count": 108
        }
      ]
    },
    {
      "cell_type": "code",
      "metadata": {
        "id": "yQaBdRd-Tl58"
      },
      "source": [
        "#Building optimal model on the best estimators\n",
        "xgb_optimal_model = xgb_random.best_estimator_"
      ],
      "execution_count": 109,
      "outputs": []
    },
    {
      "cell_type": "code",
      "metadata": {
        "id": "AVB0iUytT0QO"
      },
      "source": [
        "# make predictions for test data\n",
        "y_hat = xgb_optimal_model.predict(X_test)"
      ],
      "execution_count": 110,
      "outputs": []
    },
    {
      "cell_type": "code",
      "metadata": {
        "colab": {
          "base_uri": "https://localhost:8080/"
        },
        "id": "0QFW1FvhT2aa",
        "outputId": "cbec10a5-bcd9-400a-8be2-a93dcbd6140b"
      },
      "source": [
        "print(f'r_sqr value for train: {xgb_optimal_model.score(X_train, y_train)}')"
      ],
      "execution_count": 111,
      "outputs": [
        {
          "output_type": "stream",
          "text": [
            "r_sqr value for train: 0.885040095340418\n"
          ],
          "name": "stdout"
        }
      ]
    },
    {
      "cell_type": "code",
      "metadata": {
        "id": "XuLDwU57T42R"
      },
      "source": [
        "from sklearn.metrics import mean_squared_error,r2_score,mean_absolute_error"
      ],
      "execution_count": 112,
      "outputs": []
    },
    {
      "cell_type": "code",
      "metadata": {
        "id": "Vws3O10HT7Y2"
      },
      "source": [
        "r_squared= r2_score(y_test,y_hat)"
      ],
      "execution_count": 113,
      "outputs": []
    },
    {
      "cell_type": "code",
      "metadata": {
        "colab": {
          "base_uri": "https://localhost:8080/"
        },
        "id": "7L4JTkq0T9di",
        "outputId": "1ed959ee-3b64-44cc-8b1d-91c53b9ded18"
      },
      "source": [
        "#Calculate Adjusted R-sqaured\n",
        "adjusted_r_squared = 1 - (1-r_squared)*(len(Y)-1)/(len(Y)-X.shape[1]-1)\n",
        "print(f'The R_Squared for XGBoost is {r_squared} for train and adjusted R_Squared is {adjusted_r_squared}')\n"
      ],
      "execution_count": 114,
      "outputs": [
        {
          "output_type": "stream",
          "text": [
            "The R_Squared for XGBoost is 0.8302561144504037 for train and adjusted R_Squared is 0.8299588396946251\n"
          ],
          "name": "stdout"
        }
      ]
    },
    {
      "cell_type": "code",
      "metadata": {
        "id": "eLw7AoutUHRw"
      },
      "source": [
        "import math"
      ],
      "execution_count": 115,
      "outputs": []
    },
    {
      "cell_type": "code",
      "metadata": {
        "colab": {
          "base_uri": "https://localhost:8080/"
        },
        "id": "sK2s8yc6UAE0",
        "outputId": "46f5db12-5495-4981-b73b-cfe4dc4b1843"
      },
      "source": [
        "print(f'The Root Mean Squared Error for XGBoost is: {math.sqrt(mean_squared_error(y_test,y_hat))}')"
      ],
      "execution_count": 116,
      "outputs": [
        {
          "output_type": "stream",
          "text": [
            "The Root Mean Squared Error for XGBoost is: 457961.94798753655\n"
          ],
          "name": "stdout"
        }
      ]
    },
    {
      "cell_type": "code",
      "metadata": {
        "colab": {
          "base_uri": "https://localhost:8080/"
        },
        "id": "Nb7YJ0jeUGIq",
        "outputId": "3e7e5778-e22c-407f-c8c1-b6d4a3881fa5"
      },
      "source": [
        "print(f'The mean absolute error for XGBoost is: {mean_absolute_error(y_test,y_hat)}')"
      ],
      "execution_count": 117,
      "outputs": [
        {
          "output_type": "stream",
          "text": [
            "The mean absolute error for XGBoost is: 228800.00183227294\n"
          ],
          "name": "stdout"
        }
      ]
    },
    {
      "cell_type": "code",
      "metadata": {
        "colab": {
          "base_uri": "https://localhost:8080/"
        },
        "id": "EfGtDbhbUokw",
        "outputId": "b3ee0feb-a747-4372-c94e-23c224793d9c"
      },
      "source": [
        "print(f'The error percentage for XGboost is : {round((mean_absolute_error(y_test,y_hat)/Y.mean()*100),2)}% of views')"
      ],
      "execution_count": 120,
      "outputs": [
        {
          "output_type": "stream",
          "text": [
            "The error percentage for XGboost is : 13.77% of views\n"
          ],
          "name": "stdout"
        }
      ]
    },
    {
      "cell_type": "code",
      "metadata": {
        "id": "v4S5rh8TV0Dj"
      },
      "source": [
        ""
      ],
      "execution_count": null,
      "outputs": []
    }
  ]
}